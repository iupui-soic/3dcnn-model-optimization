{
 "cells": [
  {
   "cell_type": "code",
   "execution_count": 1,
   "id": "36d6f229",
   "metadata": {},
   "outputs": [],
   "source": [
    "# !pip install pylibjpeg\n",
    "# !pip install --upgrade numpy\n",
    "#!pip install python-gdcm\n",
    "#!pip install pylibjpeg pylibjpeg-libjpeg"
   ]
  },
  {
   "cell_type": "code",
   "execution_count": 2,
   "id": "76e9af73",
   "metadata": {},
   "outputs": [],
   "source": [
    "#!pip install pydicom\n",
    "#!pip install nibabel"
   ]
  },
  {
   "cell_type": "code",
   "execution_count": 3,
   "id": "4855cfb1",
   "metadata": {},
   "outputs": [],
   "source": [
    "#od.download(\"https://www.kaggle.com/competitions/rsna-2022-cervical-spine-fracture-detection\")"
   ]
  },
  {
   "cell_type": "code",
   "execution_count": 4,
   "id": "14e7db0b",
   "metadata": {},
   "outputs": [],
   "source": [
    "# !pip install timm\n",
    "# !pip install git+https://github.com/qubvel/segmentation_models.pytorch\n",
    "# !pip install monai"
   ]
  },
  {
   "cell_type": "code",
   "execution_count": 5,
   "id": "0eef5c5a",
   "metadata": {},
   "outputs": [
    {
     "data": {
      "text/plain": [
       "'0.3.2'"
      ]
     },
     "execution_count": 5,
     "metadata": {},
     "output_type": "execute_result"
    }
   ],
   "source": [
    "import segmentation_models_pytorch as smp\n",
    "#check if you have imported the correct version\n",
    "\n",
    "smp.__version__"
   ]
  },
  {
   "cell_type": "code",
   "execution_count": 6,
   "id": "c1758ace",
   "metadata": {},
   "outputs": [],
   "source": [
    "DEBUG = False\n",
    "\n",
    "import os\n",
    "import sys\n",
    "sys.path = [\n",
    "    'covn3d-same',\n",
    "] + sys.path"
   ]
  },
  {
   "cell_type": "code",
   "execution_count": 7,
   "id": "b4771a3c",
   "metadata": {},
   "outputs": [],
   "source": [
    "import opendatasets as od\n",
    "import os\n",
    "import sys\n",
    "import gc\n",
    "import ast\n",
    "import cv2\n",
    "import time\n",
    "import timm\n",
    "import pickle\n",
    "import random\n",
    "import pydicom\n",
    "import argparse\n",
    "import warnings\n",
    "import numpy as np\n",
    "import pandas as pd\n",
    "from glob import glob\n",
    "import nibabel as nib\n",
    "from PIL import Image\n",
    "from tqdm import tqdm\n",
    "import albumentations\n",
    "from pylab import rcParams\n",
    "import matplotlib.pyplot as plt\n",
    "import segmentation_models_pytorch as smp\n",
    "from sklearn.model_selection import KFold, StratifiedKFold\n",
    "\n",
    "import torch\n",
    "import torch.nn as nn\n",
    "import torch.optim as optim\n",
    "import torch.cuda.amp as amp\n",
    "import torch.nn.functional as F\n",
    "from torch.utils.data import DataLoader, Dataset\n",
    "\n",
    "from monai.transforms import Resize\n",
    "import  monai.transforms as transforms\n",
    "\n",
    "%matplotlib inline\n",
    "rcParams['figure.figsize'] = 20, 8\n",
    "device = torch.device('cuda')\n",
    "#device=torch.cuda.set_device(1)\n",
    "torch.backends.cudnn.benchmark = True"
   ]
  },
  {
   "cell_type": "code",
   "execution_count": 8,
   "id": "a486f6cc",
   "metadata": {},
   "outputs": [],
   "source": [
    "#!pip install pydicom\n",
    "#!pip install nibabel\n",
    "#!pip install albumentations"
   ]
  },
  {
   "cell_type": "markdown",
   "id": "65b28ce3",
   "metadata": {},
   "source": [
    "## Config"
   ]
  },
  {
   "cell_type": "code",
   "execution_count": 9,
   "id": "19fd3e7e",
   "metadata": {},
   "outputs": [],
   "source": [
    "kernel_type = 'timm3d_res18d_unet4b_128_128_128_dsv2_flip12_shift333p7_gd1p5_bs4_lr3e4_20x50ep'\n",
    "load_kernel = None\n",
    "load_last = True\n",
    "n_blocks = 4\n",
    "n_folds = 5\n",
    "backbone = 'resnet18d'\n",
    "\n",
    "image_sizes = [128, 128, 128]\n",
    "R = Resize(image_sizes)\n",
    "\n",
    "init_lr = 3e-3\n",
    "batch_size = 10\n",
    "drop_rate = 0.\n",
    "drop_path_rate = 0.\n",
    "loss_weights = [1, 1]\n",
    "p_mixup = 0.1\n",
    "\n",
    "data_dir = '../RSNA_2022_DATA/rsna-2022-cervical-spine-fracture-detection'\n",
    "use_amp = True\n",
    "num_workers = 4\n",
    "out_dim = 7\n",
    "\n",
    "n_epochs = 1000\n",
    "\n",
    "log_dir = './logs'\n",
    "model_dir = './models'\n",
    "os.makedirs(log_dir, exist_ok=True)\n",
    "os.makedirs(model_dir, exist_ok=True)"
   ]
  },
  {
   "cell_type": "code",
   "execution_count": 10,
   "id": "e5cc8715",
   "metadata": {},
   "outputs": [],
   "source": [
    "transforms_train = transforms.Compose([\n",
    "    transforms.RandFlipd(keys=[\"image\", \"mask\"], prob=0.5, spatial_axis=1),\n",
    "    transforms.RandFlipd(keys=[\"image\", \"mask\"], prob=0.5, spatial_axis=2),\n",
    "    transforms.RandAffined(keys=[\"image\", \"mask\"], translate_range=[int(x*y) for x, y in zip(image_sizes, [0.3, 0.3, 0.3])], padding_mode='zeros', prob=0.7),\n",
    "    transforms.RandGridDistortiond(keys=(\"image\", \"mask\"), prob=0.5, distort_limit=(-0.01, 0.01), mode=\"nearest\"),    \n",
    "])\n",
    "\n",
    "transforms_valid = transforms.Compose([\n",
    "])"
   ]
  },
  {
   "cell_type": "markdown",
   "id": "fa6f370f",
   "metadata": {},
   "source": [
    "## DataFrame"
   ]
  },
  {
   "cell_type": "code",
   "execution_count": 11,
   "id": "973102bd",
   "metadata": {},
   "outputs": [
    {
     "data": {
      "text/plain": [
       "'../RSNA_2022_DATA/rsna-2022-cervical-spine-fracture-detection'"
      ]
     },
     "execution_count": 11,
     "metadata": {},
     "output_type": "execute_result"
    }
   ],
   "source": [
    "data_dir"
   ]
  },
  {
   "cell_type": "code",
   "execution_count": 12,
   "id": "a8f26d43",
   "metadata": {},
   "outputs": [
    {
     "data": {
      "text/html": [
       "<div>\n",
       "<style scoped>\n",
       "    .dataframe tbody tr th:only-of-type {\n",
       "        vertical-align: middle;\n",
       "    }\n",
       "\n",
       "    .dataframe tbody tr th {\n",
       "        vertical-align: top;\n",
       "    }\n",
       "\n",
       "    .dataframe thead th {\n",
       "        text-align: right;\n",
       "    }\n",
       "</style>\n",
       "<table border=\"1\" class=\"dataframe\">\n",
       "  <thead>\n",
       "    <tr style=\"text-align: right;\">\n",
       "      <th></th>\n",
       "      <th>StudyInstanceUID</th>\n",
       "      <th>patient_overall</th>\n",
       "      <th>C1</th>\n",
       "      <th>C2</th>\n",
       "      <th>C3</th>\n",
       "      <th>C4</th>\n",
       "      <th>C5</th>\n",
       "      <th>C6</th>\n",
       "      <th>C7</th>\n",
       "      <th>mask_file</th>\n",
       "      <th>image_folder</th>\n",
       "      <th>fold</th>\n",
       "    </tr>\n",
       "  </thead>\n",
       "  <tbody>\n",
       "    <tr>\n",
       "      <th>82</th>\n",
       "      <td>1.2.826.0.1.3680043.32071</td>\n",
       "      <td>1</td>\n",
       "      <td>0</td>\n",
       "      <td>1</td>\n",
       "      <td>0</td>\n",
       "      <td>1</td>\n",
       "      <td>0</td>\n",
       "      <td>1</td>\n",
       "      <td>1</td>\n",
       "      <td>../RSNA_2022_DATA/rsna-2022-cervical-spine-fra...</td>\n",
       "      <td>../RSNA_2022_DATA/rsna-2022-cervical-spine-fra...</td>\n",
       "      <td>4</td>\n",
       "    </tr>\n",
       "    <tr>\n",
       "      <th>83</th>\n",
       "      <td>1.2.826.0.1.3680043.30524</td>\n",
       "      <td>1</td>\n",
       "      <td>0</td>\n",
       "      <td>0</td>\n",
       "      <td>0</td>\n",
       "      <td>0</td>\n",
       "      <td>0</td>\n",
       "      <td>1</td>\n",
       "      <td>1</td>\n",
       "      <td>../RSNA_2022_DATA/rsna-2022-cervical-spine-fra...</td>\n",
       "      <td>../RSNA_2022_DATA/rsna-2022-cervical-spine-fra...</td>\n",
       "      <td>4</td>\n",
       "    </tr>\n",
       "    <tr>\n",
       "      <th>84</th>\n",
       "      <td>1.2.826.0.1.3680043.28025</td>\n",
       "      <td>0</td>\n",
       "      <td>0</td>\n",
       "      <td>0</td>\n",
       "      <td>0</td>\n",
       "      <td>0</td>\n",
       "      <td>0</td>\n",
       "      <td>0</td>\n",
       "      <td>0</td>\n",
       "      <td>../RSNA_2022_DATA/rsna-2022-cervical-spine-fra...</td>\n",
       "      <td>../RSNA_2022_DATA/rsna-2022-cervical-spine-fra...</td>\n",
       "      <td>4</td>\n",
       "    </tr>\n",
       "    <tr>\n",
       "      <th>85</th>\n",
       "      <td>1.2.826.0.1.3680043.21321</td>\n",
       "      <td>1</td>\n",
       "      <td>1</td>\n",
       "      <td>1</td>\n",
       "      <td>1</td>\n",
       "      <td>0</td>\n",
       "      <td>0</td>\n",
       "      <td>0</td>\n",
       "      <td>1</td>\n",
       "      <td>../RSNA_2022_DATA/rsna-2022-cervical-spine-fra...</td>\n",
       "      <td>../RSNA_2022_DATA/rsna-2022-cervical-spine-fra...</td>\n",
       "      <td>4</td>\n",
       "    </tr>\n",
       "    <tr>\n",
       "      <th>86</th>\n",
       "      <td>1.2.826.0.1.3680043.26990</td>\n",
       "      <td>1</td>\n",
       "      <td>0</td>\n",
       "      <td>0</td>\n",
       "      <td>0</td>\n",
       "      <td>0</td>\n",
       "      <td>1</td>\n",
       "      <td>1</td>\n",
       "      <td>1</td>\n",
       "      <td>../RSNA_2022_DATA/rsna-2022-cervical-spine-fra...</td>\n",
       "      <td>../RSNA_2022_DATA/rsna-2022-cervical-spine-fra...</td>\n",
       "      <td>4</td>\n",
       "    </tr>\n",
       "  </tbody>\n",
       "</table>\n",
       "</div>"
      ],
      "text/plain": [
       "             StudyInstanceUID  patient_overall  C1  C2  C3  C4  C5  C6  C7  \\\n",
       "82  1.2.826.0.1.3680043.32071                1   0   1   0   1   0   1   1   \n",
       "83  1.2.826.0.1.3680043.30524                1   0   0   0   0   0   1   1   \n",
       "84  1.2.826.0.1.3680043.28025                0   0   0   0   0   0   0   0   \n",
       "85  1.2.826.0.1.3680043.21321                1   1   1   1   0   0   0   1   \n",
       "86  1.2.826.0.1.3680043.26990                1   0   0   0   0   1   1   1   \n",
       "\n",
       "                                            mask_file  \\\n",
       "82  ../RSNA_2022_DATA/rsna-2022-cervical-spine-fra...   \n",
       "83  ../RSNA_2022_DATA/rsna-2022-cervical-spine-fra...   \n",
       "84  ../RSNA_2022_DATA/rsna-2022-cervical-spine-fra...   \n",
       "85  ../RSNA_2022_DATA/rsna-2022-cervical-spine-fra...   \n",
       "86  ../RSNA_2022_DATA/rsna-2022-cervical-spine-fra...   \n",
       "\n",
       "                                         image_folder  fold  \n",
       "82  ../RSNA_2022_DATA/rsna-2022-cervical-spine-fra...     4  \n",
       "83  ../RSNA_2022_DATA/rsna-2022-cervical-spine-fra...     4  \n",
       "84  ../RSNA_2022_DATA/rsna-2022-cervical-spine-fra...     4  \n",
       "85  ../RSNA_2022_DATA/rsna-2022-cervical-spine-fra...     4  \n",
       "86  ../RSNA_2022_DATA/rsna-2022-cervical-spine-fra...     4  "
      ]
     },
     "execution_count": 12,
     "metadata": {},
     "output_type": "execute_result"
    }
   ],
   "source": [
    "df_train = pd.read_csv(os.path.join(data_dir, 'train.csv'))\n",
    "\n",
    "mask_files = os.listdir(f'{data_dir}/segmentations')\n",
    "df_mask = pd.DataFrame({\n",
    "    'mask_file': mask_files,\n",
    "})\n",
    "df_mask['StudyInstanceUID'] = df_mask['mask_file'].apply(lambda x: x[:-4])\n",
    "df_mask['mask_file'] = df_mask['mask_file'].apply(lambda x: os.path.join(data_dir, 'segmentations', x))\n",
    "df = df_train.merge(df_mask, on='StudyInstanceUID', how='left')\n",
    "df['image_folder'] = df['StudyInstanceUID'].apply(lambda x: os.path.join(data_dir, 'train_images', x))\n",
    "df['mask_file'].fillna('', inplace=True)\n",
    "\n",
    "df_seg = df.query('mask_file != \"\"').reset_index(drop=True)\n",
    "\n",
    "kf = KFold(5)\n",
    "df_seg['fold'] = -1\n",
    "for fold, (train_idx, valid_idx) in enumerate(kf.split(df_seg, df_seg)):\n",
    "    df_seg.loc[valid_idx, 'fold'] = fold\n",
    "\n",
    "df_seg.tail()"
   ]
  },
  {
   "cell_type": "markdown",
   "id": "6610aba2",
   "metadata": {},
   "source": [
    "## Dataset"
   ]
  },
  {
   "cell_type": "code",
   "execution_count": 13,
   "id": "552c5bd3",
   "metadata": {},
   "outputs": [],
   "source": [
    "revert_list = [\n",
    "    '1.2.826.0.1.3680043.1363',\n",
    "    '1.2.826.0.1.3680043.20120',\n",
    "    '1.2.826.0.1.3680043.2243',\n",
    "    '1.2.826.0.1.3680043.24606',\n",
    "    '1.2.826.0.1.3680043.32071'\n",
    "]"
   ]
  },
  {
   "cell_type": "code",
   "execution_count": 14,
   "id": "3190f63d",
   "metadata": {},
   "outputs": [
    {
     "data": {
      "text/plain": [
       "'2.3.1'"
      ]
     },
     "execution_count": 14,
     "metadata": {},
     "output_type": "execute_result"
    }
   ],
   "source": [
    "#!pip install pydicom --upgrade\n",
    "#!pip install pylibjpeg\n",
    "#!pip install tensorflow\n",
    "#!pip install tensorflow-io\n",
    "import pydicom\n",
    "pydicom.__version__"
   ]
  },
  {
   "cell_type": "code",
   "execution_count": 15,
   "id": "d43a1e07",
   "metadata": {},
   "outputs": [
    {
     "name": "stderr",
     "output_type": "stream",
     "text": [
      "2023-01-13 11:27:28.532225: I tensorflow/core/platform/cpu_feature_guard.cc:193] This TensorFlow binary is optimized with oneAPI Deep Neural Network Library (oneDNN) to use the following CPU instructions in performance-critical operations:  AVX2 FMA\n",
      "To enable them in other operations, rebuild TensorFlow with the appropriate compiler flags.\n",
      "2023-01-13 11:27:29.200015: W tensorflow/compiler/xla/stream_executor/platform/default/dso_loader.cc:64] Could not load dynamic library 'libnvinfer.so.7'; dlerror: libnvinfer.so.7: cannot open shared object file: No such file or directory; LD_LIBRARY_PATH: /home/apaddo/.local/lib/python3.9/site-packages/cv2/../../lib64:\n",
      "2023-01-13 11:27:29.200105: W tensorflow/compiler/xla/stream_executor/platform/default/dso_loader.cc:64] Could not load dynamic library 'libnvinfer_plugin.so.7'; dlerror: libnvinfer_plugin.so.7: cannot open shared object file: No such file or directory; LD_LIBRARY_PATH: /home/apaddo/.local/lib/python3.9/site-packages/cv2/../../lib64:\n",
      "2023-01-13 11:27:29.200114: W tensorflow/compiler/tf2tensorrt/utils/py_utils.cc:38] TF-TRT Warning: Cannot dlopen some TensorRT libraries. If you would like to use Nvidia GPU with TensorRT, please make sure the missing libraries mentioned above are installed properly.\n"
     ]
    }
   ],
   "source": [
    "from pydicom import dcmread\n",
    "import pylibjpeg\n",
    "import tensorflow as tf\n",
    "import tensorflow_io as tfio\n",
    "from PIL import Image\n",
    "# from pydicom.pixel_data_handlers import pillow_handler\n",
    "# pillow_handler.PillowJPEGTransferSyntaxes.append('1.2.840.10008.1.2.4.70')\n",
    "\n",
    "def load_dicom(path):\n",
    "    dicom = pydicom.read_file(path)    \n",
    "    #dicom= pydicom.dcmread(path)\n",
    "    \n",
    "#     image_bytes = tf.io.read_file(path)\n",
    "#     image = tfio.image.decode_dicom_image(image_bytes, dtype=tf.uint16)\n",
    "    \n",
    "    #dicom.PhotometricInterpretation = 'YBR_FULL'\n",
    "    #dicom.file_meta.TransferSyntaxUID\n",
    "    #dicom=dicom.decompress(gdcm)\n",
    "    #data=pydicom.pixel_data_handlers.pillow_handler.get_pixeldata(dicom)\n",
    "    #data=image\n",
    "    data = dicom.pixel_array\n",
    "    data = cv2.resize(data, (image_sizes[0], image_sizes[1]), interpolation = cv2.INTER_LINEAR)\n",
    "    return data\n",
    "\n",
    "\n",
    "def load_dicom_line_par(path):\n",
    "\n",
    "    t_paths = sorted(glob(os.path.join(path, \"*\")),\n",
    "       key=lambda x: int(x.split('/')[-1].split(\".\")[0]))\n",
    "\n",
    "    n_scans = len(t_paths)\n",
    "    indices = np.quantile(list(range(n_scans)), np.linspace(0., 1., image_sizes[2])).round().astype(int)\n",
    "    t_paths = [t_paths[i] for i in indices]\n",
    "\n",
    "    images = []\n",
    "    for filename in t_paths:\n",
    "        images.append(load_dicom(filename))\n",
    "    images = np.stack(images, -1)\n",
    "    \n",
    "    images = images - np.min(images)\n",
    "    images = images / (np.max(images) + 1e-4)\n",
    "    images = (images * 255).astype(np.uint8)\n",
    "\n",
    "    return images\n",
    "\n",
    "\n",
    "def load_sample(row, has_mask=True):\n",
    "\n",
    "    image = load_dicom_line_par(row.image_folder)\n",
    "    if image.ndim < 4:\n",
    "        image = np.expand_dims(image, 0).repeat(3, 0)  # to 3ch\n",
    "\n",
    "    if has_mask:\n",
    "        mask_org = nib.load(row.mask_file).get_fdata()\n",
    "        shape = mask_org.shape\n",
    "        mask_org = mask_org.transpose(1, 0, 2)[::-1, :, ::-1]  # (d, w, h)\n",
    "        mask = np.zeros((7, shape[0], shape[1], shape[2]))\n",
    "        for cid in range(7):\n",
    "            mask[cid] = (mask_org == (cid+1))\n",
    "        mask = mask.astype(np.uint8) * 255\n",
    "        mask = R(mask).numpy()\n",
    "        \n",
    "        return image, mask\n",
    "    else:\n",
    "        return image\n",
    "\n",
    "\n",
    "\n",
    "class SEGDataset(Dataset):\n",
    "    def __init__(self, df, mode, transform):\n",
    "\n",
    "        self.df = df.reset_index()\n",
    "        self.mode = mode\n",
    "        self.transform = transform\n",
    "\n",
    "    def __len__(self):\n",
    "        return self.df.shape[0]\n",
    "\n",
    "    def __getitem__(self, index):\n",
    "        row = self.df.iloc[index]\n",
    "        \n",
    "        \n",
    "        ### using local cache\n",
    "#         image_file = os.path.join(data_dir, f'{row.StudyInstanceUID}.npy')\n",
    "#         mask_file = os.path.join(data_dir, f'{row.StudyInstanceUID}_mask.npy')\n",
    "#         image = np.load(image_file).astype(np.float32)\n",
    "#         mask = np.load(mask_file).astype(np.float32)\n",
    "\n",
    "        image, mask = load_sample(row, has_mask=True)\n",
    "    \n",
    "        if row.StudyInstanceUID in revert_list:\n",
    "            mask = mask[:, :, :, ::-1]\n",
    "\n",
    "        res = self.transform({'image':image, 'mask':mask})\n",
    "        image = res['image'] / 255.\n",
    "        mask = res['mask']\n",
    "        mask = (mask > 127).astype(np.int8)\n",
    "\n",
    "        image, mask = torch.tensor(image).int(), torch.tensor(mask).int()\n",
    "\n",
    "        return image, mask\n"
   ]
  },
  {
   "cell_type": "code",
   "execution_count": 16,
   "id": "822d14c9",
   "metadata": {},
   "outputs": [],
   "source": [
    "rcParams['figure.figsize'] = 20,8\n",
    "\n",
    "df_show = df_seg\n",
    "dataset_show = SEGDataset(df_show, 'train', transform=transforms_train)"
   ]
  },
  {
   "cell_type": "code",
   "execution_count": 17,
   "id": "a38a9594",
   "metadata": {},
   "outputs": [],
   "source": [
    "# dataset_show[1]"
   ]
  },
  {
   "cell_type": "code",
   "execution_count": 18,
   "id": "ad6d380b",
   "metadata": {},
   "outputs": [
    {
     "name": "stderr",
     "output_type": "stream",
     "text": [
      "/tmp/ipykernel_299334/3733926425.py:99: UserWarning: To copy construct from a tensor, it is recommended to use sourceTensor.clone().detach() or sourceTensor.clone().detach().requires_grad_(True), rather than torch.tensor(sourceTensor).\n",
      "  image, mask = torch.tensor(image).float(), torch.tensor(mask).float()\n"
     ]
    },
    {
     "data": {
      "image/png": "[encoded data removed]",
      "text/plain": [
       "<Figure size 1440x576 with 3 Axes>"
      ]
     },
     "metadata": {
      "needs_background": "light"
     },
     "output_type": "display_data"
    },
    {
     "data": {
      "image/png": "[encoded data removed]",
      "text/plain": [
       "<Figure size 1440x576 with 3 Axes>"
      ]
     },
     "metadata": {
      "needs_background": "light"
     },
     "output_type": "display_data"
    }
   ],
   "source": [
    "for i in range(2):\n",
    "    f, axarr = plt.subplots(1,3)\n",
    "    for p in range(3):\n",
    "        idx = i*4+p\n",
    "        img, mask = dataset_show[idx]\n",
    "        img = img[:, :, :, 60]\n",
    "        mask = mask[:, :, :, 60]\n",
    "        mask[0] = mask[0] + mask[3] + mask[6]\n",
    "        mask[1] = mask[1] + mask[4]\n",
    "        mask[2] = mask[2] + mask[5]\n",
    "        mask = mask[:3]\n",
    "        img = img * 0.7 + mask * 0.3\n",
    "        axarr[p].imshow(img.transpose(0, 1).transpose(1,2).squeeze())"
   ]
  },
  {
   "cell_type": "markdown",
   "id": "83a81f03",
   "metadata": {},
   "source": [
    "## Model"
   ]
  },
  {
   "cell_type": "code",
   "execution_count": 19,
   "id": "f68c8314",
   "metadata": {},
   "outputs": [
    {
     "data": {
      "text/plain": [
       "'2.3.1'"
      ]
     },
     "execution_count": 19,
     "metadata": {},
     "output_type": "execute_result"
    }
   ],
   "source": [
    "pydicom.__version__"
   ]
  },
  {
   "cell_type": "code",
   "execution_count": 20,
   "id": "d3c21f0b",
   "metadata": {},
   "outputs": [],
   "source": [
    "class TimmSegModel(nn.Module):\n",
    "    def __init__(self, backbone, segtype='unet', pretrained=False):\n",
    "        super(TimmSegModel, self).__init__()\n",
    "\n",
    "        self.encoder = timm.create_model(\n",
    "            backbone,\n",
    "            in_chans=3,\n",
    "            features_only=True,\n",
    "            drop_rate=drop_rate,\n",
    "            drop_path_rate=drop_path_rate,\n",
    "            pretrained=pretrained\n",
    "        )\n",
    "        g = self.encoder(torch.rand(1, 3, 64, 64))\n",
    "        encoder_channels = [1] + [_.shape[1] for _ in g]\n",
    "        decoder_channels = [256, 128, 64, 32, 16]\n",
    "        if segtype == 'unet':\n",
    "            #self.decoder = smp.unet.decoder.UnetDecoder(\n",
    "            #self.decoder = smp.UnetDecoder(\n",
    "            #self.decoder = smp.Unet(\n",
    "            self.decoder = smp.decoders.unet.decoder.UnetDecoder(\n",
    "                encoder_channels=encoder_channels[:n_blocks+1],\n",
    "                decoder_channels=decoder_channels[:n_blocks],\n",
    "                n_blocks=n_blocks,\n",
    "            )\n",
    "\n",
    "        self.segmentation_head = nn.Conv2d(decoder_channels[n_blocks-1], out_dim, kernel_size=(3, 3), stride=(1, 1), padding=(1, 1))\n",
    "\n",
    "    def forward(self,x):\n",
    "        global_features = [0] + self.encoder(x)[:n_blocks]\n",
    "        seg_features = self.decoder(*global_features)\n",
    "        seg_features = self.segmentation_head(seg_features)\n",
    "        return seg_features"
   ]
  },
  {
   "cell_type": "code",
   "execution_count": 21,
   "id": "d4d16a75",
   "metadata": {},
   "outputs": [],
   "source": [
    "from timm.models.layers.conv2d_same import Conv2dSame\n",
    "from conv3d_same import Conv3dSame\n",
    "\n",
    "\n",
    "def convert_3d(module):\n",
    "\n",
    "    module_output = module\n",
    "    if isinstance(module, torch.nn.BatchNorm2d):\n",
    "        module_output = torch.nn.BatchNorm3d(\n",
    "            module.num_features,\n",
    "            module.eps,\n",
    "            module.momentum,\n",
    "            module.affine,\n",
    "            module.track_running_stats,\n",
    "        )\n",
    "        if module.affine:\n",
    "            with torch.no_grad():\n",
    "                module_output.weight = module.weight\n",
    "                module_output.bias = module.bias\n",
    "        module_output.running_mean = module.running_mean\n",
    "        module_output.running_var = module.running_var\n",
    "        module_output.num_batches_tracked = module.num_batches_tracked\n",
    "        if hasattr(module, \"qconfig\"):\n",
    "            module_output.qconfig = module.qconfig\n",
    "            \n",
    "    elif isinstance(module, Conv2dSame):\n",
    "        module_output = Conv3dSame(\n",
    "            in_channels=module.in_channels,\n",
    "            out_channels=module.out_channels,\n",
    "            kernel_size=module.kernel_size[0],\n",
    "            stride=module.stride[0],\n",
    "            padding=module.padding[0],\n",
    "            dilation=module.dilation[0],\n",
    "            groups=module.groups,\n",
    "            bias=module.bias is not None,\n",
    "        )\n",
    "        module_output.weight = torch.nn.Parameter(module.weight.unsqueeze(-1).repeat(1,1,1,1,module.kernel_size[0]))\n",
    "\n",
    "    elif isinstance(module, torch.nn.Conv2d):\n",
    "        module_output = torch.nn.Conv3d(\n",
    "            in_channels=module.in_channels,\n",
    "            out_channels=module.out_channels,\n",
    "            kernel_size=module.kernel_size[0],\n",
    "            stride=module.stride[0],\n",
    "            padding=module.padding[0],\n",
    "            dilation=module.dilation[0],\n",
    "            groups=module.groups,\n",
    "            bias=module.bias is not None,\n",
    "            padding_mode=module.padding_mode\n",
    "        )\n",
    "        module_output.weight = torch.nn.Parameter(module.weight.unsqueeze(-1).repeat(1,1,1,1,module.kernel_size[0]))\n",
    "\n",
    "    elif isinstance(module, torch.nn.MaxPool2d):\n",
    "        module_output = torch.nn.MaxPool3d(\n",
    "            kernel_size=module.kernel_size,\n",
    "            stride=module.stride,\n",
    "            padding=module.padding,\n",
    "            dilation=module.dilation,\n",
    "            ceil_mode=module.ceil_mode,\n",
    "        )\n",
    "    elif isinstance(module, torch.nn.AvgPool2d):\n",
    "        module_output = torch.nn.AvgPool3d(\n",
    "            kernel_size=module.kernel_size,\n",
    "            stride=module.stride,\n",
    "            padding=module.padding,\n",
    "            ceil_mode=module.ceil_mode,\n",
    "        )\n",
    "\n",
    "    for name, child in module.named_children():\n",
    "        module_output.add_module(\n",
    "            name, convert_3d(child)\n",
    "        )\n",
    "    del module\n",
    "\n",
    "    return module_output\n",
    "\n",
    "\n",
    "m = TimmSegModel(backbone)\n",
    "m = convert_3d(m)\n",
    "m(torch.rand(1, 3, 128,128,128)).shape\n",
    "m = m.to(device)"
   ]
  },
  {
   "cell_type": "markdown",
   "id": "a88e8f31",
   "metadata": {},
   "source": [
    "## Loss & Metric"
   ]
  },
  {
   "cell_type": "code",
   "execution_count": 22,
   "id": "190920d0",
   "metadata": {},
   "outputs": [],
   "source": [
    "from typing import Any, Dict, Optional\n",
    "\n",
    "\n",
    "def binary_dice_score(\n",
    "    y_pred: torch.Tensor,\n",
    "    y_true: torch.Tensor,\n",
    "    threshold: Optional[float] = None,\n",
    "    nan_score_on_empty=False,\n",
    "    eps: float = 1e-7,\n",
    ") -> float:\n",
    "\n",
    "    if threshold is not None:\n",
    "        y_pred = (y_pred > threshold).to(y_true.dtype)\n",
    "\n",
    "    intersection = torch.sum(y_pred * y_true).item()\n",
    "    cardinality = (torch.sum(y_pred) + torch.sum(y_true)).item()\n",
    "\n",
    "    score = (2.0 * intersection) / (cardinality + eps)\n",
    "\n",
    "    has_targets = torch.sum(y_true) > 0\n",
    "    has_predicted = torch.sum(y_pred) > 0\n",
    "\n",
    "    if not has_targets:\n",
    "        if nan_score_on_empty:\n",
    "            score = np.nan\n",
    "        else:\n",
    "            score = float(not has_predicted)\n",
    "    return score\n",
    "\n",
    "\n",
    "def multilabel_dice_score(\n",
    "    y_true: torch.Tensor,\n",
    "    y_pred: torch.Tensor,\n",
    "    threshold=None,\n",
    "    eps=1e-7,\n",
    "    nan_score_on_empty=False,\n",
    "):\n",
    "    ious = []\n",
    "    num_classes = y_pred.size(0)\n",
    "    for class_index in range(num_classes):\n",
    "        iou = binary_dice_score(\n",
    "            y_pred=y_pred[class_index],\n",
    "            y_true=y_true[class_index],\n",
    "            threshold=threshold,\n",
    "            nan_score_on_empty=nan_score_on_empty,\n",
    "            eps=eps,\n",
    "        )\n",
    "        ious.append(iou)\n",
    "\n",
    "    return ious\n",
    "\n",
    "\n",
    "def dice_loss(input, target):\n",
    "    input = torch.sigmoid(input)\n",
    "    smooth = 1.0\n",
    "    iflat = input.view(-1)\n",
    "    tflat = target.view(-1)\n",
    "    intersection = (iflat * tflat).sum()\n",
    "    return 1 - ((2.0 * intersection + smooth) / (iflat.sum() + tflat.sum() + smooth))\n",
    "\n",
    "\n",
    "def bce_dice(input, target, loss_weights=loss_weights):\n",
    "    loss1 = loss_weights[0] * nn.BCEWithLogitsLoss()(input, target)\n",
    "    loss2 = loss_weights[1] * dice_loss(input, target)\n",
    "    return (loss1 + loss2) / sum(loss_weights)\n",
    "\n",
    "criterion = bce_dice"
   ]
  },
  {
   "cell_type": "markdown",
   "id": "fb8a28ee",
   "metadata": {},
   "source": [
    "## Train & Valid func"
   ]
  },
  {
   "cell_type": "code",
   "execution_count": 23,
   "id": "3c91b93c",
   "metadata": {},
   "outputs": [],
   "source": [
    "def mixup(input, truth, clip=[0, 1]):\n",
    "    indices = torch.randperm(input.size(0))\n",
    "    shuffled_input = input[indices]\n",
    "    shuffled_labels = truth[indices]\n",
    "\n",
    "    lam = np.random.uniform(clip[0], clip[1])\n",
    "    input = input * lam + shuffled_input * (1 - lam)\n",
    "    return input, truth, shuffled_labels, lam\n",
    "\n",
    "\n",
    "def train_func(model, loader_train, optimizer, scaler=None):\n",
    "    model.train()\n",
    "    model = model.to(device)\n",
    "    train_loss = []\n",
    "    bar = tqdm(loader_train)\n",
    "    for images, gt_masks in bar:\n",
    "        optimizer.zero_grad()\n",
    "        #images = images.cuda()\n",
    "        #gt_masks = gt_masks.cuda()\n",
    "        images = images.to(device)\n",
    "        gt_masks = gt_masks.to(device)\n",
    "\n",
    "        do_mixup = False\n",
    "        if random.random() < p_mixup:\n",
    "            do_mixup = True\n",
    "            images, gt_masks, gt_masks_sfl, lam = mixup(images, gt_masks)\n",
    "\n",
    "        with amp.autocast():\n",
    "            logits = model(images)\n",
    "            loss = criterion(logits, gt_masks)\n",
    "            if do_mixup:\n",
    "                loss2 = criterion(logits, gt_masks_sfl)\n",
    "                loss = loss * lam  + loss2 * (1 - lam)\n",
    "\n",
    "        train_loss.append(loss.item())\n",
    "        scaler.scale(loss).backward()\n",
    "        scaler.step(optimizer)\n",
    "        scaler.update()\n",
    "\n",
    "        bar.set_description(f'smth:{np.mean(train_loss[-30:]):.4f}')\n",
    "\n",
    "    return np.mean(train_loss)\n",
    "\n",
    "\n",
    "def valid_func(model, loader_valid):\n",
    "    model.eval()\n",
    "    valid_loss = []\n",
    "    outputs = []\n",
    "    ths = [0.2, 0.3, 0.4, 0.5, 0.6, 0.7, 0.8]\n",
    "    batch_metrics = [[]] * 7\n",
    "    bar = tqdm(loader_valid)\n",
    "    with torch.no_grad():\n",
    "        for images, gt_masks in bar:\n",
    "            images = images.cuda()\n",
    "            gt_masks = gt_masks.cuda()\n",
    "\n",
    "            logits = model(images)\n",
    "            loss = criterion(logits, gt_masks)\n",
    "            valid_loss.append(loss.item())\n",
    "            for thi, th in enumerate(ths):\n",
    "                pred = (logits.sigmoid() > th).float().detach()\n",
    "                for i in range(logits.shape[0]):\n",
    "                    tmp = multilabel_dice_score(\n",
    "                        y_pred=logits[i].sigmoid().cpu(),\n",
    "                        y_true=gt_masks[i].cpu(),\n",
    "                        threshold=0.5,\n",
    "                    )\n",
    "                    batch_metrics[thi].extend(tmp)\n",
    "            bar.set_description(f'smth:{np.mean(valid_loss[-30:]):.4f}')\n",
    "            \n",
    "    metrics = [np.mean(this_metric) for this_metric in batch_metrics]\n",
    "    print('best th:', ths[np.argmax(metrics)], 'best dc:', np.max(metrics))\n",
    "\n",
    "    return np.mean(valid_loss), np.max(metrics)\n"
   ]
  },
  {
   "cell_type": "code",
   "execution_count": 24,
   "id": "3cdd4b9a",
   "metadata": {},
   "outputs": [
    {
     "name": "stderr",
     "output_type": "stream",
     "text": [
      "/home/apaddo/.local/lib/python3.9/site-packages/torch/optim/lr_scheduler.py:138: UserWarning: Detected call of `lr_scheduler.step()` before `optimizer.step()`. In PyTorch 1.1.0 and later, you should call them in the opposite order: `optimizer.step()` before `lr_scheduler.step()`.  Failure to do this will result in PyTorch skipping the first value of the learning rate schedule. See more details at https://pytorch.org/docs/stable/optim.html#how-to-adjust-learning-rate\n",
      "  warnings.warn(\"Detected call of `lr_scheduler.step()` before `optimizer.step()`. \"\n",
      "/home/apaddo/.local/lib/python3.9/site-packages/torch/optim/lr_scheduler.py:163: UserWarning: The epoch parameter in `scheduler.step()` was not necessary and is being deprecated where possible. Please use `scheduler.step()` to step the scheduler. During the deprecation, if epoch is different from None, the closed form is used instead of the new chainable form, where available. Please open an issue if you are unable to replicate your use case: https://github.com/pytorch/pytorch/issues/new/choose.\n",
      "  warnings.warn(EPOCH_DEPRECATION_WARNING, UserWarning)\n"
     ]
    },
    {
     "data": {
      "text/plain": [
       "[<matplotlib.lines.Line2D at 0x7f70e419c760>]"
      ]
     },
     "execution_count": 24,
     "metadata": {},
     "output_type": "execute_result"
    },
    {
     "data": {
      "image/png": "[encoded data removed]",
      "text/plain": [
       "<Figure size 1440x144 with 1 Axes>"
      ]
     },
     "metadata": {
      "needs_background": "light"
     },
     "output_type": "display_data"
    }
   ],
   "source": [
    "rcParams['figure.figsize'] = 20, 2\n",
    "optimizer = optim.AdamW(m.parameters(), lr=init_lr)\n",
    "scheduler_cosine = torch.optim.lr_scheduler.CosineAnnealingLR(optimizer, 1000)\n",
    "lrs = []\n",
    "for epoch in range(1, 1000+1):\n",
    "    scheduler_cosine.step(epoch-1)\n",
    "    lrs.append(optimizer.param_groups[0][\"lr\"])\n",
    "plt.plot(range(len(lrs)), lrs)"
   ]
  },
  {
   "cell_type": "markdown",
   "id": "92b837f4",
   "metadata": {},
   "source": [
    "## Training"
   ]
  },
  {
   "cell_type": "markdown",
   "id": "72714235",
   "metadata": {},
   "source": [
    "## Quantization-aware training"
   ]
  },
  {
   "cell_type": "code",
   "execution_count": 25,
   "id": "24d42569",
   "metadata": {},
   "outputs": [],
   "source": [
    "def run(fold):\n",
    "\n",
    "    log_file = os.path.join(log_dir, f'{kernel_type}.txt')\n",
    "    model_file = os.path.join(model_dir, f'{kernel_type}_fold{fold}_best.pth')\n",
    "\n",
    "    train_ = df_seg[df_seg['fold'] != fold].reset_index(drop=True)\n",
    "    valid_ = df_seg[df_seg['fold'] == fold].reset_index(drop=True)\n",
    "    dataset_train = SEGDataset(train_, 'train', transform=transforms_train)\n",
    "    dataset_valid = SEGDataset(valid_, 'valid', transform=transforms_valid)\n",
    "    loader_train = torch.utils.data.DataLoader(dataset_train, batch_size=batch_size, shuffle=True, num_workers=num_workers)\n",
    "    loader_valid = torch.utils.data.DataLoader(dataset_valid, batch_size=batch_size, shuffle=False, num_workers=num_workers)\n",
    "\n",
    "    model = TimmSegModel(backbone, pretrained=True)\n",
    "    model = convert_3d(model)\n",
    "    model = model.to(device)\n",
    "\n",
    "    optimizer = optim.AdamW(model.parameters(), lr=init_lr)\n",
    "    scaler = torch.cuda.amp.GradScaler()\n",
    "    from_epoch = 0\n",
    "    metric_best = 0.\n",
    "    loss_min = np.inf\n",
    "\n",
    "    scheduler_cosine = torch.optim.lr_scheduler.CosineAnnealingWarmRestarts(optimizer, n_epochs)\n",
    "    \n",
    "    model = torch.quantization.convert(model.eval(), inplace=False)\n",
    "    \n",
    "    optimizer = torch.optim.SGD(model.parameters(), lr = 3e-3)\n",
    "    model.qconfig = torch.ao.quantization.get_default_qat_qconfig('fbgemm')\n",
    "    \n",
    "    #torch.ao.quantization.prepare_qat(model, inplace=True)\n",
    "\n",
    "    print(len(dataset_train), len(dataset_valid))\n",
    "\n",
    "    for epoch in range(1, n_epochs+1):\n",
    "        scheduler_cosine.step(epoch-1)\n",
    "\n",
    "        print(time.ctime(), 'Epoch:', epoch)\n",
    "\n",
    "        train_loss = train_func(model, loader_train, optimizer, scaler)\n",
    "        valid_loss, metric = valid_func(model, loader_valid)\n",
    "\n",
    "        content = time.ctime() + ' ' + f'Fold {fold}, Epoch {epoch}, lr: {optimizer.param_groups[0][\"lr\"]:.7f}, train loss: {train_loss:.5f}, valid loss: {valid_loss:.5f}, metric: {(metric):.6f}.'\n",
    "        print(content)\n",
    "        with open(log_file, 'a') as appender:\n",
    "            appender.write(content + '\\n')\n",
    "\n",
    "        if metric > metric_best:\n",
    "            print(f'metric_best ({metric_best:.6f} --> {metric:.6f}). Saving model ...')\n",
    "            torch.save(model.state_dict(), model_file)\n",
    "            metric_best = metric\n",
    "\n",
    "        # Save Last\n",
    "        if not DEBUG:\n",
    "            torch.save(\n",
    "                {\n",
    "                    'epoch': epoch,\n",
    "                    'model_state_dict': model.state_dict(),\n",
    "                    'optimizer_state_dict': optimizer.state_dict(),\n",
    "                    'scaler_state_dict': scaler.state_dict() if scaler else None,\n",
    "                    'score_best': metric_best,\n",
    "                },\n",
    "                model_file.replace('_best', '_last')\n",
    "            )\n",
    "\n",
    "    del model\n",
    "    torch.cuda.empty_cache()\n",
    "    gc.collect()\n",
    "\n",
    "\n"
   ]
  },
  {
   "cell_type": "code",
   "execution_count": 26,
   "id": "847f4b4e",
   "metadata": {},
   "outputs": [],
   "source": [
    "from logging import DEBUG"
   ]
  },
  {
   "cell_type": "code",
   "execution_count": null,
   "id": "cf6200ca",
   "metadata": {},
   "outputs": [
    {
     "name": "stdout",
     "output_type": "stream",
     "text": [
      "2023-01-13 11:28:11,270 - Loading pretrained weights from url (https://github.com/rwightman/pytorch-image-models/releases/download/v0.1-weights/resnet18d_ra2-48a79e06.pth)\n",
      "69 18\n",
      "Fri Jan 13 11:28:11 2023 Epoch: 1\n"
     ]
    },
    {
     "name": "stderr",
     "output_type": "stream",
     "text": [
      "  0%|          | 0/7 [00:00<?, ?it/s]/tmp/ipykernel_299334/3733926425.py:99: UserWarning: To copy construct from a tensor, it is recommended to use sourceTensor.clone().detach() or sourceTensor.clone().detach().requires_grad_(True), rather than torch.tensor(sourceTensor).\n",
      "  image, mask = torch.tensor(image).float(), torch.tensor(mask).float()\n",
      "/tmp/ipykernel_299334/3733926425.py:99: UserWarning: To copy construct from a tensor, it is recommended to use sourceTensor.clone().detach() or sourceTensor.clone().detach().requires_grad_(True), rather than torch.tensor(sourceTensor).\n",
      "  image, mask = torch.tensor(image).float(), torch.tensor(mask).float()\n",
      "/tmp/ipykernel_299334/3733926425.py:99: UserWarning: To copy construct from a tensor, it is recommended to use sourceTensor.clone().detach() or sourceTensor.clone().detach().requires_grad_(True), rather than torch.tensor(sourceTensor).\n",
      "  image, mask = torch.tensor(image).float(), torch.tensor(mask).float()\n",
      "/tmp/ipykernel_299334/3733926425.py:99: UserWarning: To copy construct from a tensor, it is recommended to use sourceTensor.clone().detach() or sourceTensor.clone().detach().requires_grad_(True), rather than torch.tensor(sourceTensor).\n",
      "  image, mask = torch.tensor(image).float(), torch.tensor(mask).float()\n",
      "smth:1.0533: 100%|██████████| 7/7 [03:29<00:00, 30.00s/it] \n",
      "smth:1.1900: 100%|██████████| 2/2 [01:53<00:00, 56.69s/it] \n"
     ]
    },
    {
     "name": "stdout",
     "output_type": "stream",
     "text": [
      "best th: 0.2 best dc: 0.005013113915664389\n",
      "Fri Jan 13 11:33:35 2023 Fold 0, Epoch 1, lr: 0.0030000, train loss: 1.05326, valid loss: 1.19004, metric: 0.005013.\n",
      "metric_best (0.000000 --> 0.005013). Saving model ...\n",
      "Fri Jan 13 11:33:35 2023 Epoch: 2\n"
     ]
    },
    {
     "name": "stderr",
     "output_type": "stream",
     "text": [
      "  0%|          | 0/7 [00:00<?, ?it/s]/tmp/ipykernel_299334/3733926425.py:99: UserWarning: To copy construct from a tensor, it is recommended to use sourceTensor.clone().detach() or sourceTensor.clone().detach().requires_grad_(True), rather than torch.tensor(sourceTensor).\n",
      "  image, mask = torch.tensor(image).float(), torch.tensor(mask).float()\n",
      "/tmp/ipykernel_299334/3733926425.py:99: UserWarning: To copy construct from a tensor, it is recommended to use sourceTensor.clone().detach() or sourceTensor.clone().detach().requires_grad_(True), rather than torch.tensor(sourceTensor).\n",
      "  image, mask = torch.tensor(image).float(), torch.tensor(mask).float()\n",
      "/tmp/ipykernel_299334/3733926425.py:99: UserWarning: To copy construct from a tensor, it is recommended to use sourceTensor.clone().detach() or sourceTensor.clone().detach().requires_grad_(True), rather than torch.tensor(sourceTensor).\n",
      "  image, mask = torch.tensor(image).float(), torch.tensor(mask).float()\n",
      "/tmp/ipykernel_299334/3733926425.py:99: UserWarning: To copy construct from a tensor, it is recommended to use sourceTensor.clone().detach() or sourceTensor.clone().detach().requires_grad_(True), rather than torch.tensor(sourceTensor).\n",
      "  image, mask = torch.tensor(image).float(), torch.tensor(mask).float()\n",
      "smth:1.0247: 100%|██████████| 7/7 [03:18<00:00, 28.37s/it] \n",
      "smth:0.9982: 100%|██████████| 2/2 [01:48<00:00, 54.28s/it] \n"
     ]
    },
    {
     "name": "stdout",
     "output_type": "stream",
     "text": [
      "best th: 0.2 best dc: 0.00502300658269447\n",
      "Fri Jan 13 11:38:42 2023 Fold 0, Epoch 2, lr: 0.0030000, train loss: 1.02468, valid loss: 0.99819, metric: 0.005023.\n",
      "metric_best (0.005013 --> 0.005023). Saving model ...\n",
      "Fri Jan 13 11:38:42 2023 Epoch: 3\n"
     ]
    },
    {
     "name": "stderr",
     "output_type": "stream",
     "text": [
      "  0%|          | 0/7 [00:00<?, ?it/s]/tmp/ipykernel_299334/3733926425.py:99: UserWarning: To copy construct from a tensor, it is recommended to use sourceTensor.clone().detach() or sourceTensor.clone().detach().requires_grad_(True), rather than torch.tensor(sourceTensor).\n",
      "  image, mask = torch.tensor(image).float(), torch.tensor(mask).float()\n",
      "/tmp/ipykernel_299334/3733926425.py:99: UserWarning: To copy construct from a tensor, it is recommended to use sourceTensor.clone().detach() or sourceTensor.clone().detach().requires_grad_(True), rather than torch.tensor(sourceTensor).\n",
      "  image, mask = torch.tensor(image).float(), torch.tensor(mask).float()\n",
      "/tmp/ipykernel_299334/3733926425.py:99: UserWarning: To copy construct from a tensor, it is recommended to use sourceTensor.clone().detach() or sourceTensor.clone().detach().requires_grad_(True), rather than torch.tensor(sourceTensor).\n",
      "  image, mask = torch.tensor(image).float(), torch.tensor(mask).float()\n",
      "/tmp/ipykernel_299334/3733926425.py:99: UserWarning: To copy construct from a tensor, it is recommended to use sourceTensor.clone().detach() or sourceTensor.clone().detach().requires_grad_(True), rather than torch.tensor(sourceTensor).\n",
      "  image, mask = torch.tensor(image).float(), torch.tensor(mask).float()\n",
      "smth:0.9958: 100%|██████████| 7/7 [03:22<00:00, 28.88s/it] \n",
      "smth:0.9678: 100%|██████████| 2/2 [01:48<00:00, 54.26s/it] \n"
     ]
    },
    {
     "name": "stdout",
     "output_type": "stream",
     "text": [
      "best th: 0.2 best dc: 0.005030908895308907\n",
      "Fri Jan 13 11:43:53 2023 Fold 0, Epoch 3, lr: 0.0030000, train loss: 0.99579, valid loss: 0.96778, metric: 0.005031.\n",
      "metric_best (0.005023 --> 0.005031). Saving model ...\n",
      "Fri Jan 13 11:43:53 2023 Epoch: 4\n"
     ]
    },
    {
     "name": "stderr",
     "output_type": "stream",
     "text": [
      "  0%|          | 0/7 [00:00<?, ?it/s]/tmp/ipykernel_299334/3733926425.py:99: UserWarning: To copy construct from a tensor, it is recommended to use sourceTensor.clone().detach() or sourceTensor.clone().detach().requires_grad_(True), rather than torch.tensor(sourceTensor).\n",
      "  image, mask = torch.tensor(image).float(), torch.tensor(mask).float()\n",
      "/tmp/ipykernel_299334/3733926425.py:99: UserWarning: To copy construct from a tensor, it is recommended to use sourceTensor.clone().detach() or sourceTensor.clone().detach().requires_grad_(True), rather than torch.tensor(sourceTensor).\n",
      "  image, mask = torch.tensor(image).float(), torch.tensor(mask).float()\n",
      "/tmp/ipykernel_299334/3733926425.py:99: UserWarning: To copy construct from a tensor, it is recommended to use sourceTensor.clone().detach() or sourceTensor.clone().detach().requires_grad_(True), rather than torch.tensor(sourceTensor).\n",
      "  image, mask = torch.tensor(image).float(), torch.tensor(mask).float()\n",
      "/tmp/ipykernel_299334/3733926425.py:99: UserWarning: To copy construct from a tensor, it is recommended to use sourceTensor.clone().detach() or sourceTensor.clone().detach().requires_grad_(True), rather than torch.tensor(sourceTensor).\n",
      "  image, mask = torch.tensor(image).float(), torch.tensor(mask).float()\n",
      "smth:0.9681: 100%|██████████| 7/7 [03:24<00:00, 29.28s/it]\n",
      "smth:0.9489: 100%|██████████| 2/2 [01:46<00:00, 53.37s/it] \n"
     ]
    },
    {
     "name": "stdout",
     "output_type": "stream",
     "text": [
      "best th: 0.2 best dc: 0.005047607310144328\n",
      "Fri Jan 13 11:49:05 2023 Fold 0, Epoch 4, lr: 0.0030000, train loss: 0.96807, valid loss: 0.94892, metric: 0.005048.\n",
      "metric_best (0.005031 --> 0.005048). Saving model ...\n",
      "Fri Jan 13 11:49:05 2023 Epoch: 5\n"
     ]
    },
    {
     "name": "stderr",
     "output_type": "stream",
     "text": [
      "  0%|          | 0/7 [00:00<?, ?it/s]/tmp/ipykernel_299334/3733926425.py:99: UserWarning: To copy construct from a tensor, it is recommended to use sourceTensor.clone().detach() or sourceTensor.clone().detach().requires_grad_(True), rather than torch.tensor(sourceTensor).\n",
      "  image, mask = torch.tensor(image).float(), torch.tensor(mask).float()\n",
      "/tmp/ipykernel_299334/3733926425.py:99: UserWarning: To copy construct from a tensor, it is recommended to use sourceTensor.clone().detach() or sourceTensor.clone().detach().requires_grad_(True), rather than torch.tensor(sourceTensor).\n",
      "  image, mask = torch.tensor(image).float(), torch.tensor(mask).float()\n",
      "/tmp/ipykernel_299334/3733926425.py:99: UserWarning: To copy construct from a tensor, it is recommended to use sourceTensor.clone().detach() or sourceTensor.clone().detach().requires_grad_(True), rather than torch.tensor(sourceTensor).\n",
      "  image, mask = torch.tensor(image).float(), torch.tensor(mask).float()\n",
      "/tmp/ipykernel_299334/3733926425.py:99: UserWarning: To copy construct from a tensor, it is recommended to use sourceTensor.clone().detach() or sourceTensor.clone().detach().requires_grad_(True), rather than torch.tensor(sourceTensor).\n",
      "  image, mask = torch.tensor(image).float(), torch.tensor(mask).float()\n",
      "smth:0.9452: 100%|██████████| 7/7 [03:14<00:00, 27.79s/it] \n",
      "smth:0.9306: 100%|██████████| 2/2 [01:50<00:00, 55.27s/it] \n"
     ]
    },
    {
     "name": "stdout",
     "output_type": "stream",
     "text": [
      "best th: 0.2 best dc: 0.005092219668214937\n",
      "Fri Jan 13 11:54:10 2023 Fold 0, Epoch 5, lr: 0.0030000, train loss: 0.94522, valid loss: 0.93065, metric: 0.005092.\n",
      "metric_best (0.005048 --> 0.005092). Saving model ...\n",
      "Fri Jan 13 11:54:11 2023 Epoch: 6\n"
     ]
    },
    {
     "name": "stderr",
     "output_type": "stream",
     "text": [
      "  0%|          | 0/7 [00:00<?, ?it/s]/tmp/ipykernel_299334/3733926425.py:99: UserWarning: To copy construct from a tensor, it is recommended to use sourceTensor.clone().detach() or sourceTensor.clone().detach().requires_grad_(True), rather than torch.tensor(sourceTensor).\n",
      "  image, mask = torch.tensor(image).float(), torch.tensor(mask).float()\n",
      "/tmp/ipykernel_299334/3733926425.py:99: UserWarning: To copy construct from a tensor, it is recommended to use sourceTensor.clone().detach() or sourceTensor.clone().detach().requires_grad_(True), rather than torch.tensor(sourceTensor).\n",
      "  image, mask = torch.tensor(image).float(), torch.tensor(mask).float()\n",
      "/tmp/ipykernel_299334/3733926425.py:99: UserWarning: To copy construct from a tensor, it is recommended to use sourceTensor.clone().detach() or sourceTensor.clone().detach().requires_grad_(True), rather than torch.tensor(sourceTensor).\n",
      "  image, mask = torch.tensor(image).float(), torch.tensor(mask).float()\n",
      "/tmp/ipykernel_299334/3733926425.py:99: UserWarning: To copy construct from a tensor, it is recommended to use sourceTensor.clone().detach() or sourceTensor.clone().detach().requires_grad_(True), rather than torch.tensor(sourceTensor).\n",
      "  image, mask = torch.tensor(image).float(), torch.tensor(mask).float()\n",
      "smth:0.9225: 100%|██████████| 7/7 [03:25<00:00, 29.38s/it]\n",
      "smth:0.9108: 100%|██████████| 2/2 [01:49<00:00, 54.91s/it] \n"
     ]
    },
    {
     "name": "stdout",
     "output_type": "stream",
     "text": [
      "best th: 0.2 best dc: 0.005100408618732812\n",
      "Fri Jan 13 11:59:26 2023 Fold 0, Epoch 6, lr: 0.0030000, train loss: 0.92252, valid loss: 0.91075, metric: 0.005100.\n",
      "metric_best (0.005092 --> 0.005100). Saving model ...\n",
      "Fri Jan 13 11:59:26 2023 Epoch: 7\n"
     ]
    },
    {
     "name": "stderr",
     "output_type": "stream",
     "text": [
      "  0%|          | 0/7 [00:00<?, ?it/s]/tmp/ipykernel_299334/3733926425.py:99: UserWarning: To copy construct from a tensor, it is recommended to use sourceTensor.clone().detach() or sourceTensor.clone().detach().requires_grad_(True), rather than torch.tensor(sourceTensor).\n",
      "  image, mask = torch.tensor(image).float(), torch.tensor(mask).float()\n",
      "/tmp/ipykernel_299334/3733926425.py:99: UserWarning: To copy construct from a tensor, it is recommended to use sourceTensor.clone().detach() or sourceTensor.clone().detach().requires_grad_(True), rather than torch.tensor(sourceTensor).\n",
      "  image, mask = torch.tensor(image).float(), torch.tensor(mask).float()\n",
      "/tmp/ipykernel_299334/3733926425.py:99: UserWarning: To copy construct from a tensor, it is recommended to use sourceTensor.clone().detach() or sourceTensor.clone().detach().requires_grad_(True), rather than torch.tensor(sourceTensor).\n",
      "  image, mask = torch.tensor(image).float(), torch.tensor(mask).float()\n",
      "/tmp/ipykernel_299334/3733926425.py:99: UserWarning: To copy construct from a tensor, it is recommended to use sourceTensor.clone().detach() or sourceTensor.clone().detach().requires_grad_(True), rather than torch.tensor(sourceTensor).\n",
      "  image, mask = torch.tensor(image).float(), torch.tensor(mask).float()\n",
      "smth:0.9024: 100%|██████████| 7/7 [03:26<00:00, 29.56s/it]\n",
      "smth:0.8945: 100%|██████████| 2/2 [01:51<00:00, 55.65s/it] \n"
     ]
    },
    {
     "name": "stdout",
     "output_type": "stream",
     "text": [
      "best th: 0.2 best dc: 0.005113360954027696\n",
      "Fri Jan 13 12:04:45 2023 Fold 0, Epoch 7, lr: 0.0030000, train loss: 0.90244, valid loss: 0.89450, metric: 0.005113.\n",
      "metric_best (0.005100 --> 0.005113). Saving model ...\n",
      "Fri Jan 13 12:04:45 2023 Epoch: 8\n"
     ]
    },
    {
     "name": "stderr",
     "output_type": "stream",
     "text": [
      "  0%|          | 0/7 [00:00<?, ?it/s]/tmp/ipykernel_299334/3733926425.py:99: UserWarning: To copy construct from a tensor, it is recommended to use sourceTensor.clone().detach() or sourceTensor.clone().detach().requires_grad_(True), rather than torch.tensor(sourceTensor).\n",
      "  image, mask = torch.tensor(image).float(), torch.tensor(mask).float()\n",
      "/tmp/ipykernel_299334/3733926425.py:99: UserWarning: To copy construct from a tensor, it is recommended to use sourceTensor.clone().detach() or sourceTensor.clone().detach().requires_grad_(True), rather than torch.tensor(sourceTensor).\n",
      "  image, mask = torch.tensor(image).float(), torch.tensor(mask).float()\n",
      "/tmp/ipykernel_299334/3733926425.py:99: UserWarning: To copy construct from a tensor, it is recommended to use sourceTensor.clone().detach() or sourceTensor.clone().detach().requires_grad_(True), rather than torch.tensor(sourceTensor).\n",
      "  image, mask = torch.tensor(image).float(), torch.tensor(mask).float()\n",
      "/tmp/ipykernel_299334/3733926425.py:99: UserWarning: To copy construct from a tensor, it is recommended to use sourceTensor.clone().detach() or sourceTensor.clone().detach().requires_grad_(True), rather than torch.tensor(sourceTensor).\n",
      "  image, mask = torch.tensor(image).float(), torch.tensor(mask).float()\n",
      "smth:0.8825: 100%|██████████| 7/7 [03:07<00:00, 26.80s/it]\n",
      "smth:0.8760: 100%|██████████| 2/2 [01:50<00:00, 55.38s/it] \n"
     ]
    },
    {
     "name": "stdout",
     "output_type": "stream",
     "text": [
      "best th: 0.2 best dc: 0.005130248192938358\n",
      "Fri Jan 13 12:09:43 2023 Fold 0, Epoch 8, lr: 0.0030000, train loss: 0.88247, valid loss: 0.87599, metric: 0.005130.\n",
      "metric_best (0.005113 --> 0.005130). Saving model ...\n",
      "Fri Jan 13 12:09:44 2023 Epoch: 9\n"
     ]
    },
    {
     "name": "stderr",
     "output_type": "stream",
     "text": [
      "  0%|          | 0/7 [00:00<?, ?it/s]/tmp/ipykernel_299334/3733926425.py:99: UserWarning: To copy construct from a tensor, it is recommended to use sourceTensor.clone().detach() or sourceTensor.clone().detach().requires_grad_(True), rather than torch.tensor(sourceTensor).\n",
      "  image, mask = torch.tensor(image).float(), torch.tensor(mask).float()\n",
      "/tmp/ipykernel_299334/3733926425.py:99: UserWarning: To copy construct from a tensor, it is recommended to use sourceTensor.clone().detach() or sourceTensor.clone().detach().requires_grad_(True), rather than torch.tensor(sourceTensor).\n",
      "  image, mask = torch.tensor(image).float(), torch.tensor(mask).float()\n",
      "/tmp/ipykernel_299334/3733926425.py:99: UserWarning: To copy construct from a tensor, it is recommended to use sourceTensor.clone().detach() or sourceTensor.clone().detach().requires_grad_(True), rather than torch.tensor(sourceTensor).\n",
      "  image, mask = torch.tensor(image).float(), torch.tensor(mask).float()\n",
      "/tmp/ipykernel_299334/3733926425.py:99: UserWarning: To copy construct from a tensor, it is recommended to use sourceTensor.clone().detach() or sourceTensor.clone().detach().requires_grad_(True), rather than torch.tensor(sourceTensor).\n",
      "  image, mask = torch.tensor(image).float(), torch.tensor(mask).float()\n",
      "smth:0.8642: 100%|██████████| 7/7 [03:15<00:00, 27.95s/it]\n",
      "smth:0.8587: 100%|██████████| 2/2 [01:49<00:00, 54.82s/it] \n"
     ]
    },
    {
     "name": "stdout",
     "output_type": "stream",
     "text": [
      "best th: 0.2 best dc: 0.005157503790259318\n",
      "Fri Jan 13 12:14:49 2023 Fold 0, Epoch 9, lr: 0.0030000, train loss: 0.86423, valid loss: 0.85868, metric: 0.005158.\n",
      "metric_best (0.005130 --> 0.005158). Saving model ...\n",
      "Fri Jan 13 12:14:49 2023 Epoch: 10\n"
     ]
    },
    {
     "name": "stderr",
     "output_type": "stream",
     "text": [
      "  0%|          | 0/7 [00:00<?, ?it/s]/tmp/ipykernel_299334/3733926425.py:99: UserWarning: To copy construct from a tensor, it is recommended to use sourceTensor.clone().detach() or sourceTensor.clone().detach().requires_grad_(True), rather than torch.tensor(sourceTensor).\n",
      "  image, mask = torch.tensor(image).float(), torch.tensor(mask).float()\n",
      "/tmp/ipykernel_299334/3733926425.py:99: UserWarning: To copy construct from a tensor, it is recommended to use sourceTensor.clone().detach() or sourceTensor.clone().detach().requires_grad_(True), rather than torch.tensor(sourceTensor).\n",
      "  image, mask = torch.tensor(image).float(), torch.tensor(mask).float()\n",
      "/tmp/ipykernel_299334/3733926425.py:99: UserWarning: To copy construct from a tensor, it is recommended to use sourceTensor.clone().detach() or sourceTensor.clone().detach().requires_grad_(True), rather than torch.tensor(sourceTensor).\n",
      "  image, mask = torch.tensor(image).float(), torch.tensor(mask).float()\n",
      "/tmp/ipykernel_299334/3733926425.py:99: UserWarning: To copy construct from a tensor, it is recommended to use sourceTensor.clone().detach() or sourceTensor.clone().detach().requires_grad_(True), rather than torch.tensor(sourceTensor).\n",
      "  image, mask = torch.tensor(image).float(), torch.tensor(mask).float()\n",
      "smth:0.8475: 100%|██████████| 7/7 [03:06<00:00, 26.66s/it]\n",
      "smth:0.8439: 100%|██████████| 2/2 [01:47<00:00, 53.87s/it] \n"
     ]
    },
    {
     "name": "stdout",
     "output_type": "stream",
     "text": [
      "best th: 0.2 best dc: 0.005219334446575964\n",
      "Fri Jan 13 12:19:44 2023 Fold 0, Epoch 10, lr: 0.0030000, train loss: 0.84748, valid loss: 0.84395, metric: 0.005219.\n",
      "metric_best (0.005158 --> 0.005219). Saving model ...\n",
      "Fri Jan 13 12:19:44 2023 Epoch: 11\n"
     ]
    },
    {
     "name": "stderr",
     "output_type": "stream",
     "text": [
      "  0%|          | 0/7 [00:00<?, ?it/s]/tmp/ipykernel_299334/3733926425.py:99: UserWarning: To copy construct from a tensor, it is recommended to use sourceTensor.clone().detach() or sourceTensor.clone().detach().requires_grad_(True), rather than torch.tensor(sourceTensor).\n",
      "  image, mask = torch.tensor(image).float(), torch.tensor(mask).float()\n",
      "/tmp/ipykernel_299334/3733926425.py:99: UserWarning: To copy construct from a tensor, it is recommended to use sourceTensor.clone().detach() or sourceTensor.clone().detach().requires_grad_(True), rather than torch.tensor(sourceTensor).\n",
      "  image, mask = torch.tensor(image).float(), torch.tensor(mask).float()\n",
      "/tmp/ipykernel_299334/3733926425.py:99: UserWarning: To copy construct from a tensor, it is recommended to use sourceTensor.clone().detach() or sourceTensor.clone().detach().requires_grad_(True), rather than torch.tensor(sourceTensor).\n",
      "  image, mask = torch.tensor(image).float(), torch.tensor(mask).float()\n",
      "/tmp/ipykernel_299334/3733926425.py:99: UserWarning: To copy construct from a tensor, it is recommended to use sourceTensor.clone().detach() or sourceTensor.clone().detach().requires_grad_(True), rather than torch.tensor(sourceTensor).\n",
      "  image, mask = torch.tensor(image).float(), torch.tensor(mask).float()\n",
      "smth:0.8315: 100%|██████████| 7/7 [03:13<00:00, 27.65s/it]\n",
      "smth:0.8281: 100%|██████████| 2/2 [01:48<00:00, 54.33s/it] \n"
     ]
    },
    {
     "name": "stdout",
     "output_type": "stream",
     "text": [
      "best th: 0.2 best dc: 0.0053189821143929585\n",
      "Fri Jan 13 12:24:46 2023 Fold 0, Epoch 11, lr: 0.0030000, train loss: 0.83146, valid loss: 0.82811, metric: 0.005319.\n",
      "metric_best (0.005219 --> 0.005319). Saving model ...\n",
      "Fri Jan 13 12:24:47 2023 Epoch: 12\n"
     ]
    },
    {
     "name": "stderr",
     "output_type": "stream",
     "text": [
      "  0%|          | 0/7 [00:00<?, ?it/s]/tmp/ipykernel_299334/3733926425.py:99: UserWarning: To copy construct from a tensor, it is recommended to use sourceTensor.clone().detach() or sourceTensor.clone().detach().requires_grad_(True), rather than torch.tensor(sourceTensor).\n",
      "  image, mask = torch.tensor(image).float(), torch.tensor(mask).float()\n",
      "/tmp/ipykernel_299334/3733926425.py:99: UserWarning: To copy construct from a tensor, it is recommended to use sourceTensor.clone().detach() or sourceTensor.clone().detach().requires_grad_(True), rather than torch.tensor(sourceTensor).\n",
      "  image, mask = torch.tensor(image).float(), torch.tensor(mask).float()\n",
      "/tmp/ipykernel_299334/3733926425.py:99: UserWarning: To copy construct from a tensor, it is recommended to use sourceTensor.clone().detach() or sourceTensor.clone().detach().requires_grad_(True), rather than torch.tensor(sourceTensor).\n",
      "  image, mask = torch.tensor(image).float(), torch.tensor(mask).float()\n",
      "/tmp/ipykernel_299334/3733926425.py:99: UserWarning: To copy construct from a tensor, it is recommended to use sourceTensor.clone().detach() or sourceTensor.clone().detach().requires_grad_(True), rather than torch.tensor(sourceTensor).\n",
      "  image, mask = torch.tensor(image).float(), torch.tensor(mask).float()\n",
      "smth:0.8168: 100%|██████████| 7/7 [03:26<00:00, 29.56s/it] \n",
      "smth:0.8140: 100%|██████████| 2/2 [01:54<00:00, 57.27s/it] \n"
     ]
    },
    {
     "name": "stdout",
     "output_type": "stream",
     "text": [
      "best th: 0.2 best dc: 0.00542096827815255\n",
      "Fri Jan 13 12:30:08 2023 Fold 0, Epoch 12, lr: 0.0030000, train loss: 0.81677, valid loss: 0.81395, metric: 0.005421.\n",
      "metric_best (0.005319 --> 0.005421). Saving model ...\n",
      "Fri Jan 13 12:30:08 2023 Epoch: 13\n"
     ]
    },
    {
     "name": "stderr",
     "output_type": "stream",
     "text": [
      "  0%|          | 0/7 [00:00<?, ?it/s]/tmp/ipykernel_299334/3733926425.py:99: UserWarning: To copy construct from a tensor, it is recommended to use sourceTensor.clone().detach() or sourceTensor.clone().detach().requires_grad_(True), rather than torch.tensor(sourceTensor).\n",
      "  image, mask = torch.tensor(image).float(), torch.tensor(mask).float()\n",
      "/tmp/ipykernel_299334/3733926425.py:99: UserWarning: To copy construct from a tensor, it is recommended to use sourceTensor.clone().detach() or sourceTensor.clone().detach().requires_grad_(True), rather than torch.tensor(sourceTensor).\n",
      "  image, mask = torch.tensor(image).float(), torch.tensor(mask).float()\n",
      "/tmp/ipykernel_299334/3733926425.py:99: UserWarning: To copy construct from a tensor, it is recommended to use sourceTensor.clone().detach() or sourceTensor.clone().detach().requires_grad_(True), rather than torch.tensor(sourceTensor).\n",
      "  image, mask = torch.tensor(image).float(), torch.tensor(mask).float()\n",
      "/tmp/ipykernel_299334/3733926425.py:99: UserWarning: To copy construct from a tensor, it is recommended to use sourceTensor.clone().detach() or sourceTensor.clone().detach().requires_grad_(True), rather than torch.tensor(sourceTensor).\n",
      "  image, mask = torch.tensor(image).float(), torch.tensor(mask).float()\n",
      "smth:0.8033: 100%|██████████| 7/7 [02:56<00:00, 25.26s/it]\n",
      "smth:0.8003: 100%|██████████| 2/2 [01:48<00:00, 54.08s/it] \n"
     ]
    },
    {
     "name": "stdout",
     "output_type": "stream",
     "text": [
      "best th: 0.2 best dc: 0.005531209452629629\n",
      "Fri Jan 13 12:34:53 2023 Fold 0, Epoch 13, lr: 0.0030000, train loss: 0.80325, valid loss: 0.80029, metric: 0.005531.\n",
      "metric_best (0.005421 --> 0.005531). Saving model ...\n",
      "Fri Jan 13 12:34:54 2023 Epoch: 14\n"
     ]
    },
    {
     "name": "stderr",
     "output_type": "stream",
     "text": [
      "  0%|          | 0/7 [00:00<?, ?it/s]/tmp/ipykernel_299334/3733926425.py:99: UserWarning: To copy construct from a tensor, it is recommended to use sourceTensor.clone().detach() or sourceTensor.clone().detach().requires_grad_(True), rather than torch.tensor(sourceTensor).\n",
      "  image, mask = torch.tensor(image).float(), torch.tensor(mask).float()\n",
      "/tmp/ipykernel_299334/3733926425.py:99: UserWarning: To copy construct from a tensor, it is recommended to use sourceTensor.clone().detach() or sourceTensor.clone().detach().requires_grad_(True), rather than torch.tensor(sourceTensor).\n",
      "  image, mask = torch.tensor(image).float(), torch.tensor(mask).float()\n",
      "/tmp/ipykernel_299334/3733926425.py:99: UserWarning: To copy construct from a tensor, it is recommended to use sourceTensor.clone().detach() or sourceTensor.clone().detach().requires_grad_(True), rather than torch.tensor(sourceTensor).\n",
      "  image, mask = torch.tensor(image).float(), torch.tensor(mask).float()\n",
      "/tmp/ipykernel_299334/3733926425.py:99: UserWarning: To copy construct from a tensor, it is recommended to use sourceTensor.clone().detach() or sourceTensor.clone().detach().requires_grad_(True), rather than torch.tensor(sourceTensor).\n",
      "  image, mask = torch.tensor(image).float(), torch.tensor(mask).float()\n",
      "smth:0.7901: 100%|██████████| 7/7 [03:11<00:00, 27.37s/it]\n",
      "smth:0.7873: 100%|██████████| 2/2 [01:44<00:00, 52.49s/it] \n"
     ]
    },
    {
     "name": "stdout",
     "output_type": "stream",
     "text": [
      "best th: 0.2 best dc: 0.0056105806047777144\n",
      "Fri Jan 13 12:39:50 2023 Fold 0, Epoch 14, lr: 0.0030000, train loss: 0.79010, valid loss: 0.78732, metric: 0.005611.\n",
      "metric_best (0.005531 --> 0.005611). Saving model ...\n",
      "Fri Jan 13 12:39:50 2023 Epoch: 15\n"
     ]
    },
    {
     "name": "stderr",
     "output_type": "stream",
     "text": [
      "  0%|          | 0/7 [00:00<?, ?it/s]/tmp/ipykernel_299334/3733926425.py:99: UserWarning: To copy construct from a tensor, it is recommended to use sourceTensor.clone().detach() or sourceTensor.clone().detach().requires_grad_(True), rather than torch.tensor(sourceTensor).\n",
      "  image, mask = torch.tensor(image).float(), torch.tensor(mask).float()\n",
      "/tmp/ipykernel_299334/3733926425.py:99: UserWarning: To copy construct from a tensor, it is recommended to use sourceTensor.clone().detach() or sourceTensor.clone().detach().requires_grad_(True), rather than torch.tensor(sourceTensor).\n",
      "  image, mask = torch.tensor(image).float(), torch.tensor(mask).float()\n",
      "/tmp/ipykernel_299334/3733926425.py:99: UserWarning: To copy construct from a tensor, it is recommended to use sourceTensor.clone().detach() or sourceTensor.clone().detach().requires_grad_(True), rather than torch.tensor(sourceTensor).\n",
      "  image, mask = torch.tensor(image).float(), torch.tensor(mask).float()\n",
      "/tmp/ipykernel_299334/3733926425.py:99: UserWarning: To copy construct from a tensor, it is recommended to use sourceTensor.clone().detach() or sourceTensor.clone().detach().requires_grad_(True), rather than torch.tensor(sourceTensor).\n",
      "  image, mask = torch.tensor(image).float(), torch.tensor(mask).float()\n",
      "smth:0.7774: 100%|██████████| 7/7 [02:45<00:00, 23.61s/it]\n",
      "smth:0.7751: 100%|██████████| 2/2 [01:47<00:00, 53.84s/it] \n"
     ]
    },
    {
     "name": "stdout",
     "output_type": "stream",
     "text": [
      "best th: 0.2 best dc: 0.005696984607693824\n",
      "Fri Jan 13 12:44:24 2023 Fold 0, Epoch 15, lr: 0.0030000, train loss: 0.77736, valid loss: 0.77507, metric: 0.005697.\n",
      "metric_best (0.005611 --> 0.005697). Saving model ...\n",
      "Fri Jan 13 12:44:24 2023 Epoch: 16\n"
     ]
    },
    {
     "name": "stderr",
     "output_type": "stream",
     "text": [
      "  0%|          | 0/7 [00:00<?, ?it/s]/tmp/ipykernel_299334/3733926425.py:99: UserWarning: To copy construct from a tensor, it is recommended to use sourceTensor.clone().detach() or sourceTensor.clone().detach().requires_grad_(True), rather than torch.tensor(sourceTensor).\n",
      "  image, mask = torch.tensor(image).float(), torch.tensor(mask).float()\n",
      "/tmp/ipykernel_299334/3733926425.py:99: UserWarning: To copy construct from a tensor, it is recommended to use sourceTensor.clone().detach() or sourceTensor.clone().detach().requires_grad_(True), rather than torch.tensor(sourceTensor).\n",
      "  image, mask = torch.tensor(image).float(), torch.tensor(mask).float()\n",
      "/tmp/ipykernel_299334/3733926425.py:99: UserWarning: To copy construct from a tensor, it is recommended to use sourceTensor.clone().detach() or sourceTensor.clone().detach().requires_grad_(True), rather than torch.tensor(sourceTensor).\n",
      "  image, mask = torch.tensor(image).float(), torch.tensor(mask).float()\n",
      "/tmp/ipykernel_299334/3733926425.py:99: UserWarning: To copy construct from a tensor, it is recommended to use sourceTensor.clone().detach() or sourceTensor.clone().detach().requires_grad_(True), rather than torch.tensor(sourceTensor).\n",
      "  image, mask = torch.tensor(image).float(), torch.tensor(mask).float()\n",
      "smth:0.7658: 100%|██████████| 7/7 [03:13<00:00, 27.64s/it]\n",
      "smth:0.7636: 100%|██████████| 2/2 [01:43<00:00, 51.93s/it]\n"
     ]
    },
    {
     "name": "stdout",
     "output_type": "stream",
     "text": [
      "best th: 0.2 best dc: 0.005759127729824248\n",
      "Fri Jan 13 12:49:21 2023 Fold 0, Epoch 16, lr: 0.0030000, train loss: 0.76581, valid loss: 0.76360, metric: 0.005759.\n",
      "metric_best (0.005697 --> 0.005759). Saving model ...\n",
      "Fri Jan 13 12:49:21 2023 Epoch: 17\n"
     ]
    },
    {
     "name": "stderr",
     "output_type": "stream",
     "text": [
      "  0%|          | 0/7 [00:00<?, ?it/s]/tmp/ipykernel_299334/3733926425.py:99: UserWarning: To copy construct from a tensor, it is recommended to use sourceTensor.clone().detach() or sourceTensor.clone().detach().requires_grad_(True), rather than torch.tensor(sourceTensor).\n",
      "  image, mask = torch.tensor(image).float(), torch.tensor(mask).float()\n",
      "/tmp/ipykernel_299334/3733926425.py:99: UserWarning: To copy construct from a tensor, it is recommended to use sourceTensor.clone().detach() or sourceTensor.clone().detach().requires_grad_(True), rather than torch.tensor(sourceTensor).\n",
      "  image, mask = torch.tensor(image).float(), torch.tensor(mask).float()\n",
      "/tmp/ipykernel_299334/3733926425.py:99: UserWarning: To copy construct from a tensor, it is recommended to use sourceTensor.clone().detach() or sourceTensor.clone().detach().requires_grad_(True), rather than torch.tensor(sourceTensor).\n",
      "  image, mask = torch.tensor(image).float(), torch.tensor(mask).float()\n",
      "/tmp/ipykernel_299334/3733926425.py:99: UserWarning: To copy construct from a tensor, it is recommended to use sourceTensor.clone().detach() or sourceTensor.clone().detach().requires_grad_(True), rather than torch.tensor(sourceTensor).\n",
      "  image, mask = torch.tensor(image).float(), torch.tensor(mask).float()\n",
      "smth:0.7551: 100%|██████████| 7/7 [03:14<00:00, 27.83s/it]\n",
      "smth:0.7529: 100%|██████████| 2/2 [01:47<00:00, 53.55s/it] \n"
     ]
    },
    {
     "name": "stdout",
     "output_type": "stream",
     "text": [
      "best th: 0.2 best dc: 0.005848798618536382\n",
      "Fri Jan 13 12:54:23 2023 Fold 0, Epoch 17, lr: 0.0030000, train loss: 0.75511, valid loss: 0.75289, metric: 0.005849.\n",
      "metric_best (0.005759 --> 0.005849). Saving model ...\n",
      "Fri Jan 13 12:54:24 2023 Epoch: 18\n"
     ]
    },
    {
     "name": "stderr",
     "output_type": "stream",
     "text": [
      "  0%|          | 0/7 [00:00<?, ?it/s]/tmp/ipykernel_299334/3733926425.py:99: UserWarning: To copy construct from a tensor, it is recommended to use sourceTensor.clone().detach() or sourceTensor.clone().detach().requires_grad_(True), rather than torch.tensor(sourceTensor).\n",
      "  image, mask = torch.tensor(image).float(), torch.tensor(mask).float()\n",
      "/tmp/ipykernel_299334/3733926425.py:99: UserWarning: To copy construct from a tensor, it is recommended to use sourceTensor.clone().detach() or sourceTensor.clone().detach().requires_grad_(True), rather than torch.tensor(sourceTensor).\n",
      "  image, mask = torch.tensor(image).float(), torch.tensor(mask).float()\n",
      "/tmp/ipykernel_299334/3733926425.py:99: UserWarning: To copy construct from a tensor, it is recommended to use sourceTensor.clone().detach() or sourceTensor.clone().detach().requires_grad_(True), rather than torch.tensor(sourceTensor).\n",
      "  image, mask = torch.tensor(image).float(), torch.tensor(mask).float()\n",
      "/tmp/ipykernel_299334/3733926425.py:99: UserWarning: To copy construct from a tensor, it is recommended to use sourceTensor.clone().detach() or sourceTensor.clone().detach().requires_grad_(True), rather than torch.tensor(sourceTensor).\n",
      "  image, mask = torch.tensor(image).float(), torch.tensor(mask).float()\n",
      "smth:0.7447: 100%|██████████| 7/7 [03:05<00:00, 26.57s/it]\n",
      "smth:0.7430: 100%|██████████| 2/2 [01:45<00:00, 52.98s/it] \n"
     ]
    },
    {
     "name": "stdout",
     "output_type": "stream",
     "text": [
      "best th: 0.2 best dc: 0.005936737523006832\n",
      "Fri Jan 13 12:59:16 2023 Fold 0, Epoch 18, lr: 0.0030000, train loss: 0.74469, valid loss: 0.74305, metric: 0.005937.\n",
      "metric_best (0.005849 --> 0.005937). Saving model ...\n",
      "Fri Jan 13 12:59:16 2023 Epoch: 19\n"
     ]
    },
    {
     "name": "stderr",
     "output_type": "stream",
     "text": [
      "  0%|          | 0/7 [00:00<?, ?it/s]/tmp/ipykernel_299334/3733926425.py:99: UserWarning: To copy construct from a tensor, it is recommended to use sourceTensor.clone().detach() or sourceTensor.clone().detach().requires_grad_(True), rather than torch.tensor(sourceTensor).\n",
      "  image, mask = torch.tensor(image).float(), torch.tensor(mask).float()\n",
      "/tmp/ipykernel_299334/3733926425.py:99: UserWarning: To copy construct from a tensor, it is recommended to use sourceTensor.clone().detach() or sourceTensor.clone().detach().requires_grad_(True), rather than torch.tensor(sourceTensor).\n",
      "  image, mask = torch.tensor(image).float(), torch.tensor(mask).float()\n",
      "/tmp/ipykernel_299334/3733926425.py:99: UserWarning: To copy construct from a tensor, it is recommended to use sourceTensor.clone().detach() or sourceTensor.clone().detach().requires_grad_(True), rather than torch.tensor(sourceTensor).\n",
      "  image, mask = torch.tensor(image).float(), torch.tensor(mask).float()\n",
      "/tmp/ipykernel_299334/3733926425.py:99: UserWarning: To copy construct from a tensor, it is recommended to use sourceTensor.clone().detach() or sourceTensor.clone().detach().requires_grad_(True), rather than torch.tensor(sourceTensor).\n",
      "  image, mask = torch.tensor(image).float(), torch.tensor(mask).float()\n",
      "smth:0.7350: 100%|██████████| 7/7 [03:02<00:00, 26.01s/it] \n",
      "smth:0.7334: 100%|██████████| 2/2 [01:47<00:00, 53.73s/it] \n"
     ]
    },
    {
     "name": "stdout",
     "output_type": "stream",
     "text": [
      "best th: 0.2 best dc: 0.006010613889154855\n",
      "Fri Jan 13 13:04:05 2023 Fold 0, Epoch 19, lr: 0.0030000, train loss: 0.73503, valid loss: 0.73345, metric: 0.006011.\n",
      "metric_best (0.005937 --> 0.006011). Saving model ...\n",
      "Fri Jan 13 13:04:06 2023 Epoch: 20\n"
     ]
    },
    {
     "name": "stderr",
     "output_type": "stream",
     "text": [
      "  0%|          | 0/7 [00:00<?, ?it/s]/tmp/ipykernel_299334/3733926425.py:99: UserWarning: To copy construct from a tensor, it is recommended to use sourceTensor.clone().detach() or sourceTensor.clone().detach().requires_grad_(True), rather than torch.tensor(sourceTensor).\n",
      "  image, mask = torch.tensor(image).float(), torch.tensor(mask).float()\n",
      "/tmp/ipykernel_299334/3733926425.py:99: UserWarning: To copy construct from a tensor, it is recommended to use sourceTensor.clone().detach() or sourceTensor.clone().detach().requires_grad_(True), rather than torch.tensor(sourceTensor).\n",
      "  image, mask = torch.tensor(image).float(), torch.tensor(mask).float()\n",
      "/tmp/ipykernel_299334/3733926425.py:99: UserWarning: To copy construct from a tensor, it is recommended to use sourceTensor.clone().detach() or sourceTensor.clone().detach().requires_grad_(True), rather than torch.tensor(sourceTensor).\n",
      "  image, mask = torch.tensor(image).float(), torch.tensor(mask).float()\n",
      "/tmp/ipykernel_299334/3733926425.py:99: UserWarning: To copy construct from a tensor, it is recommended to use sourceTensor.clone().detach() or sourceTensor.clone().detach().requires_grad_(True), rather than torch.tensor(sourceTensor).\n",
      "  image, mask = torch.tensor(image).float(), torch.tensor(mask).float()\n",
      "smth:0.7256: 100%|██████████| 7/7 [02:58<00:00, 25.55s/it]\n",
      "smth:0.7243: 100%|██████████| 2/2 [01:46<00:00, 53.46s/it] \n"
     ]
    },
    {
     "name": "stdout",
     "output_type": "stream",
     "text": [
      "best th: 0.2 best dc: 0.006110691482364263\n",
      "Fri Jan 13 13:08:52 2023 Fold 0, Epoch 20, lr: 0.0030000, train loss: 0.72561, valid loss: 0.72435, metric: 0.006111.\n",
      "metric_best (0.006011 --> 0.006111). Saving model ...\n",
      "Fri Jan 13 13:08:52 2023 Epoch: 21\n"
     ]
    },
    {
     "name": "stderr",
     "output_type": "stream",
     "text": [
      "  0%|          | 0/7 [00:00<?, ?it/s]/tmp/ipykernel_299334/3733926425.py:99: UserWarning: To copy construct from a tensor, it is recommended to use sourceTensor.clone().detach() or sourceTensor.clone().detach().requires_grad_(True), rather than torch.tensor(sourceTensor).\n",
      "  image, mask = torch.tensor(image).float(), torch.tensor(mask).float()\n",
      "/tmp/ipykernel_299334/3733926425.py:99: UserWarning: To copy construct from a tensor, it is recommended to use sourceTensor.clone().detach() or sourceTensor.clone().detach().requires_grad_(True), rather than torch.tensor(sourceTensor).\n",
      "  image, mask = torch.tensor(image).float(), torch.tensor(mask).float()\n",
      "/tmp/ipykernel_299334/3733926425.py:99: UserWarning: To copy construct from a tensor, it is recommended to use sourceTensor.clone().detach() or sourceTensor.clone().detach().requires_grad_(True), rather than torch.tensor(sourceTensor).\n",
      "  image, mask = torch.tensor(image).float(), torch.tensor(mask).float()\n",
      "/tmp/ipykernel_299334/3733926425.py:99: UserWarning: To copy construct from a tensor, it is recommended to use sourceTensor.clone().detach() or sourceTensor.clone().detach().requires_grad_(True), rather than torch.tensor(sourceTensor).\n",
      "  image, mask = torch.tensor(image).float(), torch.tensor(mask).float()\n",
      "smth:0.7172: 100%|██████████| 7/7 [03:05<00:00, 26.45s/it]\n",
      "smth:0.7162: 100%|██████████| 2/2 [01:49<00:00, 54.83s/it] \n"
     ]
    },
    {
     "name": "stdout",
     "output_type": "stream",
     "text": [
      "best th: 0.2 best dc: 0.006150612836221461\n",
      "Fri Jan 13 13:13:47 2023 Fold 0, Epoch 21, lr: 0.0030000, train loss: 0.71719, valid loss: 0.71620, metric: 0.006151.\n",
      "metric_best (0.006111 --> 0.006151). Saving model ...\n",
      "Fri Jan 13 13:13:47 2023 Epoch: 22\n"
     ]
    },
    {
     "name": "stderr",
     "output_type": "stream",
     "text": [
      "  0%|          | 0/7 [00:00<?, ?it/s]/tmp/ipykernel_299334/3733926425.py:99: UserWarning: To copy construct from a tensor, it is recommended to use sourceTensor.clone().detach() or sourceTensor.clone().detach().requires_grad_(True), rather than torch.tensor(sourceTensor).\n",
      "  image, mask = torch.tensor(image).float(), torch.tensor(mask).float()\n",
      "/tmp/ipykernel_299334/3733926425.py:99: UserWarning: To copy construct from a tensor, it is recommended to use sourceTensor.clone().detach() or sourceTensor.clone().detach().requires_grad_(True), rather than torch.tensor(sourceTensor).\n",
      "  image, mask = torch.tensor(image).float(), torch.tensor(mask).float()\n",
      "/tmp/ipykernel_299334/3733926425.py:99: UserWarning: To copy construct from a tensor, it is recommended to use sourceTensor.clone().detach() or sourceTensor.clone().detach().requires_grad_(True), rather than torch.tensor(sourceTensor).\n",
      "  image, mask = torch.tensor(image).float(), torch.tensor(mask).float()\n",
      "/tmp/ipykernel_299334/3733926425.py:99: UserWarning: To copy construct from a tensor, it is recommended to use sourceTensor.clone().detach() or sourceTensor.clone().detach().requires_grad_(True), rather than torch.tensor(sourceTensor).\n",
      "  image, mask = torch.tensor(image).float(), torch.tensor(mask).float()\n",
      "smth:0.7086: 100%|██████████| 7/7 [03:07<00:00, 26.84s/it]\n",
      "smth:0.7082: 100%|██████████| 2/2 [01:47<00:00, 53.78s/it] \n"
     ]
    },
    {
     "name": "stdout",
     "output_type": "stream",
     "text": [
      "best th: 0.2 best dc: 0.00621350356257516\n",
      "Fri Jan 13 13:18:43 2023 Fold 0, Epoch 22, lr: 0.0030000, train loss: 0.70863, valid loss: 0.70823, metric: 0.006214.\n",
      "metric_best (0.006151 --> 0.006214). Saving model ...\n",
      "Fri Jan 13 13:18:43 2023 Epoch: 23\n"
     ]
    },
    {
     "name": "stderr",
     "output_type": "stream",
     "text": [
      "  0%|          | 0/7 [00:00<?, ?it/s]/tmp/ipykernel_299334/3733926425.py:99: UserWarning: To copy construct from a tensor, it is recommended to use sourceTensor.clone().detach() or sourceTensor.clone().detach().requires_grad_(True), rather than torch.tensor(sourceTensor).\n",
      "  image, mask = torch.tensor(image).float(), torch.tensor(mask).float()\n",
      "/tmp/ipykernel_299334/3733926425.py:99: UserWarning: To copy construct from a tensor, it is recommended to use sourceTensor.clone().detach() or sourceTensor.clone().detach().requires_grad_(True), rather than torch.tensor(sourceTensor).\n",
      "  image, mask = torch.tensor(image).float(), torch.tensor(mask).float()\n",
      "/tmp/ipykernel_299334/3733926425.py:99: UserWarning: To copy construct from a tensor, it is recommended to use sourceTensor.clone().detach() or sourceTensor.clone().detach().requires_grad_(True), rather than torch.tensor(sourceTensor).\n",
      "  image, mask = torch.tensor(image).float(), torch.tensor(mask).float()\n",
      "/tmp/ipykernel_299334/3733926425.py:99: UserWarning: To copy construct from a tensor, it is recommended to use sourceTensor.clone().detach() or sourceTensor.clone().detach().requires_grad_(True), rather than torch.tensor(sourceTensor).\n",
      "  image, mask = torch.tensor(image).float(), torch.tensor(mask).float()\n",
      "smth:0.7012: 100%|██████████| 7/7 [02:58<00:00, 25.54s/it]\n",
      "smth:0.7006: 100%|██████████| 2/2 [01:47<00:00, 53.54s/it] \n"
     ]
    },
    {
     "name": "stdout",
     "output_type": "stream",
     "text": [
      "best th: 0.2 best dc: 0.006296622493139223\n",
      "Fri Jan 13 13:23:29 2023 Fold 0, Epoch 23, lr: 0.0030000, train loss: 0.70123, valid loss: 0.70061, metric: 0.006297.\n",
      "metric_best (0.006214 --> 0.006297). Saving model ...\n",
      "Fri Jan 13 13:23:29 2023 Epoch: 24\n"
     ]
    },
    {
     "name": "stderr",
     "output_type": "stream",
     "text": [
      "  0%|          | 0/7 [00:00<?, ?it/s]/tmp/ipykernel_299334/3733926425.py:99: UserWarning: To copy construct from a tensor, it is recommended to use sourceTensor.clone().detach() or sourceTensor.clone().detach().requires_grad_(True), rather than torch.tensor(sourceTensor).\n",
      "  image, mask = torch.tensor(image).float(), torch.tensor(mask).float()\n",
      "/tmp/ipykernel_299334/3733926425.py:99: UserWarning: To copy construct from a tensor, it is recommended to use sourceTensor.clone().detach() or sourceTensor.clone().detach().requires_grad_(True), rather than torch.tensor(sourceTensor).\n",
      "  image, mask = torch.tensor(image).float(), torch.tensor(mask).float()\n",
      "/tmp/ipykernel_299334/3733926425.py:99: UserWarning: To copy construct from a tensor, it is recommended to use sourceTensor.clone().detach() or sourceTensor.clone().detach().requires_grad_(True), rather than torch.tensor(sourceTensor).\n",
      "  image, mask = torch.tensor(image).float(), torch.tensor(mask).float()\n",
      "/tmp/ipykernel_299334/3733926425.py:99: UserWarning: To copy construct from a tensor, it is recommended to use sourceTensor.clone().detach() or sourceTensor.clone().detach().requires_grad_(True), rather than torch.tensor(sourceTensor).\n",
      "  image, mask = torch.tensor(image).float(), torch.tensor(mask).float()\n",
      "smth:0.6936: 100%|██████████| 7/7 [03:00<00:00, 25.80s/it]\n",
      "smth:0.6932: 100%|██████████| 2/2 [01:47<00:00, 53.78s/it] \n"
     ]
    },
    {
     "name": "stdout",
     "output_type": "stream",
     "text": [
      "best th: 0.2 best dc: 0.0063265803491451686\n",
      "Fri Jan 13 13:28:17 2023 Fold 0, Epoch 24, lr: 0.0030000, train loss: 0.69364, valid loss: 0.69322, metric: 0.006327.\n",
      "metric_best (0.006297 --> 0.006327). Saving model ...\n",
      "Fri Jan 13 13:28:17 2023 Epoch: 25\n"
     ]
    },
    {
     "name": "stderr",
     "output_type": "stream",
     "text": [
      "  0%|          | 0/7 [00:00<?, ?it/s]/tmp/ipykernel_299334/3733926425.py:99: UserWarning: To copy construct from a tensor, it is recommended to use sourceTensor.clone().detach() or sourceTensor.clone().detach().requires_grad_(True), rather than torch.tensor(sourceTensor).\n",
      "  image, mask = torch.tensor(image).float(), torch.tensor(mask).float()\n",
      "/tmp/ipykernel_299334/3733926425.py:99: UserWarning: To copy construct from a tensor, it is recommended to use sourceTensor.clone().detach() or sourceTensor.clone().detach().requires_grad_(True), rather than torch.tensor(sourceTensor).\n",
      "  image, mask = torch.tensor(image).float(), torch.tensor(mask).float()\n",
      "/tmp/ipykernel_299334/3733926425.py:99: UserWarning: To copy construct from a tensor, it is recommended to use sourceTensor.clone().detach() or sourceTensor.clone().detach().requires_grad_(True), rather than torch.tensor(sourceTensor).\n",
      "  image, mask = torch.tensor(image).float(), torch.tensor(mask).float()\n",
      "/tmp/ipykernel_299334/3733926425.py:99: UserWarning: To copy construct from a tensor, it is recommended to use sourceTensor.clone().detach() or sourceTensor.clone().detach().requires_grad_(True), rather than torch.tensor(sourceTensor).\n",
      "  image, mask = torch.tensor(image).float(), torch.tensor(mask).float()\n",
      "smth:0.6869: 100%|██████████| 7/7 [03:07<00:00, 26.80s/it]\n",
      "smth:0.6865: 100%|██████████| 2/2 [01:44<00:00, 52.49s/it] \n"
     ]
    },
    {
     "name": "stdout",
     "output_type": "stream",
     "text": [
      "best th: 0.2 best dc: 0.006413586831345775\n",
      "Fri Jan 13 13:33:10 2023 Fold 0, Epoch 25, lr: 0.0030000, train loss: 0.68688, valid loss: 0.68651, metric: 0.006414.\n",
      "metric_best (0.006327 --> 0.006414). Saving model ...\n",
      "Fri Jan 13 13:33:10 2023 Epoch: 26\n"
     ]
    },
    {
     "name": "stderr",
     "output_type": "stream",
     "text": [
      "  0%|          | 0/7 [00:00<?, ?it/s]/tmp/ipykernel_299334/3733926425.py:99: UserWarning: To copy construct from a tensor, it is recommended to use sourceTensor.clone().detach() or sourceTensor.clone().detach().requires_grad_(True), rather than torch.tensor(sourceTensor).\n",
      "  image, mask = torch.tensor(image).float(), torch.tensor(mask).float()\n",
      "/tmp/ipykernel_299334/3733926425.py:99: UserWarning: To copy construct from a tensor, it is recommended to use sourceTensor.clone().detach() or sourceTensor.clone().detach().requires_grad_(True), rather than torch.tensor(sourceTensor).\n",
      "  image, mask = torch.tensor(image).float(), torch.tensor(mask).float()\n",
      "/tmp/ipykernel_299334/3733926425.py:99: UserWarning: To copy construct from a tensor, it is recommended to use sourceTensor.clone().detach() or sourceTensor.clone().detach().requires_grad_(True), rather than torch.tensor(sourceTensor).\n",
      "  image, mask = torch.tensor(image).float(), torch.tensor(mask).float()\n",
      "/tmp/ipykernel_299334/3733926425.py:99: UserWarning: To copy construct from a tensor, it is recommended to use sourceTensor.clone().detach() or sourceTensor.clone().detach().requires_grad_(True), rather than torch.tensor(sourceTensor).\n",
      "  image, mask = torch.tensor(image).float(), torch.tensor(mask).float()\n",
      "smth:0.6803: 100%|██████████| 7/7 [02:55<00:00, 25.05s/it]\n",
      "smth:0.6802: 100%|██████████| 2/2 [01:47<00:00, 53.96s/it] \n"
     ]
    },
    {
     "name": "stdout",
     "output_type": "stream",
     "text": [
      "best th: 0.2 best dc: 0.006497302980052855\n",
      "Fri Jan 13 13:37:54 2023 Fold 0, Epoch 26, lr: 0.0030000, train loss: 0.68035, valid loss: 0.68017, metric: 0.006497.\n",
      "metric_best (0.006414 --> 0.006497). Saving model ...\n",
      "Fri Jan 13 13:37:54 2023 Epoch: 27\n"
     ]
    },
    {
     "name": "stderr",
     "output_type": "stream",
     "text": [
      "  0%|          | 0/7 [00:00<?, ?it/s]/tmp/ipykernel_299334/3733926425.py:99: UserWarning: To copy construct from a tensor, it is recommended to use sourceTensor.clone().detach() or sourceTensor.clone().detach().requires_grad_(True), rather than torch.tensor(sourceTensor).\n",
      "  image, mask = torch.tensor(image).float(), torch.tensor(mask).float()\n",
      "/tmp/ipykernel_299334/3733926425.py:99: UserWarning: To copy construct from a tensor, it is recommended to use sourceTensor.clone().detach() or sourceTensor.clone().detach().requires_grad_(True), rather than torch.tensor(sourceTensor).\n",
      "  image, mask = torch.tensor(image).float(), torch.tensor(mask).float()\n",
      "/tmp/ipykernel_299334/3733926425.py:99: UserWarning: To copy construct from a tensor, it is recommended to use sourceTensor.clone().detach() or sourceTensor.clone().detach().requires_grad_(True), rather than torch.tensor(sourceTensor).\n",
      "  image, mask = torch.tensor(image).float(), torch.tensor(mask).float()\n",
      "/tmp/ipykernel_299334/3733926425.py:99: UserWarning: To copy construct from a tensor, it is recommended to use sourceTensor.clone().detach() or sourceTensor.clone().detach().requires_grad_(True), rather than torch.tensor(sourceTensor).\n",
      "  image, mask = torch.tensor(image).float(), torch.tensor(mask).float()\n",
      "smth:0.6740: 100%|██████████| 7/7 [03:04<00:00, 26.36s/it]\n",
      "smth:0.6742: 100%|██████████| 2/2 [01:44<00:00, 52.08s/it] \n"
     ]
    },
    {
     "name": "stdout",
     "output_type": "stream",
     "text": [
      "best th: 0.2 best dc: 0.006525402752056353\n",
      "Fri Jan 13 13:42:43 2023 Fold 0, Epoch 27, lr: 0.0030000, train loss: 0.67403, valid loss: 0.67418, metric: 0.006525.\n",
      "metric_best (0.006497 --> 0.006525). Saving model ...\n",
      "Fri Jan 13 13:42:43 2023 Epoch: 28\n"
     ]
    },
    {
     "name": "stderr",
     "output_type": "stream",
     "text": [
      "  0%|          | 0/7 [00:00<?, ?it/s]/tmp/ipykernel_299334/3733926425.py:99: UserWarning: To copy construct from a tensor, it is recommended to use sourceTensor.clone().detach() or sourceTensor.clone().detach().requires_grad_(True), rather than torch.tensor(sourceTensor).\n",
      "  image, mask = torch.tensor(image).float(), torch.tensor(mask).float()\n",
      "/tmp/ipykernel_299334/3733926425.py:99: UserWarning: To copy construct from a tensor, it is recommended to use sourceTensor.clone().detach() or sourceTensor.clone().detach().requires_grad_(True), rather than torch.tensor(sourceTensor).\n",
      "  image, mask = torch.tensor(image).float(), torch.tensor(mask).float()\n",
      "/tmp/ipykernel_299334/3733926425.py:99: UserWarning: To copy construct from a tensor, it is recommended to use sourceTensor.clone().detach() or sourceTensor.clone().detach().requires_grad_(True), rather than torch.tensor(sourceTensor).\n",
      "  image, mask = torch.tensor(image).float(), torch.tensor(mask).float()\n",
      "/tmp/ipykernel_299334/3733926425.py:99: UserWarning: To copy construct from a tensor, it is recommended to use sourceTensor.clone().detach() or sourceTensor.clone().detach().requires_grad_(True), rather than torch.tensor(sourceTensor).\n",
      "  image, mask = torch.tensor(image).float(), torch.tensor(mask).float()\n",
      "smth:0.6681: 100%|██████████| 7/7 [03:06<00:00, 26.71s/it] \n",
      "smth:0.6684: 100%|██████████| 2/2 [01:44<00:00, 52.25s/it] \n"
     ]
    },
    {
     "name": "stdout",
     "output_type": "stream",
     "text": [
      "best th: 0.2 best dc: 0.00651566467351023\n",
      "Fri Jan 13 13:47:35 2023 Fold 0, Epoch 28, lr: 0.0030000, train loss: 0.66807, valid loss: 0.66837, metric: 0.006516.\n",
      "Fri Jan 13 13:47:35 2023 Epoch: 29\n"
     ]
    },
    {
     "name": "stderr",
     "output_type": "stream",
     "text": [
      "  0%|          | 0/7 [00:00<?, ?it/s]/tmp/ipykernel_299334/3733926425.py:99: UserWarning: To copy construct from a tensor, it is recommended to use sourceTensor.clone().detach() or sourceTensor.clone().detach().requires_grad_(True), rather than torch.tensor(sourceTensor).\n",
      "  image, mask = torch.tensor(image).float(), torch.tensor(mask).float()\n",
      "/tmp/ipykernel_299334/3733926425.py:99: UserWarning: To copy construct from a tensor, it is recommended to use sourceTensor.clone().detach() or sourceTensor.clone().detach().requires_grad_(True), rather than torch.tensor(sourceTensor).\n",
      "  image, mask = torch.tensor(image).float(), torch.tensor(mask).float()\n",
      "/tmp/ipykernel_299334/3733926425.py:99: UserWarning: To copy construct from a tensor, it is recommended to use sourceTensor.clone().detach() or sourceTensor.clone().detach().requires_grad_(True), rather than torch.tensor(sourceTensor).\n",
      "  image, mask = torch.tensor(image).float(), torch.tensor(mask).float()\n",
      "/tmp/ipykernel_299334/3733926425.py:99: UserWarning: To copy construct from a tensor, it is recommended to use sourceTensor.clone().detach() or sourceTensor.clone().detach().requires_grad_(True), rather than torch.tensor(sourceTensor).\n",
      "  image, mask = torch.tensor(image).float(), torch.tensor(mask).float()\n",
      "smth:0.6621: 100%|██████████| 7/7 [02:53<00:00, 24.84s/it]\n",
      "smth:0.6625: 100%|██████████| 2/2 [01:46<00:00, 53.05s/it] \n"
     ]
    },
    {
     "name": "stdout",
     "output_type": "stream",
     "text": [
      "best th: 0.2 best dc: 0.006492179389214651\n",
      "Fri Jan 13 13:52:15 2023 Fold 0, Epoch 29, lr: 0.0030000, train loss: 0.66210, valid loss: 0.66247, metric: 0.006492.\n",
      "Fri Jan 13 13:52:15 2023 Epoch: 30\n"
     ]
    },
    {
     "name": "stderr",
     "output_type": "stream",
     "text": [
      "  0%|          | 0/7 [00:00<?, ?it/s]/tmp/ipykernel_299334/3733926425.py:99: UserWarning: To copy construct from a tensor, it is recommended to use sourceTensor.clone().detach() or sourceTensor.clone().detach().requires_grad_(True), rather than torch.tensor(sourceTensor).\n",
      "  image, mask = torch.tensor(image).float(), torch.tensor(mask).float()\n",
      "/tmp/ipykernel_299334/3733926425.py:99: UserWarning: To copy construct from a tensor, it is recommended to use sourceTensor.clone().detach() or sourceTensor.clone().detach().requires_grad_(True), rather than torch.tensor(sourceTensor).\n",
      "  image, mask = torch.tensor(image).float(), torch.tensor(mask).float()\n",
      "/tmp/ipykernel_299334/3733926425.py:99: UserWarning: To copy construct from a tensor, it is recommended to use sourceTensor.clone().detach() or sourceTensor.clone().detach().requires_grad_(True), rather than torch.tensor(sourceTensor).\n",
      "  image, mask = torch.tensor(image).float(), torch.tensor(mask).float()\n",
      "/tmp/ipykernel_299334/3733926425.py:99: UserWarning: To copy construct from a tensor, it is recommended to use sourceTensor.clone().detach() or sourceTensor.clone().detach().requires_grad_(True), rather than torch.tensor(sourceTensor).\n",
      "  image, mask = torch.tensor(image).float(), torch.tensor(mask).float()\n",
      "smth:0.6566: 100%|██████████| 7/7 [02:59<00:00, 25.64s/it]\n",
      "smth:0.6571: 100%|██████████| 2/2 [01:43<00:00, 51.89s/it]\n"
     ]
    },
    {
     "name": "stdout",
     "output_type": "stream",
     "text": [
      "best th: 0.2 best dc: 0.00641062193544889\n",
      "Fri Jan 13 13:56:58 2023 Fold 0, Epoch 30, lr: 0.0030000, train loss: 0.65656, valid loss: 0.65713, metric: 0.006411.\n",
      "Fri Jan 13 13:56:58 2023 Epoch: 31\n"
     ]
    },
    {
     "name": "stderr",
     "output_type": "stream",
     "text": [
      "  0%|          | 0/7 [00:00<?, ?it/s]/tmp/ipykernel_299334/3733926425.py:99: UserWarning: To copy construct from a tensor, it is recommended to use sourceTensor.clone().detach() or sourceTensor.clone().detach().requires_grad_(True), rather than torch.tensor(sourceTensor).\n",
      "  image, mask = torch.tensor(image).float(), torch.tensor(mask).float()\n",
      "/tmp/ipykernel_299334/3733926425.py:99: UserWarning: To copy construct from a tensor, it is recommended to use sourceTensor.clone().detach() or sourceTensor.clone().detach().requires_grad_(True), rather than torch.tensor(sourceTensor).\n",
      "  image, mask = torch.tensor(image).float(), torch.tensor(mask).float()\n",
      "/tmp/ipykernel_299334/3733926425.py:99: UserWarning: To copy construct from a tensor, it is recommended to use sourceTensor.clone().detach() or sourceTensor.clone().detach().requires_grad_(True), rather than torch.tensor(sourceTensor).\n",
      "  image, mask = torch.tensor(image).float(), torch.tensor(mask).float()\n",
      "/tmp/ipykernel_299334/3733926425.py:99: UserWarning: To copy construct from a tensor, it is recommended to use sourceTensor.clone().detach() or sourceTensor.clone().detach().requires_grad_(True), rather than torch.tensor(sourceTensor).\n",
      "  image, mask = torch.tensor(image).float(), torch.tensor(mask).float()\n",
      "smth:0.6517: 100%|██████████| 7/7 [03:08<00:00, 26.88s/it]\n",
      "smth:0.6520: 100%|██████████| 2/2 [01:47<00:00, 53.54s/it] \n"
     ]
    },
    {
     "name": "stdout",
     "output_type": "stream",
     "text": [
      "best th: 0.2 best dc: 0.006373488887051203\n",
      "Fri Jan 13 14:01:53 2023 Fold 0, Epoch 31, lr: 0.0030000, train loss: 0.65170, valid loss: 0.65201, metric: 0.006373.\n",
      "Fri Jan 13 14:01:53 2023 Epoch: 32\n"
     ]
    },
    {
     "name": "stderr",
     "output_type": "stream",
     "text": [
      "  0%|          | 0/7 [00:00<?, ?it/s]/tmp/ipykernel_299334/3733926425.py:99: UserWarning: To copy construct from a tensor, it is recommended to use sourceTensor.clone().detach() or sourceTensor.clone().detach().requires_grad_(True), rather than torch.tensor(sourceTensor).\n",
      "  image, mask = torch.tensor(image).float(), torch.tensor(mask).float()\n",
      "/tmp/ipykernel_299334/3733926425.py:99: UserWarning: To copy construct from a tensor, it is recommended to use sourceTensor.clone().detach() or sourceTensor.clone().detach().requires_grad_(True), rather than torch.tensor(sourceTensor).\n",
      "  image, mask = torch.tensor(image).float(), torch.tensor(mask).float()\n",
      "/tmp/ipykernel_299334/3733926425.py:99: UserWarning: To copy construct from a tensor, it is recommended to use sourceTensor.clone().detach() or sourceTensor.clone().detach().requires_grad_(True), rather than torch.tensor(sourceTensor).\n",
      "  image, mask = torch.tensor(image).float(), torch.tensor(mask).float()\n",
      "/tmp/ipykernel_299334/3733926425.py:99: UserWarning: To copy construct from a tensor, it is recommended to use sourceTensor.clone().detach() or sourceTensor.clone().detach().requires_grad_(True), rather than torch.tensor(sourceTensor).\n",
      "  image, mask = torch.tensor(image).float(), torch.tensor(mask).float()\n",
      "smth:0.6469: 100%|██████████| 7/7 [03:30<00:00, 30.11s/it]\n",
      "smth:0.6474: 100%|██████████| 2/2 [01:46<00:00, 53.14s/it] \n"
     ]
    },
    {
     "name": "stdout",
     "output_type": "stream",
     "text": [
      "best th: 0.2 best dc: 0.006414239257976119\n",
      "Fri Jan 13 14:07:11 2023 Fold 0, Epoch 32, lr: 0.0030000, train loss: 0.64689, valid loss: 0.64740, metric: 0.006414.\n",
      "Fri Jan 13 14:07:11 2023 Epoch: 33\n"
     ]
    },
    {
     "name": "stderr",
     "output_type": "stream",
     "text": [
      "  0%|          | 0/7 [00:00<?, ?it/s]/tmp/ipykernel_299334/3733926425.py:99: UserWarning: To copy construct from a tensor, it is recommended to use sourceTensor.clone().detach() or sourceTensor.clone().detach().requires_grad_(True), rather than torch.tensor(sourceTensor).\n",
      "  image, mask = torch.tensor(image).float(), torch.tensor(mask).float()\n",
      "/tmp/ipykernel_299334/3733926425.py:99: UserWarning: To copy construct from a tensor, it is recommended to use sourceTensor.clone().detach() or sourceTensor.clone().detach().requires_grad_(True), rather than torch.tensor(sourceTensor).\n",
      "  image, mask = torch.tensor(image).float(), torch.tensor(mask).float()\n",
      "/tmp/ipykernel_299334/3733926425.py:99: UserWarning: To copy construct from a tensor, it is recommended to use sourceTensor.clone().detach() or sourceTensor.clone().detach().requires_grad_(True), rather than torch.tensor(sourceTensor).\n",
      "  image, mask = torch.tensor(image).float(), torch.tensor(mask).float()\n",
      "/tmp/ipykernel_299334/3733926425.py:99: UserWarning: To copy construct from a tensor, it is recommended to use sourceTensor.clone().detach() or sourceTensor.clone().detach().requires_grad_(True), rather than torch.tensor(sourceTensor).\n",
      "  image, mask = torch.tensor(image).float(), torch.tensor(mask).float()\n",
      "smth:0.6417: 100%|██████████| 7/7 [03:02<00:00, 26.04s/it] \n",
      "smth:0.6421: 100%|██████████| 2/2 [01:46<00:00, 53.10s/it] \n"
     ]
    },
    {
     "name": "stdout",
     "output_type": "stream",
     "text": [
      "best th: 0.2 best dc: 0.006375260761995956\n",
      "Fri Jan 13 14:11:59 2023 Fold 0, Epoch 33, lr: 0.0030000, train loss: 0.64174, valid loss: 0.64215, metric: 0.006375.\n",
      "Fri Jan 13 14:11:59 2023 Epoch: 34\n"
     ]
    },
    {
     "name": "stderr",
     "output_type": "stream",
     "text": [
      "  0%|          | 0/7 [00:00<?, ?it/s]/tmp/ipykernel_299334/3733926425.py:99: UserWarning: To copy construct from a tensor, it is recommended to use sourceTensor.clone().detach() or sourceTensor.clone().detach().requires_grad_(True), rather than torch.tensor(sourceTensor).\n",
      "  image, mask = torch.tensor(image).float(), torch.tensor(mask).float()\n",
      "/tmp/ipykernel_299334/3733926425.py:99: UserWarning: To copy construct from a tensor, it is recommended to use sourceTensor.clone().detach() or sourceTensor.clone().detach().requires_grad_(True), rather than torch.tensor(sourceTensor).\n",
      "  image, mask = torch.tensor(image).float(), torch.tensor(mask).float()\n",
      "/tmp/ipykernel_299334/3733926425.py:99: UserWarning: To copy construct from a tensor, it is recommended to use sourceTensor.clone().detach() or sourceTensor.clone().detach().requires_grad_(True), rather than torch.tensor(sourceTensor).\n",
      "  image, mask = torch.tensor(image).float(), torch.tensor(mask).float()\n",
      "/tmp/ipykernel_299334/3733926425.py:99: UserWarning: To copy construct from a tensor, it is recommended to use sourceTensor.clone().detach() or sourceTensor.clone().detach().requires_grad_(True), rather than torch.tensor(sourceTensor).\n",
      "  image, mask = torch.tensor(image).float(), torch.tensor(mask).float()\n",
      "smth:0.6373: 100%|██████████| 7/7 [03:06<00:00, 26.58s/it] \n",
      "smth:0.6379: 100%|██████████| 2/2 [01:41<00:00, 50.80s/it]\n"
     ]
    },
    {
     "name": "stdout",
     "output_type": "stream",
     "text": [
      "best th: 0.2 best dc: 0.006331543020408324\n",
      "Fri Jan 13 14:16:47 2023 Fold 0, Epoch 34, lr: 0.0030000, train loss: 0.63727, valid loss: 0.63793, metric: 0.006332.\n",
      "Fri Jan 13 14:16:47 2023 Epoch: 35\n"
     ]
    },
    {
     "name": "stderr",
     "output_type": "stream",
     "text": [
      "  0%|          | 0/7 [00:00<?, ?it/s]/tmp/ipykernel_299334/3733926425.py:99: UserWarning: To copy construct from a tensor, it is recommended to use sourceTensor.clone().detach() or sourceTensor.clone().detach().requires_grad_(True), rather than torch.tensor(sourceTensor).\n",
      "  image, mask = torch.tensor(image).float(), torch.tensor(mask).float()\n",
      "/tmp/ipykernel_299334/3733926425.py:99: UserWarning: To copy construct from a tensor, it is recommended to use sourceTensor.clone().detach() or sourceTensor.clone().detach().requires_grad_(True), rather than torch.tensor(sourceTensor).\n",
      "  image, mask = torch.tensor(image).float(), torch.tensor(mask).float()\n",
      "/tmp/ipykernel_299334/3733926425.py:99: UserWarning: To copy construct from a tensor, it is recommended to use sourceTensor.clone().detach() or sourceTensor.clone().detach().requires_grad_(True), rather than torch.tensor(sourceTensor).\n",
      "  image, mask = torch.tensor(image).float(), torch.tensor(mask).float()\n",
      "/tmp/ipykernel_299334/3733926425.py:99: UserWarning: To copy construct from a tensor, it is recommended to use sourceTensor.clone().detach() or sourceTensor.clone().detach().requires_grad_(True), rather than torch.tensor(sourceTensor).\n",
      "  image, mask = torch.tensor(image).float(), torch.tensor(mask).float()\n",
      "smth:0.6338: 100%|██████████| 7/7 [03:06<00:00, 26.59s/it]\n",
      "smth:0.6340: 100%|██████████| 2/2 [01:48<00:00, 54.16s/it] \n"
     ]
    },
    {
     "name": "stdout",
     "output_type": "stream",
     "text": [
      "best th: 0.2 best dc: 0.00627123802942772\n",
      "Fri Jan 13 14:21:42 2023 Fold 0, Epoch 35, lr: 0.0030000, train loss: 0.63381, valid loss: 0.63402, metric: 0.006271.\n",
      "Fri Jan 13 14:21:42 2023 Epoch: 36\n"
     ]
    },
    {
     "name": "stderr",
     "output_type": "stream",
     "text": [
      "  0%|          | 0/7 [00:00<?, ?it/s]/tmp/ipykernel_299334/3733926425.py:99: UserWarning: To copy construct from a tensor, it is recommended to use sourceTensor.clone().detach() or sourceTensor.clone().detach().requires_grad_(True), rather than torch.tensor(sourceTensor).\n",
      "  image, mask = torch.tensor(image).float(), torch.tensor(mask).float()\n",
      "/tmp/ipykernel_299334/3733926425.py:99: UserWarning: To copy construct from a tensor, it is recommended to use sourceTensor.clone().detach() or sourceTensor.clone().detach().requires_grad_(True), rather than torch.tensor(sourceTensor).\n",
      "  image, mask = torch.tensor(image).float(), torch.tensor(mask).float()\n",
      "/tmp/ipykernel_299334/3733926425.py:99: UserWarning: To copy construct from a tensor, it is recommended to use sourceTensor.clone().detach() or sourceTensor.clone().detach().requires_grad_(True), rather than torch.tensor(sourceTensor).\n",
      "  image, mask = torch.tensor(image).float(), torch.tensor(mask).float()\n",
      "/tmp/ipykernel_299334/3733926425.py:99: UserWarning: To copy construct from a tensor, it is recommended to use sourceTensor.clone().detach() or sourceTensor.clone().detach().requires_grad_(True), rather than torch.tensor(sourceTensor).\n",
      "  image, mask = torch.tensor(image).float(), torch.tensor(mask).float()\n",
      "smth:0.6295: 100%|██████████| 7/7 [02:54<00:00, 24.94s/it]\n",
      "smth:0.6302: 100%|██████████| 2/2 [01:46<00:00, 53.09s/it] \n"
     ]
    },
    {
     "name": "stdout",
     "output_type": "stream",
     "text": [
      "best th: 0.2 best dc: 0.0062733888649926265\n",
      "Fri Jan 13 14:26:23 2023 Fold 0, Epoch 36, lr: 0.0030000, train loss: 0.62955, valid loss: 0.63021, metric: 0.006273.\n",
      "Fri Jan 13 14:26:23 2023 Epoch: 37\n"
     ]
    },
    {
     "name": "stderr",
     "output_type": "stream",
     "text": [
      "  0%|          | 0/7 [00:00<?, ?it/s]/tmp/ipykernel_299334/3733926425.py:99: UserWarning: To copy construct from a tensor, it is recommended to use sourceTensor.clone().detach() or sourceTensor.clone().detach().requires_grad_(True), rather than torch.tensor(sourceTensor).\n",
      "  image, mask = torch.tensor(image).float(), torch.tensor(mask).float()\n",
      "/tmp/ipykernel_299334/3733926425.py:99: UserWarning: To copy construct from a tensor, it is recommended to use sourceTensor.clone().detach() or sourceTensor.clone().detach().requires_grad_(True), rather than torch.tensor(sourceTensor).\n",
      "  image, mask = torch.tensor(image).float(), torch.tensor(mask).float()\n",
      "/tmp/ipykernel_299334/3733926425.py:99: UserWarning: To copy construct from a tensor, it is recommended to use sourceTensor.clone().detach() or sourceTensor.clone().detach().requires_grad_(True), rather than torch.tensor(sourceTensor).\n",
      "  image, mask = torch.tensor(image).float(), torch.tensor(mask).float()\n",
      "/tmp/ipykernel_299334/3733926425.py:99: UserWarning: To copy construct from a tensor, it is recommended to use sourceTensor.clone().detach() or sourceTensor.clone().detach().requires_grad_(True), rather than torch.tensor(sourceTensor).\n",
      "  image, mask = torch.tensor(image).float(), torch.tensor(mask).float()\n",
      "smth:0.6258: 100%|██████████| 7/7 [03:02<00:00, 26.06s/it]\n",
      "smth:0.6264: 100%|██████████| 2/2 [01:45<00:00, 52.95s/it] \n"
     ]
    },
    {
     "name": "stdout",
     "output_type": "stream",
     "text": [
      "best th: 0.2 best dc: 0.006232183545375166\n",
      "Fri Jan 13 14:31:11 2023 Fold 0, Epoch 37, lr: 0.0030000, train loss: 0.62580, valid loss: 0.62643, metric: 0.006232.\n",
      "Fri Jan 13 14:31:11 2023 Epoch: 38\n"
     ]
    },
    {
     "name": "stderr",
     "output_type": "stream",
     "text": [
      "  0%|          | 0/7 [00:00<?, ?it/s]/tmp/ipykernel_299334/3733926425.py:99: UserWarning: To copy construct from a tensor, it is recommended to use sourceTensor.clone().detach() or sourceTensor.clone().detach().requires_grad_(True), rather than torch.tensor(sourceTensor).\n",
      "  image, mask = torch.tensor(image).float(), torch.tensor(mask).float()\n",
      "/tmp/ipykernel_299334/3733926425.py:99: UserWarning: To copy construct from a tensor, it is recommended to use sourceTensor.clone().detach() or sourceTensor.clone().detach().requires_grad_(True), rather than torch.tensor(sourceTensor).\n",
      "  image, mask = torch.tensor(image).float(), torch.tensor(mask).float()\n",
      "/tmp/ipykernel_299334/3733926425.py:99: UserWarning: To copy construct from a tensor, it is recommended to use sourceTensor.clone().detach() or sourceTensor.clone().detach().requires_grad_(True), rather than torch.tensor(sourceTensor).\n",
      "  image, mask = torch.tensor(image).float(), torch.tensor(mask).float()\n",
      "/tmp/ipykernel_299334/3733926425.py:99: UserWarning: To copy construct from a tensor, it is recommended to use sourceTensor.clone().detach() or sourceTensor.clone().detach().requires_grad_(True), rather than torch.tensor(sourceTensor).\n",
      "  image, mask = torch.tensor(image).float(), torch.tensor(mask).float()\n",
      "smth:0.6218: 100%|██████████| 7/7 [02:58<00:00, 25.46s/it]\n",
      "smth:0.6226: 100%|██████████| 2/2 [01:54<00:00, 57.21s/it] \n"
     ]
    },
    {
     "name": "stdout",
     "output_type": "stream",
     "text": [
      "best th: 0.2 best dc: 0.006136825975405374\n",
      "Fri Jan 13 14:36:04 2023 Fold 0, Epoch 38, lr: 0.0030000, train loss: 0.62185, valid loss: 0.62261, metric: 0.006137.\n",
      "Fri Jan 13 14:36:04 2023 Epoch: 39\n"
     ]
    },
    {
     "name": "stderr",
     "output_type": "stream",
     "text": [
      "  0%|          | 0/7 [00:00<?, ?it/s]/tmp/ipykernel_299334/3733926425.py:99: UserWarning: To copy construct from a tensor, it is recommended to use sourceTensor.clone().detach() or sourceTensor.clone().detach().requires_grad_(True), rather than torch.tensor(sourceTensor).\n",
      "  image, mask = torch.tensor(image).float(), torch.tensor(mask).float()\n",
      "/tmp/ipykernel_299334/3733926425.py:99: UserWarning: To copy construct from a tensor, it is recommended to use sourceTensor.clone().detach() or sourceTensor.clone().detach().requires_grad_(True), rather than torch.tensor(sourceTensor).\n",
      "  image, mask = torch.tensor(image).float(), torch.tensor(mask).float()\n",
      "/tmp/ipykernel_299334/3733926425.py:99: UserWarning: To copy construct from a tensor, it is recommended to use sourceTensor.clone().detach() or sourceTensor.clone().detach().requires_grad_(True), rather than torch.tensor(sourceTensor).\n",
      "  image, mask = torch.tensor(image).float(), torch.tensor(mask).float()\n",
      "/tmp/ipykernel_299334/3733926425.py:99: UserWarning: To copy construct from a tensor, it is recommended to use sourceTensor.clone().detach() or sourceTensor.clone().detach().requires_grad_(True), rather than torch.tensor(sourceTensor).\n",
      "  image, mask = torch.tensor(image).float(), torch.tensor(mask).float()\n",
      "smth:0.6187: 100%|██████████| 7/7 [03:19<00:00, 28.45s/it]\n",
      "smth:0.6194: 100%|██████████| 2/2 [01:44<00:00, 52.37s/it] \n"
     ]
    },
    {
     "name": "stdout",
     "output_type": "stream",
     "text": [
      "best th: 0.2 best dc: 0.006007012128159695\n",
      "Fri Jan 13 14:41:08 2023 Fold 0, Epoch 39, lr: 0.0030000, train loss: 0.61865, valid loss: 0.61937, metric: 0.006007.\n",
      "Fri Jan 13 14:41:08 2023 Epoch: 40\n"
     ]
    },
    {
     "name": "stderr",
     "output_type": "stream",
     "text": [
      "  0%|          | 0/7 [00:00<?, ?it/s]/tmp/ipykernel_299334/3733926425.py:99: UserWarning: To copy construct from a tensor, it is recommended to use sourceTensor.clone().detach() or sourceTensor.clone().detach().requires_grad_(True), rather than torch.tensor(sourceTensor).\n",
      "  image, mask = torch.tensor(image).float(), torch.tensor(mask).float()\n",
      "/tmp/ipykernel_299334/3733926425.py:99: UserWarning: To copy construct from a tensor, it is recommended to use sourceTensor.clone().detach() or sourceTensor.clone().detach().requires_grad_(True), rather than torch.tensor(sourceTensor).\n",
      "  image, mask = torch.tensor(image).float(), torch.tensor(mask).float()\n",
      "/tmp/ipykernel_299334/3733926425.py:99: UserWarning: To copy construct from a tensor, it is recommended to use sourceTensor.clone().detach() or sourceTensor.clone().detach().requires_grad_(True), rather than torch.tensor(sourceTensor).\n",
      "  image, mask = torch.tensor(image).float(), torch.tensor(mask).float()\n",
      "/tmp/ipykernel_299334/3733926425.py:99: UserWarning: To copy construct from a tensor, it is recommended to use sourceTensor.clone().detach() or sourceTensor.clone().detach().requires_grad_(True), rather than torch.tensor(sourceTensor).\n",
      "  image, mask = torch.tensor(image).float(), torch.tensor(mask).float()\n",
      "smth:0.6147: 100%|██████████| 7/7 [03:16<00:00, 28.02s/it]\n",
      "smth:0.6158: 100%|██████████| 2/2 [02:04<00:00, 62.29s/it] \n"
     ]
    },
    {
     "name": "stdout",
     "output_type": "stream",
     "text": [
      "best th: 0.2 best dc: 0.005972309327828896\n",
      "Fri Jan 13 14:46:29 2023 Fold 0, Epoch 40, lr: 0.0030000, train loss: 0.61469, valid loss: 0.61578, metric: 0.005972.\n",
      "Fri Jan 13 14:46:29 2023 Epoch: 41\n"
     ]
    },
    {
     "name": "stderr",
     "output_type": "stream",
     "text": [
      "  0%|          | 0/7 [00:00<?, ?it/s]/tmp/ipykernel_299334/3733926425.py:99: UserWarning: To copy construct from a tensor, it is recommended to use sourceTensor.clone().detach() or sourceTensor.clone().detach().requires_grad_(True), rather than torch.tensor(sourceTensor).\n",
      "  image, mask = torch.tensor(image).float(), torch.tensor(mask).float()\n",
      "/tmp/ipykernel_299334/3733926425.py:99: UserWarning: To copy construct from a tensor, it is recommended to use sourceTensor.clone().detach() or sourceTensor.clone().detach().requires_grad_(True), rather than torch.tensor(sourceTensor).\n",
      "  image, mask = torch.tensor(image).float(), torch.tensor(mask).float()\n",
      "/tmp/ipykernel_299334/3733926425.py:99: UserWarning: To copy construct from a tensor, it is recommended to use sourceTensor.clone().detach() or sourceTensor.clone().detach().requires_grad_(True), rather than torch.tensor(sourceTensor).\n",
      "  image, mask = torch.tensor(image).float(), torch.tensor(mask).float()\n",
      "/tmp/ipykernel_299334/3733926425.py:99: UserWarning: To copy construct from a tensor, it is recommended to use sourceTensor.clone().detach() or sourceTensor.clone().detach().requires_grad_(True), rather than torch.tensor(sourceTensor).\n",
      "  image, mask = torch.tensor(image).float(), torch.tensor(mask).float()\n",
      "smth:0.6120: 100%|██████████| 7/7 [03:29<00:00, 29.88s/it] \n",
      "smth:0.6127: 100%|██████████| 2/2 [02:06<00:00, 63.18s/it] \n"
     ]
    },
    {
     "name": "stdout",
     "output_type": "stream",
     "text": [
      "best th: 0.2 best dc: 0.005817069487272819\n",
      "Fri Jan 13 14:52:05 2023 Fold 0, Epoch 41, lr: 0.0030000, train loss: 0.61197, valid loss: 0.61274, metric: 0.005817.\n",
      "Fri Jan 13 14:52:05 2023 Epoch: 42\n"
     ]
    },
    {
     "name": "stderr",
     "output_type": "stream",
     "text": [
      "  0%|          | 0/7 [00:00<?, ?it/s]/tmp/ipykernel_299334/3733926425.py:99: UserWarning: To copy construct from a tensor, it is recommended to use sourceTensor.clone().detach() or sourceTensor.clone().detach().requires_grad_(True), rather than torch.tensor(sourceTensor).\n",
      "  image, mask = torch.tensor(image).float(), torch.tensor(mask).float()\n",
      "/tmp/ipykernel_299334/3733926425.py:99: UserWarning: To copy construct from a tensor, it is recommended to use sourceTensor.clone().detach() or sourceTensor.clone().detach().requires_grad_(True), rather than torch.tensor(sourceTensor).\n",
      "  image, mask = torch.tensor(image).float(), torch.tensor(mask).float()\n",
      "/tmp/ipykernel_299334/3733926425.py:99: UserWarning: To copy construct from a tensor, it is recommended to use sourceTensor.clone().detach() or sourceTensor.clone().detach().requires_grad_(True), rather than torch.tensor(sourceTensor).\n",
      "  image, mask = torch.tensor(image).float(), torch.tensor(mask).float()\n",
      "/tmp/ipykernel_299334/3733926425.py:99: UserWarning: To copy construct from a tensor, it is recommended to use sourceTensor.clone().detach() or sourceTensor.clone().detach().requires_grad_(True), rather than torch.tensor(sourceTensor).\n",
      "  image, mask = torch.tensor(image).float(), torch.tensor(mask).float()\n",
      "smth:0.6090: 100%|██████████| 7/7 [03:28<00:00, 29.77s/it] \n",
      "smth:0.6100: 100%|██████████| 2/2 [02:04<00:00, 62.34s/it] \n"
     ]
    },
    {
     "name": "stdout",
     "output_type": "stream",
     "text": [
      "best th: 0.2 best dc: 0.0056347686230811215\n",
      "Fri Jan 13 14:57:38 2023 Fold 0, Epoch 42, lr: 0.0030000, train loss: 0.60904, valid loss: 0.60996, metric: 0.005635.\n",
      "Fri Jan 13 14:57:38 2023 Epoch: 43\n"
     ]
    },
    {
     "name": "stderr",
     "output_type": "stream",
     "text": [
      "  0%|          | 0/7 [00:00<?, ?it/s]/tmp/ipykernel_299334/3733926425.py:99: UserWarning: To copy construct from a tensor, it is recommended to use sourceTensor.clone().detach() or sourceTensor.clone().detach().requires_grad_(True), rather than torch.tensor(sourceTensor).\n",
      "  image, mask = torch.tensor(image).float(), torch.tensor(mask).float()\n",
      "/tmp/ipykernel_299334/3733926425.py:99: UserWarning: To copy construct from a tensor, it is recommended to use sourceTensor.clone().detach() or sourceTensor.clone().detach().requires_grad_(True), rather than torch.tensor(sourceTensor).\n",
      "  image, mask = torch.tensor(image).float(), torch.tensor(mask).float()\n",
      "/tmp/ipykernel_299334/3733926425.py:99: UserWarning: To copy construct from a tensor, it is recommended to use sourceTensor.clone().detach() or sourceTensor.clone().detach().requires_grad_(True), rather than torch.tensor(sourceTensor).\n",
      "  image, mask = torch.tensor(image).float(), torch.tensor(mask).float()\n",
      "/tmp/ipykernel_299334/3733926425.py:99: UserWarning: To copy construct from a tensor, it is recommended to use sourceTensor.clone().detach() or sourceTensor.clone().detach().requires_grad_(True), rather than torch.tensor(sourceTensor).\n",
      "  image, mask = torch.tensor(image).float(), torch.tensor(mask).float()\n",
      "smth:0.6059: 100%|██████████| 7/7 [05:06<00:00, 43.76s/it] \n",
      "smth:0.6068: 100%|██████████| 2/2 [03:20<00:00, 100.34s/it]\n"
     ]
    },
    {
     "name": "stdout",
     "output_type": "stream",
     "text": [
      "best th: 0.2 best dc: 0.005608797678160446\n",
      "Fri Jan 13 15:06:05 2023 Fold 0, Epoch 43, lr: 0.0030000, train loss: 0.60588, valid loss: 0.60685, metric: 0.005609.\n",
      "Fri Jan 13 15:06:05 2023 Epoch: 44\n"
     ]
    },
    {
     "name": "stderr",
     "output_type": "stream",
     "text": [
      "  0%|          | 0/7 [00:00<?, ?it/s]/tmp/ipykernel_299334/3733926425.py:99: UserWarning: To copy construct from a tensor, it is recommended to use sourceTensor.clone().detach() or sourceTensor.clone().detach().requires_grad_(True), rather than torch.tensor(sourceTensor).\n",
      "  image, mask = torch.tensor(image).float(), torch.tensor(mask).float()\n",
      "/tmp/ipykernel_299334/3733926425.py:99: UserWarning: To copy construct from a tensor, it is recommended to use sourceTensor.clone().detach() or sourceTensor.clone().detach().requires_grad_(True), rather than torch.tensor(sourceTensor).\n",
      "  image, mask = torch.tensor(image).float(), torch.tensor(mask).float()\n",
      "/tmp/ipykernel_299334/3733926425.py:99: UserWarning: To copy construct from a tensor, it is recommended to use sourceTensor.clone().detach() or sourceTensor.clone().detach().requires_grad_(True), rather than torch.tensor(sourceTensor).\n",
      "  image, mask = torch.tensor(image).float(), torch.tensor(mask).float()\n",
      "/tmp/ipykernel_299334/3733926425.py:99: UserWarning: To copy construct from a tensor, it is recommended to use sourceTensor.clone().detach() or sourceTensor.clone().detach().requires_grad_(True), rather than torch.tensor(sourceTensor).\n",
      "  image, mask = torch.tensor(image).float(), torch.tensor(mask).float()\n",
      "smth:0.6027: 100%|██████████| 7/7 [03:53<00:00, 33.30s/it] \n",
      "smth:0.6037: 100%|██████████| 2/2 [02:00<00:00, 60.17s/it] \n"
     ]
    },
    {
     "name": "stdout",
     "output_type": "stream",
     "text": [
      "best th: 0.2 best dc: 0.005583221656833985\n",
      "Fri Jan 13 15:11:59 2023 Fold 0, Epoch 44, lr: 0.0030000, train loss: 0.60269, valid loss: 0.60375, metric: 0.005583.\n",
      "Fri Jan 13 15:11:59 2023 Epoch: 45\n"
     ]
    },
    {
     "name": "stderr",
     "output_type": "stream",
     "text": [
      "  0%|          | 0/7 [00:00<?, ?it/s]/tmp/ipykernel_299334/3733926425.py:99: UserWarning: To copy construct from a tensor, it is recommended to use sourceTensor.clone().detach() or sourceTensor.clone().detach().requires_grad_(True), rather than torch.tensor(sourceTensor).\n",
      "  image, mask = torch.tensor(image).float(), torch.tensor(mask).float()\n",
      "/tmp/ipykernel_299334/3733926425.py:99: UserWarning: To copy construct from a tensor, it is recommended to use sourceTensor.clone().detach() or sourceTensor.clone().detach().requires_grad_(True), rather than torch.tensor(sourceTensor).\n",
      "  image, mask = torch.tensor(image).float(), torch.tensor(mask).float()\n",
      "/tmp/ipykernel_299334/3733926425.py:99: UserWarning: To copy construct from a tensor, it is recommended to use sourceTensor.clone().detach() or sourceTensor.clone().detach().requires_grad_(True), rather than torch.tensor(sourceTensor).\n",
      "  image, mask = torch.tensor(image).float(), torch.tensor(mask).float()\n",
      "/tmp/ipykernel_299334/3733926425.py:99: UserWarning: To copy construct from a tensor, it is recommended to use sourceTensor.clone().detach() or sourceTensor.clone().detach().requires_grad_(True), rather than torch.tensor(sourceTensor).\n",
      "  image, mask = torch.tensor(image).float(), torch.tensor(mask).float()\n",
      "smth:0.6011: 100%|██████████| 7/7 [03:11<00:00, 27.29s/it] \n",
      "smth:0.6014: 100%|██████████| 2/2 [02:00<00:00, 60.27s/it] \n"
     ]
    },
    {
     "name": "stdout",
     "output_type": "stream",
     "text": [
      "best th: 0.2 best dc: 0.005443395178984382\n",
      "Fri Jan 13 15:17:11 2023 Fold 0, Epoch 45, lr: 0.0030000, train loss: 0.60109, valid loss: 0.60144, metric: 0.005443.\n",
      "Fri Jan 13 15:17:11 2023 Epoch: 46\n"
     ]
    },
    {
     "name": "stderr",
     "output_type": "stream",
     "text": [
      "  0%|          | 0/7 [00:00<?, ?it/s]/tmp/ipykernel_299334/3733926425.py:99: UserWarning: To copy construct from a tensor, it is recommended to use sourceTensor.clone().detach() or sourceTensor.clone().detach().requires_grad_(True), rather than torch.tensor(sourceTensor).\n",
      "  image, mask = torch.tensor(image).float(), torch.tensor(mask).float()\n",
      "/tmp/ipykernel_299334/3733926425.py:99: UserWarning: To copy construct from a tensor, it is recommended to use sourceTensor.clone().detach() or sourceTensor.clone().detach().requires_grad_(True), rather than torch.tensor(sourceTensor).\n",
      "  image, mask = torch.tensor(image).float(), torch.tensor(mask).float()\n",
      "/tmp/ipykernel_299334/3733926425.py:99: UserWarning: To copy construct from a tensor, it is recommended to use sourceTensor.clone().detach() or sourceTensor.clone().detach().requires_grad_(True), rather than torch.tensor(sourceTensor).\n",
      "  image, mask = torch.tensor(image).float(), torch.tensor(mask).float()\n",
      "/tmp/ipykernel_299334/3733926425.py:99: UserWarning: To copy construct from a tensor, it is recommended to use sourceTensor.clone().detach() or sourceTensor.clone().detach().requires_grad_(True), rather than torch.tensor(sourceTensor).\n",
      "  image, mask = torch.tensor(image).float(), torch.tensor(mask).float()\n",
      "smth:0.5982: 100%|██████████| 7/7 [03:54<00:00, 33.46s/it] \n",
      "smth:0.5991: 100%|██████████| 2/2 [02:04<00:00, 62.33s/it] \n"
     ]
    },
    {
     "name": "stdout",
     "output_type": "stream",
     "text": [
      "best th: 0.2 best dc: 0.005212303576108243\n",
      "Fri Jan 13 15:23:10 2023 Fold 0, Epoch 46, lr: 0.0030000, train loss: 0.59816, valid loss: 0.59915, metric: 0.005212.\n",
      "Fri Jan 13 15:23:10 2023 Epoch: 47\n"
     ]
    },
    {
     "name": "stderr",
     "output_type": "stream",
     "text": [
      "  0%|          | 0/7 [00:00<?, ?it/s]/tmp/ipykernel_299334/3733926425.py:99: UserWarning: To copy construct from a tensor, it is recommended to use sourceTensor.clone().detach() or sourceTensor.clone().detach().requires_grad_(True), rather than torch.tensor(sourceTensor).\n",
      "  image, mask = torch.tensor(image).float(), torch.tensor(mask).float()\n",
      "/tmp/ipykernel_299334/3733926425.py:99: UserWarning: To copy construct from a tensor, it is recommended to use sourceTensor.clone().detach() or sourceTensor.clone().detach().requires_grad_(True), rather than torch.tensor(sourceTensor).\n",
      "  image, mask = torch.tensor(image).float(), torch.tensor(mask).float()\n",
      "/tmp/ipykernel_299334/3733926425.py:99: UserWarning: To copy construct from a tensor, it is recommended to use sourceTensor.clone().detach() or sourceTensor.clone().detach().requires_grad_(True), rather than torch.tensor(sourceTensor).\n",
      "  image, mask = torch.tensor(image).float(), torch.tensor(mask).float()\n",
      "/tmp/ipykernel_299334/3733926425.py:99: UserWarning: To copy construct from a tensor, it is recommended to use sourceTensor.clone().detach() or sourceTensor.clone().detach().requires_grad_(True), rather than torch.tensor(sourceTensor).\n",
      "  image, mask = torch.tensor(image).float(), torch.tensor(mask).float()\n",
      "smth:0.5957: 100%|██████████| 7/7 [03:29<00:00, 29.95s/it] \n",
      "smth:0.5963: 100%|██████████| 2/2 [02:03<00:00, 61.51s/it] \n"
     ]
    },
    {
     "name": "stdout",
     "output_type": "stream",
     "text": [
      "best th: 0.2 best dc: 0.005115228402363675\n",
      "Fri Jan 13 15:28:43 2023 Fold 0, Epoch 47, lr: 0.0030000, train loss: 0.59569, valid loss: 0.59627, metric: 0.005115.\n",
      "Fri Jan 13 15:28:43 2023 Epoch: 48\n"
     ]
    },
    {
     "name": "stderr",
     "output_type": "stream",
     "text": [
      "  0%|          | 0/7 [00:00<?, ?it/s]/tmp/ipykernel_299334/3733926425.py:99: UserWarning: To copy construct from a tensor, it is recommended to use sourceTensor.clone().detach() or sourceTensor.clone().detach().requires_grad_(True), rather than torch.tensor(sourceTensor).\n",
      "  image, mask = torch.tensor(image).float(), torch.tensor(mask).float()\n",
      "/tmp/ipykernel_299334/3733926425.py:99: UserWarning: To copy construct from a tensor, it is recommended to use sourceTensor.clone().detach() or sourceTensor.clone().detach().requires_grad_(True), rather than torch.tensor(sourceTensor).\n",
      "  image, mask = torch.tensor(image).float(), torch.tensor(mask).float()\n",
      "/tmp/ipykernel_299334/3733926425.py:99: UserWarning: To copy construct from a tensor, it is recommended to use sourceTensor.clone().detach() or sourceTensor.clone().detach().requires_grad_(True), rather than torch.tensor(sourceTensor).\n",
      "  image, mask = torch.tensor(image).float(), torch.tensor(mask).float()\n",
      "/tmp/ipykernel_299334/3733926425.py:99: UserWarning: To copy construct from a tensor, it is recommended to use sourceTensor.clone().detach() or sourceTensor.clone().detach().requires_grad_(True), rather than torch.tensor(sourceTensor).\n",
      "  image, mask = torch.tensor(image).float(), torch.tensor(mask).float()\n",
      "smth:0.5931: 100%|██████████| 7/7 [03:41<00:00, 31.68s/it]\n",
      "smth:0.5941: 100%|██████████| 2/2 [01:53<00:00, 56.96s/it] \n"
     ]
    },
    {
     "name": "stdout",
     "output_type": "stream",
     "text": [
      "best th: 0.2 best dc: 0.00507877534834813\n",
      "Fri Jan 13 15:34:18 2023 Fold 0, Epoch 48, lr: 0.0030000, train loss: 0.59311, valid loss: 0.59413, metric: 0.005079.\n",
      "Fri Jan 13 15:34:18 2023 Epoch: 49\n"
     ]
    },
    {
     "name": "stderr",
     "output_type": "stream",
     "text": [
      "  0%|          | 0/7 [00:00<?, ?it/s]/tmp/ipykernel_299334/3733926425.py:99: UserWarning: To copy construct from a tensor, it is recommended to use sourceTensor.clone().detach() or sourceTensor.clone().detach().requires_grad_(True), rather than torch.tensor(sourceTensor).\n",
      "  image, mask = torch.tensor(image).float(), torch.tensor(mask).float()\n",
      "/tmp/ipykernel_299334/3733926425.py:99: UserWarning: To copy construct from a tensor, it is recommended to use sourceTensor.clone().detach() or sourceTensor.clone().detach().requires_grad_(True), rather than torch.tensor(sourceTensor).\n",
      "  image, mask = torch.tensor(image).float(), torch.tensor(mask).float()\n",
      "/tmp/ipykernel_299334/3733926425.py:99: UserWarning: To copy construct from a tensor, it is recommended to use sourceTensor.clone().detach() or sourceTensor.clone().detach().requires_grad_(True), rather than torch.tensor(sourceTensor).\n",
      "  image, mask = torch.tensor(image).float(), torch.tensor(mask).float()\n",
      "/tmp/ipykernel_299334/3733926425.py:99: UserWarning: To copy construct from a tensor, it is recommended to use sourceTensor.clone().detach() or sourceTensor.clone().detach().requires_grad_(True), rather than torch.tensor(sourceTensor).\n",
      "  image, mask = torch.tensor(image).float(), torch.tensor(mask).float()\n",
      "smth:0.5908: 100%|██████████| 7/7 [03:03<00:00, 26.22s/it]\n",
      "smth:0.5915: 100%|██████████| 2/2 [01:55<00:00, 57.62s/it] \n"
     ]
    },
    {
     "name": "stdout",
     "output_type": "stream",
     "text": [
      "best th: 0.2 best dc: 0.004899554890943076\n",
      "Fri Jan 13 15:39:17 2023 Fold 0, Epoch 49, lr: 0.0030000, train loss: 0.59082, valid loss: 0.59149, metric: 0.004900.\n",
      "Fri Jan 13 15:39:17 2023 Epoch: 50\n"
     ]
    },
    {
     "name": "stderr",
     "output_type": "stream",
     "text": [
      "  0%|          | 0/7 [00:00<?, ?it/s]/tmp/ipykernel_299334/3733926425.py:99: UserWarning: To copy construct from a tensor, it is recommended to use sourceTensor.clone().detach() or sourceTensor.clone().detach().requires_grad_(True), rather than torch.tensor(sourceTensor).\n",
      "  image, mask = torch.tensor(image).float(), torch.tensor(mask).float()\n",
      "/tmp/ipykernel_299334/3733926425.py:99: UserWarning: To copy construct from a tensor, it is recommended to use sourceTensor.clone().detach() or sourceTensor.clone().detach().requires_grad_(True), rather than torch.tensor(sourceTensor).\n",
      "  image, mask = torch.tensor(image).float(), torch.tensor(mask).float()\n",
      "/tmp/ipykernel_299334/3733926425.py:99: UserWarning: To copy construct from a tensor, it is recommended to use sourceTensor.clone().detach() or sourceTensor.clone().detach().requires_grad_(True), rather than torch.tensor(sourceTensor).\n",
      "  image, mask = torch.tensor(image).float(), torch.tensor(mask).float()\n",
      "/tmp/ipykernel_299334/3733926425.py:99: UserWarning: To copy construct from a tensor, it is recommended to use sourceTensor.clone().detach() or sourceTensor.clone().detach().requires_grad_(True), rather than torch.tensor(sourceTensor).\n",
      "  image, mask = torch.tensor(image).float(), torch.tensor(mask).float()\n",
      "smth:0.5885: 100%|██████████| 7/7 [03:28<00:00, 29.76s/it]\n",
      "smth:0.5894: 100%|██████████| 2/2 [02:20<00:00, 70.21s/it] \n"
     ]
    },
    {
     "name": "stdout",
     "output_type": "stream",
     "text": [
      "best th: 0.2 best dc: 0.004774418019575025\n",
      "Fri Jan 13 15:45:06 2023 Fold 0, Epoch 50, lr: 0.0030000, train loss: 0.58854, valid loss: 0.58936, metric: 0.004774.\n",
      "Fri Jan 13 15:45:06 2023 Epoch: 51\n"
     ]
    },
    {
     "name": "stderr",
     "output_type": "stream",
     "text": [
      "  0%|          | 0/7 [00:00<?, ?it/s]/tmp/ipykernel_299334/3733926425.py:99: UserWarning: To copy construct from a tensor, it is recommended to use sourceTensor.clone().detach() or sourceTensor.clone().detach().requires_grad_(True), rather than torch.tensor(sourceTensor).\n",
      "  image, mask = torch.tensor(image).float(), torch.tensor(mask).float()\n",
      "/tmp/ipykernel_299334/3733926425.py:99: UserWarning: To copy construct from a tensor, it is recommended to use sourceTensor.clone().detach() or sourceTensor.clone().detach().requires_grad_(True), rather than torch.tensor(sourceTensor).\n",
      "  image, mask = torch.tensor(image).float(), torch.tensor(mask).float()\n",
      "/tmp/ipykernel_299334/3733926425.py:99: UserWarning: To copy construct from a tensor, it is recommended to use sourceTensor.clone().detach() or sourceTensor.clone().detach().requires_grad_(True), rather than torch.tensor(sourceTensor).\n",
      "  image, mask = torch.tensor(image).float(), torch.tensor(mask).float()\n",
      "/tmp/ipykernel_299334/3733926425.py:99: UserWarning: To copy construct from a tensor, it is recommended to use sourceTensor.clone().detach() or sourceTensor.clone().detach().requires_grad_(True), rather than torch.tensor(sourceTensor).\n",
      "  image, mask = torch.tensor(image).float(), torch.tensor(mask).float()\n",
      "smth:0.5867: 100%|██████████| 7/7 [03:50<00:00, 32.94s/it] \n",
      "smth:0.5874: 100%|██████████| 2/2 [02:14<00:00, 67.17s/it] \n"
     ]
    },
    {
     "name": "stdout",
     "output_type": "stream",
     "text": [
      "best th: 0.2 best dc: 0.004589186020688662\n",
      "Fri Jan 13 15:51:11 2023 Fold 0, Epoch 51, lr: 0.0030000, train loss: 0.58672, valid loss: 0.58740, metric: 0.004589.\n",
      "Fri Jan 13 15:51:11 2023 Epoch: 52\n"
     ]
    },
    {
     "name": "stderr",
     "output_type": "stream",
     "text": [
      "  0%|          | 0/7 [00:00<?, ?it/s]/tmp/ipykernel_299334/3733926425.py:99: UserWarning: To copy construct from a tensor, it is recommended to use sourceTensor.clone().detach() or sourceTensor.clone().detach().requires_grad_(True), rather than torch.tensor(sourceTensor).\n",
      "  image, mask = torch.tensor(image).float(), torch.tensor(mask).float()\n",
      "/tmp/ipykernel_299334/3733926425.py:99: UserWarning: To copy construct from a tensor, it is recommended to use sourceTensor.clone().detach() or sourceTensor.clone().detach().requires_grad_(True), rather than torch.tensor(sourceTensor).\n",
      "  image, mask = torch.tensor(image).float(), torch.tensor(mask).float()\n",
      "/tmp/ipykernel_299334/3733926425.py:99: UserWarning: To copy construct from a tensor, it is recommended to use sourceTensor.clone().detach() or sourceTensor.clone().detach().requires_grad_(True), rather than torch.tensor(sourceTensor).\n",
      "  image, mask = torch.tensor(image).float(), torch.tensor(mask).float()\n",
      "/tmp/ipykernel_299334/3733926425.py:99: UserWarning: To copy construct from a tensor, it is recommended to use sourceTensor.clone().detach() or sourceTensor.clone().detach().requires_grad_(True), rather than torch.tensor(sourceTensor).\n",
      "  image, mask = torch.tensor(image).float(), torch.tensor(mask).float()\n",
      "smth:0.5848: 100%|██████████| 7/7 [02:54<00:00, 24.87s/it]\n",
      "smth:0.5857: 100%|██████████| 2/2 [01:50<00:00, 55.12s/it] \n"
     ]
    },
    {
     "name": "stdout",
     "output_type": "stream",
     "text": [
      "best th: 0.2 best dc: 0.00444015156718857\n",
      "Fri Jan 13 15:55:56 2023 Fold 0, Epoch 52, lr: 0.0030000, train loss: 0.58482, valid loss: 0.58566, metric: 0.004440.\n",
      "Fri Jan 13 15:55:56 2023 Epoch: 53\n"
     ]
    },
    {
     "name": "stderr",
     "output_type": "stream",
     "text": [
      "  0%|          | 0/7 [00:00<?, ?it/s]/tmp/ipykernel_299334/3733926425.py:99: UserWarning: To copy construct from a tensor, it is recommended to use sourceTensor.clone().detach() or sourceTensor.clone().detach().requires_grad_(True), rather than torch.tensor(sourceTensor).\n",
      "  image, mask = torch.tensor(image).float(), torch.tensor(mask).float()\n",
      "/tmp/ipykernel_299334/3733926425.py:99: UserWarning: To copy construct from a tensor, it is recommended to use sourceTensor.clone().detach() or sourceTensor.clone().detach().requires_grad_(True), rather than torch.tensor(sourceTensor).\n",
      "  image, mask = torch.tensor(image).float(), torch.tensor(mask).float()\n",
      "/tmp/ipykernel_299334/3733926425.py:99: UserWarning: To copy construct from a tensor, it is recommended to use sourceTensor.clone().detach() or sourceTensor.clone().detach().requires_grad_(True), rather than torch.tensor(sourceTensor).\n",
      "  image, mask = torch.tensor(image).float(), torch.tensor(mask).float()\n",
      "/tmp/ipykernel_299334/3733926425.py:99: UserWarning: To copy construct from a tensor, it is recommended to use sourceTensor.clone().detach() or sourceTensor.clone().detach().requires_grad_(True), rather than torch.tensor(sourceTensor).\n",
      "  image, mask = torch.tensor(image).float(), torch.tensor(mask).float()\n",
      "smth:0.5828: 100%|██████████| 7/7 [02:45<00:00, 23.70s/it]\n",
      "smth:0.5835: 100%|██████████| 2/2 [01:47<00:00, 53.59s/it] \n"
     ]
    },
    {
     "name": "stdout",
     "output_type": "stream",
     "text": [
      "best th: 0.2 best dc: 0.004356364039036547\n",
      "Fri Jan 13 16:00:29 2023 Fold 0, Epoch 53, lr: 0.0030000, train loss: 0.58278, valid loss: 0.58348, metric: 0.004356.\n",
      "Fri Jan 13 16:00:29 2023 Epoch: 54\n"
     ]
    },
    {
     "name": "stderr",
     "output_type": "stream",
     "text": [
      "  0%|          | 0/7 [00:00<?, ?it/s]/tmp/ipykernel_299334/3733926425.py:99: UserWarning: To copy construct from a tensor, it is recommended to use sourceTensor.clone().detach() or sourceTensor.clone().detach().requires_grad_(True), rather than torch.tensor(sourceTensor).\n",
      "  image, mask = torch.tensor(image).float(), torch.tensor(mask).float()\n",
      "/tmp/ipykernel_299334/3733926425.py:99: UserWarning: To copy construct from a tensor, it is recommended to use sourceTensor.clone().detach() or sourceTensor.clone().detach().requires_grad_(True), rather than torch.tensor(sourceTensor).\n",
      "  image, mask = torch.tensor(image).float(), torch.tensor(mask).float()\n",
      "/tmp/ipykernel_299334/3733926425.py:99: UserWarning: To copy construct from a tensor, it is recommended to use sourceTensor.clone().detach() or sourceTensor.clone().detach().requires_grad_(True), rather than torch.tensor(sourceTensor).\n",
      "  image, mask = torch.tensor(image).float(), torch.tensor(mask).float()\n",
      "/tmp/ipykernel_299334/3733926425.py:99: UserWarning: To copy construct from a tensor, it is recommended to use sourceTensor.clone().detach() or sourceTensor.clone().detach().requires_grad_(True), rather than torch.tensor(sourceTensor).\n",
      "  image, mask = torch.tensor(image).float(), torch.tensor(mask).float()\n",
      "smth:0.5808: 100%|██████████| 7/7 [03:01<00:00, 25.90s/it]\n",
      "smth:0.5812: 100%|██████████| 2/2 [01:48<00:00, 54.40s/it] \n"
     ]
    },
    {
     "name": "stdout",
     "output_type": "stream",
     "text": [
      "best th: 0.2 best dc: 0.0042246555858245615\n",
      "Fri Jan 13 16:05:19 2023 Fold 0, Epoch 54, lr: 0.0030000, train loss: 0.58079, valid loss: 0.58120, metric: 0.004225.\n",
      "Fri Jan 13 16:05:19 2023 Epoch: 55\n"
     ]
    },
    {
     "name": "stderr",
     "output_type": "stream",
     "text": [
      "  0%|          | 0/7 [00:00<?, ?it/s]/tmp/ipykernel_299334/3733926425.py:99: UserWarning: To copy construct from a tensor, it is recommended to use sourceTensor.clone().detach() or sourceTensor.clone().detach().requires_grad_(True), rather than torch.tensor(sourceTensor).\n",
      "  image, mask = torch.tensor(image).float(), torch.tensor(mask).float()\n",
      "/tmp/ipykernel_299334/3733926425.py:99: UserWarning: To copy construct from a tensor, it is recommended to use sourceTensor.clone().detach() or sourceTensor.clone().detach().requires_grad_(True), rather than torch.tensor(sourceTensor).\n",
      "  image, mask = torch.tensor(image).float(), torch.tensor(mask).float()\n",
      "/tmp/ipykernel_299334/3733926425.py:99: UserWarning: To copy construct from a tensor, it is recommended to use sourceTensor.clone().detach() or sourceTensor.clone().detach().requires_grad_(True), rather than torch.tensor(sourceTensor).\n",
      "  image, mask = torch.tensor(image).float(), torch.tensor(mask).float()\n",
      "/tmp/ipykernel_299334/3733926425.py:99: UserWarning: To copy construct from a tensor, it is recommended to use sourceTensor.clone().detach() or sourceTensor.clone().detach().requires_grad_(True), rather than torch.tensor(sourceTensor).\n",
      "  image, mask = torch.tensor(image).float(), torch.tensor(mask).float()\n",
      "smth:0.5793: 100%|██████████| 7/7 [02:58<00:00, 25.46s/it]\n",
      "smth:0.5796: 100%|██████████| 2/2 [01:49<00:00, 54.55s/it] \n"
     ]
    },
    {
     "name": "stdout",
     "output_type": "stream",
     "text": [
      "best th: 0.2 best dc: 0.004109329379019793\n",
      "Fri Jan 13 16:10:07 2023 Fold 0, Epoch 55, lr: 0.0030000, train loss: 0.57932, valid loss: 0.57965, metric: 0.004109.\n",
      "Fri Jan 13 16:10:07 2023 Epoch: 56\n"
     ]
    },
    {
     "name": "stderr",
     "output_type": "stream",
     "text": [
      "  0%|          | 0/7 [00:00<?, ?it/s]/tmp/ipykernel_299334/3733926425.py:99: UserWarning: To copy construct from a tensor, it is recommended to use sourceTensor.clone().detach() or sourceTensor.clone().detach().requires_grad_(True), rather than torch.tensor(sourceTensor).\n",
      "  image, mask = torch.tensor(image).float(), torch.tensor(mask).float()\n",
      "/tmp/ipykernel_299334/3733926425.py:99: UserWarning: To copy construct from a tensor, it is recommended to use sourceTensor.clone().detach() or sourceTensor.clone().detach().requires_grad_(True), rather than torch.tensor(sourceTensor).\n",
      "  image, mask = torch.tensor(image).float(), torch.tensor(mask).float()\n",
      "/tmp/ipykernel_299334/3733926425.py:99: UserWarning: To copy construct from a tensor, it is recommended to use sourceTensor.clone().detach() or sourceTensor.clone().detach().requires_grad_(True), rather than torch.tensor(sourceTensor).\n",
      "  image, mask = torch.tensor(image).float(), torch.tensor(mask).float()\n",
      "/tmp/ipykernel_299334/3733926425.py:99: UserWarning: To copy construct from a tensor, it is recommended to use sourceTensor.clone().detach() or sourceTensor.clone().detach().requires_grad_(True), rather than torch.tensor(sourceTensor).\n",
      "  image, mask = torch.tensor(image).float(), torch.tensor(mask).float()\n",
      "smth:0.5774: 100%|██████████| 7/7 [03:16<00:00, 28.07s/it]\n",
      "smth:0.5780: 100%|██████████| 2/2 [01:45<00:00, 52.99s/it] \n"
     ]
    },
    {
     "name": "stdout",
     "output_type": "stream",
     "text": [
      "best th: 0.2 best dc: 0.003914808942186933\n",
      "Fri Jan 13 16:15:10 2023 Fold 0, Epoch 56, lr: 0.0030000, train loss: 0.57744, valid loss: 0.57796, metric: 0.003915.\n",
      "Fri Jan 13 16:15:10 2023 Epoch: 57\n"
     ]
    },
    {
     "name": "stderr",
     "output_type": "stream",
     "text": [
      "  0%|          | 0/7 [00:00<?, ?it/s]/tmp/ipykernel_299334/3733926425.py:99: UserWarning: To copy construct from a tensor, it is recommended to use sourceTensor.clone().detach() or sourceTensor.clone().detach().requires_grad_(True), rather than torch.tensor(sourceTensor).\n",
      "  image, mask = torch.tensor(image).float(), torch.tensor(mask).float()\n",
      "/tmp/ipykernel_299334/3733926425.py:99: UserWarning: To copy construct from a tensor, it is recommended to use sourceTensor.clone().detach() or sourceTensor.clone().detach().requires_grad_(True), rather than torch.tensor(sourceTensor).\n",
      "  image, mask = torch.tensor(image).float(), torch.tensor(mask).float()\n",
      "/tmp/ipykernel_299334/3733926425.py:99: UserWarning: To copy construct from a tensor, it is recommended to use sourceTensor.clone().detach() or sourceTensor.clone().detach().requires_grad_(True), rather than torch.tensor(sourceTensor).\n",
      "  image, mask = torch.tensor(image).float(), torch.tensor(mask).float()\n",
      "/tmp/ipykernel_299334/3733926425.py:99: UserWarning: To copy construct from a tensor, it is recommended to use sourceTensor.clone().detach() or sourceTensor.clone().detach().requires_grad_(True), rather than torch.tensor(sourceTensor).\n",
      "  image, mask = torch.tensor(image).float(), torch.tensor(mask).float()\n",
      "smth:0.5753: 100%|██████████| 7/7 [03:03<00:00, 26.19s/it]\n",
      "smth:0.5757: 100%|██████████| 2/2 [01:44<00:00, 52.19s/it] \n"
     ]
    },
    {
     "name": "stdout",
     "output_type": "stream",
     "text": [
      "best th: 0.2 best dc: 0.0038821192885530147\n",
      "Fri Jan 13 16:19:57 2023 Fold 0, Epoch 57, lr: 0.0030000, train loss: 0.57528, valid loss: 0.57565, metric: 0.003882.\n",
      "Fri Jan 13 16:19:57 2023 Epoch: 58\n"
     ]
    },
    {
     "name": "stderr",
     "output_type": "stream",
     "text": [
      "  0%|          | 0/7 [00:00<?, ?it/s]/tmp/ipykernel_299334/3733926425.py:99: UserWarning: To copy construct from a tensor, it is recommended to use sourceTensor.clone().detach() or sourceTensor.clone().detach().requires_grad_(True), rather than torch.tensor(sourceTensor).\n",
      "  image, mask = torch.tensor(image).float(), torch.tensor(mask).float()\n",
      "/tmp/ipykernel_299334/3733926425.py:99: UserWarning: To copy construct from a tensor, it is recommended to use sourceTensor.clone().detach() or sourceTensor.clone().detach().requires_grad_(True), rather than torch.tensor(sourceTensor).\n",
      "  image, mask = torch.tensor(image).float(), torch.tensor(mask).float()\n",
      "/tmp/ipykernel_299334/3733926425.py:99: UserWarning: To copy construct from a tensor, it is recommended to use sourceTensor.clone().detach() or sourceTensor.clone().detach().requires_grad_(True), rather than torch.tensor(sourceTensor).\n",
      "  image, mask = torch.tensor(image).float(), torch.tensor(mask).float()\n",
      "/tmp/ipykernel_299334/3733926425.py:99: UserWarning: To copy construct from a tensor, it is recommended to use sourceTensor.clone().detach() or sourceTensor.clone().detach().requires_grad_(True), rather than torch.tensor(sourceTensor).\n",
      "  image, mask = torch.tensor(image).float(), torch.tensor(mask).float()\n",
      "smth:0.5741: 100%|██████████| 7/7 [02:50<00:00, 24.34s/it]\n",
      "smth:0.5744: 100%|██████████| 2/2 [01:46<00:00, 53.17s/it] \n"
     ]
    },
    {
     "name": "stdout",
     "output_type": "stream",
     "text": [
      "best th: 0.2 best dc: 0.003698837377219112\n",
      "Fri Jan 13 16:24:34 2023 Fold 0, Epoch 58, lr: 0.0030000, train loss: 0.57407, valid loss: 0.57435, metric: 0.003699.\n",
      "Fri Jan 13 16:24:34 2023 Epoch: 59\n"
     ]
    },
    {
     "name": "stderr",
     "output_type": "stream",
     "text": [
      "  0%|          | 0/7 [00:00<?, ?it/s]/tmp/ipykernel_299334/3733926425.py:99: UserWarning: To copy construct from a tensor, it is recommended to use sourceTensor.clone().detach() or sourceTensor.clone().detach().requires_grad_(True), rather than torch.tensor(sourceTensor).\n",
      "  image, mask = torch.tensor(image).float(), torch.tensor(mask).float()\n",
      "/tmp/ipykernel_299334/3733926425.py:99: UserWarning: To copy construct from a tensor, it is recommended to use sourceTensor.clone().detach() or sourceTensor.clone().detach().requires_grad_(True), rather than torch.tensor(sourceTensor).\n",
      "  image, mask = torch.tensor(image).float(), torch.tensor(mask).float()\n",
      "/tmp/ipykernel_299334/3733926425.py:99: UserWarning: To copy construct from a tensor, it is recommended to use sourceTensor.clone().detach() or sourceTensor.clone().detach().requires_grad_(True), rather than torch.tensor(sourceTensor).\n",
      "  image, mask = torch.tensor(image).float(), torch.tensor(mask).float()\n",
      "/tmp/ipykernel_299334/3733926425.py:99: UserWarning: To copy construct from a tensor, it is recommended to use sourceTensor.clone().detach() or sourceTensor.clone().detach().requires_grad_(True), rather than torch.tensor(sourceTensor).\n",
      "  image, mask = torch.tensor(image).float(), torch.tensor(mask).float()\n",
      "smth:0.5728: 100%|██████████| 7/7 [03:04<00:00, 26.31s/it] \n",
      "smth:0.5729: 100%|██████████| 2/2 [01:46<00:00, 53.14s/it] \n"
     ]
    },
    {
     "name": "stdout",
     "output_type": "stream",
     "text": [
      "best th: 0.2 best dc: 0.003604035368451232\n",
      "Fri Jan 13 16:29:25 2023 Fold 0, Epoch 59, lr: 0.0030000, train loss: 0.57280, valid loss: 0.57292, metric: 0.003604.\n",
      "Fri Jan 13 16:29:25 2023 Epoch: 60\n"
     ]
    },
    {
     "name": "stderr",
     "output_type": "stream",
     "text": [
      "  0%|          | 0/7 [00:00<?, ?it/s]/tmp/ipykernel_299334/3733926425.py:99: UserWarning: To copy construct from a tensor, it is recommended to use sourceTensor.clone().detach() or sourceTensor.clone().detach().requires_grad_(True), rather than torch.tensor(sourceTensor).\n",
      "  image, mask = torch.tensor(image).float(), torch.tensor(mask).float()\n",
      "/tmp/ipykernel_299334/3733926425.py:99: UserWarning: To copy construct from a tensor, it is recommended to use sourceTensor.clone().detach() or sourceTensor.clone().detach().requires_grad_(True), rather than torch.tensor(sourceTensor).\n",
      "  image, mask = torch.tensor(image).float(), torch.tensor(mask).float()\n",
      "/tmp/ipykernel_299334/3733926425.py:99: UserWarning: To copy construct from a tensor, it is recommended to use sourceTensor.clone().detach() or sourceTensor.clone().detach().requires_grad_(True), rather than torch.tensor(sourceTensor).\n",
      "  image, mask = torch.tensor(image).float(), torch.tensor(mask).float()\n",
      "/tmp/ipykernel_299334/3733926425.py:99: UserWarning: To copy construct from a tensor, it is recommended to use sourceTensor.clone().detach() or sourceTensor.clone().detach().requires_grad_(True), rather than torch.tensor(sourceTensor).\n",
      "  image, mask = torch.tensor(image).float(), torch.tensor(mask).float()\n",
      "smth:0.5709: 100%|██████████| 7/7 [02:57<00:00, 25.35s/it]\n",
      "smth:0.5715: 100%|██████████| 2/2 [01:45<00:00, 52.79s/it] \n"
     ]
    },
    {
     "name": "stdout",
     "output_type": "stream",
     "text": [
      "best th: 0.2 best dc: 0.0034533805337755383\n",
      "Fri Jan 13 16:34:08 2023 Fold 0, Epoch 60, lr: 0.0030000, train loss: 0.57090, valid loss: 0.57149, metric: 0.003453.\n",
      "Fri Jan 13 16:34:08 2023 Epoch: 61\n"
     ]
    },
    {
     "name": "stderr",
     "output_type": "stream",
     "text": [
      "  0%|          | 0/7 [00:00<?, ?it/s]/tmp/ipykernel_299334/3733926425.py:99: UserWarning: To copy construct from a tensor, it is recommended to use sourceTensor.clone().detach() or sourceTensor.clone().detach().requires_grad_(True), rather than torch.tensor(sourceTensor).\n",
      "  image, mask = torch.tensor(image).float(), torch.tensor(mask).float()\n",
      "/tmp/ipykernel_299334/3733926425.py:99: UserWarning: To copy construct from a tensor, it is recommended to use sourceTensor.clone().detach() or sourceTensor.clone().detach().requires_grad_(True), rather than torch.tensor(sourceTensor).\n",
      "  image, mask = torch.tensor(image).float(), torch.tensor(mask).float()\n",
      "/tmp/ipykernel_299334/3733926425.py:99: UserWarning: To copy construct from a tensor, it is recommended to use sourceTensor.clone().detach() or sourceTensor.clone().detach().requires_grad_(True), rather than torch.tensor(sourceTensor).\n",
      "  image, mask = torch.tensor(image).float(), torch.tensor(mask).float()\n",
      "/tmp/ipykernel_299334/3733926425.py:99: UserWarning: To copy construct from a tensor, it is recommended to use sourceTensor.clone().detach() or sourceTensor.clone().detach().requires_grad_(True), rather than torch.tensor(sourceTensor).\n",
      "  image, mask = torch.tensor(image).float(), torch.tensor(mask).float()\n",
      "smth:0.5696: 100%|██████████| 7/7 [03:21<00:00, 28.78s/it]\n",
      "smth:0.5703: 100%|██████████| 2/2 [02:12<00:00, 66.04s/it] \n"
     ]
    },
    {
     "name": "stdout",
     "output_type": "stream",
     "text": [
      "best th: 0.2 best dc: 0.0033612973925771193\n",
      "Fri Jan 13 16:39:42 2023 Fold 0, Epoch 61, lr: 0.0030000, train loss: 0.56964, valid loss: 0.57029, metric: 0.003361.\n",
      "Fri Jan 13 16:39:42 2023 Epoch: 62\n"
     ]
    },
    {
     "name": "stderr",
     "output_type": "stream",
     "text": [
      "  0%|          | 0/7 [00:00<?, ?it/s]/tmp/ipykernel_299334/3733926425.py:99: UserWarning: To copy construct from a tensor, it is recommended to use sourceTensor.clone().detach() or sourceTensor.clone().detach().requires_grad_(True), rather than torch.tensor(sourceTensor).\n",
      "  image, mask = torch.tensor(image).float(), torch.tensor(mask).float()\n",
      "/tmp/ipykernel_299334/3733926425.py:99: UserWarning: To copy construct from a tensor, it is recommended to use sourceTensor.clone().detach() or sourceTensor.clone().detach().requires_grad_(True), rather than torch.tensor(sourceTensor).\n",
      "  image, mask = torch.tensor(image).float(), torch.tensor(mask).float()\n",
      "/tmp/ipykernel_299334/3733926425.py:99: UserWarning: To copy construct from a tensor, it is recommended to use sourceTensor.clone().detach() or sourceTensor.clone().detach().requires_grad_(True), rather than torch.tensor(sourceTensor).\n",
      "  image, mask = torch.tensor(image).float(), torch.tensor(mask).float()\n",
      "/tmp/ipykernel_299334/3733926425.py:99: UserWarning: To copy construct from a tensor, it is recommended to use sourceTensor.clone().detach() or sourceTensor.clone().detach().requires_grad_(True), rather than torch.tensor(sourceTensor).\n",
      "  image, mask = torch.tensor(image).float(), torch.tensor(mask).float()\n",
      "smth:0.5685: 100%|██████████| 7/7 [03:46<00:00, 32.39s/it]\n",
      "smth:0.5690: 100%|██████████| 2/2 [02:24<00:00, 72.37s/it] \n"
     ]
    },
    {
     "name": "stdout",
     "output_type": "stream",
     "text": [
      "best th: 0.2 best dc: 0.003229367358694332\n",
      "Fri Jan 13 16:45:54 2023 Fold 0, Epoch 62, lr: 0.0030000, train loss: 0.56850, valid loss: 0.56902, metric: 0.003229.\n",
      "Fri Jan 13 16:45:54 2023 Epoch: 63\n"
     ]
    },
    {
     "name": "stderr",
     "output_type": "stream",
     "text": [
      "  0%|          | 0/7 [00:00<?, ?it/s]/tmp/ipykernel_299334/3733926425.py:99: UserWarning: To copy construct from a tensor, it is recommended to use sourceTensor.clone().detach() or sourceTensor.clone().detach().requires_grad_(True), rather than torch.tensor(sourceTensor).\n",
      "  image, mask = torch.tensor(image).float(), torch.tensor(mask).float()\n",
      "/tmp/ipykernel_299334/3733926425.py:99: UserWarning: To copy construct from a tensor, it is recommended to use sourceTensor.clone().detach() or sourceTensor.clone().detach().requires_grad_(True), rather than torch.tensor(sourceTensor).\n",
      "  image, mask = torch.tensor(image).float(), torch.tensor(mask).float()\n",
      "/tmp/ipykernel_299334/3733926425.py:99: UserWarning: To copy construct from a tensor, it is recommended to use sourceTensor.clone().detach() or sourceTensor.clone().detach().requires_grad_(True), rather than torch.tensor(sourceTensor).\n",
      "  image, mask = torch.tensor(image).float(), torch.tensor(mask).float()\n",
      "/tmp/ipykernel_299334/3733926425.py:99: UserWarning: To copy construct from a tensor, it is recommended to use sourceTensor.clone().detach() or sourceTensor.clone().detach().requires_grad_(True), rather than torch.tensor(sourceTensor).\n",
      "  image, mask = torch.tensor(image).float(), torch.tensor(mask).float()\n",
      "smth:0.5670: 100%|██████████| 7/7 [03:41<00:00, 31.61s/it] \n",
      "smth:0.5678: 100%|██████████| 2/2 [01:56<00:00, 58.01s/it] \n"
     ]
    },
    {
     "name": "stdout",
     "output_type": "stream",
     "text": [
      "best th: 0.2 best dc: 0.003094185584775845\n",
      "Fri Jan 13 16:51:31 2023 Fold 0, Epoch 63, lr: 0.0030000, train loss: 0.56702, valid loss: 0.56779, metric: 0.003094.\n",
      "Fri Jan 13 16:51:31 2023 Epoch: 64\n"
     ]
    },
    {
     "name": "stderr",
     "output_type": "stream",
     "text": [
      "  0%|          | 0/7 [00:00<?, ?it/s]/tmp/ipykernel_299334/3733926425.py:99: UserWarning: To copy construct from a tensor, it is recommended to use sourceTensor.clone().detach() or sourceTensor.clone().detach().requires_grad_(True), rather than torch.tensor(sourceTensor).\n",
      "  image, mask = torch.tensor(image).float(), torch.tensor(mask).float()\n",
      "/tmp/ipykernel_299334/3733926425.py:99: UserWarning: To copy construct from a tensor, it is recommended to use sourceTensor.clone().detach() or sourceTensor.clone().detach().requires_grad_(True), rather than torch.tensor(sourceTensor).\n",
      "  image, mask = torch.tensor(image).float(), torch.tensor(mask).float()\n",
      "/tmp/ipykernel_299334/3733926425.py:99: UserWarning: To copy construct from a tensor, it is recommended to use sourceTensor.clone().detach() or sourceTensor.clone().detach().requires_grad_(True), rather than torch.tensor(sourceTensor).\n",
      "  image, mask = torch.tensor(image).float(), torch.tensor(mask).float()\n",
      "/tmp/ipykernel_299334/3733926425.py:99: UserWarning: To copy construct from a tensor, it is recommended to use sourceTensor.clone().detach() or sourceTensor.clone().detach().requires_grad_(True), rather than torch.tensor(sourceTensor).\n",
      "  image, mask = torch.tensor(image).float(), torch.tensor(mask).float()\n",
      "smth:0.5660: 100%|██████████| 7/7 [03:22<00:00, 28.88s/it] \n",
      "smth:0.5666: 100%|██████████| 2/2 [01:45<00:00, 52.97s/it] \n"
     ]
    },
    {
     "name": "stdout",
     "output_type": "stream",
     "text": [
      "best th: 0.2 best dc: 0.002911658596251814\n",
      "Fri Jan 13 16:56:39 2023 Fold 0, Epoch 64, lr: 0.0030000, train loss: 0.56605, valid loss: 0.56657, metric: 0.002912.\n",
      "Fri Jan 13 16:56:39 2023 Epoch: 65\n"
     ]
    },
    {
     "name": "stderr",
     "output_type": "stream",
     "text": [
      "  0%|          | 0/7 [00:00<?, ?it/s]/tmp/ipykernel_299334/3733926425.py:99: UserWarning: To copy construct from a tensor, it is recommended to use sourceTensor.clone().detach() or sourceTensor.clone().detach().requires_grad_(True), rather than torch.tensor(sourceTensor).\n",
      "  image, mask = torch.tensor(image).float(), torch.tensor(mask).float()\n",
      "/tmp/ipykernel_299334/3733926425.py:99: UserWarning: To copy construct from a tensor, it is recommended to use sourceTensor.clone().detach() or sourceTensor.clone().detach().requires_grad_(True), rather than torch.tensor(sourceTensor).\n",
      "  image, mask = torch.tensor(image).float(), torch.tensor(mask).float()\n",
      "/tmp/ipykernel_299334/3733926425.py:99: UserWarning: To copy construct from a tensor, it is recommended to use sourceTensor.clone().detach() or sourceTensor.clone().detach().requires_grad_(True), rather than torch.tensor(sourceTensor).\n",
      "  image, mask = torch.tensor(image).float(), torch.tensor(mask).float()\n",
      "/tmp/ipykernel_299334/3733926425.py:99: UserWarning: To copy construct from a tensor, it is recommended to use sourceTensor.clone().detach() or sourceTensor.clone().detach().requires_grad_(True), rather than torch.tensor(sourceTensor).\n",
      "  image, mask = torch.tensor(image).float(), torch.tensor(mask).float()\n",
      "smth:0.5644: 100%|██████████| 7/7 [02:54<00:00, 24.92s/it]\n",
      "smth:0.5651: 100%|██████████| 2/2 [01:48<00:00, 54.01s/it] \n"
     ]
    },
    {
     "name": "stdout",
     "output_type": "stream",
     "text": [
      "best th: 0.2 best dc: 0.0027958966135415613\n",
      "Fri Jan 13 17:01:22 2023 Fold 0, Epoch 65, lr: 0.0030000, train loss: 0.56441, valid loss: 0.56514, metric: 0.002796.\n",
      "Fri Jan 13 17:01:22 2023 Epoch: 66\n"
     ]
    },
    {
     "name": "stderr",
     "output_type": "stream",
     "text": [
      "  0%|          | 0/7 [00:00<?, ?it/s]/tmp/ipykernel_299334/3733926425.py:99: UserWarning: To copy construct from a tensor, it is recommended to use sourceTensor.clone().detach() or sourceTensor.clone().detach().requires_grad_(True), rather than torch.tensor(sourceTensor).\n",
      "  image, mask = torch.tensor(image).float(), torch.tensor(mask).float()\n",
      "/tmp/ipykernel_299334/3733926425.py:99: UserWarning: To copy construct from a tensor, it is recommended to use sourceTensor.clone().detach() or sourceTensor.clone().detach().requires_grad_(True), rather than torch.tensor(sourceTensor).\n",
      "  image, mask = torch.tensor(image).float(), torch.tensor(mask).float()\n",
      "/tmp/ipykernel_299334/3733926425.py:99: UserWarning: To copy construct from a tensor, it is recommended to use sourceTensor.clone().detach() or sourceTensor.clone().detach().requires_grad_(True), rather than torch.tensor(sourceTensor).\n",
      "  image, mask = torch.tensor(image).float(), torch.tensor(mask).float()\n",
      "/tmp/ipykernel_299334/3733926425.py:99: UserWarning: To copy construct from a tensor, it is recommended to use sourceTensor.clone().detach() or sourceTensor.clone().detach().requires_grad_(True), rather than torch.tensor(sourceTensor).\n",
      "  image, mask = torch.tensor(image).float(), torch.tensor(mask).float()\n",
      "smth:0.5629: 100%|██████████| 7/7 [02:57<00:00, 25.42s/it]\n",
      "smth:0.5638: 100%|██████████| 2/2 [01:52<00:00, 56.34s/it] \n"
     ]
    },
    {
     "name": "stdout",
     "output_type": "stream",
     "text": [
      "best th: 0.2 best dc: 0.0027093430545084\n",
      "Fri Jan 13 17:06:13 2023 Fold 0, Epoch 66, lr: 0.0030000, train loss: 0.56288, valid loss: 0.56378, metric: 0.002709.\n",
      "Fri Jan 13 17:06:13 2023 Epoch: 67\n"
     ]
    },
    {
     "name": "stderr",
     "output_type": "stream",
     "text": [
      "  0%|          | 0/7 [00:00<?, ?it/s]/tmp/ipykernel_299334/3733926425.py:99: UserWarning: To copy construct from a tensor, it is recommended to use sourceTensor.clone().detach() or sourceTensor.clone().detach().requires_grad_(True), rather than torch.tensor(sourceTensor).\n",
      "  image, mask = torch.tensor(image).float(), torch.tensor(mask).float()\n",
      "/tmp/ipykernel_299334/3733926425.py:99: UserWarning: To copy construct from a tensor, it is recommended to use sourceTensor.clone().detach() or sourceTensor.clone().detach().requires_grad_(True), rather than torch.tensor(sourceTensor).\n",
      "  image, mask = torch.tensor(image).float(), torch.tensor(mask).float()\n",
      "/tmp/ipykernel_299334/3733926425.py:99: UserWarning: To copy construct from a tensor, it is recommended to use sourceTensor.clone().detach() or sourceTensor.clone().detach().requires_grad_(True), rather than torch.tensor(sourceTensor).\n",
      "  image, mask = torch.tensor(image).float(), torch.tensor(mask).float()\n",
      "/tmp/ipykernel_299334/3733926425.py:99: UserWarning: To copy construct from a tensor, it is recommended to use sourceTensor.clone().detach() or sourceTensor.clone().detach().requires_grad_(True), rather than torch.tensor(sourceTensor).\n",
      "  image, mask = torch.tensor(image).float(), torch.tensor(mask).float()\n",
      "smth:0.5617: 100%|██████████| 7/7 [02:51<00:00, 24.49s/it]\n",
      "smth:0.5623: 100%|██████████| 2/2 [01:47<00:00, 53.85s/it] \n"
     ]
    },
    {
     "name": "stdout",
     "output_type": "stream",
     "text": [
      "best th: 0.2 best dc: 0.0026453749271795673\n",
      "Fri Jan 13 17:10:52 2023 Fold 0, Epoch 67, lr: 0.0030000, train loss: 0.56171, valid loss: 0.56232, metric: 0.002645.\n",
      "Fri Jan 13 17:10:52 2023 Epoch: 68\n"
     ]
    },
    {
     "name": "stderr",
     "output_type": "stream",
     "text": [
      "  0%|          | 0/7 [00:00<?, ?it/s]/tmp/ipykernel_299334/3733926425.py:99: UserWarning: To copy construct from a tensor, it is recommended to use sourceTensor.clone().detach() or sourceTensor.clone().detach().requires_grad_(True), rather than torch.tensor(sourceTensor).\n",
      "  image, mask = torch.tensor(image).float(), torch.tensor(mask).float()\n",
      "/tmp/ipykernel_299334/3733926425.py:99: UserWarning: To copy construct from a tensor, it is recommended to use sourceTensor.clone().detach() or sourceTensor.clone().detach().requires_grad_(True), rather than torch.tensor(sourceTensor).\n",
      "  image, mask = torch.tensor(image).float(), torch.tensor(mask).float()\n",
      "/tmp/ipykernel_299334/3733926425.py:99: UserWarning: To copy construct from a tensor, it is recommended to use sourceTensor.clone().detach() or sourceTensor.clone().detach().requires_grad_(True), rather than torch.tensor(sourceTensor).\n",
      "  image, mask = torch.tensor(image).float(), torch.tensor(mask).float()\n",
      "/tmp/ipykernel_299334/3733926425.py:99: UserWarning: To copy construct from a tensor, it is recommended to use sourceTensor.clone().detach() or sourceTensor.clone().detach().requires_grad_(True), rather than torch.tensor(sourceTensor).\n",
      "  image, mask = torch.tensor(image).float(), torch.tensor(mask).float()\n",
      "smth:0.5608: 100%|██████████| 7/7 [03:05<00:00, 26.52s/it] \n",
      "smth:0.5614: 100%|██████████| 2/2 [01:45<00:00, 52.84s/it] \n"
     ]
    },
    {
     "name": "stdout",
     "output_type": "stream",
     "text": [
      "best th: 0.2 best dc: 0.002559334522852571\n",
      "Fri Jan 13 17:15:44 2023 Fold 0, Epoch 68, lr: 0.0030000, train loss: 0.56079, valid loss: 0.56137, metric: 0.002559.\n",
      "Fri Jan 13 17:15:44 2023 Epoch: 69\n"
     ]
    },
    {
     "name": "stderr",
     "output_type": "stream",
     "text": [
      "  0%|          | 0/7 [00:00<?, ?it/s]/tmp/ipykernel_299334/3733926425.py:99: UserWarning: To copy construct from a tensor, it is recommended to use sourceTensor.clone().detach() or sourceTensor.clone().detach().requires_grad_(True), rather than torch.tensor(sourceTensor).\n",
      "  image, mask = torch.tensor(image).float(), torch.tensor(mask).float()\n",
      "/tmp/ipykernel_299334/3733926425.py:99: UserWarning: To copy construct from a tensor, it is recommended to use sourceTensor.clone().detach() or sourceTensor.clone().detach().requires_grad_(True), rather than torch.tensor(sourceTensor).\n",
      "  image, mask = torch.tensor(image).float(), torch.tensor(mask).float()\n",
      "/tmp/ipykernel_299334/3733926425.py:99: UserWarning: To copy construct from a tensor, it is recommended to use sourceTensor.clone().detach() or sourceTensor.clone().detach().requires_grad_(True), rather than torch.tensor(sourceTensor).\n",
      "  image, mask = torch.tensor(image).float(), torch.tensor(mask).float()\n",
      "/tmp/ipykernel_299334/3733926425.py:99: UserWarning: To copy construct from a tensor, it is recommended to use sourceTensor.clone().detach() or sourceTensor.clone().detach().requires_grad_(True), rather than torch.tensor(sourceTensor).\n",
      "  image, mask = torch.tensor(image).float(), torch.tensor(mask).float()\n",
      "smth:0.5598: 100%|██████████| 7/7 [02:59<00:00, 25.60s/it] \n",
      "smth:0.5606: 100%|██████████| 2/2 [01:44<00:00, 52.43s/it] \n"
     ]
    },
    {
     "name": "stdout",
     "output_type": "stream",
     "text": [
      "best th: 0.2 best dc: 0.002442391031743732\n",
      "Fri Jan 13 17:20:28 2023 Fold 0, Epoch 69, lr: 0.0030000, train loss: 0.55977, valid loss: 0.56062, metric: 0.002442.\n",
      "Fri Jan 13 17:20:28 2023 Epoch: 70\n"
     ]
    },
    {
     "name": "stderr",
     "output_type": "stream",
     "text": [
      "  0%|          | 0/7 [00:00<?, ?it/s]/tmp/ipykernel_299334/3733926425.py:99: UserWarning: To copy construct from a tensor, it is recommended to use sourceTensor.clone().detach() or sourceTensor.clone().detach().requires_grad_(True), rather than torch.tensor(sourceTensor).\n",
      "  image, mask = torch.tensor(image).float(), torch.tensor(mask).float()\n",
      "/tmp/ipykernel_299334/3733926425.py:99: UserWarning: To copy construct from a tensor, it is recommended to use sourceTensor.clone().detach() or sourceTensor.clone().detach().requires_grad_(True), rather than torch.tensor(sourceTensor).\n",
      "  image, mask = torch.tensor(image).float(), torch.tensor(mask).float()\n",
      "/tmp/ipykernel_299334/3733926425.py:99: UserWarning: To copy construct from a tensor, it is recommended to use sourceTensor.clone().detach() or sourceTensor.clone().detach().requires_grad_(True), rather than torch.tensor(sourceTensor).\n",
      "  image, mask = torch.tensor(image).float(), torch.tensor(mask).float()\n",
      "/tmp/ipykernel_299334/3733926425.py:99: UserWarning: To copy construct from a tensor, it is recommended to use sourceTensor.clone().detach() or sourceTensor.clone().detach().requires_grad_(True), rather than torch.tensor(sourceTensor).\n",
      "  image, mask = torch.tensor(image).float(), torch.tensor(mask).float()\n",
      "smth:0.5587: 100%|██████████| 7/7 [03:17<00:00, 28.18s/it]\n",
      "smth:0.5589: 100%|██████████| 2/2 [01:46<00:00, 53.19s/it] \n"
     ]
    },
    {
     "name": "stdout",
     "output_type": "stream",
     "text": [
      "best th: 0.2 best dc: 0.00242303077949179\n",
      "Fri Jan 13 17:25:32 2023 Fold 0, Epoch 70, lr: 0.0030000, train loss: 0.55868, valid loss: 0.55889, metric: 0.002423.\n",
      "Fri Jan 13 17:25:32 2023 Epoch: 71\n"
     ]
    },
    {
     "name": "stderr",
     "output_type": "stream",
     "text": [
      "  0%|          | 0/7 [00:00<?, ?it/s]/tmp/ipykernel_299334/3733926425.py:99: UserWarning: To copy construct from a tensor, it is recommended to use sourceTensor.clone().detach() or sourceTensor.clone().detach().requires_grad_(True), rather than torch.tensor(sourceTensor).\n",
      "  image, mask = torch.tensor(image).float(), torch.tensor(mask).float()\n",
      "/tmp/ipykernel_299334/3733926425.py:99: UserWarning: To copy construct from a tensor, it is recommended to use sourceTensor.clone().detach() or sourceTensor.clone().detach().requires_grad_(True), rather than torch.tensor(sourceTensor).\n",
      "  image, mask = torch.tensor(image).float(), torch.tensor(mask).float()\n",
      "/tmp/ipykernel_299334/3733926425.py:99: UserWarning: To copy construct from a tensor, it is recommended to use sourceTensor.clone().detach() or sourceTensor.clone().detach().requires_grad_(True), rather than torch.tensor(sourceTensor).\n",
      "  image, mask = torch.tensor(image).float(), torch.tensor(mask).float()\n",
      "/tmp/ipykernel_299334/3733926425.py:99: UserWarning: To copy construct from a tensor, it is recommended to use sourceTensor.clone().detach() or sourceTensor.clone().detach().requires_grad_(True), rather than torch.tensor(sourceTensor).\n",
      "  image, mask = torch.tensor(image).float(), torch.tensor(mask).float()\n",
      "smth:0.5574: 100%|██████████| 7/7 [03:19<00:00, 28.44s/it]\n",
      "smth:0.5580: 100%|██████████| 2/2 [01:47<00:00, 53.59s/it] \n"
     ]
    },
    {
     "name": "stdout",
     "output_type": "stream",
     "text": [
      "best th: 0.2 best dc: 0.002310902203253306\n",
      "Fri Jan 13 17:30:38 2023 Fold 0, Epoch 71, lr: 0.0030000, train loss: 0.55744, valid loss: 0.55804, metric: 0.002311.\n",
      "Fri Jan 13 17:30:38 2023 Epoch: 72\n"
     ]
    },
    {
     "name": "stderr",
     "output_type": "stream",
     "text": [
      "  0%|          | 0/7 [00:00<?, ?it/s]/tmp/ipykernel_299334/3733926425.py:99: UserWarning: To copy construct from a tensor, it is recommended to use sourceTensor.clone().detach() or sourceTensor.clone().detach().requires_grad_(True), rather than torch.tensor(sourceTensor).\n",
      "  image, mask = torch.tensor(image).float(), torch.tensor(mask).float()\n",
      "/tmp/ipykernel_299334/3733926425.py:99: UserWarning: To copy construct from a tensor, it is recommended to use sourceTensor.clone().detach() or sourceTensor.clone().detach().requires_grad_(True), rather than torch.tensor(sourceTensor).\n",
      "  image, mask = torch.tensor(image).float(), torch.tensor(mask).float()\n",
      "/tmp/ipykernel_299334/3733926425.py:99: UserWarning: To copy construct from a tensor, it is recommended to use sourceTensor.clone().detach() or sourceTensor.clone().detach().requires_grad_(True), rather than torch.tensor(sourceTensor).\n",
      "  image, mask = torch.tensor(image).float(), torch.tensor(mask).float()\n",
      "/tmp/ipykernel_299334/3733926425.py:99: UserWarning: To copy construct from a tensor, it is recommended to use sourceTensor.clone().detach() or sourceTensor.clone().detach().requires_grad_(True), rather than torch.tensor(sourceTensor).\n",
      "  image, mask = torch.tensor(image).float(), torch.tensor(mask).float()\n",
      "smth:0.5566: 100%|██████████| 7/7 [02:58<00:00, 25.46s/it]\n",
      "smth:0.5570: 100%|██████████| 2/2 [01:45<00:00, 52.91s/it] \n"
     ]
    },
    {
     "name": "stdout",
     "output_type": "stream",
     "text": [
      "best th: 0.2 best dc: 0.0021876582563126385\n",
      "Fri Jan 13 17:35:22 2023 Fold 0, Epoch 72, lr: 0.0030000, train loss: 0.55657, valid loss: 0.55701, metric: 0.002188.\n",
      "Fri Jan 13 17:35:22 2023 Epoch: 73\n"
     ]
    },
    {
     "name": "stderr",
     "output_type": "stream",
     "text": [
      "  0%|          | 0/7 [00:00<?, ?it/s]/tmp/ipykernel_299334/3733926425.py:99: UserWarning: To copy construct from a tensor, it is recommended to use sourceTensor.clone().detach() or sourceTensor.clone().detach().requires_grad_(True), rather than torch.tensor(sourceTensor).\n",
      "  image, mask = torch.tensor(image).float(), torch.tensor(mask).float()\n",
      "/tmp/ipykernel_299334/3733926425.py:99: UserWarning: To copy construct from a tensor, it is recommended to use sourceTensor.clone().detach() or sourceTensor.clone().detach().requires_grad_(True), rather than torch.tensor(sourceTensor).\n",
      "  image, mask = torch.tensor(image).float(), torch.tensor(mask).float()\n",
      "/tmp/ipykernel_299334/3733926425.py:99: UserWarning: To copy construct from a tensor, it is recommended to use sourceTensor.clone().detach() or sourceTensor.clone().detach().requires_grad_(True), rather than torch.tensor(sourceTensor).\n",
      "  image, mask = torch.tensor(image).float(), torch.tensor(mask).float()\n",
      "/tmp/ipykernel_299334/3733926425.py:99: UserWarning: To copy construct from a tensor, it is recommended to use sourceTensor.clone().detach() or sourceTensor.clone().detach().requires_grad_(True), rather than torch.tensor(sourceTensor).\n",
      "  image, mask = torch.tensor(image).float(), torch.tensor(mask).float()\n",
      "smth:0.5556: 100%|██████████| 7/7 [03:00<00:00, 25.81s/it]\n",
      "smth:0.5560: 100%|██████████| 2/2 [01:47<00:00, 53.75s/it] \n"
     ]
    },
    {
     "name": "stdout",
     "output_type": "stream",
     "text": [
      "best th: 0.2 best dc: 0.0022381055158738387\n",
      "Fri Jan 13 17:40:11 2023 Fold 0, Epoch 73, lr: 0.0030000, train loss: 0.55565, valid loss: 0.55599, metric: 0.002238.\n",
      "Fri Jan 13 17:40:11 2023 Epoch: 74\n"
     ]
    },
    {
     "name": "stderr",
     "output_type": "stream",
     "text": [
      "  0%|          | 0/7 [00:00<?, ?it/s]/tmp/ipykernel_299334/3733926425.py:99: UserWarning: To copy construct from a tensor, it is recommended to use sourceTensor.clone().detach() or sourceTensor.clone().detach().requires_grad_(True), rather than torch.tensor(sourceTensor).\n",
      "  image, mask = torch.tensor(image).float(), torch.tensor(mask).float()\n",
      "/tmp/ipykernel_299334/3733926425.py:99: UserWarning: To copy construct from a tensor, it is recommended to use sourceTensor.clone().detach() or sourceTensor.clone().detach().requires_grad_(True), rather than torch.tensor(sourceTensor).\n",
      "  image, mask = torch.tensor(image).float(), torch.tensor(mask).float()\n",
      "/tmp/ipykernel_299334/3733926425.py:99: UserWarning: To copy construct from a tensor, it is recommended to use sourceTensor.clone().detach() or sourceTensor.clone().detach().requires_grad_(True), rather than torch.tensor(sourceTensor).\n",
      "  image, mask = torch.tensor(image).float(), torch.tensor(mask).float()\n",
      "/tmp/ipykernel_299334/3733926425.py:99: UserWarning: To copy construct from a tensor, it is recommended to use sourceTensor.clone().detach() or sourceTensor.clone().detach().requires_grad_(True), rather than torch.tensor(sourceTensor).\n",
      "  image, mask = torch.tensor(image).float(), torch.tensor(mask).float()\n",
      "smth:0.5549: 100%|██████████| 7/7 [03:07<00:00, 26.85s/it]\n",
      "smth:0.5552: 100%|██████████| 2/2 [01:41<00:00, 50.66s/it]\n"
     ]
    },
    {
     "name": "stdout",
     "output_type": "stream",
     "text": [
      "best th: 0.2 best dc: 0.002113625859043232\n",
      "Fri Jan 13 17:45:00 2023 Fold 0, Epoch 74, lr: 0.0030000, train loss: 0.55490, valid loss: 0.55516, metric: 0.002114.\n",
      "Fri Jan 13 17:45:00 2023 Epoch: 75\n"
     ]
    },
    {
     "name": "stderr",
     "output_type": "stream",
     "text": [
      "  0%|          | 0/7 [00:00<?, ?it/s]/tmp/ipykernel_299334/3733926425.py:99: UserWarning: To copy construct from a tensor, it is recommended to use sourceTensor.clone().detach() or sourceTensor.clone().detach().requires_grad_(True), rather than torch.tensor(sourceTensor).\n",
      "  image, mask = torch.tensor(image).float(), torch.tensor(mask).float()\n",
      "/tmp/ipykernel_299334/3733926425.py:99: UserWarning: To copy construct from a tensor, it is recommended to use sourceTensor.clone().detach() or sourceTensor.clone().detach().requires_grad_(True), rather than torch.tensor(sourceTensor).\n",
      "  image, mask = torch.tensor(image).float(), torch.tensor(mask).float()\n",
      "/tmp/ipykernel_299334/3733926425.py:99: UserWarning: To copy construct from a tensor, it is recommended to use sourceTensor.clone().detach() or sourceTensor.clone().detach().requires_grad_(True), rather than torch.tensor(sourceTensor).\n",
      "  image, mask = torch.tensor(image).float(), torch.tensor(mask).float()\n",
      "/tmp/ipykernel_299334/3733926425.py:99: UserWarning: To copy construct from a tensor, it is recommended to use sourceTensor.clone().detach() or sourceTensor.clone().detach().requires_grad_(True), rather than torch.tensor(sourceTensor).\n",
      "  image, mask = torch.tensor(image).float(), torch.tensor(mask).float()\n",
      "smth:0.5540: 100%|██████████| 7/7 [03:31<00:00, 30.21s/it]\n",
      "smth:0.5542: 100%|██████████| 2/2 [01:48<00:00, 54.37s/it] \n"
     ]
    },
    {
     "name": "stdout",
     "output_type": "stream",
     "text": [
      "best th: 0.2 best dc: 0.0020612054896946845\n",
      "Fri Jan 13 17:50:20 2023 Fold 0, Epoch 75, lr: 0.0030000, train loss: 0.55400, valid loss: 0.55421, metric: 0.002061.\n",
      "Fri Jan 13 17:50:20 2023 Epoch: 76\n"
     ]
    },
    {
     "name": "stderr",
     "output_type": "stream",
     "text": [
      "  0%|          | 0/7 [00:00<?, ?it/s]/tmp/ipykernel_299334/3733926425.py:99: UserWarning: To copy construct from a tensor, it is recommended to use sourceTensor.clone().detach() or sourceTensor.clone().detach().requires_grad_(True), rather than torch.tensor(sourceTensor).\n",
      "  image, mask = torch.tensor(image).float(), torch.tensor(mask).float()\n",
      "/tmp/ipykernel_299334/3733926425.py:99: UserWarning: To copy construct from a tensor, it is recommended to use sourceTensor.clone().detach() or sourceTensor.clone().detach().requires_grad_(True), rather than torch.tensor(sourceTensor).\n",
      "  image, mask = torch.tensor(image).float(), torch.tensor(mask).float()\n",
      "/tmp/ipykernel_299334/3733926425.py:99: UserWarning: To copy construct from a tensor, it is recommended to use sourceTensor.clone().detach() or sourceTensor.clone().detach().requires_grad_(True), rather than torch.tensor(sourceTensor).\n",
      "  image, mask = torch.tensor(image).float(), torch.tensor(mask).float()\n",
      "/tmp/ipykernel_299334/3733926425.py:99: UserWarning: To copy construct from a tensor, it is recommended to use sourceTensor.clone().detach() or sourceTensor.clone().detach().requires_grad_(True), rather than torch.tensor(sourceTensor).\n",
      "  image, mask = torch.tensor(image).float(), torch.tensor(mask).float()\n",
      "smth:0.5528: 100%|██████████| 7/7 [03:02<00:00, 26.02s/it]\n",
      "smth:0.5534: 100%|██████████| 2/2 [01:42<00:00, 51.35s/it]\n"
     ]
    },
    {
     "name": "stdout",
     "output_type": "stream",
     "text": [
      "best th: 0.2 best dc: 0.001954389205662388\n",
      "Fri Jan 13 17:55:05 2023 Fold 0, Epoch 76, lr: 0.0030000, train loss: 0.55281, valid loss: 0.55338, metric: 0.001954.\n",
      "Fri Jan 13 17:55:05 2023 Epoch: 77\n"
     ]
    },
    {
     "name": "stderr",
     "output_type": "stream",
     "text": [
      "  0%|          | 0/7 [00:00<?, ?it/s]/tmp/ipykernel_299334/3733926425.py:99: UserWarning: To copy construct from a tensor, it is recommended to use sourceTensor.clone().detach() or sourceTensor.clone().detach().requires_grad_(True), rather than torch.tensor(sourceTensor).\n",
      "  image, mask = torch.tensor(image).float(), torch.tensor(mask).float()\n",
      "/tmp/ipykernel_299334/3733926425.py:99: UserWarning: To copy construct from a tensor, it is recommended to use sourceTensor.clone().detach() or sourceTensor.clone().detach().requires_grad_(True), rather than torch.tensor(sourceTensor).\n",
      "  image, mask = torch.tensor(image).float(), torch.tensor(mask).float()\n",
      "/tmp/ipykernel_299334/3733926425.py:99: UserWarning: To copy construct from a tensor, it is recommended to use sourceTensor.clone().detach() or sourceTensor.clone().detach().requires_grad_(True), rather than torch.tensor(sourceTensor).\n",
      "  image, mask = torch.tensor(image).float(), torch.tensor(mask).float()\n",
      "/tmp/ipykernel_299334/3733926425.py:99: UserWarning: To copy construct from a tensor, it is recommended to use sourceTensor.clone().detach() or sourceTensor.clone().detach().requires_grad_(True), rather than torch.tensor(sourceTensor).\n",
      "  image, mask = torch.tensor(image).float(), torch.tensor(mask).float()\n",
      "smth:0.5521: 100%|██████████| 7/7 [03:01<00:00, 25.96s/it] \n",
      "smth:0.5524: 100%|██████████| 2/2 [01:46<00:00, 53.25s/it] \n"
     ]
    },
    {
     "name": "stdout",
     "output_type": "stream",
     "text": [
      "best th: 0.2 best dc: 0.0018194982913228885\n",
      "Fri Jan 13 17:59:54 2023 Fold 0, Epoch 77, lr: 0.0030000, train loss: 0.55213, valid loss: 0.55245, metric: 0.001819.\n",
      "Fri Jan 13 17:59:54 2023 Epoch: 78\n"
     ]
    },
    {
     "name": "stderr",
     "output_type": "stream",
     "text": [
      "  0%|          | 0/7 [00:00<?, ?it/s]/tmp/ipykernel_299334/3733926425.py:99: UserWarning: To copy construct from a tensor, it is recommended to use sourceTensor.clone().detach() or sourceTensor.clone().detach().requires_grad_(True), rather than torch.tensor(sourceTensor).\n",
      "  image, mask = torch.tensor(image).float(), torch.tensor(mask).float()\n",
      "/tmp/ipykernel_299334/3733926425.py:99: UserWarning: To copy construct from a tensor, it is recommended to use sourceTensor.clone().detach() or sourceTensor.clone().detach().requires_grad_(True), rather than torch.tensor(sourceTensor).\n",
      "  image, mask = torch.tensor(image).float(), torch.tensor(mask).float()\n",
      "/tmp/ipykernel_299334/3733926425.py:99: UserWarning: To copy construct from a tensor, it is recommended to use sourceTensor.clone().detach() or sourceTensor.clone().detach().requires_grad_(True), rather than torch.tensor(sourceTensor).\n",
      "  image, mask = torch.tensor(image).float(), torch.tensor(mask).float()\n",
      "/tmp/ipykernel_299334/3733926425.py:99: UserWarning: To copy construct from a tensor, it is recommended to use sourceTensor.clone().detach() or sourceTensor.clone().detach().requires_grad_(True), rather than torch.tensor(sourceTensor).\n",
      "  image, mask = torch.tensor(image).float(), torch.tensor(mask).float()\n",
      "smth:0.5512: 100%|██████████| 7/7 [03:04<00:00, 26.35s/it]\n",
      "smth:0.5514: 100%|██████████| 2/2 [01:47<00:00, 53.57s/it] \n"
     ]
    },
    {
     "name": "stdout",
     "output_type": "stream",
     "text": [
      "best th: 0.2 best dc: 0.00182853459538778\n",
      "Fri Jan 13 18:04:46 2023 Fold 0, Epoch 78, lr: 0.0030000, train loss: 0.55124, valid loss: 0.55145, metric: 0.001829.\n",
      "Fri Jan 13 18:04:46 2023 Epoch: 79\n"
     ]
    },
    {
     "name": "stderr",
     "output_type": "stream",
     "text": [
      "  0%|          | 0/7 [00:00<?, ?it/s]/tmp/ipykernel_299334/3733926425.py:99: UserWarning: To copy construct from a tensor, it is recommended to use sourceTensor.clone().detach() or sourceTensor.clone().detach().requires_grad_(True), rather than torch.tensor(sourceTensor).\n",
      "  image, mask = torch.tensor(image).float(), torch.tensor(mask).float()\n",
      "/tmp/ipykernel_299334/3733926425.py:99: UserWarning: To copy construct from a tensor, it is recommended to use sourceTensor.clone().detach() or sourceTensor.clone().detach().requires_grad_(True), rather than torch.tensor(sourceTensor).\n",
      "  image, mask = torch.tensor(image).float(), torch.tensor(mask).float()\n",
      "/tmp/ipykernel_299334/3733926425.py:99: UserWarning: To copy construct from a tensor, it is recommended to use sourceTensor.clone().detach() or sourceTensor.clone().detach().requires_grad_(True), rather than torch.tensor(sourceTensor).\n",
      "  image, mask = torch.tensor(image).float(), torch.tensor(mask).float()\n",
      "/tmp/ipykernel_299334/3733926425.py:99: UserWarning: To copy construct from a tensor, it is recommended to use sourceTensor.clone().detach() or sourceTensor.clone().detach().requires_grad_(True), rather than torch.tensor(sourceTensor).\n",
      "  image, mask = torch.tensor(image).float(), torch.tensor(mask).float()\n",
      "smth:0.5505: 100%|██████████| 7/7 [02:58<00:00, 25.48s/it] \n",
      "smth:0.5505: 100%|██████████| 2/2 [01:44<00:00, 52.20s/it]\n"
     ]
    },
    {
     "name": "stdout",
     "output_type": "stream",
     "text": [
      "best th: 0.2 best dc: 0.0017273556317139271\n",
      "Fri Jan 13 18:09:29 2023 Fold 0, Epoch 79, lr: 0.0030000, train loss: 0.55050, valid loss: 0.55046, metric: 0.001727.\n",
      "Fri Jan 13 18:09:29 2023 Epoch: 80\n"
     ]
    },
    {
     "name": "stderr",
     "output_type": "stream",
     "text": [
      "  0%|          | 0/7 [00:00<?, ?it/s]/tmp/ipykernel_299334/3733926425.py:99: UserWarning: To copy construct from a tensor, it is recommended to use sourceTensor.clone().detach() or sourceTensor.clone().detach().requires_grad_(True), rather than torch.tensor(sourceTensor).\n",
      "  image, mask = torch.tensor(image).float(), torch.tensor(mask).float()\n",
      "/tmp/ipykernel_299334/3733926425.py:99: UserWarning: To copy construct from a tensor, it is recommended to use sourceTensor.clone().detach() or sourceTensor.clone().detach().requires_grad_(True), rather than torch.tensor(sourceTensor).\n",
      "  image, mask = torch.tensor(image).float(), torch.tensor(mask).float()\n",
      "/tmp/ipykernel_299334/3733926425.py:99: UserWarning: To copy construct from a tensor, it is recommended to use sourceTensor.clone().detach() or sourceTensor.clone().detach().requires_grad_(True), rather than torch.tensor(sourceTensor).\n",
      "  image, mask = torch.tensor(image).float(), torch.tensor(mask).float()\n",
      "/tmp/ipykernel_299334/3733926425.py:99: UserWarning: To copy construct from a tensor, it is recommended to use sourceTensor.clone().detach() or sourceTensor.clone().detach().requires_grad_(True), rather than torch.tensor(sourceTensor).\n",
      "  image, mask = torch.tensor(image).float(), torch.tensor(mask).float()\n",
      "smth:0.5498: 100%|██████████| 7/7 [02:54<00:00, 24.89s/it]\n",
      "smth:0.5498: 100%|██████████| 2/2 [01:48<00:00, 54.40s/it] \n"
     ]
    },
    {
     "name": "stdout",
     "output_type": "stream",
     "text": [
      "best th: 0.2 best dc: 0.0015815622651624733\n",
      "Fri Jan 13 18:14:12 2023 Fold 0, Epoch 80, lr: 0.0030000, train loss: 0.54978, valid loss: 0.54983, metric: 0.001582.\n",
      "Fri Jan 13 18:14:12 2023 Epoch: 81\n"
     ]
    },
    {
     "name": "stderr",
     "output_type": "stream",
     "text": [
      "  0%|          | 0/7 [00:00<?, ?it/s]/tmp/ipykernel_299334/3733926425.py:99: UserWarning: To copy construct from a tensor, it is recommended to use sourceTensor.clone().detach() or sourceTensor.clone().detach().requires_grad_(True), rather than torch.tensor(sourceTensor).\n",
      "  image, mask = torch.tensor(image).float(), torch.tensor(mask).float()\n",
      "/tmp/ipykernel_299334/3733926425.py:99: UserWarning: To copy construct from a tensor, it is recommended to use sourceTensor.clone().detach() or sourceTensor.clone().detach().requires_grad_(True), rather than torch.tensor(sourceTensor).\n",
      "  image, mask = torch.tensor(image).float(), torch.tensor(mask).float()\n",
      "/tmp/ipykernel_299334/3733926425.py:99: UserWarning: To copy construct from a tensor, it is recommended to use sourceTensor.clone().detach() or sourceTensor.clone().detach().requires_grad_(True), rather than torch.tensor(sourceTensor).\n",
      "  image, mask = torch.tensor(image).float(), torch.tensor(mask).float()\n",
      "/tmp/ipykernel_299334/3733926425.py:99: UserWarning: To copy construct from a tensor, it is recommended to use sourceTensor.clone().detach() or sourceTensor.clone().detach().requires_grad_(True), rather than torch.tensor(sourceTensor).\n",
      "  image, mask = torch.tensor(image).float(), torch.tensor(mask).float()\n",
      "smth:0.5491: 100%|██████████| 7/7 [03:19<00:00, 28.47s/it]\n",
      "smth:0.5492: 100%|██████████| 2/2 [01:47<00:00, 53.82s/it] \n"
     ]
    },
    {
     "name": "stdout",
     "output_type": "stream",
     "text": [
      "best th: 0.2 best dc: 0.001421453558946935\n",
      "Fri Jan 13 18:19:19 2023 Fold 0, Epoch 81, lr: 0.0030000, train loss: 0.54911, valid loss: 0.54923, metric: 0.001421.\n",
      "Fri Jan 13 18:19:19 2023 Epoch: 82\n"
     ]
    },
    {
     "name": "stderr",
     "output_type": "stream",
     "text": [
      "  0%|          | 0/7 [00:00<?, ?it/s]/tmp/ipykernel_299334/3733926425.py:99: UserWarning: To copy construct from a tensor, it is recommended to use sourceTensor.clone().detach() or sourceTensor.clone().detach().requires_grad_(True), rather than torch.tensor(sourceTensor).\n",
      "  image, mask = torch.tensor(image).float(), torch.tensor(mask).float()\n",
      "/tmp/ipykernel_299334/3733926425.py:99: UserWarning: To copy construct from a tensor, it is recommended to use sourceTensor.clone().detach() or sourceTensor.clone().detach().requires_grad_(True), rather than torch.tensor(sourceTensor).\n",
      "  image, mask = torch.tensor(image).float(), torch.tensor(mask).float()\n",
      "/tmp/ipykernel_299334/3733926425.py:99: UserWarning: To copy construct from a tensor, it is recommended to use sourceTensor.clone().detach() or sourceTensor.clone().detach().requires_grad_(True), rather than torch.tensor(sourceTensor).\n",
      "  image, mask = torch.tensor(image).float(), torch.tensor(mask).float()\n",
      "/tmp/ipykernel_299334/3733926425.py:99: UserWarning: To copy construct from a tensor, it is recommended to use sourceTensor.clone().detach() or sourceTensor.clone().detach().requires_grad_(True), rather than torch.tensor(sourceTensor).\n",
      "  image, mask = torch.tensor(image).float(), torch.tensor(mask).float()\n",
      "smth:0.5482: 100%|██████████| 7/7 [03:22<00:00, 28.86s/it]\n",
      "smth:0.5484: 100%|██████████| 2/2 [01:46<00:00, 53.25s/it] \n"
     ]
    },
    {
     "name": "stdout",
     "output_type": "stream",
     "text": [
      "best th: 0.2 best dc: 0.0013904321824469393\n",
      "Fri Jan 13 18:24:27 2023 Fold 0, Epoch 82, lr: 0.0030000, train loss: 0.54821, valid loss: 0.54844, metric: 0.001390.\n",
      "Fri Jan 13 18:24:27 2023 Epoch: 83\n"
     ]
    },
    {
     "name": "stderr",
     "output_type": "stream",
     "text": [
      "  0%|          | 0/7 [00:00<?, ?it/s]/tmp/ipykernel_299334/3733926425.py:99: UserWarning: To copy construct from a tensor, it is recommended to use sourceTensor.clone().detach() or sourceTensor.clone().detach().requires_grad_(True), rather than torch.tensor(sourceTensor).\n",
      "  image, mask = torch.tensor(image).float(), torch.tensor(mask).float()\n",
      "/tmp/ipykernel_299334/3733926425.py:99: UserWarning: To copy construct from a tensor, it is recommended to use sourceTensor.clone().detach() or sourceTensor.clone().detach().requires_grad_(True), rather than torch.tensor(sourceTensor).\n",
      "  image, mask = torch.tensor(image).float(), torch.tensor(mask).float()\n",
      "/tmp/ipykernel_299334/3733926425.py:99: UserWarning: To copy construct from a tensor, it is recommended to use sourceTensor.clone().detach() or sourceTensor.clone().detach().requires_grad_(True), rather than torch.tensor(sourceTensor).\n",
      "  image, mask = torch.tensor(image).float(), torch.tensor(mask).float()\n",
      "/tmp/ipykernel_299334/3733926425.py:99: UserWarning: To copy construct from a tensor, it is recommended to use sourceTensor.clone().detach() or sourceTensor.clone().detach().requires_grad_(True), rather than torch.tensor(sourceTensor).\n",
      "  image, mask = torch.tensor(image).float(), torch.tensor(mask).float()\n",
      "smth:0.5475: 100%|██████████| 7/7 [02:59<00:00, 25.60s/it]\n",
      "smth:0.5476: 100%|██████████| 2/2 [01:50<00:00, 55.05s/it] \n"
     ]
    },
    {
     "name": "stdout",
     "output_type": "stream",
     "text": [
      "best th: 0.2 best dc: 0.0013872220991521598\n",
      "Fri Jan 13 18:29:17 2023 Fold 0, Epoch 83, lr: 0.0030000, train loss: 0.54749, valid loss: 0.54760, metric: 0.001387.\n",
      "Fri Jan 13 18:29:17 2023 Epoch: 84\n"
     ]
    },
    {
     "name": "stderr",
     "output_type": "stream",
     "text": [
      "  0%|          | 0/7 [00:00<?, ?it/s]/tmp/ipykernel_299334/3733926425.py:99: UserWarning: To copy construct from a tensor, it is recommended to use sourceTensor.clone().detach() or sourceTensor.clone().detach().requires_grad_(True), rather than torch.tensor(sourceTensor).\n",
      "  image, mask = torch.tensor(image).float(), torch.tensor(mask).float()\n",
      "/tmp/ipykernel_299334/3733926425.py:99: UserWarning: To copy construct from a tensor, it is recommended to use sourceTensor.clone().detach() or sourceTensor.clone().detach().requires_grad_(True), rather than torch.tensor(sourceTensor).\n",
      "  image, mask = torch.tensor(image).float(), torch.tensor(mask).float()\n",
      "/tmp/ipykernel_299334/3733926425.py:99: UserWarning: To copy construct from a tensor, it is recommended to use sourceTensor.clone().detach() or sourceTensor.clone().detach().requires_grad_(True), rather than torch.tensor(sourceTensor).\n",
      "  image, mask = torch.tensor(image).float(), torch.tensor(mask).float()\n",
      "/tmp/ipykernel_299334/3733926425.py:99: UserWarning: To copy construct from a tensor, it is recommended to use sourceTensor.clone().detach() or sourceTensor.clone().detach().requires_grad_(True), rather than torch.tensor(sourceTensor).\n",
      "  image, mask = torch.tensor(image).float(), torch.tensor(mask).float()\n",
      "smth:0.5472: 100%|██████████| 7/7 [02:58<00:00, 25.51s/it]\n",
      "smth:0.5473: 100%|██████████| 2/2 [01:43<00:00, 51.71s/it]\n"
     ]
    },
    {
     "name": "stdout",
     "output_type": "stream",
     "text": [
      "best th: 0.2 best dc: 0.0012879473771489514\n",
      "Fri Jan 13 18:33:59 2023 Fold 0, Epoch 84, lr: 0.0030000, train loss: 0.54724, valid loss: 0.54728, metric: 0.001288.\n",
      "Fri Jan 13 18:33:59 2023 Epoch: 85\n"
     ]
    },
    {
     "name": "stderr",
     "output_type": "stream",
     "text": [
      "  0%|          | 0/7 [00:00<?, ?it/s]/tmp/ipykernel_299334/3733926425.py:99: UserWarning: To copy construct from a tensor, it is recommended to use sourceTensor.clone().detach() or sourceTensor.clone().detach().requires_grad_(True), rather than torch.tensor(sourceTensor).\n",
      "  image, mask = torch.tensor(image).float(), torch.tensor(mask).float()\n",
      "/tmp/ipykernel_299334/3733926425.py:99: UserWarning: To copy construct from a tensor, it is recommended to use sourceTensor.clone().detach() or sourceTensor.clone().detach().requires_grad_(True), rather than torch.tensor(sourceTensor).\n",
      "  image, mask = torch.tensor(image).float(), torch.tensor(mask).float()\n",
      "/tmp/ipykernel_299334/3733926425.py:99: UserWarning: To copy construct from a tensor, it is recommended to use sourceTensor.clone().detach() or sourceTensor.clone().detach().requires_grad_(True), rather than torch.tensor(sourceTensor).\n",
      "  image, mask = torch.tensor(image).float(), torch.tensor(mask).float()\n",
      "/tmp/ipykernel_299334/3733926425.py:99: UserWarning: To copy construct from a tensor, it is recommended to use sourceTensor.clone().detach() or sourceTensor.clone().detach().requires_grad_(True), rather than torch.tensor(sourceTensor).\n",
      "  image, mask = torch.tensor(image).float(), torch.tensor(mask).float()\n",
      "smth:0.5462: 100%|██████████| 7/7 [03:03<00:00, 26.19s/it]\n",
      "smth:0.5466: 100%|██████████| 2/2 [01:48<00:00, 54.40s/it] \n"
     ]
    },
    {
     "name": "stdout",
     "output_type": "stream",
     "text": [
      "best th: 0.2 best dc: 0.0012541238690112874\n",
      "Fri Jan 13 18:38:51 2023 Fold 0, Epoch 85, lr: 0.0030000, train loss: 0.54620, valid loss: 0.54661, metric: 0.001254.\n",
      "Fri Jan 13 18:38:51 2023 Epoch: 86\n"
     ]
    },
    {
     "name": "stderr",
     "output_type": "stream",
     "text": [
      "  0%|          | 0/7 [00:00<?, ?it/s]/tmp/ipykernel_299334/3733926425.py:99: UserWarning: To copy construct from a tensor, it is recommended to use sourceTensor.clone().detach() or sourceTensor.clone().detach().requires_grad_(True), rather than torch.tensor(sourceTensor).\n",
      "  image, mask = torch.tensor(image).float(), torch.tensor(mask).float()\n",
      "/tmp/ipykernel_299334/3733926425.py:99: UserWarning: To copy construct from a tensor, it is recommended to use sourceTensor.clone().detach() or sourceTensor.clone().detach().requires_grad_(True), rather than torch.tensor(sourceTensor).\n",
      "  image, mask = torch.tensor(image).float(), torch.tensor(mask).float()\n",
      "/tmp/ipykernel_299334/3733926425.py:99: UserWarning: To copy construct from a tensor, it is recommended to use sourceTensor.clone().detach() or sourceTensor.clone().detach().requires_grad_(True), rather than torch.tensor(sourceTensor).\n",
      "  image, mask = torch.tensor(image).float(), torch.tensor(mask).float()\n",
      "/tmp/ipykernel_299334/3733926425.py:99: UserWarning: To copy construct from a tensor, it is recommended to use sourceTensor.clone().detach() or sourceTensor.clone().detach().requires_grad_(True), rather than torch.tensor(sourceTensor).\n",
      "  image, mask = torch.tensor(image).float(), torch.tensor(mask).float()\n",
      "smth:0.5456: 100%|██████████| 7/7 [02:51<00:00, 24.45s/it]\n",
      "smth:0.5459: 100%|██████████| 2/2 [01:49<00:00, 54.61s/it] \n"
     ]
    },
    {
     "name": "stdout",
     "output_type": "stream",
     "text": [
      "best th: 0.2 best dc: 0.0011948324083222947\n",
      "Fri Jan 13 18:43:32 2023 Fold 0, Epoch 86, lr: 0.0030000, train loss: 0.54563, valid loss: 0.54585, metric: 0.001195.\n",
      "Fri Jan 13 18:43:32 2023 Epoch: 87\n"
     ]
    },
    {
     "name": "stderr",
     "output_type": "stream",
     "text": [
      "  0%|          | 0/7 [00:00<?, ?it/s]/tmp/ipykernel_299334/3733926425.py:99: UserWarning: To copy construct from a tensor, it is recommended to use sourceTensor.clone().detach() or sourceTensor.clone().detach().requires_grad_(True), rather than torch.tensor(sourceTensor).\n",
      "  image, mask = torch.tensor(image).float(), torch.tensor(mask).float()\n",
      "/tmp/ipykernel_299334/3733926425.py:99: UserWarning: To copy construct from a tensor, it is recommended to use sourceTensor.clone().detach() or sourceTensor.clone().detach().requires_grad_(True), rather than torch.tensor(sourceTensor).\n",
      "  image, mask = torch.tensor(image).float(), torch.tensor(mask).float()\n",
      "/tmp/ipykernel_299334/3733926425.py:99: UserWarning: To copy construct from a tensor, it is recommended to use sourceTensor.clone().detach() or sourceTensor.clone().detach().requires_grad_(True), rather than torch.tensor(sourceTensor).\n",
      "  image, mask = torch.tensor(image).float(), torch.tensor(mask).float()\n",
      "/tmp/ipykernel_299334/3733926425.py:99: UserWarning: To copy construct from a tensor, it is recommended to use sourceTensor.clone().detach() or sourceTensor.clone().detach().requires_grad_(True), rather than torch.tensor(sourceTensor).\n",
      "  image, mask = torch.tensor(image).float(), torch.tensor(mask).float()\n",
      "smth:0.5448: 100%|██████████| 7/7 [03:05<00:00, 26.54s/it]\n",
      "smth:0.5452: 100%|██████████| 2/2 [01:44<00:00, 52.49s/it] \n"
     ]
    },
    {
     "name": "stdout",
     "output_type": "stream",
     "text": [
      "best th: 0.2 best dc: 0.0011453878609031963\n",
      "Fri Jan 13 18:48:23 2023 Fold 0, Epoch 87, lr: 0.0030000, train loss: 0.54482, valid loss: 0.54517, metric: 0.001145.\n",
      "Fri Jan 13 18:48:23 2023 Epoch: 88\n"
     ]
    },
    {
     "name": "stderr",
     "output_type": "stream",
     "text": [
      "  0%|          | 0/7 [00:00<?, ?it/s]/tmp/ipykernel_299334/3733926425.py:99: UserWarning: To copy construct from a tensor, it is recommended to use sourceTensor.clone().detach() or sourceTensor.clone().detach().requires_grad_(True), rather than torch.tensor(sourceTensor).\n",
      "  image, mask = torch.tensor(image).float(), torch.tensor(mask).float()\n",
      "/tmp/ipykernel_299334/3733926425.py:99: UserWarning: To copy construct from a tensor, it is recommended to use sourceTensor.clone().detach() or sourceTensor.clone().detach().requires_grad_(True), rather than torch.tensor(sourceTensor).\n",
      "  image, mask = torch.tensor(image).float(), torch.tensor(mask).float()\n",
      "/tmp/ipykernel_299334/3733926425.py:99: UserWarning: To copy construct from a tensor, it is recommended to use sourceTensor.clone().detach() or sourceTensor.clone().detach().requires_grad_(True), rather than torch.tensor(sourceTensor).\n",
      "  image, mask = torch.tensor(image).float(), torch.tensor(mask).float()\n",
      "/tmp/ipykernel_299334/3733926425.py:99: UserWarning: To copy construct from a tensor, it is recommended to use sourceTensor.clone().detach() or sourceTensor.clone().detach().requires_grad_(True), rather than torch.tensor(sourceTensor).\n",
      "  image, mask = torch.tensor(image).float(), torch.tensor(mask).float()\n",
      "smth:0.5441: 100%|██████████| 7/7 [03:13<00:00, 27.62s/it]\n",
      "smth:0.5446: 100%|██████████| 2/2 [01:47<00:00, 53.89s/it] \n"
     ]
    },
    {
     "name": "stdout",
     "output_type": "stream",
     "text": [
      "best th: 0.2 best dc: 0.0011039641888528203\n",
      "Fri Jan 13 18:53:24 2023 Fold 0, Epoch 88, lr: 0.0030000, train loss: 0.54411, valid loss: 0.54457, metric: 0.001104.\n",
      "Fri Jan 13 18:53:24 2023 Epoch: 89\n"
     ]
    },
    {
     "name": "stderr",
     "output_type": "stream",
     "text": [
      "  0%|          | 0/7 [00:00<?, ?it/s]/tmp/ipykernel_299334/3733926425.py:99: UserWarning: To copy construct from a tensor, it is recommended to use sourceTensor.clone().detach() or sourceTensor.clone().detach().requires_grad_(True), rather than torch.tensor(sourceTensor).\n",
      "  image, mask = torch.tensor(image).float(), torch.tensor(mask).float()\n",
      "/tmp/ipykernel_299334/3733926425.py:99: UserWarning: To copy construct from a tensor, it is recommended to use sourceTensor.clone().detach() or sourceTensor.clone().detach().requires_grad_(True), rather than torch.tensor(sourceTensor).\n",
      "  image, mask = torch.tensor(image).float(), torch.tensor(mask).float()\n",
      "/tmp/ipykernel_299334/3733926425.py:99: UserWarning: To copy construct from a tensor, it is recommended to use sourceTensor.clone().detach() or sourceTensor.clone().detach().requires_grad_(True), rather than torch.tensor(sourceTensor).\n",
      "  image, mask = torch.tensor(image).float(), torch.tensor(mask).float()\n",
      "/tmp/ipykernel_299334/3733926425.py:99: UserWarning: To copy construct from a tensor, it is recommended to use sourceTensor.clone().detach() or sourceTensor.clone().detach().requires_grad_(True), rather than torch.tensor(sourceTensor).\n",
      "  image, mask = torch.tensor(image).float(), torch.tensor(mask).float()\n",
      "smth:0.5437: 100%|██████████| 7/7 [03:05<00:00, 26.50s/it] \n",
      "smth:0.5440: 100%|██████████| 2/2 [01:47<00:00, 53.89s/it] \n"
     ]
    },
    {
     "name": "stdout",
     "output_type": "stream",
     "text": [
      "best th: 0.2 best dc: 0.0010313482870093523\n",
      "Fri Jan 13 18:58:18 2023 Fold 0, Epoch 89, lr: 0.0030000, train loss: 0.54372, valid loss: 0.54403, metric: 0.001031.\n",
      "Fri Jan 13 18:58:18 2023 Epoch: 90\n"
     ]
    },
    {
     "name": "stderr",
     "output_type": "stream",
     "text": [
      "  0%|          | 0/7 [00:00<?, ?it/s]/tmp/ipykernel_299334/3733926425.py:99: UserWarning: To copy construct from a tensor, it is recommended to use sourceTensor.clone().detach() or sourceTensor.clone().detach().requires_grad_(True), rather than torch.tensor(sourceTensor).\n",
      "  image, mask = torch.tensor(image).float(), torch.tensor(mask).float()\n",
      "/tmp/ipykernel_299334/3733926425.py:99: UserWarning: To copy construct from a tensor, it is recommended to use sourceTensor.clone().detach() or sourceTensor.clone().detach().requires_grad_(True), rather than torch.tensor(sourceTensor).\n",
      "  image, mask = torch.tensor(image).float(), torch.tensor(mask).float()\n",
      "/tmp/ipykernel_299334/3733926425.py:99: UserWarning: To copy construct from a tensor, it is recommended to use sourceTensor.clone().detach() or sourceTensor.clone().detach().requires_grad_(True), rather than torch.tensor(sourceTensor).\n",
      "  image, mask = torch.tensor(image).float(), torch.tensor(mask).float()\n",
      "/tmp/ipykernel_299334/3733926425.py:99: UserWarning: To copy construct from a tensor, it is recommended to use sourceTensor.clone().detach() or sourceTensor.clone().detach().requires_grad_(True), rather than torch.tensor(sourceTensor).\n",
      "  image, mask = torch.tensor(image).float(), torch.tensor(mask).float()\n",
      "smth:0.5431: 100%|██████████| 7/7 [03:06<00:00, 26.58s/it]\n",
      "smth:0.5436: 100%|██████████| 2/2 [01:44<00:00, 52.18s/it]\n"
     ]
    },
    {
     "name": "stdout",
     "output_type": "stream",
     "text": [
      "best th: 0.2 best dc: 0.0009797868834447456\n",
      "Fri Jan 13 19:03:08 2023 Fold 0, Epoch 90, lr: 0.0030000, train loss: 0.54306, valid loss: 0.54357, metric: 0.000980.\n",
      "Fri Jan 13 19:03:08 2023 Epoch: 91\n"
     ]
    },
    {
     "name": "stderr",
     "output_type": "stream",
     "text": [
      "  0%|          | 0/7 [00:00<?, ?it/s]/tmp/ipykernel_299334/3733926425.py:99: UserWarning: To copy construct from a tensor, it is recommended to use sourceTensor.clone().detach() or sourceTensor.clone().detach().requires_grad_(True), rather than torch.tensor(sourceTensor).\n",
      "  image, mask = torch.tensor(image).float(), torch.tensor(mask).float()\n",
      "/tmp/ipykernel_299334/3733926425.py:99: UserWarning: To copy construct from a tensor, it is recommended to use sourceTensor.clone().detach() or sourceTensor.clone().detach().requires_grad_(True), rather than torch.tensor(sourceTensor).\n",
      "  image, mask = torch.tensor(image).float(), torch.tensor(mask).float()\n",
      "/tmp/ipykernel_299334/3733926425.py:99: UserWarning: To copy construct from a tensor, it is recommended to use sourceTensor.clone().detach() or sourceTensor.clone().detach().requires_grad_(True), rather than torch.tensor(sourceTensor).\n",
      "  image, mask = torch.tensor(image).float(), torch.tensor(mask).float()\n",
      "/tmp/ipykernel_299334/3733926425.py:99: UserWarning: To copy construct from a tensor, it is recommended to use sourceTensor.clone().detach() or sourceTensor.clone().detach().requires_grad_(True), rather than torch.tensor(sourceTensor).\n",
      "  image, mask = torch.tensor(image).float(), torch.tensor(mask).float()\n",
      "smth:0.5426: 100%|██████████| 7/7 [03:17<00:00, 28.24s/it] \n",
      "smth:0.5428: 100%|██████████| 2/2 [01:41<00:00, 50.96s/it]\n"
     ]
    },
    {
     "name": "stdout",
     "output_type": "stream",
     "text": [
      "best th: 0.2 best dc: 0.0009384097279183944\n",
      "Fri Jan 13 19:08:08 2023 Fold 0, Epoch 91, lr: 0.0030000, train loss: 0.54261, valid loss: 0.54277, metric: 0.000938.\n",
      "Fri Jan 13 19:08:08 2023 Epoch: 92\n"
     ]
    },
    {
     "name": "stderr",
     "output_type": "stream",
     "text": [
      "  0%|          | 0/7 [00:00<?, ?it/s]/tmp/ipykernel_299334/3733926425.py:99: UserWarning: To copy construct from a tensor, it is recommended to use sourceTensor.clone().detach() or sourceTensor.clone().detach().requires_grad_(True), rather than torch.tensor(sourceTensor).\n",
      "  image, mask = torch.tensor(image).float(), torch.tensor(mask).float()\n",
      "/tmp/ipykernel_299334/3733926425.py:99: UserWarning: To copy construct from a tensor, it is recommended to use sourceTensor.clone().detach() or sourceTensor.clone().detach().requires_grad_(True), rather than torch.tensor(sourceTensor).\n",
      "  image, mask = torch.tensor(image).float(), torch.tensor(mask).float()\n",
      "/tmp/ipykernel_299334/3733926425.py:99: UserWarning: To copy construct from a tensor, it is recommended to use sourceTensor.clone().detach() or sourceTensor.clone().detach().requires_grad_(True), rather than torch.tensor(sourceTensor).\n",
      "  image, mask = torch.tensor(image).float(), torch.tensor(mask).float()\n",
      "/tmp/ipykernel_299334/3733926425.py:99: UserWarning: To copy construct from a tensor, it is recommended to use sourceTensor.clone().detach() or sourceTensor.clone().detach().requires_grad_(True), rather than torch.tensor(sourceTensor).\n",
      "  image, mask = torch.tensor(image).float(), torch.tensor(mask).float()\n",
      "smth:0.5420: 100%|██████████| 7/7 [03:06<00:00, 26.59s/it]\n",
      "smth:0.5424: 100%|██████████| 2/2 [01:45<00:00, 52.54s/it] \n"
     ]
    },
    {
     "name": "stdout",
     "output_type": "stream",
     "text": [
      "best th: 0.2 best dc: 0.0009185143764650134\n",
      "Fri Jan 13 19:12:59 2023 Fold 0, Epoch 92, lr: 0.0030000, train loss: 0.54201, valid loss: 0.54237, metric: 0.000919.\n",
      "Fri Jan 13 19:12:59 2023 Epoch: 93\n"
     ]
    },
    {
     "name": "stderr",
     "output_type": "stream",
     "text": [
      "  0%|          | 0/7 [00:00<?, ?it/s]/tmp/ipykernel_299334/3733926425.py:99: UserWarning: To copy construct from a tensor, it is recommended to use sourceTensor.clone().detach() or sourceTensor.clone().detach().requires_grad_(True), rather than torch.tensor(sourceTensor).\n",
      "  image, mask = torch.tensor(image).float(), torch.tensor(mask).float()\n",
      "/tmp/ipykernel_299334/3733926425.py:99: UserWarning: To copy construct from a tensor, it is recommended to use sourceTensor.clone().detach() or sourceTensor.clone().detach().requires_grad_(True), rather than torch.tensor(sourceTensor).\n",
      "  image, mask = torch.tensor(image).float(), torch.tensor(mask).float()\n",
      "/tmp/ipykernel_299334/3733926425.py:99: UserWarning: To copy construct from a tensor, it is recommended to use sourceTensor.clone().detach() or sourceTensor.clone().detach().requires_grad_(True), rather than torch.tensor(sourceTensor).\n",
      "  image, mask = torch.tensor(image).float(), torch.tensor(mask).float()\n",
      "/tmp/ipykernel_299334/3733926425.py:99: UserWarning: To copy construct from a tensor, it is recommended to use sourceTensor.clone().detach() or sourceTensor.clone().detach().requires_grad_(True), rather than torch.tensor(sourceTensor).\n",
      "  image, mask = torch.tensor(image).float(), torch.tensor(mask).float()\n",
      "smth:0.5412: 100%|██████████| 7/7 [03:00<00:00, 25.72s/it]\n",
      "smth:0.5417: 100%|██████████| 2/2 [01:46<00:00, 53.23s/it] \n"
     ]
    },
    {
     "name": "stdout",
     "output_type": "stream",
     "text": [
      "best th: 0.2 best dc: 0.0008960617664738968\n",
      "Fri Jan 13 19:17:46 2023 Fold 0, Epoch 93, lr: 0.0030000, train loss: 0.54120, valid loss: 0.54169, metric: 0.000896.\n",
      "Fri Jan 13 19:17:46 2023 Epoch: 94\n"
     ]
    },
    {
     "name": "stderr",
     "output_type": "stream",
     "text": [
      "  0%|          | 0/7 [00:00<?, ?it/s]/tmp/ipykernel_299334/3733926425.py:99: UserWarning: To copy construct from a tensor, it is recommended to use sourceTensor.clone().detach() or sourceTensor.clone().detach().requires_grad_(True), rather than torch.tensor(sourceTensor).\n",
      "  image, mask = torch.tensor(image).float(), torch.tensor(mask).float()\n",
      "/tmp/ipykernel_299334/3733926425.py:99: UserWarning: To copy construct from a tensor, it is recommended to use sourceTensor.clone().detach() or sourceTensor.clone().detach().requires_grad_(True), rather than torch.tensor(sourceTensor).\n",
      "  image, mask = torch.tensor(image).float(), torch.tensor(mask).float()\n",
      "/tmp/ipykernel_299334/3733926425.py:99: UserWarning: To copy construct from a tensor, it is recommended to use sourceTensor.clone().detach() or sourceTensor.clone().detach().requires_grad_(True), rather than torch.tensor(sourceTensor).\n",
      "  image, mask = torch.tensor(image).float(), torch.tensor(mask).float()\n",
      "/tmp/ipykernel_299334/3733926425.py:99: UserWarning: To copy construct from a tensor, it is recommended to use sourceTensor.clone().detach() or sourceTensor.clone().detach().requires_grad_(True), rather than torch.tensor(sourceTensor).\n",
      "  image, mask = torch.tensor(image).float(), torch.tensor(mask).float()\n",
      "smth:0.5407: 100%|██████████| 7/7 [03:09<00:00, 27.06s/it] \n",
      "smth:0.5410: 100%|██████████| 2/2 [01:49<00:00, 54.53s/it] \n"
     ]
    },
    {
     "name": "stdout",
     "output_type": "stream",
     "text": [
      "best th: 0.2 best dc: 0.0008653077757059492\n",
      "Fri Jan 13 19:22:45 2023 Fold 0, Epoch 94, lr: 0.0030000, train loss: 0.54070, valid loss: 0.54096, metric: 0.000865.\n",
      "Fri Jan 13 19:22:45 2023 Epoch: 95\n"
     ]
    },
    {
     "name": "stderr",
     "output_type": "stream",
     "text": [
      "  0%|          | 0/7 [00:00<?, ?it/s]/tmp/ipykernel_299334/3733926425.py:99: UserWarning: To copy construct from a tensor, it is recommended to use sourceTensor.clone().detach() or sourceTensor.clone().detach().requires_grad_(True), rather than torch.tensor(sourceTensor).\n",
      "  image, mask = torch.tensor(image).float(), torch.tensor(mask).float()\n",
      "/tmp/ipykernel_299334/3733926425.py:99: UserWarning: To copy construct from a tensor, it is recommended to use sourceTensor.clone().detach() or sourceTensor.clone().detach().requires_grad_(True), rather than torch.tensor(sourceTensor).\n",
      "  image, mask = torch.tensor(image).float(), torch.tensor(mask).float()\n",
      "/tmp/ipykernel_299334/3733926425.py:99: UserWarning: To copy construct from a tensor, it is recommended to use sourceTensor.clone().detach() or sourceTensor.clone().detach().requires_grad_(True), rather than torch.tensor(sourceTensor).\n",
      "  image, mask = torch.tensor(image).float(), torch.tensor(mask).float()\n",
      "/tmp/ipykernel_299334/3733926425.py:99: UserWarning: To copy construct from a tensor, it is recommended to use sourceTensor.clone().detach() or sourceTensor.clone().detach().requires_grad_(True), rather than torch.tensor(sourceTensor).\n",
      "  image, mask = torch.tensor(image).float(), torch.tensor(mask).float()\n",
      "smth:0.5401: 100%|██████████| 7/7 [03:00<00:00, 25.72s/it]\n",
      "smth:0.5406: 100%|██████████| 2/2 [01:46<00:00, 53.47s/it] \n"
     ]
    },
    {
     "name": "stdout",
     "output_type": "stream",
     "text": [
      "best th: 0.2 best dc: 0.0008071582509086063\n",
      "Fri Jan 13 19:27:32 2023 Fold 0, Epoch 95, lr: 0.0030000, train loss: 0.54009, valid loss: 0.54061, metric: 0.000807.\n",
      "Fri Jan 13 19:27:32 2023 Epoch: 96\n"
     ]
    },
    {
     "name": "stderr",
     "output_type": "stream",
     "text": [
      "  0%|          | 0/7 [00:00<?, ?it/s]/tmp/ipykernel_299334/3733926425.py:99: UserWarning: To copy construct from a tensor, it is recommended to use sourceTensor.clone().detach() or sourceTensor.clone().detach().requires_grad_(True), rather than torch.tensor(sourceTensor).\n",
      "  image, mask = torch.tensor(image).float(), torch.tensor(mask).float()\n",
      "/tmp/ipykernel_299334/3733926425.py:99: UserWarning: To copy construct from a tensor, it is recommended to use sourceTensor.clone().detach() or sourceTensor.clone().detach().requires_grad_(True), rather than torch.tensor(sourceTensor).\n",
      "  image, mask = torch.tensor(image).float(), torch.tensor(mask).float()\n",
      "/tmp/ipykernel_299334/3733926425.py:99: UserWarning: To copy construct from a tensor, it is recommended to use sourceTensor.clone().detach() or sourceTensor.clone().detach().requires_grad_(True), rather than torch.tensor(sourceTensor).\n",
      "  image, mask = torch.tensor(image).float(), torch.tensor(mask).float()\n",
      "/tmp/ipykernel_299334/3733926425.py:99: UserWarning: To copy construct from a tensor, it is recommended to use sourceTensor.clone().detach() or sourceTensor.clone().detach().requires_grad_(True), rather than torch.tensor(sourceTensor).\n",
      "  image, mask = torch.tensor(image).float(), torch.tensor(mask).float()\n",
      "smth:0.5399: 100%|██████████| 7/7 [03:02<00:00, 26.01s/it]\n",
      "smth:0.5401: 100%|██████████| 2/2 [01:48<00:00, 54.10s/it] \n"
     ]
    },
    {
     "name": "stdout",
     "output_type": "stream",
     "text": [
      "best th: 0.2 best dc: 0.0008015393835981508\n",
      "Fri Jan 13 19:32:22 2023 Fold 0, Epoch 96, lr: 0.0030000, train loss: 0.53990, valid loss: 0.54014, metric: 0.000802.\n",
      "Fri Jan 13 19:32:22 2023 Epoch: 97\n"
     ]
    },
    {
     "name": "stderr",
     "output_type": "stream",
     "text": [
      "  0%|          | 0/7 [00:00<?, ?it/s]/tmp/ipykernel_299334/3733926425.py:99: UserWarning: To copy construct from a tensor, it is recommended to use sourceTensor.clone().detach() or sourceTensor.clone().detach().requires_grad_(True), rather than torch.tensor(sourceTensor).\n",
      "  image, mask = torch.tensor(image).float(), torch.tensor(mask).float()\n",
      "/tmp/ipykernel_299334/3733926425.py:99: UserWarning: To copy construct from a tensor, it is recommended to use sourceTensor.clone().detach() or sourceTensor.clone().detach().requires_grad_(True), rather than torch.tensor(sourceTensor).\n",
      "  image, mask = torch.tensor(image).float(), torch.tensor(mask).float()\n",
      "/tmp/ipykernel_299334/3733926425.py:99: UserWarning: To copy construct from a tensor, it is recommended to use sourceTensor.clone().detach() or sourceTensor.clone().detach().requires_grad_(True), rather than torch.tensor(sourceTensor).\n",
      "  image, mask = torch.tensor(image).float(), torch.tensor(mask).float()\n",
      "/tmp/ipykernel_299334/3733926425.py:99: UserWarning: To copy construct from a tensor, it is recommended to use sourceTensor.clone().detach() or sourceTensor.clone().detach().requires_grad_(True), rather than torch.tensor(sourceTensor).\n",
      "  image, mask = torch.tensor(image).float(), torch.tensor(mask).float()\n",
      "smth:0.5391: 100%|██████████| 7/7 [03:04<00:00, 26.35s/it]\n",
      "smth:0.5396: 100%|██████████| 2/2 [01:43<00:00, 51.93s/it]\n"
     ]
    },
    {
     "name": "stdout",
     "output_type": "stream",
     "text": [
      "best th: 0.2 best dc: 0.0007887718569949498\n",
      "Fri Jan 13 19:37:11 2023 Fold 0, Epoch 97, lr: 0.0030000, train loss: 0.53912, valid loss: 0.53957, metric: 0.000789.\n",
      "Fri Jan 13 19:37:11 2023 Epoch: 98\n"
     ]
    },
    {
     "name": "stderr",
     "output_type": "stream",
     "text": [
      "  0%|          | 0/7 [00:00<?, ?it/s]/tmp/ipykernel_299334/3733926425.py:99: UserWarning: To copy construct from a tensor, it is recommended to use sourceTensor.clone().detach() or sourceTensor.clone().detach().requires_grad_(True), rather than torch.tensor(sourceTensor).\n",
      "  image, mask = torch.tensor(image).float(), torch.tensor(mask).float()\n",
      "/tmp/ipykernel_299334/3733926425.py:99: UserWarning: To copy construct from a tensor, it is recommended to use sourceTensor.clone().detach() or sourceTensor.clone().detach().requires_grad_(True), rather than torch.tensor(sourceTensor).\n",
      "  image, mask = torch.tensor(image).float(), torch.tensor(mask).float()\n",
      "/tmp/ipykernel_299334/3733926425.py:99: UserWarning: To copy construct from a tensor, it is recommended to use sourceTensor.clone().detach() or sourceTensor.clone().detach().requires_grad_(True), rather than torch.tensor(sourceTensor).\n",
      "  image, mask = torch.tensor(image).float(), torch.tensor(mask).float()\n",
      "/tmp/ipykernel_299334/3733926425.py:99: UserWarning: To copy construct from a tensor, it is recommended to use sourceTensor.clone().detach() or sourceTensor.clone().detach().requires_grad_(True), rather than torch.tensor(sourceTensor).\n",
      "  image, mask = torch.tensor(image).float(), torch.tensor(mask).float()\n",
      "smth:0.5387: 100%|██████████| 7/7 [03:02<00:00, 26.05s/it]\n",
      "smth:0.5393: 100%|██████████| 2/2 [01:47<00:00, 53.98s/it] \n"
     ]
    },
    {
     "name": "stdout",
     "output_type": "stream",
     "text": [
      "best th: 0.2 best dc: 0.0007224911603447031\n",
      "Fri Jan 13 19:42:01 2023 Fold 0, Epoch 98, lr: 0.0030000, train loss: 0.53869, valid loss: 0.53930, metric: 0.000722.\n",
      "Fri Jan 13 19:42:01 2023 Epoch: 99\n"
     ]
    },
    {
     "name": "stderr",
     "output_type": "stream",
     "text": [
      "  0%|          | 0/7 [00:00<?, ?it/s]/tmp/ipykernel_299334/3733926425.py:99: UserWarning: To copy construct from a tensor, it is recommended to use sourceTensor.clone().detach() or sourceTensor.clone().detach().requires_grad_(True), rather than torch.tensor(sourceTensor).\n",
      "  image, mask = torch.tensor(image).float(), torch.tensor(mask).float()\n",
      "/tmp/ipykernel_299334/3733926425.py:99: UserWarning: To copy construct from a tensor, it is recommended to use sourceTensor.clone().detach() or sourceTensor.clone().detach().requires_grad_(True), rather than torch.tensor(sourceTensor).\n",
      "  image, mask = torch.tensor(image).float(), torch.tensor(mask).float()\n",
      "/tmp/ipykernel_299334/3733926425.py:99: UserWarning: To copy construct from a tensor, it is recommended to use sourceTensor.clone().detach() or sourceTensor.clone().detach().requires_grad_(True), rather than torch.tensor(sourceTensor).\n",
      "  image, mask = torch.tensor(image).float(), torch.tensor(mask).float()\n",
      "/tmp/ipykernel_299334/3733926425.py:99: UserWarning: To copy construct from a tensor, it is recommended to use sourceTensor.clone().detach() or sourceTensor.clone().detach().requires_grad_(True), rather than torch.tensor(sourceTensor).\n",
      "  image, mask = torch.tensor(image).float(), torch.tensor(mask).float()\n",
      "smth:0.5382: 100%|██████████| 7/7 [03:04<00:00, 26.29s/it]\n",
      "smth:0.5389: 100%|██████████| 2/2 [01:47<00:00, 53.72s/it] \n"
     ]
    },
    {
     "name": "stdout",
     "output_type": "stream",
     "text": [
      "best th: 0.2 best dc: 0.0007109045795020101\n",
      "Fri Jan 13 19:46:53 2023 Fold 0, Epoch 99, lr: 0.0030000, train loss: 0.53817, valid loss: 0.53887, metric: 0.000711.\n",
      "Fri Jan 13 19:46:53 2023 Epoch: 100\n"
     ]
    },
    {
     "name": "stderr",
     "output_type": "stream",
     "text": [
      "  0%|          | 0/7 [00:00<?, ?it/s]/tmp/ipykernel_299334/3733926425.py:99: UserWarning: To copy construct from a tensor, it is recommended to use sourceTensor.clone().detach() or sourceTensor.clone().detach().requires_grad_(True), rather than torch.tensor(sourceTensor).\n",
      "  image, mask = torch.tensor(image).float(), torch.tensor(mask).float()\n",
      "/tmp/ipykernel_299334/3733926425.py:99: UserWarning: To copy construct from a tensor, it is recommended to use sourceTensor.clone().detach() or sourceTensor.clone().detach().requires_grad_(True), rather than torch.tensor(sourceTensor).\n",
      "  image, mask = torch.tensor(image).float(), torch.tensor(mask).float()\n",
      "/tmp/ipykernel_299334/3733926425.py:99: UserWarning: To copy construct from a tensor, it is recommended to use sourceTensor.clone().detach() or sourceTensor.clone().detach().requires_grad_(True), rather than torch.tensor(sourceTensor).\n",
      "  image, mask = torch.tensor(image).float(), torch.tensor(mask).float()\n",
      "/tmp/ipykernel_299334/3733926425.py:99: UserWarning: To copy construct from a tensor, it is recommended to use sourceTensor.clone().detach() or sourceTensor.clone().detach().requires_grad_(True), rather than torch.tensor(sourceTensor).\n",
      "  image, mask = torch.tensor(image).float(), torch.tensor(mask).float()\n",
      "smth:0.5376: 100%|██████████| 7/7 [03:07<00:00, 26.74s/it]\n",
      "smth:0.5383: 100%|██████████| 2/2 [01:47<00:00, 53.59s/it] \n"
     ]
    },
    {
     "name": "stdout",
     "output_type": "stream",
     "text": [
      "best th: 0.2 best dc: 0.0006584764872238632\n",
      "Fri Jan 13 19:51:48 2023 Fold 0, Epoch 100, lr: 0.0030000, train loss: 0.53762, valid loss: 0.53828, metric: 0.000658.\n",
      "Fri Jan 13 19:51:48 2023 Epoch: 101\n"
     ]
    },
    {
     "name": "stderr",
     "output_type": "stream",
     "text": [
      "  0%|          | 0/7 [00:00<?, ?it/s]/tmp/ipykernel_299334/3733926425.py:99: UserWarning: To copy construct from a tensor, it is recommended to use sourceTensor.clone().detach() or sourceTensor.clone().detach().requires_grad_(True), rather than torch.tensor(sourceTensor).\n",
      "  image, mask = torch.tensor(image).float(), torch.tensor(mask).float()\n",
      "/tmp/ipykernel_299334/3733926425.py:99: UserWarning: To copy construct from a tensor, it is recommended to use sourceTensor.clone().detach() or sourceTensor.clone().detach().requires_grad_(True), rather than torch.tensor(sourceTensor).\n",
      "  image, mask = torch.tensor(image).float(), torch.tensor(mask).float()\n",
      "/tmp/ipykernel_299334/3733926425.py:99: UserWarning: To copy construct from a tensor, it is recommended to use sourceTensor.clone().detach() or sourceTensor.clone().detach().requires_grad_(True), rather than torch.tensor(sourceTensor).\n",
      "  image, mask = torch.tensor(image).float(), torch.tensor(mask).float()\n",
      "/tmp/ipykernel_299334/3733926425.py:99: UserWarning: To copy construct from a tensor, it is recommended to use sourceTensor.clone().detach() or sourceTensor.clone().detach().requires_grad_(True), rather than torch.tensor(sourceTensor).\n",
      "  image, mask = torch.tensor(image).float(), torch.tensor(mask).float()\n",
      "smth:0.5372: 100%|██████████| 7/7 [03:00<00:00, 25.77s/it]\n",
      "smth:0.5377: 100%|██████████| 2/2 [01:47<00:00, 53.89s/it] \n"
     ]
    },
    {
     "name": "stdout",
     "output_type": "stream",
     "text": [
      "best th: 0.2 best dc: 0.0006016061744125782\n",
      "Fri Jan 13 19:56:36 2023 Fold 0, Epoch 101, lr: 0.0030000, train loss: 0.53724, valid loss: 0.53773, metric: 0.000602.\n",
      "Fri Jan 13 19:56:36 2023 Epoch: 102\n"
     ]
    },
    {
     "name": "stderr",
     "output_type": "stream",
     "text": [
      "  0%|          | 0/7 [00:00<?, ?it/s]/tmp/ipykernel_299334/3733926425.py:99: UserWarning: To copy construct from a tensor, it is recommended to use sourceTensor.clone().detach() or sourceTensor.clone().detach().requires_grad_(True), rather than torch.tensor(sourceTensor).\n",
      "  image, mask = torch.tensor(image).float(), torch.tensor(mask).float()\n",
      "/tmp/ipykernel_299334/3733926425.py:99: UserWarning: To copy construct from a tensor, it is recommended to use sourceTensor.clone().detach() or sourceTensor.clone().detach().requires_grad_(True), rather than torch.tensor(sourceTensor).\n",
      "  image, mask = torch.tensor(image).float(), torch.tensor(mask).float()\n",
      "/tmp/ipykernel_299334/3733926425.py:99: UserWarning: To copy construct from a tensor, it is recommended to use sourceTensor.clone().detach() or sourceTensor.clone().detach().requires_grad_(True), rather than torch.tensor(sourceTensor).\n",
      "  image, mask = torch.tensor(image).float(), torch.tensor(mask).float()\n",
      "/tmp/ipykernel_299334/3733926425.py:99: UserWarning: To copy construct from a tensor, it is recommended to use sourceTensor.clone().detach() or sourceTensor.clone().detach().requires_grad_(True), rather than torch.tensor(sourceTensor).\n",
      "  image, mask = torch.tensor(image).float(), torch.tensor(mask).float()\n",
      "smth:0.5369: 100%|██████████| 7/7 [03:01<00:00, 25.94s/it]\n",
      "smth:0.5372: 100%|██████████| 2/2 [01:45<00:00, 52.57s/it] \n"
     ]
    },
    {
     "name": "stdout",
     "output_type": "stream",
     "text": [
      "best th: 0.2 best dc: 0.0005861369322896025\n",
      "Fri Jan 13 20:01:23 2023 Fold 0, Epoch 102, lr: 0.0030000, train loss: 0.53690, valid loss: 0.53723, metric: 0.000586.\n",
      "Fri Jan 13 20:01:23 2023 Epoch: 103\n"
     ]
    },
    {
     "name": "stderr",
     "output_type": "stream",
     "text": [
      "  0%|          | 0/7 [00:00<?, ?it/s]/tmp/ipykernel_299334/3733926425.py:99: UserWarning: To copy construct from a tensor, it is recommended to use sourceTensor.clone().detach() or sourceTensor.clone().detach().requires_grad_(True), rather than torch.tensor(sourceTensor).\n",
      "  image, mask = torch.tensor(image).float(), torch.tensor(mask).float()\n",
      "/tmp/ipykernel_299334/3733926425.py:99: UserWarning: To copy construct from a tensor, it is recommended to use sourceTensor.clone().detach() or sourceTensor.clone().detach().requires_grad_(True), rather than torch.tensor(sourceTensor).\n",
      "  image, mask = torch.tensor(image).float(), torch.tensor(mask).float()\n",
      "/tmp/ipykernel_299334/3733926425.py:99: UserWarning: To copy construct from a tensor, it is recommended to use sourceTensor.clone().detach() or sourceTensor.clone().detach().requires_grad_(True), rather than torch.tensor(sourceTensor).\n",
      "  image, mask = torch.tensor(image).float(), torch.tensor(mask).float()\n",
      "/tmp/ipykernel_299334/3733926425.py:99: UserWarning: To copy construct from a tensor, it is recommended to use sourceTensor.clone().detach() or sourceTensor.clone().detach().requires_grad_(True), rather than torch.tensor(sourceTensor).\n",
      "  image, mask = torch.tensor(image).float(), torch.tensor(mask).float()\n",
      "smth:0.5364: 100%|██████████| 7/7 [03:13<00:00, 27.58s/it]\n",
      "smth:0.5368: 100%|██████████| 2/2 [01:44<00:00, 52.20s/it]\n"
     ]
    },
    {
     "name": "stdout",
     "output_type": "stream",
     "text": [
      "best th: 0.2 best dc: 0.0005216251927274051\n",
      "Fri Jan 13 20:06:20 2023 Fold 0, Epoch 103, lr: 0.0030000, train loss: 0.53636, valid loss: 0.53681, metric: 0.000522.\n",
      "Fri Jan 13 20:06:20 2023 Epoch: 104\n"
     ]
    },
    {
     "name": "stderr",
     "output_type": "stream",
     "text": [
      "  0%|          | 0/7 [00:00<?, ?it/s]/tmp/ipykernel_299334/3733926425.py:99: UserWarning: To copy construct from a tensor, it is recommended to use sourceTensor.clone().detach() or sourceTensor.clone().detach().requires_grad_(True), rather than torch.tensor(sourceTensor).\n",
      "  image, mask = torch.tensor(image).float(), torch.tensor(mask).float()\n",
      "/tmp/ipykernel_299334/3733926425.py:99: UserWarning: To copy construct from a tensor, it is recommended to use sourceTensor.clone().detach() or sourceTensor.clone().detach().requires_grad_(True), rather than torch.tensor(sourceTensor).\n",
      "  image, mask = torch.tensor(image).float(), torch.tensor(mask).float()\n",
      "/tmp/ipykernel_299334/3733926425.py:99: UserWarning: To copy construct from a tensor, it is recommended to use sourceTensor.clone().detach() or sourceTensor.clone().detach().requires_grad_(True), rather than torch.tensor(sourceTensor).\n",
      "  image, mask = torch.tensor(image).float(), torch.tensor(mask).float()\n",
      "/tmp/ipykernel_299334/3733926425.py:99: UserWarning: To copy construct from a tensor, it is recommended to use sourceTensor.clone().detach() or sourceTensor.clone().detach().requires_grad_(True), rather than torch.tensor(sourceTensor).\n",
      "  image, mask = torch.tensor(image).float(), torch.tensor(mask).float()\n",
      "smth:0.5359: 100%|██████████| 7/7 [02:51<00:00, 24.46s/it]\n",
      "smth:0.5365: 100%|██████████| 2/2 [01:46<00:00, 53.33s/it] \n"
     ]
    },
    {
     "name": "stdout",
     "output_type": "stream",
     "text": [
      "best th: 0.2 best dc: 0.0005111386176654004\n",
      "Fri Jan 13 20:10:58 2023 Fold 0, Epoch 104, lr: 0.0030000, train loss: 0.53593, valid loss: 0.53650, metric: 0.000511.\n",
      "Fri Jan 13 20:10:58 2023 Epoch: 105\n"
     ]
    },
    {
     "name": "stderr",
     "output_type": "stream",
     "text": [
      "  0%|          | 0/7 [00:00<?, ?it/s]/tmp/ipykernel_299334/3733926425.py:99: UserWarning: To copy construct from a tensor, it is recommended to use sourceTensor.clone().detach() or sourceTensor.clone().detach().requires_grad_(True), rather than torch.tensor(sourceTensor).\n",
      "  image, mask = torch.tensor(image).float(), torch.tensor(mask).float()\n",
      "/tmp/ipykernel_299334/3733926425.py:99: UserWarning: To copy construct from a tensor, it is recommended to use sourceTensor.clone().detach() or sourceTensor.clone().detach().requires_grad_(True), rather than torch.tensor(sourceTensor).\n",
      "  image, mask = torch.tensor(image).float(), torch.tensor(mask).float()\n",
      "/tmp/ipykernel_299334/3733926425.py:99: UserWarning: To copy construct from a tensor, it is recommended to use sourceTensor.clone().detach() or sourceTensor.clone().detach().requires_grad_(True), rather than torch.tensor(sourceTensor).\n",
      "  image, mask = torch.tensor(image).float(), torch.tensor(mask).float()\n",
      "/tmp/ipykernel_299334/3733926425.py:99: UserWarning: To copy construct from a tensor, it is recommended to use sourceTensor.clone().detach() or sourceTensor.clone().detach().requires_grad_(True), rather than torch.tensor(sourceTensor).\n",
      "  image, mask = torch.tensor(image).float(), torch.tensor(mask).float()\n",
      "smth:0.5358: 100%|██████████| 7/7 [03:17<00:00, 28.23s/it]\n",
      "smth:0.5360: 100%|██████████| 2/2 [01:48<00:00, 54.44s/it] \n"
     ]
    },
    {
     "name": "stdout",
     "output_type": "stream",
     "text": [
      "best th: 0.2 best dc: 0.0004812775751791251\n",
      "Fri Jan 13 20:16:05 2023 Fold 0, Epoch 105, lr: 0.0030000, train loss: 0.53575, valid loss: 0.53604, metric: 0.000481.\n",
      "Fri Jan 13 20:16:05 2023 Epoch: 106\n"
     ]
    },
    {
     "name": "stderr",
     "output_type": "stream",
     "text": [
      "  0%|          | 0/7 [00:00<?, ?it/s]/tmp/ipykernel_299334/3733926425.py:99: UserWarning: To copy construct from a tensor, it is recommended to use sourceTensor.clone().detach() or sourceTensor.clone().detach().requires_grad_(True), rather than torch.tensor(sourceTensor).\n",
      "  image, mask = torch.tensor(image).float(), torch.tensor(mask).float()\n",
      "/tmp/ipykernel_299334/3733926425.py:99: UserWarning: To copy construct from a tensor, it is recommended to use sourceTensor.clone().detach() or sourceTensor.clone().detach().requires_grad_(True), rather than torch.tensor(sourceTensor).\n",
      "  image, mask = torch.tensor(image).float(), torch.tensor(mask).float()\n",
      "/tmp/ipykernel_299334/3733926425.py:99: UserWarning: To copy construct from a tensor, it is recommended to use sourceTensor.clone().detach() or sourceTensor.clone().detach().requires_grad_(True), rather than torch.tensor(sourceTensor).\n",
      "  image, mask = torch.tensor(image).float(), torch.tensor(mask).float()\n",
      "/tmp/ipykernel_299334/3733926425.py:99: UserWarning: To copy construct from a tensor, it is recommended to use sourceTensor.clone().detach() or sourceTensor.clone().detach().requires_grad_(True), rather than torch.tensor(sourceTensor).\n",
      "  image, mask = torch.tensor(image).float(), torch.tensor(mask).float()\n",
      "smth:0.5357: 100%|██████████| 7/7 [03:11<00:00, 27.39s/it] \n",
      "smth:0.5356: 100%|██████████| 2/2 [01:50<00:00, 55.09s/it] \n"
     ]
    },
    {
     "name": "stdout",
     "output_type": "stream",
     "text": [
      "best th: 0.2 best dc: 0.0004560377016653431\n",
      "Fri Jan 13 20:21:07 2023 Fold 0, Epoch 106, lr: 0.0030000, train loss: 0.53567, valid loss: 0.53561, metric: 0.000456.\n",
      "Fri Jan 13 20:21:07 2023 Epoch: 107\n"
     ]
    },
    {
     "name": "stderr",
     "output_type": "stream",
     "text": [
      "  0%|          | 0/7 [00:00<?, ?it/s]/tmp/ipykernel_299334/3733926425.py:99: UserWarning: To copy construct from a tensor, it is recommended to use sourceTensor.clone().detach() or sourceTensor.clone().detach().requires_grad_(True), rather than torch.tensor(sourceTensor).\n",
      "  image, mask = torch.tensor(image).float(), torch.tensor(mask).float()\n",
      "/tmp/ipykernel_299334/3733926425.py:99: UserWarning: To copy construct from a tensor, it is recommended to use sourceTensor.clone().detach() or sourceTensor.clone().detach().requires_grad_(True), rather than torch.tensor(sourceTensor).\n",
      "  image, mask = torch.tensor(image).float(), torch.tensor(mask).float()\n",
      "/tmp/ipykernel_299334/3733926425.py:99: UserWarning: To copy construct from a tensor, it is recommended to use sourceTensor.clone().detach() or sourceTensor.clone().detach().requires_grad_(True), rather than torch.tensor(sourceTensor).\n",
      "  image, mask = torch.tensor(image).float(), torch.tensor(mask).float()\n",
      "/tmp/ipykernel_299334/3733926425.py:99: UserWarning: To copy construct from a tensor, it is recommended to use sourceTensor.clone().detach() or sourceTensor.clone().detach().requires_grad_(True), rather than torch.tensor(sourceTensor).\n",
      "  image, mask = torch.tensor(image).float(), torch.tensor(mask).float()\n",
      "smth:0.5348: 100%|██████████| 7/7 [03:05<00:00, 26.48s/it] \n",
      "smth:0.5353: 100%|██████████| 2/2 [01:43<00:00, 51.54s/it]\n"
     ]
    },
    {
     "name": "stdout",
     "output_type": "stream",
     "text": [
      "best th: 0.2 best dc: 0.0004605719887052602\n",
      "Fri Jan 13 20:25:56 2023 Fold 0, Epoch 107, lr: 0.0030000, train loss: 0.53480, valid loss: 0.53527, metric: 0.000461.\n",
      "Fri Jan 13 20:25:56 2023 Epoch: 108\n"
     ]
    },
    {
     "name": "stderr",
     "output_type": "stream",
     "text": [
      "  0%|          | 0/7 [00:00<?, ?it/s]/tmp/ipykernel_299334/3733926425.py:99: UserWarning: To copy construct from a tensor, it is recommended to use sourceTensor.clone().detach() or sourceTensor.clone().detach().requires_grad_(True), rather than torch.tensor(sourceTensor).\n",
      "  image, mask = torch.tensor(image).float(), torch.tensor(mask).float()\n",
      "/tmp/ipykernel_299334/3733926425.py:99: UserWarning: To copy construct from a tensor, it is recommended to use sourceTensor.clone().detach() or sourceTensor.clone().detach().requires_grad_(True), rather than torch.tensor(sourceTensor).\n",
      "  image, mask = torch.tensor(image).float(), torch.tensor(mask).float()\n",
      "/tmp/ipykernel_299334/3733926425.py:99: UserWarning: To copy construct from a tensor, it is recommended to use sourceTensor.clone().detach() or sourceTensor.clone().detach().requires_grad_(True), rather than torch.tensor(sourceTensor).\n",
      "  image, mask = torch.tensor(image).float(), torch.tensor(mask).float()\n",
      "/tmp/ipykernel_299334/3733926425.py:99: UserWarning: To copy construct from a tensor, it is recommended to use sourceTensor.clone().detach() or sourceTensor.clone().detach().requires_grad_(True), rather than torch.tensor(sourceTensor).\n",
      "  image, mask = torch.tensor(image).float(), torch.tensor(mask).float()\n",
      "smth:0.5343: 100%|██████████| 7/7 [03:13<00:00, 27.59s/it]\n",
      "smth:0.5351: 100%|██████████| 2/2 [01:45<00:00, 52.59s/it] \n"
     ]
    },
    {
     "name": "stdout",
     "output_type": "stream",
     "text": [
      "best th: 0.2 best dc: 0.0004697874923755242\n",
      "Fri Jan 13 20:30:54 2023 Fold 0, Epoch 108, lr: 0.0030000, train loss: 0.53430, valid loss: 0.53506, metric: 0.000470.\n",
      "Fri Jan 13 20:30:54 2023 Epoch: 109\n"
     ]
    },
    {
     "name": "stderr",
     "output_type": "stream",
     "text": [
      "  0%|          | 0/7 [00:00<?, ?it/s]/tmp/ipykernel_299334/3733926425.py:99: UserWarning: To copy construct from a tensor, it is recommended to use sourceTensor.clone().detach() or sourceTensor.clone().detach().requires_grad_(True), rather than torch.tensor(sourceTensor).\n",
      "  image, mask = torch.tensor(image).float(), torch.tensor(mask).float()\n",
      "/tmp/ipykernel_299334/3733926425.py:99: UserWarning: To copy construct from a tensor, it is recommended to use sourceTensor.clone().detach() or sourceTensor.clone().detach().requires_grad_(True), rather than torch.tensor(sourceTensor).\n",
      "  image, mask = torch.tensor(image).float(), torch.tensor(mask).float()\n",
      "/tmp/ipykernel_299334/3733926425.py:99: UserWarning: To copy construct from a tensor, it is recommended to use sourceTensor.clone().detach() or sourceTensor.clone().detach().requires_grad_(True), rather than torch.tensor(sourceTensor).\n",
      "  image, mask = torch.tensor(image).float(), torch.tensor(mask).float()\n",
      "/tmp/ipykernel_299334/3733926425.py:99: UserWarning: To copy construct from a tensor, it is recommended to use sourceTensor.clone().detach() or sourceTensor.clone().detach().requires_grad_(True), rather than torch.tensor(sourceTensor).\n",
      "  image, mask = torch.tensor(image).float(), torch.tensor(mask).float()\n",
      "smth:0.5341: 100%|██████████| 7/7 [03:15<00:00, 27.89s/it]\n",
      "smth:0.5344: 100%|██████████| 2/2 [01:46<00:00, 53.18s/it] \n"
     ]
    },
    {
     "name": "stdout",
     "output_type": "stream",
     "text": [
      "best th: 0.2 best dc: 0.0004227619138026175\n",
      "Fri Jan 13 20:35:56 2023 Fold 0, Epoch 109, lr: 0.0030000, train loss: 0.53412, valid loss: 0.53443, metric: 0.000423.\n",
      "Fri Jan 13 20:35:56 2023 Epoch: 110\n"
     ]
    },
    {
     "name": "stderr",
     "output_type": "stream",
     "text": [
      "  0%|          | 0/7 [00:00<?, ?it/s]/tmp/ipykernel_299334/3733926425.py:99: UserWarning: To copy construct from a tensor, it is recommended to use sourceTensor.clone().detach() or sourceTensor.clone().detach().requires_grad_(True), rather than torch.tensor(sourceTensor).\n",
      "  image, mask = torch.tensor(image).float(), torch.tensor(mask).float()\n",
      "/tmp/ipykernel_299334/3733926425.py:99: UserWarning: To copy construct from a tensor, it is recommended to use sourceTensor.clone().detach() or sourceTensor.clone().detach().requires_grad_(True), rather than torch.tensor(sourceTensor).\n",
      "  image, mask = torch.tensor(image).float(), torch.tensor(mask).float()\n",
      "/tmp/ipykernel_299334/3733926425.py:99: UserWarning: To copy construct from a tensor, it is recommended to use sourceTensor.clone().detach() or sourceTensor.clone().detach().requires_grad_(True), rather than torch.tensor(sourceTensor).\n",
      "  image, mask = torch.tensor(image).float(), torch.tensor(mask).float()\n",
      "/tmp/ipykernel_299334/3733926425.py:99: UserWarning: To copy construct from a tensor, it is recommended to use sourceTensor.clone().detach() or sourceTensor.clone().detach().requires_grad_(True), rather than torch.tensor(sourceTensor).\n",
      "  image, mask = torch.tensor(image).float(), torch.tensor(mask).float()\n",
      "smth:0.5335: 100%|██████████| 7/7 [03:20<00:00, 28.71s/it]\n",
      "smth:0.5341: 100%|██████████| 2/2 [01:49<00:00, 54.62s/it] \n"
     ]
    },
    {
     "name": "stdout",
     "output_type": "stream",
     "text": [
      "best th: 0.2 best dc: 0.0004393292192716612\n",
      "Fri Jan 13 20:41:07 2023 Fold 0, Epoch 110, lr: 0.0030000, train loss: 0.53347, valid loss: 0.53407, metric: 0.000439.\n",
      "Fri Jan 13 20:41:07 2023 Epoch: 111\n"
     ]
    },
    {
     "name": "stderr",
     "output_type": "stream",
     "text": [
      "  0%|          | 0/7 [00:00<?, ?it/s]/tmp/ipykernel_299334/3733926425.py:99: UserWarning: To copy construct from a tensor, it is recommended to use sourceTensor.clone().detach() or sourceTensor.clone().detach().requires_grad_(True), rather than torch.tensor(sourceTensor).\n",
      "  image, mask = torch.tensor(image).float(), torch.tensor(mask).float()\n",
      "/tmp/ipykernel_299334/3733926425.py:99: UserWarning: To copy construct from a tensor, it is recommended to use sourceTensor.clone().detach() or sourceTensor.clone().detach().requires_grad_(True), rather than torch.tensor(sourceTensor).\n",
      "  image, mask = torch.tensor(image).float(), torch.tensor(mask).float()\n",
      "/tmp/ipykernel_299334/3733926425.py:99: UserWarning: To copy construct from a tensor, it is recommended to use sourceTensor.clone().detach() or sourceTensor.clone().detach().requires_grad_(True), rather than torch.tensor(sourceTensor).\n",
      "  image, mask = torch.tensor(image).float(), torch.tensor(mask).float()\n",
      "/tmp/ipykernel_299334/3733926425.py:99: UserWarning: To copy construct from a tensor, it is recommended to use sourceTensor.clone().detach() or sourceTensor.clone().detach().requires_grad_(True), rather than torch.tensor(sourceTensor).\n",
      "  image, mask = torch.tensor(image).float(), torch.tensor(mask).float()\n",
      "smth:0.5332: 100%|██████████| 7/7 [03:06<00:00, 26.64s/it]\n",
      "smth:0.5339: 100%|██████████| 2/2 [01:42<00:00, 51.09s/it]\n"
     ]
    },
    {
     "name": "stdout",
     "output_type": "stream",
     "text": [
      "best th: 0.2 best dc: 0.00041533894149070795\n",
      "Fri Jan 13 20:45:55 2023 Fold 0, Epoch 111, lr: 0.0030000, train loss: 0.53322, valid loss: 0.53391, metric: 0.000415.\n",
      "Fri Jan 13 20:45:55 2023 Epoch: 112\n"
     ]
    },
    {
     "name": "stderr",
     "output_type": "stream",
     "text": [
      "  0%|          | 0/7 [00:00<?, ?it/s]/tmp/ipykernel_299334/3733926425.py:99: UserWarning: To copy construct from a tensor, it is recommended to use sourceTensor.clone().detach() or sourceTensor.clone().detach().requires_grad_(True), rather than torch.tensor(sourceTensor).\n",
      "  image, mask = torch.tensor(image).float(), torch.tensor(mask).float()\n",
      "/tmp/ipykernel_299334/3733926425.py:99: UserWarning: To copy construct from a tensor, it is recommended to use sourceTensor.clone().detach() or sourceTensor.clone().detach().requires_grad_(True), rather than torch.tensor(sourceTensor).\n",
      "  image, mask = torch.tensor(image).float(), torch.tensor(mask).float()\n",
      "/tmp/ipykernel_299334/3733926425.py:99: UserWarning: To copy construct from a tensor, it is recommended to use sourceTensor.clone().detach() or sourceTensor.clone().detach().requires_grad_(True), rather than torch.tensor(sourceTensor).\n",
      "  image, mask = torch.tensor(image).float(), torch.tensor(mask).float()\n",
      "/tmp/ipykernel_299334/3733926425.py:99: UserWarning: To copy construct from a tensor, it is recommended to use sourceTensor.clone().detach() or sourceTensor.clone().detach().requires_grad_(True), rather than torch.tensor(sourceTensor).\n",
      "  image, mask = torch.tensor(image).float(), torch.tensor(mask).float()\n",
      "smth:0.5329: 100%|██████████| 7/7 [02:58<00:00, 25.51s/it]\n",
      "smth:0.5336: 100%|██████████| 2/2 [01:47<00:00, 53.70s/it] \n"
     ]
    },
    {
     "name": "stdout",
     "output_type": "stream",
     "text": [
      "best th: 0.2 best dc: 0.000389767821406571\n",
      "Fri Jan 13 20:50:42 2023 Fold 0, Epoch 112, lr: 0.0030000, train loss: 0.53293, valid loss: 0.53356, metric: 0.000390.\n",
      "Fri Jan 13 20:50:42 2023 Epoch: 113\n"
     ]
    },
    {
     "name": "stderr",
     "output_type": "stream",
     "text": [
      "  0%|          | 0/7 [00:00<?, ?it/s]/tmp/ipykernel_299334/3733926425.py:99: UserWarning: To copy construct from a tensor, it is recommended to use sourceTensor.clone().detach() or sourceTensor.clone().detach().requires_grad_(True), rather than torch.tensor(sourceTensor).\n",
      "  image, mask = torch.tensor(image).float(), torch.tensor(mask).float()\n",
      "/tmp/ipykernel_299334/3733926425.py:99: UserWarning: To copy construct from a tensor, it is recommended to use sourceTensor.clone().detach() or sourceTensor.clone().detach().requires_grad_(True), rather than torch.tensor(sourceTensor).\n",
      "  image, mask = torch.tensor(image).float(), torch.tensor(mask).float()\n",
      "/tmp/ipykernel_299334/3733926425.py:99: UserWarning: To copy construct from a tensor, it is recommended to use sourceTensor.clone().detach() or sourceTensor.clone().detach().requires_grad_(True), rather than torch.tensor(sourceTensor).\n",
      "  image, mask = torch.tensor(image).float(), torch.tensor(mask).float()\n",
      "/tmp/ipykernel_299334/3733926425.py:99: UserWarning: To copy construct from a tensor, it is recommended to use sourceTensor.clone().detach() or sourceTensor.clone().detach().requires_grad_(True), rather than torch.tensor(sourceTensor).\n",
      "  image, mask = torch.tensor(image).float(), torch.tensor(mask).float()\n",
      "smth:0.5327: 100%|██████████| 7/7 [03:21<00:00, 28.81s/it]\n",
      "smth:0.5332: 100%|██████████| 2/2 [01:45<00:00, 53.00s/it] \n"
     ]
    },
    {
     "name": "stdout",
     "output_type": "stream",
     "text": [
      "best th: 0.2 best dc: 0.00037049682867635724\n",
      "Fri Jan 13 20:55:49 2023 Fold 0, Epoch 113, lr: 0.0030000, train loss: 0.53268, valid loss: 0.53319, metric: 0.000370.\n",
      "Fri Jan 13 20:55:49 2023 Epoch: 114\n"
     ]
    },
    {
     "name": "stderr",
     "output_type": "stream",
     "text": [
      "  0%|          | 0/7 [00:00<?, ?it/s]/tmp/ipykernel_299334/3733926425.py:99: UserWarning: To copy construct from a tensor, it is recommended to use sourceTensor.clone().detach() or sourceTensor.clone().detach().requires_grad_(True), rather than torch.tensor(sourceTensor).\n",
      "  image, mask = torch.tensor(image).float(), torch.tensor(mask).float()\n",
      "/tmp/ipykernel_299334/3733926425.py:99: UserWarning: To copy construct from a tensor, it is recommended to use sourceTensor.clone().detach() or sourceTensor.clone().detach().requires_grad_(True), rather than torch.tensor(sourceTensor).\n",
      "  image, mask = torch.tensor(image).float(), torch.tensor(mask).float()\n",
      "/tmp/ipykernel_299334/3733926425.py:99: UserWarning: To copy construct from a tensor, it is recommended to use sourceTensor.clone().detach() or sourceTensor.clone().detach().requires_grad_(True), rather than torch.tensor(sourceTensor).\n",
      "  image, mask = torch.tensor(image).float(), torch.tensor(mask).float()\n",
      "/tmp/ipykernel_299334/3733926425.py:99: UserWarning: To copy construct from a tensor, it is recommended to use sourceTensor.clone().detach() or sourceTensor.clone().detach().requires_grad_(True), rather than torch.tensor(sourceTensor).\n",
      "  image, mask = torch.tensor(image).float(), torch.tensor(mask).float()\n",
      "smth:0.5325: 100%|██████████| 7/7 [03:05<00:00, 26.47s/it] \n",
      "smth:0.5328: 100%|██████████| 2/2 [01:49<00:00, 54.72s/it] \n"
     ]
    },
    {
     "name": "stdout",
     "output_type": "stream",
     "text": [
      "best th: 0.2 best dc: 0.000357383765460261\n",
      "Fri Jan 13 21:00:44 2023 Fold 0, Epoch 114, lr: 0.0030000, train loss: 0.53247, valid loss: 0.53279, metric: 0.000357.\n",
      "Fri Jan 13 21:00:44 2023 Epoch: 115\n"
     ]
    },
    {
     "name": "stderr",
     "output_type": "stream",
     "text": [
      "  0%|          | 0/7 [00:00<?, ?it/s]/tmp/ipykernel_299334/3733926425.py:99: UserWarning: To copy construct from a tensor, it is recommended to use sourceTensor.clone().detach() or sourceTensor.clone().detach().requires_grad_(True), rather than torch.tensor(sourceTensor).\n",
      "  image, mask = torch.tensor(image).float(), torch.tensor(mask).float()\n",
      "/tmp/ipykernel_299334/3733926425.py:99: UserWarning: To copy construct from a tensor, it is recommended to use sourceTensor.clone().detach() or sourceTensor.clone().detach().requires_grad_(True), rather than torch.tensor(sourceTensor).\n",
      "  image, mask = torch.tensor(image).float(), torch.tensor(mask).float()\n",
      "/tmp/ipykernel_299334/3733926425.py:99: UserWarning: To copy construct from a tensor, it is recommended to use sourceTensor.clone().detach() or sourceTensor.clone().detach().requires_grad_(True), rather than torch.tensor(sourceTensor).\n",
      "  image, mask = torch.tensor(image).float(), torch.tensor(mask).float()\n",
      "/tmp/ipykernel_299334/3733926425.py:99: UserWarning: To copy construct from a tensor, it is recommended to use sourceTensor.clone().detach() or sourceTensor.clone().detach().requires_grad_(True), rather than torch.tensor(sourceTensor).\n",
      "  image, mask = torch.tensor(image).float(), torch.tensor(mask).float()\n",
      "smth:0.5319: 100%|██████████| 7/7 [03:01<00:00, 25.93s/it]\n",
      "smth:0.5323: 100%|██████████| 2/2 [01:46<00:00, 53.47s/it] \n"
     ]
    },
    {
     "name": "stdout",
     "output_type": "stream",
     "text": [
      "best th: 0.2 best dc: 0.00034085143525527993\n",
      "Fri Jan 13 21:05:33 2023 Fold 0, Epoch 115, lr: 0.0030000, train loss: 0.53189, valid loss: 0.53232, metric: 0.000341.\n",
      "Fri Jan 13 21:05:33 2023 Epoch: 116\n"
     ]
    },
    {
     "name": "stderr",
     "output_type": "stream",
     "text": [
      "  0%|          | 0/7 [00:00<?, ?it/s]/tmp/ipykernel_299334/3733926425.py:99: UserWarning: To copy construct from a tensor, it is recommended to use sourceTensor.clone().detach() or sourceTensor.clone().detach().requires_grad_(True), rather than torch.tensor(sourceTensor).\n",
      "  image, mask = torch.tensor(image).float(), torch.tensor(mask).float()\n",
      "/tmp/ipykernel_299334/3733926425.py:99: UserWarning: To copy construct from a tensor, it is recommended to use sourceTensor.clone().detach() or sourceTensor.clone().detach().requires_grad_(True), rather than torch.tensor(sourceTensor).\n",
      "  image, mask = torch.tensor(image).float(), torch.tensor(mask).float()\n",
      "/tmp/ipykernel_299334/3733926425.py:99: UserWarning: To copy construct from a tensor, it is recommended to use sourceTensor.clone().detach() or sourceTensor.clone().detach().requires_grad_(True), rather than torch.tensor(sourceTensor).\n",
      "  image, mask = torch.tensor(image).float(), torch.tensor(mask).float()\n",
      "/tmp/ipykernel_299334/3733926425.py:99: UserWarning: To copy construct from a tensor, it is recommended to use sourceTensor.clone().detach() or sourceTensor.clone().detach().requires_grad_(True), rather than torch.tensor(sourceTensor).\n",
      "  image, mask = torch.tensor(image).float(), torch.tensor(mask).float()\n",
      "smth:0.5313: 100%|██████████| 7/7 [03:06<00:00, 26.66s/it]\n",
      "smth:0.5320: 100%|██████████| 2/2 [01:48<00:00, 54.15s/it] \n"
     ]
    },
    {
     "name": "stdout",
     "output_type": "stream",
     "text": [
      "best th: 0.2 best dc: 0.0003568055741367991\n",
      "Fri Jan 13 21:10:28 2023 Fold 0, Epoch 116, lr: 0.0030000, train loss: 0.53128, valid loss: 0.53195, metric: 0.000357.\n",
      "Fri Jan 13 21:10:28 2023 Epoch: 117\n"
     ]
    },
    {
     "name": "stderr",
     "output_type": "stream",
     "text": [
      "  0%|          | 0/7 [00:00<?, ?it/s]/tmp/ipykernel_299334/3733926425.py:99: UserWarning: To copy construct from a tensor, it is recommended to use sourceTensor.clone().detach() or sourceTensor.clone().detach().requires_grad_(True), rather than torch.tensor(sourceTensor).\n",
      "  image, mask = torch.tensor(image).float(), torch.tensor(mask).float()\n",
      "/tmp/ipykernel_299334/3733926425.py:99: UserWarning: To copy construct from a tensor, it is recommended to use sourceTensor.clone().detach() or sourceTensor.clone().detach().requires_grad_(True), rather than torch.tensor(sourceTensor).\n",
      "  image, mask = torch.tensor(image).float(), torch.tensor(mask).float()\n",
      "/tmp/ipykernel_299334/3733926425.py:99: UserWarning: To copy construct from a tensor, it is recommended to use sourceTensor.clone().detach() or sourceTensor.clone().detach().requires_grad_(True), rather than torch.tensor(sourceTensor).\n",
      "  image, mask = torch.tensor(image).float(), torch.tensor(mask).float()\n",
      "/tmp/ipykernel_299334/3733926425.py:99: UserWarning: To copy construct from a tensor, it is recommended to use sourceTensor.clone().detach() or sourceTensor.clone().detach().requires_grad_(True), rather than torch.tensor(sourceTensor).\n",
      "  image, mask = torch.tensor(image).float(), torch.tensor(mask).float()\n",
      "smth:0.5313: 100%|██████████| 7/7 [03:14<00:00, 27.72s/it]\n",
      "smth:0.5316: 100%|██████████| 2/2 [01:48<00:00, 54.07s/it] \n"
     ]
    },
    {
     "name": "stdout",
     "output_type": "stream",
     "text": [
      "best th: 0.2 best dc: 0.0003330605549449215\n",
      "Fri Jan 13 21:15:30 2023 Fold 0, Epoch 117, lr: 0.0030000, train loss: 0.53126, valid loss: 0.53164, metric: 0.000333.\n",
      "Fri Jan 13 21:15:30 2023 Epoch: 118\n"
     ]
    },
    {
     "name": "stderr",
     "output_type": "stream",
     "text": [
      "  0%|          | 0/7 [00:00<?, ?it/s]/tmp/ipykernel_299334/3733926425.py:99: UserWarning: To copy construct from a tensor, it is recommended to use sourceTensor.clone().detach() or sourceTensor.clone().detach().requires_grad_(True), rather than torch.tensor(sourceTensor).\n",
      "  image, mask = torch.tensor(image).float(), torch.tensor(mask).float()\n",
      "/tmp/ipykernel_299334/3733926425.py:99: UserWarning: To copy construct from a tensor, it is recommended to use sourceTensor.clone().detach() or sourceTensor.clone().detach().requires_grad_(True), rather than torch.tensor(sourceTensor).\n",
      "  image, mask = torch.tensor(image).float(), torch.tensor(mask).float()\n",
      "/tmp/ipykernel_299334/3733926425.py:99: UserWarning: To copy construct from a tensor, it is recommended to use sourceTensor.clone().detach() or sourceTensor.clone().detach().requires_grad_(True), rather than torch.tensor(sourceTensor).\n",
      "  image, mask = torch.tensor(image).float(), torch.tensor(mask).float()\n",
      "/tmp/ipykernel_299334/3733926425.py:99: UserWarning: To copy construct from a tensor, it is recommended to use sourceTensor.clone().detach() or sourceTensor.clone().detach().requires_grad_(True), rather than torch.tensor(sourceTensor).\n",
      "  image, mask = torch.tensor(image).float(), torch.tensor(mask).float()\n",
      "smth:0.5308: 100%|██████████| 7/7 [03:08<00:00, 26.89s/it]\n",
      "smth:0.5313: 100%|██████████| 2/2 [01:47<00:00, 53.53s/it] \n"
     ]
    },
    {
     "name": "stdout",
     "output_type": "stream",
     "text": [
      "best th: 0.2 best dc: 0.0003141510311143202\n",
      "Fri Jan 13 21:20:26 2023 Fold 0, Epoch 118, lr: 0.0030000, train loss: 0.53081, valid loss: 0.53130, metric: 0.000314.\n",
      "Fri Jan 13 21:20:26 2023 Epoch: 119\n"
     ]
    },
    {
     "name": "stderr",
     "output_type": "stream",
     "text": [
      "  0%|          | 0/7 [00:00<?, ?it/s]/tmp/ipykernel_299334/3733926425.py:99: UserWarning: To copy construct from a tensor, it is recommended to use sourceTensor.clone().detach() or sourceTensor.clone().detach().requires_grad_(True), rather than torch.tensor(sourceTensor).\n",
      "  image, mask = torch.tensor(image).float(), torch.tensor(mask).float()\n",
      "/tmp/ipykernel_299334/3733926425.py:99: UserWarning: To copy construct from a tensor, it is recommended to use sourceTensor.clone().detach() or sourceTensor.clone().detach().requires_grad_(True), rather than torch.tensor(sourceTensor).\n",
      "  image, mask = torch.tensor(image).float(), torch.tensor(mask).float()\n",
      "/tmp/ipykernel_299334/3733926425.py:99: UserWarning: To copy construct from a tensor, it is recommended to use sourceTensor.clone().detach() or sourceTensor.clone().detach().requires_grad_(True), rather than torch.tensor(sourceTensor).\n",
      "  image, mask = torch.tensor(image).float(), torch.tensor(mask).float()\n",
      "/tmp/ipykernel_299334/3733926425.py:99: UserWarning: To copy construct from a tensor, it is recommended to use sourceTensor.clone().detach() or sourceTensor.clone().detach().requires_grad_(True), rather than torch.tensor(sourceTensor).\n",
      "  image, mask = torch.tensor(image).float(), torch.tensor(mask).float()\n",
      "smth:0.5308: 100%|██████████| 7/7 [03:11<00:00, 27.29s/it]\n",
      "smth:0.5311: 100%|██████████| 2/2 [01:47<00:00, 53.87s/it] \n"
     ]
    },
    {
     "name": "stdout",
     "output_type": "stream",
     "text": [
      "best th: 0.2 best dc: 0.00031514525396669237\n",
      "Fri Jan 13 21:25:25 2023 Fold 0, Epoch 119, lr: 0.0030000, train loss: 0.53081, valid loss: 0.53106, metric: 0.000315.\n",
      "Fri Jan 13 21:25:25 2023 Epoch: 120\n"
     ]
    },
    {
     "name": "stderr",
     "output_type": "stream",
     "text": [
      "  0%|          | 0/7 [00:00<?, ?it/s]/tmp/ipykernel_299334/3733926425.py:99: UserWarning: To copy construct from a tensor, it is recommended to use sourceTensor.clone().detach() or sourceTensor.clone().detach().requires_grad_(True), rather than torch.tensor(sourceTensor).\n",
      "  image, mask = torch.tensor(image).float(), torch.tensor(mask).float()\n",
      "/tmp/ipykernel_299334/3733926425.py:99: UserWarning: To copy construct from a tensor, it is recommended to use sourceTensor.clone().detach() or sourceTensor.clone().detach().requires_grad_(True), rather than torch.tensor(sourceTensor).\n",
      "  image, mask = torch.tensor(image).float(), torch.tensor(mask).float()\n",
      "/tmp/ipykernel_299334/3733926425.py:99: UserWarning: To copy construct from a tensor, it is recommended to use sourceTensor.clone().detach() or sourceTensor.clone().detach().requires_grad_(True), rather than torch.tensor(sourceTensor).\n",
      "  image, mask = torch.tensor(image).float(), torch.tensor(mask).float()\n",
      "/tmp/ipykernel_299334/3733926425.py:99: UserWarning: To copy construct from a tensor, it is recommended to use sourceTensor.clone().detach() or sourceTensor.clone().detach().requires_grad_(True), rather than torch.tensor(sourceTensor).\n",
      "  image, mask = torch.tensor(image).float(), torch.tensor(mask).float()\n",
      "smth:0.5304: 100%|██████████| 7/7 [03:14<00:00, 27.85s/it]\n",
      "smth:0.5308: 100%|██████████| 2/2 [01:45<00:00, 52.55s/it] \n"
     ]
    },
    {
     "name": "stdout",
     "output_type": "stream",
     "text": [
      "best th: 0.2 best dc: 0.0002936853016290084\n",
      "Fri Jan 13 21:30:25 2023 Fold 0, Epoch 120, lr: 0.0030000, train loss: 0.53042, valid loss: 0.53083, metric: 0.000294.\n",
      "Fri Jan 13 21:30:25 2023 Epoch: 121\n"
     ]
    },
    {
     "name": "stderr",
     "output_type": "stream",
     "text": [
      "  0%|          | 0/7 [00:00<?, ?it/s]/tmp/ipykernel_299334/3733926425.py:99: UserWarning: To copy construct from a tensor, it is recommended to use sourceTensor.clone().detach() or sourceTensor.clone().detach().requires_grad_(True), rather than torch.tensor(sourceTensor).\n",
      "  image, mask = torch.tensor(image).float(), torch.tensor(mask).float()\n",
      "/tmp/ipykernel_299334/3733926425.py:99: UserWarning: To copy construct from a tensor, it is recommended to use sourceTensor.clone().detach() or sourceTensor.clone().detach().requires_grad_(True), rather than torch.tensor(sourceTensor).\n",
      "  image, mask = torch.tensor(image).float(), torch.tensor(mask).float()\n",
      "/tmp/ipykernel_299334/3733926425.py:99: UserWarning: To copy construct from a tensor, it is recommended to use sourceTensor.clone().detach() or sourceTensor.clone().detach().requires_grad_(True), rather than torch.tensor(sourceTensor).\n",
      "  image, mask = torch.tensor(image).float(), torch.tensor(mask).float()\n",
      "/tmp/ipykernel_299334/3733926425.py:99: UserWarning: To copy construct from a tensor, it is recommended to use sourceTensor.clone().detach() or sourceTensor.clone().detach().requires_grad_(True), rather than torch.tensor(sourceTensor).\n",
      "  image, mask = torch.tensor(image).float(), torch.tensor(mask).float()\n",
      "smth:0.5300: 100%|██████████| 7/7 [03:11<00:00, 27.34s/it]\n",
      "smth:0.5305: 100%|██████████| 2/2 [01:48<00:00, 54.12s/it] \n"
     ]
    },
    {
     "name": "stdout",
     "output_type": "stream",
     "text": [
      "best th: 0.2 best dc: 0.0002873342998591379\n",
      "Fri Jan 13 21:35:25 2023 Fold 0, Epoch 121, lr: 0.0030000, train loss: 0.52999, valid loss: 0.53048, metric: 0.000287.\n",
      "Fri Jan 13 21:35:25 2023 Epoch: 122\n"
     ]
    },
    {
     "name": "stderr",
     "output_type": "stream",
     "text": [
      "  0%|          | 0/7 [00:00<?, ?it/s]/tmp/ipykernel_299334/3733926425.py:99: UserWarning: To copy construct from a tensor, it is recommended to use sourceTensor.clone().detach() or sourceTensor.clone().detach().requires_grad_(True), rather than torch.tensor(sourceTensor).\n",
      "  image, mask = torch.tensor(image).float(), torch.tensor(mask).float()\n",
      "/tmp/ipykernel_299334/3733926425.py:99: UserWarning: To copy construct from a tensor, it is recommended to use sourceTensor.clone().detach() or sourceTensor.clone().detach().requires_grad_(True), rather than torch.tensor(sourceTensor).\n",
      "  image, mask = torch.tensor(image).float(), torch.tensor(mask).float()\n",
      "/tmp/ipykernel_299334/3733926425.py:99: UserWarning: To copy construct from a tensor, it is recommended to use sourceTensor.clone().detach() or sourceTensor.clone().detach().requires_grad_(True), rather than torch.tensor(sourceTensor).\n",
      "  image, mask = torch.tensor(image).float(), torch.tensor(mask).float()\n",
      "/tmp/ipykernel_299334/3733926425.py:99: UserWarning: To copy construct from a tensor, it is recommended to use sourceTensor.clone().detach() or sourceTensor.clone().detach().requires_grad_(True), rather than torch.tensor(sourceTensor).\n",
      "  image, mask = torch.tensor(image).float(), torch.tensor(mask).float()\n",
      "smth:0.5297: 100%|██████████| 7/7 [03:01<00:00, 25.95s/it] \n",
      "smth:0.5302: 100%|██████████| 2/2 [01:43<00:00, 51.75s/it]\n"
     ]
    },
    {
     "name": "stdout",
     "output_type": "stream",
     "text": [
      "best th: 0.2 best dc: 0.00029052294403547813\n",
      "Fri Jan 13 21:40:10 2023 Fold 0, Epoch 122, lr: 0.0030000, train loss: 0.52972, valid loss: 0.53019, metric: 0.000291.\n",
      "Fri Jan 13 21:40:10 2023 Epoch: 123\n"
     ]
    },
    {
     "name": "stderr",
     "output_type": "stream",
     "text": [
      "  0%|          | 0/7 [00:00<?, ?it/s]/tmp/ipykernel_299334/3733926425.py:99: UserWarning: To copy construct from a tensor, it is recommended to use sourceTensor.clone().detach() or sourceTensor.clone().detach().requires_grad_(True), rather than torch.tensor(sourceTensor).\n",
      "  image, mask = torch.tensor(image).float(), torch.tensor(mask).float()\n",
      "/tmp/ipykernel_299334/3733926425.py:99: UserWarning: To copy construct from a tensor, it is recommended to use sourceTensor.clone().detach() or sourceTensor.clone().detach().requires_grad_(True), rather than torch.tensor(sourceTensor).\n",
      "  image, mask = torch.tensor(image).float(), torch.tensor(mask).float()\n",
      "/tmp/ipykernel_299334/3733926425.py:99: UserWarning: To copy construct from a tensor, it is recommended to use sourceTensor.clone().detach() or sourceTensor.clone().detach().requires_grad_(True), rather than torch.tensor(sourceTensor).\n",
      "  image, mask = torch.tensor(image).float(), torch.tensor(mask).float()\n",
      "/tmp/ipykernel_299334/3733926425.py:99: UserWarning: To copy construct from a tensor, it is recommended to use sourceTensor.clone().detach() or sourceTensor.clone().detach().requires_grad_(True), rather than torch.tensor(sourceTensor).\n",
      "  image, mask = torch.tensor(image).float(), torch.tensor(mask).float()\n",
      "smth:0.5295: 100%|██████████| 7/7 [03:09<00:00, 27.08s/it]\n",
      "smth:0.5296: 100%|██████████| 2/2 [01:45<00:00, 52.62s/it] \n"
     ]
    },
    {
     "name": "stdout",
     "output_type": "stream",
     "text": [
      "best th: 0.2 best dc: 0.0002648198695361922\n",
      "Fri Jan 13 21:45:05 2023 Fold 0, Epoch 123, lr: 0.0030000, train loss: 0.52950, valid loss: 0.52963, metric: 0.000265.\n",
      "Fri Jan 13 21:45:05 2023 Epoch: 124\n"
     ]
    },
    {
     "name": "stderr",
     "output_type": "stream",
     "text": [
      "  0%|          | 0/7 [00:00<?, ?it/s]/tmp/ipykernel_299334/3733926425.py:99: UserWarning: To copy construct from a tensor, it is recommended to use sourceTensor.clone().detach() or sourceTensor.clone().detach().requires_grad_(True), rather than torch.tensor(sourceTensor).\n",
      "  image, mask = torch.tensor(image).float(), torch.tensor(mask).float()\n",
      "/tmp/ipykernel_299334/3733926425.py:99: UserWarning: To copy construct from a tensor, it is recommended to use sourceTensor.clone().detach() or sourceTensor.clone().detach().requires_grad_(True), rather than torch.tensor(sourceTensor).\n",
      "  image, mask = torch.tensor(image).float(), torch.tensor(mask).float()\n",
      "/tmp/ipykernel_299334/3733926425.py:99: UserWarning: To copy construct from a tensor, it is recommended to use sourceTensor.clone().detach() or sourceTensor.clone().detach().requires_grad_(True), rather than torch.tensor(sourceTensor).\n",
      "  image, mask = torch.tensor(image).float(), torch.tensor(mask).float()\n",
      "/tmp/ipykernel_299334/3733926425.py:99: UserWarning: To copy construct from a tensor, it is recommended to use sourceTensor.clone().detach() or sourceTensor.clone().detach().requires_grad_(True), rather than torch.tensor(sourceTensor).\n",
      "  image, mask = torch.tensor(image).float(), torch.tensor(mask).float()\n",
      "smth:0.5289: 100%|██████████| 7/7 [02:57<00:00, 25.41s/it]\n",
      "smth:0.5297: 100%|██████████| 2/2 [01:45<00:00, 52.62s/it] \n"
     ]
    },
    {
     "name": "stdout",
     "output_type": "stream",
     "text": [
      "best th: 0.2 best dc: 0.00025755535871036216\n",
      "Fri Jan 13 21:49:48 2023 Fold 0, Epoch 124, lr: 0.0030000, train loss: 0.52895, valid loss: 0.52967, metric: 0.000258.\n",
      "Fri Jan 13 21:49:48 2023 Epoch: 125\n"
     ]
    },
    {
     "name": "stderr",
     "output_type": "stream",
     "text": [
      "  0%|          | 0/7 [00:00<?, ?it/s]/tmp/ipykernel_299334/3733926425.py:99: UserWarning: To copy construct from a tensor, it is recommended to use sourceTensor.clone().detach() or sourceTensor.clone().detach().requires_grad_(True), rather than torch.tensor(sourceTensor).\n",
      "  image, mask = torch.tensor(image).float(), torch.tensor(mask).float()\n",
      "/tmp/ipykernel_299334/3733926425.py:99: UserWarning: To copy construct from a tensor, it is recommended to use sourceTensor.clone().detach() or sourceTensor.clone().detach().requires_grad_(True), rather than torch.tensor(sourceTensor).\n",
      "  image, mask = torch.tensor(image).float(), torch.tensor(mask).float()\n",
      "/tmp/ipykernel_299334/3733926425.py:99: UserWarning: To copy construct from a tensor, it is recommended to use sourceTensor.clone().detach() or sourceTensor.clone().detach().requires_grad_(True), rather than torch.tensor(sourceTensor).\n",
      "  image, mask = torch.tensor(image).float(), torch.tensor(mask).float()\n",
      "/tmp/ipykernel_299334/3733926425.py:99: UserWarning: To copy construct from a tensor, it is recommended to use sourceTensor.clone().detach() or sourceTensor.clone().detach().requires_grad_(True), rather than torch.tensor(sourceTensor).\n",
      "  image, mask = torch.tensor(image).float(), torch.tensor(mask).float()\n",
      "smth:0.5288: 100%|██████████| 7/7 [03:18<00:00, 28.37s/it]\n",
      "smth:0.5294: 100%|██████████| 2/2 [01:49<00:00, 54.56s/it] \n"
     ]
    },
    {
     "name": "stdout",
     "output_type": "stream",
     "text": [
      "best th: 0.2 best dc: 0.00026942701860580123\n",
      "Fri Jan 13 21:54:56 2023 Fold 0, Epoch 125, lr: 0.0030000, train loss: 0.52883, valid loss: 0.52941, metric: 0.000269.\n",
      "Fri Jan 13 21:54:56 2023 Epoch: 126\n"
     ]
    },
    {
     "name": "stderr",
     "output_type": "stream",
     "text": [
      "  0%|          | 0/7 [00:00<?, ?it/s]/tmp/ipykernel_299334/3733926425.py:99: UserWarning: To copy construct from a tensor, it is recommended to use sourceTensor.clone().detach() or sourceTensor.clone().detach().requires_grad_(True), rather than torch.tensor(sourceTensor).\n",
      "  image, mask = torch.tensor(image).float(), torch.tensor(mask).float()\n",
      "/tmp/ipykernel_299334/3733926425.py:99: UserWarning: To copy construct from a tensor, it is recommended to use sourceTensor.clone().detach() or sourceTensor.clone().detach().requires_grad_(True), rather than torch.tensor(sourceTensor).\n",
      "  image, mask = torch.tensor(image).float(), torch.tensor(mask).float()\n",
      "/tmp/ipykernel_299334/3733926425.py:99: UserWarning: To copy construct from a tensor, it is recommended to use sourceTensor.clone().detach() or sourceTensor.clone().detach().requires_grad_(True), rather than torch.tensor(sourceTensor).\n",
      "  image, mask = torch.tensor(image).float(), torch.tensor(mask).float()\n",
      "/tmp/ipykernel_299334/3733926425.py:99: UserWarning: To copy construct from a tensor, it is recommended to use sourceTensor.clone().detach() or sourceTensor.clone().detach().requires_grad_(True), rather than torch.tensor(sourceTensor).\n",
      "  image, mask = torch.tensor(image).float(), torch.tensor(mask).float()\n",
      "smth:0.5288: 100%|██████████| 7/7 [03:07<00:00, 26.73s/it]\n",
      "smth:0.5290: 100%|██████████| 2/2 [01:47<00:00, 53.87s/it] \n"
     ]
    },
    {
     "name": "stdout",
     "output_type": "stream",
     "text": [
      "best th: 0.2 best dc: 0.00025080844145285874\n",
      "Fri Jan 13 21:59:51 2023 Fold 0, Epoch 126, lr: 0.0030000, train loss: 0.52882, valid loss: 0.52902, metric: 0.000251.\n",
      "Fri Jan 13 21:59:51 2023 Epoch: 127\n"
     ]
    },
    {
     "name": "stderr",
     "output_type": "stream",
     "text": [
      "  0%|          | 0/7 [00:00<?, ?it/s]/tmp/ipykernel_299334/3733926425.py:99: UserWarning: To copy construct from a tensor, it is recommended to use sourceTensor.clone().detach() or sourceTensor.clone().detach().requires_grad_(True), rather than torch.tensor(sourceTensor).\n",
      "  image, mask = torch.tensor(image).float(), torch.tensor(mask).float()\n",
      "/tmp/ipykernel_299334/3733926425.py:99: UserWarning: To copy construct from a tensor, it is recommended to use sourceTensor.clone().detach() or sourceTensor.clone().detach().requires_grad_(True), rather than torch.tensor(sourceTensor).\n",
      "  image, mask = torch.tensor(image).float(), torch.tensor(mask).float()\n",
      "/tmp/ipykernel_299334/3733926425.py:99: UserWarning: To copy construct from a tensor, it is recommended to use sourceTensor.clone().detach() or sourceTensor.clone().detach().requires_grad_(True), rather than torch.tensor(sourceTensor).\n",
      "  image, mask = torch.tensor(image).float(), torch.tensor(mask).float()\n",
      "/tmp/ipykernel_299334/3733926425.py:99: UserWarning: To copy construct from a tensor, it is recommended to use sourceTensor.clone().detach() or sourceTensor.clone().detach().requires_grad_(True), rather than torch.tensor(sourceTensor).\n",
      "  image, mask = torch.tensor(image).float(), torch.tensor(mask).float()\n",
      "smth:0.5283: 100%|██████████| 7/7 [03:06<00:00, 26.68s/it]\n",
      "smth:0.5289: 100%|██████████| 2/2 [01:47<00:00, 53.79s/it] \n"
     ]
    },
    {
     "name": "stdout",
     "output_type": "stream",
     "text": [
      "best th: 0.2 best dc: 0.00023129494818468804\n",
      "Fri Jan 13 22:04:46 2023 Fold 0, Epoch 127, lr: 0.0030000, train loss: 0.52830, valid loss: 0.52891, metric: 0.000231.\n",
      "Fri Jan 13 22:04:46 2023 Epoch: 128\n"
     ]
    },
    {
     "name": "stderr",
     "output_type": "stream",
     "text": [
      "  0%|          | 0/7 [00:00<?, ?it/s]/tmp/ipykernel_299334/3733926425.py:99: UserWarning: To copy construct from a tensor, it is recommended to use sourceTensor.clone().detach() or sourceTensor.clone().detach().requires_grad_(True), rather than torch.tensor(sourceTensor).\n",
      "  image, mask = torch.tensor(image).float(), torch.tensor(mask).float()\n",
      "/tmp/ipykernel_299334/3733926425.py:99: UserWarning: To copy construct from a tensor, it is recommended to use sourceTensor.clone().detach() or sourceTensor.clone().detach().requires_grad_(True), rather than torch.tensor(sourceTensor).\n",
      "  image, mask = torch.tensor(image).float(), torch.tensor(mask).float()\n",
      "/tmp/ipykernel_299334/3733926425.py:99: UserWarning: To copy construct from a tensor, it is recommended to use sourceTensor.clone().detach() or sourceTensor.clone().detach().requires_grad_(True), rather than torch.tensor(sourceTensor).\n",
      "  image, mask = torch.tensor(image).float(), torch.tensor(mask).float()\n",
      "/tmp/ipykernel_299334/3733926425.py:99: UserWarning: To copy construct from a tensor, it is recommended to use sourceTensor.clone().detach() or sourceTensor.clone().detach().requires_grad_(True), rather than torch.tensor(sourceTensor).\n",
      "  image, mask = torch.tensor(image).float(), torch.tensor(mask).float()\n",
      "smth:0.5278: 100%|██████████| 7/7 [02:58<00:00, 25.45s/it]\n",
      "smth:0.5286: 100%|██████████| 2/2 [01:45<00:00, 52.50s/it] \n"
     ]
    },
    {
     "name": "stdout",
     "output_type": "stream",
     "text": [
      "best th: 0.2 best dc: 0.00021936429039415222\n",
      "Fri Jan 13 22:09:29 2023 Fold 0, Epoch 128, lr: 0.0030000, train loss: 0.52782, valid loss: 0.52858, metric: 0.000219.\n",
      "Fri Jan 13 22:09:29 2023 Epoch: 129\n"
     ]
    },
    {
     "name": "stderr",
     "output_type": "stream",
     "text": [
      "  0%|          | 0/7 [00:00<?, ?it/s]/tmp/ipykernel_299334/3733926425.py:99: UserWarning: To copy construct from a tensor, it is recommended to use sourceTensor.clone().detach() or sourceTensor.clone().detach().requires_grad_(True), rather than torch.tensor(sourceTensor).\n",
      "  image, mask = torch.tensor(image).float(), torch.tensor(mask).float()\n",
      "/tmp/ipykernel_299334/3733926425.py:99: UserWarning: To copy construct from a tensor, it is recommended to use sourceTensor.clone().detach() or sourceTensor.clone().detach().requires_grad_(True), rather than torch.tensor(sourceTensor).\n",
      "  image, mask = torch.tensor(image).float(), torch.tensor(mask).float()\n",
      "/tmp/ipykernel_299334/3733926425.py:99: UserWarning: To copy construct from a tensor, it is recommended to use sourceTensor.clone().detach() or sourceTensor.clone().detach().requires_grad_(True), rather than torch.tensor(sourceTensor).\n",
      "  image, mask = torch.tensor(image).float(), torch.tensor(mask).float()\n",
      "/tmp/ipykernel_299334/3733926425.py:99: UserWarning: To copy construct from a tensor, it is recommended to use sourceTensor.clone().detach() or sourceTensor.clone().detach().requires_grad_(True), rather than torch.tensor(sourceTensor).\n",
      "  image, mask = torch.tensor(image).float(), torch.tensor(mask).float()\n",
      "smth:0.5278: 100%|██████████| 7/7 [03:00<00:00, 25.72s/it]\n",
      "smth:0.5283: 100%|██████████| 2/2 [01:48<00:00, 54.08s/it] \n"
     ]
    },
    {
     "name": "stdout",
     "output_type": "stream",
     "text": [
      "best th: 0.2 best dc: 0.00020647391003235886\n",
      "Fri Jan 13 22:14:17 2023 Fold 0, Epoch 129, lr: 0.0030000, train loss: 0.52781, valid loss: 0.52826, metric: 0.000206.\n",
      "Fri Jan 13 22:14:17 2023 Epoch: 130\n"
     ]
    },
    {
     "name": "stderr",
     "output_type": "stream",
     "text": [
      "  0%|          | 0/7 [00:00<?, ?it/s]/tmp/ipykernel_299334/3733926425.py:99: UserWarning: To copy construct from a tensor, it is recommended to use sourceTensor.clone().detach() or sourceTensor.clone().detach().requires_grad_(True), rather than torch.tensor(sourceTensor).\n",
      "  image, mask = torch.tensor(image).float(), torch.tensor(mask).float()\n",
      "/tmp/ipykernel_299334/3733926425.py:99: UserWarning: To copy construct from a tensor, it is recommended to use sourceTensor.clone().detach() or sourceTensor.clone().detach().requires_grad_(True), rather than torch.tensor(sourceTensor).\n",
      "  image, mask = torch.tensor(image).float(), torch.tensor(mask).float()\n",
      "/tmp/ipykernel_299334/3733926425.py:99: UserWarning: To copy construct from a tensor, it is recommended to use sourceTensor.clone().detach() or sourceTensor.clone().detach().requires_grad_(True), rather than torch.tensor(sourceTensor).\n",
      "  image, mask = torch.tensor(image).float(), torch.tensor(mask).float()\n",
      "/tmp/ipykernel_299334/3733926425.py:99: UserWarning: To copy construct from a tensor, it is recommended to use sourceTensor.clone().detach() or sourceTensor.clone().detach().requires_grad_(True), rather than torch.tensor(sourceTensor).\n",
      "  image, mask = torch.tensor(image).float(), torch.tensor(mask).float()\n",
      "smth:0.5273: 100%|██████████| 7/7 [03:16<00:00, 28.10s/it]\n",
      "smth:0.5280: 100%|██████████| 2/2 [01:48<00:00, 54.25s/it] \n"
     ]
    },
    {
     "name": "stdout",
     "output_type": "stream",
     "text": [
      "best th: 0.2 best dc: 0.00021557216866621433\n",
      "Fri Jan 13 22:19:23 2023 Fold 0, Epoch 130, lr: 0.0030000, train loss: 0.52725, valid loss: 0.52797, metric: 0.000216.\n",
      "Fri Jan 13 22:19:23 2023 Epoch: 131\n"
     ]
    },
    {
     "name": "stderr",
     "output_type": "stream",
     "text": [
      "  0%|          | 0/7 [00:00<?, ?it/s]/tmp/ipykernel_299334/3733926425.py:99: UserWarning: To copy construct from a tensor, it is recommended to use sourceTensor.clone().detach() or sourceTensor.clone().detach().requires_grad_(True), rather than torch.tensor(sourceTensor).\n",
      "  image, mask = torch.tensor(image).float(), torch.tensor(mask).float()\n",
      "/tmp/ipykernel_299334/3733926425.py:99: UserWarning: To copy construct from a tensor, it is recommended to use sourceTensor.clone().detach() or sourceTensor.clone().detach().requires_grad_(True), rather than torch.tensor(sourceTensor).\n",
      "  image, mask = torch.tensor(image).float(), torch.tensor(mask).float()\n",
      "/tmp/ipykernel_299334/3733926425.py:99: UserWarning: To copy construct from a tensor, it is recommended to use sourceTensor.clone().detach() or sourceTensor.clone().detach().requires_grad_(True), rather than torch.tensor(sourceTensor).\n",
      "  image, mask = torch.tensor(image).float(), torch.tensor(mask).float()\n",
      "/tmp/ipykernel_299334/3733926425.py:99: UserWarning: To copy construct from a tensor, it is recommended to use sourceTensor.clone().detach() or sourceTensor.clone().detach().requires_grad_(True), rather than torch.tensor(sourceTensor).\n",
      "  image, mask = torch.tensor(image).float(), torch.tensor(mask).float()\n",
      "smth:0.5270: 100%|██████████| 7/7 [03:10<00:00, 27.23s/it] \n",
      "smth:0.5278: 100%|██████████| 2/2 [01:46<00:00, 53.03s/it] \n"
     ]
    },
    {
     "name": "stdout",
     "output_type": "stream",
     "text": [
      "best th: 0.2 best dc: 0.00020907715178412168\n",
      "Fri Jan 13 22:24:20 2023 Fold 0, Epoch 131, lr: 0.0030000, train loss: 0.52699, valid loss: 0.52776, metric: 0.000209.\n",
      "Fri Jan 13 22:24:20 2023 Epoch: 132\n"
     ]
    },
    {
     "name": "stderr",
     "output_type": "stream",
     "text": [
      "  0%|          | 0/7 [00:00<?, ?it/s]/tmp/ipykernel_299334/3733926425.py:99: UserWarning: To copy construct from a tensor, it is recommended to use sourceTensor.clone().detach() or sourceTensor.clone().detach().requires_grad_(True), rather than torch.tensor(sourceTensor).\n",
      "  image, mask = torch.tensor(image).float(), torch.tensor(mask).float()\n",
      "/tmp/ipykernel_299334/3733926425.py:99: UserWarning: To copy construct from a tensor, it is recommended to use sourceTensor.clone().detach() or sourceTensor.clone().detach().requires_grad_(True), rather than torch.tensor(sourceTensor).\n",
      "  image, mask = torch.tensor(image).float(), torch.tensor(mask).float()\n",
      "/tmp/ipykernel_299334/3733926425.py:99: UserWarning: To copy construct from a tensor, it is recommended to use sourceTensor.clone().detach() or sourceTensor.clone().detach().requires_grad_(True), rather than torch.tensor(sourceTensor).\n",
      "  image, mask = torch.tensor(image).float(), torch.tensor(mask).float()\n",
      "/tmp/ipykernel_299334/3733926425.py:99: UserWarning: To copy construct from a tensor, it is recommended to use sourceTensor.clone().detach() or sourceTensor.clone().detach().requires_grad_(True), rather than torch.tensor(sourceTensor).\n",
      "  image, mask = torch.tensor(image).float(), torch.tensor(mask).float()\n",
      "smth:0.5267: 100%|██████████| 7/7 [03:02<00:00, 26.09s/it]\n",
      "smth:0.5274: 100%|██████████| 2/2 [01:49<00:00, 54.69s/it] \n"
     ]
    },
    {
     "name": "stdout",
     "output_type": "stream",
     "text": [
      "best th: 0.2 best dc: 0.00020198212853258333\n",
      "Fri Jan 13 22:29:12 2023 Fold 0, Epoch 132, lr: 0.0030000, train loss: 0.52673, valid loss: 0.52742, metric: 0.000202.\n",
      "Fri Jan 13 22:29:12 2023 Epoch: 133\n"
     ]
    },
    {
     "name": "stderr",
     "output_type": "stream",
     "text": [
      "  0%|          | 0/7 [00:00<?, ?it/s]/tmp/ipykernel_299334/3733926425.py:99: UserWarning: To copy construct from a tensor, it is recommended to use sourceTensor.clone().detach() or sourceTensor.clone().detach().requires_grad_(True), rather than torch.tensor(sourceTensor).\n",
      "  image, mask = torch.tensor(image).float(), torch.tensor(mask).float()\n",
      "/tmp/ipykernel_299334/3733926425.py:99: UserWarning: To copy construct from a tensor, it is recommended to use sourceTensor.clone().detach() or sourceTensor.clone().detach().requires_grad_(True), rather than torch.tensor(sourceTensor).\n",
      "  image, mask = torch.tensor(image).float(), torch.tensor(mask).float()\n",
      "/tmp/ipykernel_299334/3733926425.py:99: UserWarning: To copy construct from a tensor, it is recommended to use sourceTensor.clone().detach() or sourceTensor.clone().detach().requires_grad_(True), rather than torch.tensor(sourceTensor).\n",
      "  image, mask = torch.tensor(image).float(), torch.tensor(mask).float()\n",
      "/tmp/ipykernel_299334/3733926425.py:99: UserWarning: To copy construct from a tensor, it is recommended to use sourceTensor.clone().detach() or sourceTensor.clone().detach().requires_grad_(True), rather than torch.tensor(sourceTensor).\n",
      "  image, mask = torch.tensor(image).float(), torch.tensor(mask).float()\n",
      "smth:0.5265: 100%|██████████| 7/7 [03:17<00:00, 28.27s/it] \n",
      "smth:0.5273: 100%|██████████| 2/2 [01:51<00:00, 55.67s/it] \n"
     ]
    },
    {
     "name": "stdout",
     "output_type": "stream",
     "text": [
      "best th: 0.2 best dc: 0.00018579878326770779\n",
      "Fri Jan 13 22:34:21 2023 Fold 0, Epoch 133, lr: 0.0030000, train loss: 0.52649, valid loss: 0.52730, metric: 0.000186.\n",
      "Fri Jan 13 22:34:21 2023 Epoch: 134\n"
     ]
    },
    {
     "name": "stderr",
     "output_type": "stream",
     "text": [
      "  0%|          | 0/7 [00:00<?, ?it/s]/tmp/ipykernel_299334/3733926425.py:99: UserWarning: To copy construct from a tensor, it is recommended to use sourceTensor.clone().detach() or sourceTensor.clone().detach().requires_grad_(True), rather than torch.tensor(sourceTensor).\n",
      "  image, mask = torch.tensor(image).float(), torch.tensor(mask).float()\n",
      "/tmp/ipykernel_299334/3733926425.py:99: UserWarning: To copy construct from a tensor, it is recommended to use sourceTensor.clone().detach() or sourceTensor.clone().detach().requires_grad_(True), rather than torch.tensor(sourceTensor).\n",
      "  image, mask = torch.tensor(image).float(), torch.tensor(mask).float()\n",
      "/tmp/ipykernel_299334/3733926425.py:99: UserWarning: To copy construct from a tensor, it is recommended to use sourceTensor.clone().detach() or sourceTensor.clone().detach().requires_grad_(True), rather than torch.tensor(sourceTensor).\n",
      "  image, mask = torch.tensor(image).float(), torch.tensor(mask).float()\n",
      "/tmp/ipykernel_299334/3733926425.py:99: UserWarning: To copy construct from a tensor, it is recommended to use sourceTensor.clone().detach() or sourceTensor.clone().detach().requires_grad_(True), rather than torch.tensor(sourceTensor).\n",
      "  image, mask = torch.tensor(image).float(), torch.tensor(mask).float()\n",
      "smth:0.5265: 100%|██████████| 7/7 [03:07<00:00, 26.83s/it]\n",
      "smth:0.5270: 100%|██████████| 2/2 [01:47<00:00, 53.68s/it] \n"
     ]
    },
    {
     "name": "stdout",
     "output_type": "stream",
     "text": [
      "best th: 0.2 best dc: 0.00019377408025101917\n",
      "Fri Jan 13 22:39:16 2023 Fold 0, Epoch 134, lr: 0.0030000, train loss: 0.52647, valid loss: 0.52698, metric: 0.000194.\n",
      "Fri Jan 13 22:39:16 2023 Epoch: 135\n"
     ]
    },
    {
     "name": "stderr",
     "output_type": "stream",
     "text": [
      "  0%|          | 0/7 [00:00<?, ?it/s]/tmp/ipykernel_299334/3733926425.py:99: UserWarning: To copy construct from a tensor, it is recommended to use sourceTensor.clone().detach() or sourceTensor.clone().detach().requires_grad_(True), rather than torch.tensor(sourceTensor).\n",
      "  image, mask = torch.tensor(image).float(), torch.tensor(mask).float()\n",
      "/tmp/ipykernel_299334/3733926425.py:99: UserWarning: To copy construct from a tensor, it is recommended to use sourceTensor.clone().detach() or sourceTensor.clone().detach().requires_grad_(True), rather than torch.tensor(sourceTensor).\n",
      "  image, mask = torch.tensor(image).float(), torch.tensor(mask).float()\n",
      "/tmp/ipykernel_299334/3733926425.py:99: UserWarning: To copy construct from a tensor, it is recommended to use sourceTensor.clone().detach() or sourceTensor.clone().detach().requires_grad_(True), rather than torch.tensor(sourceTensor).\n",
      "  image, mask = torch.tensor(image).float(), torch.tensor(mask).float()\n",
      "/tmp/ipykernel_299334/3733926425.py:99: UserWarning: To copy construct from a tensor, it is recommended to use sourceTensor.clone().detach() or sourceTensor.clone().detach().requires_grad_(True), rather than torch.tensor(sourceTensor).\n",
      "  image, mask = torch.tensor(image).float(), torch.tensor(mask).float()\n",
      "smth:0.5263: 100%|██████████| 7/7 [03:01<00:00, 25.91s/it]\n",
      "smth:0.5266: 100%|██████████| 2/2 [01:44<00:00, 52.43s/it] \n"
     ]
    },
    {
     "name": "stdout",
     "output_type": "stream",
     "text": [
      "best th: 0.2 best dc: 0.00018646486804966216\n",
      "Fri Jan 13 22:44:03 2023 Fold 0, Epoch 135, lr: 0.0030000, train loss: 0.52625, valid loss: 0.52664, metric: 0.000186.\n",
      "Fri Jan 13 22:44:03 2023 Epoch: 136\n"
     ]
    },
    {
     "name": "stderr",
     "output_type": "stream",
     "text": [
      "  0%|          | 0/7 [00:00<?, ?it/s]/tmp/ipykernel_299334/3733926425.py:99: UserWarning: To copy construct from a tensor, it is recommended to use sourceTensor.clone().detach() or sourceTensor.clone().detach().requires_grad_(True), rather than torch.tensor(sourceTensor).\n",
      "  image, mask = torch.tensor(image).float(), torch.tensor(mask).float()\n",
      "/tmp/ipykernel_299334/3733926425.py:99: UserWarning: To copy construct from a tensor, it is recommended to use sourceTensor.clone().detach() or sourceTensor.clone().detach().requires_grad_(True), rather than torch.tensor(sourceTensor).\n",
      "  image, mask = torch.tensor(image).float(), torch.tensor(mask).float()\n",
      "/tmp/ipykernel_299334/3733926425.py:99: UserWarning: To copy construct from a tensor, it is recommended to use sourceTensor.clone().detach() or sourceTensor.clone().detach().requires_grad_(True), rather than torch.tensor(sourceTensor).\n",
      "  image, mask = torch.tensor(image).float(), torch.tensor(mask).float()\n",
      "/tmp/ipykernel_299334/3733926425.py:99: UserWarning: To copy construct from a tensor, it is recommended to use sourceTensor.clone().detach() or sourceTensor.clone().detach().requires_grad_(True), rather than torch.tensor(sourceTensor).\n",
      "  image, mask = torch.tensor(image).float(), torch.tensor(mask).float()\n",
      "smth:0.5260: 100%|██████████| 7/7 [03:30<00:00, 30.08s/it] \n",
      "smth:0.5264: 100%|██████████| 2/2 [01:42<00:00, 51.35s/it]\n"
     ]
    },
    {
     "name": "stdout",
     "output_type": "stream",
     "text": [
      "best th: 0.2 best dc: 0.000186468696526687\n",
      "Fri Jan 13 22:49:16 2023 Fold 0, Epoch 136, lr: 0.0030000, train loss: 0.52600, valid loss: 0.52637, metric: 0.000186.\n",
      "Fri Jan 13 22:49:16 2023 Epoch: 137\n"
     ]
    },
    {
     "name": "stderr",
     "output_type": "stream",
     "text": [
      "  0%|          | 0/7 [00:00<?, ?it/s]/tmp/ipykernel_299334/3733926425.py:99: UserWarning: To copy construct from a tensor, it is recommended to use sourceTensor.clone().detach() or sourceTensor.clone().detach().requires_grad_(True), rather than torch.tensor(sourceTensor).\n",
      "  image, mask = torch.tensor(image).float(), torch.tensor(mask).float()\n",
      "/tmp/ipykernel_299334/3733926425.py:99: UserWarning: To copy construct from a tensor, it is recommended to use sourceTensor.clone().detach() or sourceTensor.clone().detach().requires_grad_(True), rather than torch.tensor(sourceTensor).\n",
      "  image, mask = torch.tensor(image).float(), torch.tensor(mask).float()\n",
      "/tmp/ipykernel_299334/3733926425.py:99: UserWarning: To copy construct from a tensor, it is recommended to use sourceTensor.clone().detach() or sourceTensor.clone().detach().requires_grad_(True), rather than torch.tensor(sourceTensor).\n",
      "  image, mask = torch.tensor(image).float(), torch.tensor(mask).float()\n",
      "/tmp/ipykernel_299334/3733926425.py:99: UserWarning: To copy construct from a tensor, it is recommended to use sourceTensor.clone().detach() or sourceTensor.clone().detach().requires_grad_(True), rather than torch.tensor(sourceTensor).\n",
      "  image, mask = torch.tensor(image).float(), torch.tensor(mask).float()\n",
      "smth:0.5261: 100%|██████████| 7/7 [03:21<00:00, 28.82s/it] \n",
      "smth:0.5262: 100%|██████████| 2/2 [01:45<00:00, 52.95s/it] \n"
     ]
    },
    {
     "name": "stdout",
     "output_type": "stream",
     "text": [
      "best th: 0.2 best dc: 0.00017667854273530696\n",
      "Fri Jan 13 22:54:24 2023 Fold 0, Epoch 137, lr: 0.0030000, train loss: 0.52611, valid loss: 0.52625, metric: 0.000177.\n",
      "Fri Jan 13 22:54:24 2023 Epoch: 138\n"
     ]
    },
    {
     "name": "stderr",
     "output_type": "stream",
     "text": [
      "  0%|          | 0/7 [00:00<?, ?it/s]/tmp/ipykernel_299334/3733926425.py:99: UserWarning: To copy construct from a tensor, it is recommended to use sourceTensor.clone().detach() or sourceTensor.clone().detach().requires_grad_(True), rather than torch.tensor(sourceTensor).\n",
      "  image, mask = torch.tensor(image).float(), torch.tensor(mask).float()\n",
      "/tmp/ipykernel_299334/3733926425.py:99: UserWarning: To copy construct from a tensor, it is recommended to use sourceTensor.clone().detach() or sourceTensor.clone().detach().requires_grad_(True), rather than torch.tensor(sourceTensor).\n",
      "  image, mask = torch.tensor(image).float(), torch.tensor(mask).float()\n",
      "/tmp/ipykernel_299334/3733926425.py:99: UserWarning: To copy construct from a tensor, it is recommended to use sourceTensor.clone().detach() or sourceTensor.clone().detach().requires_grad_(True), rather than torch.tensor(sourceTensor).\n",
      "  image, mask = torch.tensor(image).float(), torch.tensor(mask).float()\n",
      "/tmp/ipykernel_299334/3733926425.py:99: UserWarning: To copy construct from a tensor, it is recommended to use sourceTensor.clone().detach() or sourceTensor.clone().detach().requires_grad_(True), rather than torch.tensor(sourceTensor).\n",
      "  image, mask = torch.tensor(image).float(), torch.tensor(mask).float()\n",
      "smth:0.5254: 100%|██████████| 7/7 [03:08<00:00, 26.87s/it]\n",
      "smth:0.5260: 100%|██████████| 2/2 [01:47<00:00, 54.00s/it] \n"
     ]
    },
    {
     "name": "stdout",
     "output_type": "stream",
     "text": [
      "best th: 0.2 best dc: 0.000165540447407243\n",
      "Fri Jan 13 22:59:20 2023 Fold 0, Epoch 138, lr: 0.0030000, train loss: 0.52538, valid loss: 0.52605, metric: 0.000166.\n",
      "Fri Jan 13 22:59:20 2023 Epoch: 139\n"
     ]
    },
    {
     "name": "stderr",
     "output_type": "stream",
     "text": [
      "  0%|          | 0/7 [00:00<?, ?it/s]/tmp/ipykernel_299334/3733926425.py:99: UserWarning: To copy construct from a tensor, it is recommended to use sourceTensor.clone().detach() or sourceTensor.clone().detach().requires_grad_(True), rather than torch.tensor(sourceTensor).\n",
      "  image, mask = torch.tensor(image).float(), torch.tensor(mask).float()\n",
      "/tmp/ipykernel_299334/3733926425.py:99: UserWarning: To copy construct from a tensor, it is recommended to use sourceTensor.clone().detach() or sourceTensor.clone().detach().requires_grad_(True), rather than torch.tensor(sourceTensor).\n",
      "  image, mask = torch.tensor(image).float(), torch.tensor(mask).float()\n",
      "/tmp/ipykernel_299334/3733926425.py:99: UserWarning: To copy construct from a tensor, it is recommended to use sourceTensor.clone().detach() or sourceTensor.clone().detach().requires_grad_(True), rather than torch.tensor(sourceTensor).\n",
      "  image, mask = torch.tensor(image).float(), torch.tensor(mask).float()\n",
      "/tmp/ipykernel_299334/3733926425.py:99: UserWarning: To copy construct from a tensor, it is recommended to use sourceTensor.clone().detach() or sourceTensor.clone().detach().requires_grad_(True), rather than torch.tensor(sourceTensor).\n",
      "  image, mask = torch.tensor(image).float(), torch.tensor(mask).float()\n",
      "smth:0.5255: 100%|██████████| 7/7 [02:55<00:00, 25.06s/it]\n",
      "smth:0.5258: 100%|██████████| 2/2 [01:49<00:00, 54.75s/it] \n"
     ]
    },
    {
     "name": "stdout",
     "output_type": "stream",
     "text": [
      "best th: 0.2 best dc: 0.000163131317182502\n",
      "Fri Jan 13 23:04:05 2023 Fold 0, Epoch 139, lr: 0.0030000, train loss: 0.52546, valid loss: 0.52578, metric: 0.000163.\n",
      "Fri Jan 13 23:04:05 2023 Epoch: 140\n"
     ]
    },
    {
     "name": "stderr",
     "output_type": "stream",
     "text": [
      "  0%|          | 0/7 [00:00<?, ?it/s]/tmp/ipykernel_299334/3733926425.py:99: UserWarning: To copy construct from a tensor, it is recommended to use sourceTensor.clone().detach() or sourceTensor.clone().detach().requires_grad_(True), rather than torch.tensor(sourceTensor).\n",
      "  image, mask = torch.tensor(image).float(), torch.tensor(mask).float()\n",
      "/tmp/ipykernel_299334/3733926425.py:99: UserWarning: To copy construct from a tensor, it is recommended to use sourceTensor.clone().detach() or sourceTensor.clone().detach().requires_grad_(True), rather than torch.tensor(sourceTensor).\n",
      "  image, mask = torch.tensor(image).float(), torch.tensor(mask).float()\n",
      "/tmp/ipykernel_299334/3733926425.py:99: UserWarning: To copy construct from a tensor, it is recommended to use sourceTensor.clone().detach() or sourceTensor.clone().detach().requires_grad_(True), rather than torch.tensor(sourceTensor).\n",
      "  image, mask = torch.tensor(image).float(), torch.tensor(mask).float()\n",
      "/tmp/ipykernel_299334/3733926425.py:99: UserWarning: To copy construct from a tensor, it is recommended to use sourceTensor.clone().detach() or sourceTensor.clone().detach().requires_grad_(True), rather than torch.tensor(sourceTensor).\n",
      "  image, mask = torch.tensor(image).float(), torch.tensor(mask).float()\n",
      "smth:0.5253: 100%|██████████| 7/7 [02:56<00:00, 25.22s/it] \n",
      "smth:0.5256: 100%|██████████| 2/2 [01:48<00:00, 54.34s/it] \n"
     ]
    },
    {
     "name": "stdout",
     "output_type": "stream",
     "text": [
      "best th: 0.2 best dc: 0.00015818821375246765\n",
      "Fri Jan 13 23:08:51 2023 Fold 0, Epoch 140, lr: 0.0030000, train loss: 0.52527, valid loss: 0.52559, metric: 0.000158.\n",
      "Fri Jan 13 23:08:51 2023 Epoch: 141\n"
     ]
    },
    {
     "name": "stderr",
     "output_type": "stream",
     "text": [
      "  0%|          | 0/7 [00:00<?, ?it/s]/tmp/ipykernel_299334/3733926425.py:99: UserWarning: To copy construct from a tensor, it is recommended to use sourceTensor.clone().detach() or sourceTensor.clone().detach().requires_grad_(True), rather than torch.tensor(sourceTensor).\n",
      "  image, mask = torch.tensor(image).float(), torch.tensor(mask).float()\n",
      "/tmp/ipykernel_299334/3733926425.py:99: UserWarning: To copy construct from a tensor, it is recommended to use sourceTensor.clone().detach() or sourceTensor.clone().detach().requires_grad_(True), rather than torch.tensor(sourceTensor).\n",
      "  image, mask = torch.tensor(image).float(), torch.tensor(mask).float()\n",
      "/tmp/ipykernel_299334/3733926425.py:99: UserWarning: To copy construct from a tensor, it is recommended to use sourceTensor.clone().detach() or sourceTensor.clone().detach().requires_grad_(True), rather than torch.tensor(sourceTensor).\n",
      "  image, mask = torch.tensor(image).float(), torch.tensor(mask).float()\n",
      "/tmp/ipykernel_299334/3733926425.py:99: UserWarning: To copy construct from a tensor, it is recommended to use sourceTensor.clone().detach() or sourceTensor.clone().detach().requires_grad_(True), rather than torch.tensor(sourceTensor).\n",
      "  image, mask = torch.tensor(image).float(), torch.tensor(mask).float()\n",
      "smth:0.5246: 100%|██████████| 7/7 [03:11<00:00, 27.39s/it]\n",
      "smth:0.5253: 100%|██████████| 2/2 [01:49<00:00, 54.56s/it] \n"
     ]
    },
    {
     "name": "stdout",
     "output_type": "stream",
     "text": [
      "best th: 0.2 best dc: 0.00016164698432858657\n",
      "Fri Jan 13 23:13:52 2023 Fold 0, Epoch 141, lr: 0.0030000, train loss: 0.52461, valid loss: 0.52532, metric: 0.000162.\n",
      "Fri Jan 13 23:13:52 2023 Epoch: 142\n"
     ]
    },
    {
     "name": "stderr",
     "output_type": "stream",
     "text": [
      "  0%|          | 0/7 [00:00<?, ?it/s]/tmp/ipykernel_299334/3733926425.py:99: UserWarning: To copy construct from a tensor, it is recommended to use sourceTensor.clone().detach() or sourceTensor.clone().detach().requires_grad_(True), rather than torch.tensor(sourceTensor).\n",
      "  image, mask = torch.tensor(image).float(), torch.tensor(mask).float()\n",
      "/tmp/ipykernel_299334/3733926425.py:99: UserWarning: To copy construct from a tensor, it is recommended to use sourceTensor.clone().detach() or sourceTensor.clone().detach().requires_grad_(True), rather than torch.tensor(sourceTensor).\n",
      "  image, mask = torch.tensor(image).float(), torch.tensor(mask).float()\n",
      "/tmp/ipykernel_299334/3733926425.py:99: UserWarning: To copy construct from a tensor, it is recommended to use sourceTensor.clone().detach() or sourceTensor.clone().detach().requires_grad_(True), rather than torch.tensor(sourceTensor).\n",
      "  image, mask = torch.tensor(image).float(), torch.tensor(mask).float()\n",
      "/tmp/ipykernel_299334/3733926425.py:99: UserWarning: To copy construct from a tensor, it is recommended to use sourceTensor.clone().detach() or sourceTensor.clone().detach().requires_grad_(True), rather than torch.tensor(sourceTensor).\n",
      "  image, mask = torch.tensor(image).float(), torch.tensor(mask).float()\n",
      "smth:0.5247: 100%|██████████| 7/7 [03:03<00:00, 26.25s/it] \n",
      "smth:0.5252: 100%|██████████| 2/2 [01:49<00:00, 54.77s/it] \n"
     ]
    },
    {
     "name": "stdout",
     "output_type": "stream",
     "text": [
      "best th: 0.2 best dc: 0.00015940456675710515\n",
      "Fri Jan 13 23:18:45 2023 Fold 0, Epoch 142, lr: 0.0030000, train loss: 0.52466, valid loss: 0.52523, metric: 0.000159.\n",
      "Fri Jan 13 23:18:45 2023 Epoch: 143\n"
     ]
    },
    {
     "name": "stderr",
     "output_type": "stream",
     "text": [
      "  0%|          | 0/7 [00:00<?, ?it/s]/tmp/ipykernel_299334/3733926425.py:99: UserWarning: To copy construct from a tensor, it is recommended to use sourceTensor.clone().detach() or sourceTensor.clone().detach().requires_grad_(True), rather than torch.tensor(sourceTensor).\n",
      "  image, mask = torch.tensor(image).float(), torch.tensor(mask).float()\n",
      "/tmp/ipykernel_299334/3733926425.py:99: UserWarning: To copy construct from a tensor, it is recommended to use sourceTensor.clone().detach() or sourceTensor.clone().detach().requires_grad_(True), rather than torch.tensor(sourceTensor).\n",
      "  image, mask = torch.tensor(image).float(), torch.tensor(mask).float()\n",
      "/tmp/ipykernel_299334/3733926425.py:99: UserWarning: To copy construct from a tensor, it is recommended to use sourceTensor.clone().detach() or sourceTensor.clone().detach().requires_grad_(True), rather than torch.tensor(sourceTensor).\n",
      "  image, mask = torch.tensor(image).float(), torch.tensor(mask).float()\n",
      "/tmp/ipykernel_299334/3733926425.py:99: UserWarning: To copy construct from a tensor, it is recommended to use sourceTensor.clone().detach() or sourceTensor.clone().detach().requires_grad_(True), rather than torch.tensor(sourceTensor).\n",
      "  image, mask = torch.tensor(image).float(), torch.tensor(mask).float()\n",
      "smth:0.5244: 100%|██████████| 7/7 [03:05<00:00, 26.45s/it]\n",
      "smth:0.5249: 100%|██████████| 2/2 [01:46<00:00, 53.32s/it] \n"
     ]
    },
    {
     "name": "stdout",
     "output_type": "stream",
     "text": [
      "best th: 0.2 best dc: 0.00014606412920880796\n",
      "Fri Jan 13 23:23:37 2023 Fold 0, Epoch 143, lr: 0.0030000, train loss: 0.52437, valid loss: 0.52493, metric: 0.000146.\n",
      "Fri Jan 13 23:23:37 2023 Epoch: 144\n"
     ]
    },
    {
     "name": "stderr",
     "output_type": "stream",
     "text": [
      "  0%|          | 0/7 [00:00<?, ?it/s]/tmp/ipykernel_299334/3733926425.py:99: UserWarning: To copy construct from a tensor, it is recommended to use sourceTensor.clone().detach() or sourceTensor.clone().detach().requires_grad_(True), rather than torch.tensor(sourceTensor).\n",
      "  image, mask = torch.tensor(image).float(), torch.tensor(mask).float()\n",
      "/tmp/ipykernel_299334/3733926425.py:99: UserWarning: To copy construct from a tensor, it is recommended to use sourceTensor.clone().detach() or sourceTensor.clone().detach().requires_grad_(True), rather than torch.tensor(sourceTensor).\n",
      "  image, mask = torch.tensor(image).float(), torch.tensor(mask).float()\n",
      "/tmp/ipykernel_299334/3733926425.py:99: UserWarning: To copy construct from a tensor, it is recommended to use sourceTensor.clone().detach() or sourceTensor.clone().detach().requires_grad_(True), rather than torch.tensor(sourceTensor).\n",
      "  image, mask = torch.tensor(image).float(), torch.tensor(mask).float()\n",
      "/tmp/ipykernel_299334/3733926425.py:99: UserWarning: To copy construct from a tensor, it is recommended to use sourceTensor.clone().detach() or sourceTensor.clone().detach().requires_grad_(True), rather than torch.tensor(sourceTensor).\n",
      "  image, mask = torch.tensor(image).float(), torch.tensor(mask).float()\n",
      "smth:0.5243: 100%|██████████| 7/7 [02:56<00:00, 25.21s/it]\n",
      "smth:0.5248: 100%|██████████| 2/2 [01:43<00:00, 51.73s/it]\n"
     ]
    },
    {
     "name": "stdout",
     "output_type": "stream",
     "text": [
      "best th: 0.2 best dc: 0.00015423095825158577\n",
      "Fri Jan 13 23:28:17 2023 Fold 0, Epoch 144, lr: 0.0030000, train loss: 0.52432, valid loss: 0.52477, metric: 0.000154.\n",
      "Fri Jan 13 23:28:17 2023 Epoch: 145\n"
     ]
    },
    {
     "name": "stderr",
     "output_type": "stream",
     "text": [
      "  0%|          | 0/7 [00:00<?, ?it/s]/tmp/ipykernel_299334/3733926425.py:99: UserWarning: To copy construct from a tensor, it is recommended to use sourceTensor.clone().detach() or sourceTensor.clone().detach().requires_grad_(True), rather than torch.tensor(sourceTensor).\n",
      "  image, mask = torch.tensor(image).float(), torch.tensor(mask).float()\n",
      "/tmp/ipykernel_299334/3733926425.py:99: UserWarning: To copy construct from a tensor, it is recommended to use sourceTensor.clone().detach() or sourceTensor.clone().detach().requires_grad_(True), rather than torch.tensor(sourceTensor).\n",
      "  image, mask = torch.tensor(image).float(), torch.tensor(mask).float()\n",
      "/tmp/ipykernel_299334/3733926425.py:99: UserWarning: To copy construct from a tensor, it is recommended to use sourceTensor.clone().detach() or sourceTensor.clone().detach().requires_grad_(True), rather than torch.tensor(sourceTensor).\n",
      "  image, mask = torch.tensor(image).float(), torch.tensor(mask).float()\n",
      "/tmp/ipykernel_299334/3733926425.py:99: UserWarning: To copy construct from a tensor, it is recommended to use sourceTensor.clone().detach() or sourceTensor.clone().detach().requires_grad_(True), rather than torch.tensor(sourceTensor).\n",
      "  image, mask = torch.tensor(image).float(), torch.tensor(mask).float()\n",
      "smth:0.5240: 100%|██████████| 7/7 [02:56<00:00, 25.22s/it] \n",
      "smth:0.5245: 100%|██████████| 2/2 [01:47<00:00, 53.65s/it] \n"
     ]
    },
    {
     "name": "stdout",
     "output_type": "stream",
     "text": [
      "best th: 0.2 best dc: 0.0001485180110757169\n",
      "Fri Jan 13 23:33:01 2023 Fold 0, Epoch 145, lr: 0.0030000, train loss: 0.52399, valid loss: 0.52449, metric: 0.000149.\n",
      "Fri Jan 13 23:33:01 2023 Epoch: 146\n"
     ]
    },
    {
     "name": "stderr",
     "output_type": "stream",
     "text": [
      "  0%|          | 0/7 [00:00<?, ?it/s]/tmp/ipykernel_299334/3733926425.py:99: UserWarning: To copy construct from a tensor, it is recommended to use sourceTensor.clone().detach() or sourceTensor.clone().detach().requires_grad_(True), rather than torch.tensor(sourceTensor).\n",
      "  image, mask = torch.tensor(image).float(), torch.tensor(mask).float()\n",
      "/tmp/ipykernel_299334/3733926425.py:99: UserWarning: To copy construct from a tensor, it is recommended to use sourceTensor.clone().detach() or sourceTensor.clone().detach().requires_grad_(True), rather than torch.tensor(sourceTensor).\n",
      "  image, mask = torch.tensor(image).float(), torch.tensor(mask).float()\n",
      "/tmp/ipykernel_299334/3733926425.py:99: UserWarning: To copy construct from a tensor, it is recommended to use sourceTensor.clone().detach() or sourceTensor.clone().detach().requires_grad_(True), rather than torch.tensor(sourceTensor).\n",
      "  image, mask = torch.tensor(image).float(), torch.tensor(mask).float()\n",
      "/tmp/ipykernel_299334/3733926425.py:99: UserWarning: To copy construct from a tensor, it is recommended to use sourceTensor.clone().detach() or sourceTensor.clone().detach().requires_grad_(True), rather than torch.tensor(sourceTensor).\n",
      "  image, mask = torch.tensor(image).float(), torch.tensor(mask).float()\n",
      "smth:0.5238: 100%|██████████| 7/7 [03:11<00:00, 27.35s/it] \n",
      "smth:0.5243: 100%|██████████| 2/2 [01:47<00:00, 53.61s/it] \n"
     ]
    },
    {
     "name": "stdout",
     "output_type": "stream",
     "text": [
      "best th: 0.2 best dc: 0.0001404162132087628\n",
      "Fri Jan 13 23:38:00 2023 Fold 0, Epoch 146, lr: 0.0030000, train loss: 0.52380, valid loss: 0.52428, metric: 0.000140.\n",
      "Fri Jan 13 23:38:00 2023 Epoch: 147\n"
     ]
    },
    {
     "name": "stderr",
     "output_type": "stream",
     "text": [
      "  0%|          | 0/7 [00:00<?, ?it/s]/tmp/ipykernel_299334/3733926425.py:99: UserWarning: To copy construct from a tensor, it is recommended to use sourceTensor.clone().detach() or sourceTensor.clone().detach().requires_grad_(True), rather than torch.tensor(sourceTensor).\n",
      "  image, mask = torch.tensor(image).float(), torch.tensor(mask).float()\n",
      "/tmp/ipykernel_299334/3733926425.py:99: UserWarning: To copy construct from a tensor, it is recommended to use sourceTensor.clone().detach() or sourceTensor.clone().detach().requires_grad_(True), rather than torch.tensor(sourceTensor).\n",
      "  image, mask = torch.tensor(image).float(), torch.tensor(mask).float()\n",
      "/tmp/ipykernel_299334/3733926425.py:99: UserWarning: To copy construct from a tensor, it is recommended to use sourceTensor.clone().detach() or sourceTensor.clone().detach().requires_grad_(True), rather than torch.tensor(sourceTensor).\n",
      "  image, mask = torch.tensor(image).float(), torch.tensor(mask).float()\n",
      "/tmp/ipykernel_299334/3733926425.py:99: UserWarning: To copy construct from a tensor, it is recommended to use sourceTensor.clone().detach() or sourceTensor.clone().detach().requires_grad_(True), rather than torch.tensor(sourceTensor).\n",
      "  image, mask = torch.tensor(image).float(), torch.tensor(mask).float()\n",
      "smth:0.5234: 100%|██████████| 7/7 [03:16<00:00, 28.12s/it]\n",
      "smth:0.5242: 100%|██████████| 2/2 [01:46<00:00, 53.41s/it] \n"
     ]
    },
    {
     "name": "stdout",
     "output_type": "stream",
     "text": [
      "best th: 0.2 best dc: 0.00013577699522949189\n",
      "Fri Jan 13 23:43:04 2023 Fold 0, Epoch 147, lr: 0.0030000, train loss: 0.52344, valid loss: 0.52418, metric: 0.000136.\n",
      "Fri Jan 13 23:43:04 2023 Epoch: 148\n"
     ]
    },
    {
     "name": "stderr",
     "output_type": "stream",
     "text": [
      "  0%|          | 0/7 [00:00<?, ?it/s]/tmp/ipykernel_299334/3733926425.py:99: UserWarning: To copy construct from a tensor, it is recommended to use sourceTensor.clone().detach() or sourceTensor.clone().detach().requires_grad_(True), rather than torch.tensor(sourceTensor).\n",
      "  image, mask = torch.tensor(image).float(), torch.tensor(mask).float()\n",
      "/tmp/ipykernel_299334/3733926425.py:99: UserWarning: To copy construct from a tensor, it is recommended to use sourceTensor.clone().detach() or sourceTensor.clone().detach().requires_grad_(True), rather than torch.tensor(sourceTensor).\n",
      "  image, mask = torch.tensor(image).float(), torch.tensor(mask).float()\n",
      "/tmp/ipykernel_299334/3733926425.py:99: UserWarning: To copy construct from a tensor, it is recommended to use sourceTensor.clone().detach() or sourceTensor.clone().detach().requires_grad_(True), rather than torch.tensor(sourceTensor).\n",
      "  image, mask = torch.tensor(image).float(), torch.tensor(mask).float()\n",
      "/tmp/ipykernel_299334/3733926425.py:99: UserWarning: To copy construct from a tensor, it is recommended to use sourceTensor.clone().detach() or sourceTensor.clone().detach().requires_grad_(True), rather than torch.tensor(sourceTensor).\n",
      "  image, mask = torch.tensor(image).float(), torch.tensor(mask).float()\n",
      "smth:0.5235: 100%|██████████| 7/7 [03:18<00:00, 28.40s/it] \n",
      "smth:0.5240: 100%|██████████| 2/2 [01:45<00:00, 52.82s/it] \n"
     ]
    },
    {
     "name": "stdout",
     "output_type": "stream",
     "text": [
      "best th: 0.2 best dc: 0.00013427988537621037\n",
      "Fri Jan 13 23:48:08 2023 Fold 0, Epoch 148, lr: 0.0030000, train loss: 0.52347, valid loss: 0.52396, metric: 0.000134.\n",
      "Fri Jan 13 23:48:08 2023 Epoch: 149\n"
     ]
    },
    {
     "name": "stderr",
     "output_type": "stream",
     "text": [
      "  0%|          | 0/7 [00:00<?, ?it/s]/tmp/ipykernel_299334/3733926425.py:99: UserWarning: To copy construct from a tensor, it is recommended to use sourceTensor.clone().detach() or sourceTensor.clone().detach().requires_grad_(True), rather than torch.tensor(sourceTensor).\n",
      "  image, mask = torch.tensor(image).float(), torch.tensor(mask).float()\n",
      "/tmp/ipykernel_299334/3733926425.py:99: UserWarning: To copy construct from a tensor, it is recommended to use sourceTensor.clone().detach() or sourceTensor.clone().detach().requires_grad_(True), rather than torch.tensor(sourceTensor).\n",
      "  image, mask = torch.tensor(image).float(), torch.tensor(mask).float()\n",
      "/tmp/ipykernel_299334/3733926425.py:99: UserWarning: To copy construct from a tensor, it is recommended to use sourceTensor.clone().detach() or sourceTensor.clone().detach().requires_grad_(True), rather than torch.tensor(sourceTensor).\n",
      "  image, mask = torch.tensor(image).float(), torch.tensor(mask).float()\n",
      "/tmp/ipykernel_299334/3733926425.py:99: UserWarning: To copy construct from a tensor, it is recommended to use sourceTensor.clone().detach() or sourceTensor.clone().detach().requires_grad_(True), rather than torch.tensor(sourceTensor).\n",
      "  image, mask = torch.tensor(image).float(), torch.tensor(mask).float()\n",
      "smth:0.5234: 100%|██████████| 7/7 [02:50<00:00, 24.31s/it]\n",
      "smth:0.5239: 100%|██████████| 2/2 [01:42<00:00, 51.37s/it]\n"
     ]
    },
    {
     "name": "stdout",
     "output_type": "stream",
     "text": [
      "best th: 0.2 best dc: 0.00013112370834974455\n",
      "Fri Jan 13 23:52:42 2023 Fold 0, Epoch 149, lr: 0.0030000, train loss: 0.52343, valid loss: 0.52389, metric: 0.000131.\n",
      "Fri Jan 13 23:52:42 2023 Epoch: 150\n"
     ]
    },
    {
     "name": "stderr",
     "output_type": "stream",
     "text": [
      "  0%|          | 0/7 [00:00<?, ?it/s]/tmp/ipykernel_299334/3733926425.py:99: UserWarning: To copy construct from a tensor, it is recommended to use sourceTensor.clone().detach() or sourceTensor.clone().detach().requires_grad_(True), rather than torch.tensor(sourceTensor).\n",
      "  image, mask = torch.tensor(image).float(), torch.tensor(mask).float()\n",
      "/tmp/ipykernel_299334/3733926425.py:99: UserWarning: To copy construct from a tensor, it is recommended to use sourceTensor.clone().detach() or sourceTensor.clone().detach().requires_grad_(True), rather than torch.tensor(sourceTensor).\n",
      "  image, mask = torch.tensor(image).float(), torch.tensor(mask).float()\n",
      "/tmp/ipykernel_299334/3733926425.py:99: UserWarning: To copy construct from a tensor, it is recommended to use sourceTensor.clone().detach() or sourceTensor.clone().detach().requires_grad_(True), rather than torch.tensor(sourceTensor).\n",
      "  image, mask = torch.tensor(image).float(), torch.tensor(mask).float()\n",
      "/tmp/ipykernel_299334/3733926425.py:99: UserWarning: To copy construct from a tensor, it is recommended to use sourceTensor.clone().detach() or sourceTensor.clone().detach().requires_grad_(True), rather than torch.tensor(sourceTensor).\n",
      "  image, mask = torch.tensor(image).float(), torch.tensor(mask).float()\n",
      "smth:0.5230: 100%|██████████| 7/7 [03:18<00:00, 28.38s/it] \n",
      "smth:0.5236: 100%|██████████| 2/2 [01:58<00:00, 59.44s/it] \n"
     ]
    },
    {
     "name": "stdout",
     "output_type": "stream",
     "text": [
      "best th: 0.2 best dc: 0.00013327827622284155\n",
      "Fri Jan 13 23:57:59 2023 Fold 0, Epoch 150, lr: 0.0030000, train loss: 0.52296, valid loss: 0.52359, metric: 0.000133.\n",
      "Fri Jan 13 23:57:59 2023 Epoch: 151\n"
     ]
    },
    {
     "name": "stderr",
     "output_type": "stream",
     "text": [
      "  0%|          | 0/7 [00:00<?, ?it/s]/tmp/ipykernel_299334/3733926425.py:99: UserWarning: To copy construct from a tensor, it is recommended to use sourceTensor.clone().detach() or sourceTensor.clone().detach().requires_grad_(True), rather than torch.tensor(sourceTensor).\n",
      "  image, mask = torch.tensor(image).float(), torch.tensor(mask).float()\n",
      "/tmp/ipykernel_299334/3733926425.py:99: UserWarning: To copy construct from a tensor, it is recommended to use sourceTensor.clone().detach() or sourceTensor.clone().detach().requires_grad_(True), rather than torch.tensor(sourceTensor).\n",
      "  image, mask = torch.tensor(image).float(), torch.tensor(mask).float()\n",
      "/tmp/ipykernel_299334/3733926425.py:99: UserWarning: To copy construct from a tensor, it is recommended to use sourceTensor.clone().detach() or sourceTensor.clone().detach().requires_grad_(True), rather than torch.tensor(sourceTensor).\n",
      "  image, mask = torch.tensor(image).float(), torch.tensor(mask).float()\n",
      "/tmp/ipykernel_299334/3733926425.py:99: UserWarning: To copy construct from a tensor, it is recommended to use sourceTensor.clone().detach() or sourceTensor.clone().detach().requires_grad_(True), rather than torch.tensor(sourceTensor).\n",
      "  image, mask = torch.tensor(image).float(), torch.tensor(mask).float()\n",
      "smth:0.5230: 100%|██████████| 7/7 [03:25<00:00, 29.34s/it] \n",
      "smth:0.5234: 100%|██████████| 2/2 [01:52<00:00, 56.43s/it] \n"
     ]
    },
    {
     "name": "stdout",
     "output_type": "stream",
     "text": [
      "best th: 0.2 best dc: 0.00012960836604411488\n",
      "Sat Jan 14 00:03:18 2023 Fold 0, Epoch 151, lr: 0.0030000, train loss: 0.52296, valid loss: 0.52344, metric: 0.000130.\n",
      "Sat Jan 14 00:03:18 2023 Epoch: 152\n"
     ]
    },
    {
     "name": "stderr",
     "output_type": "stream",
     "text": [
      "  0%|          | 0/7 [00:00<?, ?it/s]/tmp/ipykernel_299334/3733926425.py:99: UserWarning: To copy construct from a tensor, it is recommended to use sourceTensor.clone().detach() or sourceTensor.clone().detach().requires_grad_(True), rather than torch.tensor(sourceTensor).\n",
      "  image, mask = torch.tensor(image).float(), torch.tensor(mask).float()\n",
      "/tmp/ipykernel_299334/3733926425.py:99: UserWarning: To copy construct from a tensor, it is recommended to use sourceTensor.clone().detach() or sourceTensor.clone().detach().requires_grad_(True), rather than torch.tensor(sourceTensor).\n",
      "  image, mask = torch.tensor(image).float(), torch.tensor(mask).float()\n",
      "/tmp/ipykernel_299334/3733926425.py:99: UserWarning: To copy construct from a tensor, it is recommended to use sourceTensor.clone().detach() or sourceTensor.clone().detach().requires_grad_(True), rather than torch.tensor(sourceTensor).\n",
      "  image, mask = torch.tensor(image).float(), torch.tensor(mask).float()\n",
      "/tmp/ipykernel_299334/3733926425.py:99: UserWarning: To copy construct from a tensor, it is recommended to use sourceTensor.clone().detach() or sourceTensor.clone().detach().requires_grad_(True), rather than torch.tensor(sourceTensor).\n",
      "  image, mask = torch.tensor(image).float(), torch.tensor(mask).float()\n",
      "smth:0.5228: 100%|██████████| 7/7 [03:19<00:00, 28.51s/it] \n",
      "smth:0.5234: 100%|██████████| 2/2 [01:48<00:00, 54.02s/it] \n"
     ]
    },
    {
     "name": "stdout",
     "output_type": "stream",
     "text": [
      "best th: 0.2 best dc: 0.00012579161409097573\n",
      "Sat Jan 14 00:08:26 2023 Fold 0, Epoch 152, lr: 0.0030000, train loss: 0.52281, valid loss: 0.52338, metric: 0.000126.\n",
      "Sat Jan 14 00:08:26 2023 Epoch: 153\n"
     ]
    },
    {
     "name": "stderr",
     "output_type": "stream",
     "text": [
      "  0%|          | 0/7 [00:00<?, ?it/s]/tmp/ipykernel_299334/3733926425.py:99: UserWarning: To copy construct from a tensor, it is recommended to use sourceTensor.clone().detach() or sourceTensor.clone().detach().requires_grad_(True), rather than torch.tensor(sourceTensor).\n",
      "  image, mask = torch.tensor(image).float(), torch.tensor(mask).float()\n",
      "/tmp/ipykernel_299334/3733926425.py:99: UserWarning: To copy construct from a tensor, it is recommended to use sourceTensor.clone().detach() or sourceTensor.clone().detach().requires_grad_(True), rather than torch.tensor(sourceTensor).\n",
      "  image, mask = torch.tensor(image).float(), torch.tensor(mask).float()\n",
      "/tmp/ipykernel_299334/3733926425.py:99: UserWarning: To copy construct from a tensor, it is recommended to use sourceTensor.clone().detach() or sourceTensor.clone().detach().requires_grad_(True), rather than torch.tensor(sourceTensor).\n",
      "  image, mask = torch.tensor(image).float(), torch.tensor(mask).float()\n",
      "/tmp/ipykernel_299334/3733926425.py:99: UserWarning: To copy construct from a tensor, it is recommended to use sourceTensor.clone().detach() or sourceTensor.clone().detach().requires_grad_(True), rather than torch.tensor(sourceTensor).\n",
      "  image, mask = torch.tensor(image).float(), torch.tensor(mask).float()\n",
      "smth:0.5226: 100%|██████████| 7/7 [03:08<00:00, 26.94s/it]\n",
      "smth:0.5232: 100%|██████████| 2/2 [01:47<00:00, 53.82s/it] \n"
     ]
    },
    {
     "name": "stdout",
     "output_type": "stream",
     "text": [
      "best th: 0.2 best dc: 0.00012772144323226357\n",
      "Sat Jan 14 00:13:22 2023 Fold 0, Epoch 153, lr: 0.0030000, train loss: 0.52260, valid loss: 0.52320, metric: 0.000128.\n",
      "Sat Jan 14 00:13:22 2023 Epoch: 154\n"
     ]
    },
    {
     "name": "stderr",
     "output_type": "stream",
     "text": [
      "  0%|          | 0/7 [00:00<?, ?it/s]/tmp/ipykernel_299334/3733926425.py:99: UserWarning: To copy construct from a tensor, it is recommended to use sourceTensor.clone().detach() or sourceTensor.clone().detach().requires_grad_(True), rather than torch.tensor(sourceTensor).\n",
      "  image, mask = torch.tensor(image).float(), torch.tensor(mask).float()\n",
      "/tmp/ipykernel_299334/3733926425.py:99: UserWarning: To copy construct from a tensor, it is recommended to use sourceTensor.clone().detach() or sourceTensor.clone().detach().requires_grad_(True), rather than torch.tensor(sourceTensor).\n",
      "  image, mask = torch.tensor(image).float(), torch.tensor(mask).float()\n",
      "/tmp/ipykernel_299334/3733926425.py:99: UserWarning: To copy construct from a tensor, it is recommended to use sourceTensor.clone().detach() or sourceTensor.clone().detach().requires_grad_(True), rather than torch.tensor(sourceTensor).\n",
      "  image, mask = torch.tensor(image).float(), torch.tensor(mask).float()\n",
      "/tmp/ipykernel_299334/3733926425.py:99: UserWarning: To copy construct from a tensor, it is recommended to use sourceTensor.clone().detach() or sourceTensor.clone().detach().requires_grad_(True), rather than torch.tensor(sourceTensor).\n",
      "  image, mask = torch.tensor(image).float(), torch.tensor(mask).float()\n",
      "smth:0.5224: 100%|██████████| 7/7 [03:06<00:00, 26.61s/it] \n",
      "smth:0.5231: 100%|██████████| 2/2 [01:48<00:00, 54.22s/it] \n"
     ]
    },
    {
     "name": "stdout",
     "output_type": "stream",
     "text": [
      "best th: 0.2 best dc: 0.00013135611916251152\n",
      "Sat Jan 14 00:18:17 2023 Fold 0, Epoch 154, lr: 0.0030000, train loss: 0.52239, valid loss: 0.52311, metric: 0.000131.\n",
      "Sat Jan 14 00:18:17 2023 Epoch: 155\n"
     ]
    },
    {
     "name": "stderr",
     "output_type": "stream",
     "text": [
      "  0%|          | 0/7 [00:00<?, ?it/s]/tmp/ipykernel_299334/3733926425.py:99: UserWarning: To copy construct from a tensor, it is recommended to use sourceTensor.clone().detach() or sourceTensor.clone().detach().requires_grad_(True), rather than torch.tensor(sourceTensor).\n",
      "  image, mask = torch.tensor(image).float(), torch.tensor(mask).float()\n",
      "/tmp/ipykernel_299334/3733926425.py:99: UserWarning: To copy construct from a tensor, it is recommended to use sourceTensor.clone().detach() or sourceTensor.clone().detach().requires_grad_(True), rather than torch.tensor(sourceTensor).\n",
      "  image, mask = torch.tensor(image).float(), torch.tensor(mask).float()\n",
      "/tmp/ipykernel_299334/3733926425.py:99: UserWarning: To copy construct from a tensor, it is recommended to use sourceTensor.clone().detach() or sourceTensor.clone().detach().requires_grad_(True), rather than torch.tensor(sourceTensor).\n",
      "  image, mask = torch.tensor(image).float(), torch.tensor(mask).float()\n",
      "/tmp/ipykernel_299334/3733926425.py:99: UserWarning: To copy construct from a tensor, it is recommended to use sourceTensor.clone().detach() or sourceTensor.clone().detach().requires_grad_(True), rather than torch.tensor(sourceTensor).\n",
      "  image, mask = torch.tensor(image).float(), torch.tensor(mask).float()\n",
      "smth:0.5220: 100%|██████████| 7/7 [03:00<00:00, 25.79s/it]\n",
      "smth:0.5229: 100%|██████████| 2/2 [01:52<00:00, 56.03s/it] \n"
     ]
    },
    {
     "name": "stdout",
     "output_type": "stream",
     "text": [
      "best th: 0.2 best dc: 0.00011834724639692575\n",
      "Sat Jan 14 00:23:10 2023 Fold 0, Epoch 155, lr: 0.0030000, train loss: 0.52203, valid loss: 0.52293, metric: 0.000118.\n",
      "Sat Jan 14 00:23:10 2023 Epoch: 156\n"
     ]
    },
    {
     "name": "stderr",
     "output_type": "stream",
     "text": [
      "  0%|          | 0/7 [00:00<?, ?it/s]/tmp/ipykernel_299334/3733926425.py:99: UserWarning: To copy construct from a tensor, it is recommended to use sourceTensor.clone().detach() or sourceTensor.clone().detach().requires_grad_(True), rather than torch.tensor(sourceTensor).\n",
      "  image, mask = torch.tensor(image).float(), torch.tensor(mask).float()\n",
      "/tmp/ipykernel_299334/3733926425.py:99: UserWarning: To copy construct from a tensor, it is recommended to use sourceTensor.clone().detach() or sourceTensor.clone().detach().requires_grad_(True), rather than torch.tensor(sourceTensor).\n",
      "  image, mask = torch.tensor(image).float(), torch.tensor(mask).float()\n",
      "/tmp/ipykernel_299334/3733926425.py:99: UserWarning: To copy construct from a tensor, it is recommended to use sourceTensor.clone().detach() or sourceTensor.clone().detach().requires_grad_(True), rather than torch.tensor(sourceTensor).\n",
      "  image, mask = torch.tensor(image).float(), torch.tensor(mask).float()\n",
      "/tmp/ipykernel_299334/3733926425.py:99: UserWarning: To copy construct from a tensor, it is recommended to use sourceTensor.clone().detach() or sourceTensor.clone().detach().requires_grad_(True), rather than torch.tensor(sourceTensor).\n",
      "  image, mask = torch.tensor(image).float(), torch.tensor(mask).float()\n",
      "smth:0.5219: 100%|██████████| 7/7 [03:00<00:00, 25.84s/it]\n",
      "smth:0.5227: 100%|██████████| 2/2 [01:48<00:00, 54.41s/it] \n"
     ]
    },
    {
     "name": "stdout",
     "output_type": "stream",
     "text": [
      "best th: 0.2 best dc: 0.00011919930832675574\n",
      "Sat Jan 14 00:27:59 2023 Fold 0, Epoch 156, lr: 0.0030000, train loss: 0.52193, valid loss: 0.52266, metric: 0.000119.\n",
      "Sat Jan 14 00:27:59 2023 Epoch: 157\n"
     ]
    },
    {
     "name": "stderr",
     "output_type": "stream",
     "text": [
      "  0%|          | 0/7 [00:00<?, ?it/s]/tmp/ipykernel_299334/3733926425.py:99: UserWarning: To copy construct from a tensor, it is recommended to use sourceTensor.clone().detach() or sourceTensor.clone().detach().requires_grad_(True), rather than torch.tensor(sourceTensor).\n",
      "  image, mask = torch.tensor(image).float(), torch.tensor(mask).float()\n",
      "/tmp/ipykernel_299334/3733926425.py:99: UserWarning: To copy construct from a tensor, it is recommended to use sourceTensor.clone().detach() or sourceTensor.clone().detach().requires_grad_(True), rather than torch.tensor(sourceTensor).\n",
      "  image, mask = torch.tensor(image).float(), torch.tensor(mask).float()\n",
      "/tmp/ipykernel_299334/3733926425.py:99: UserWarning: To copy construct from a tensor, it is recommended to use sourceTensor.clone().detach() or sourceTensor.clone().detach().requires_grad_(True), rather than torch.tensor(sourceTensor).\n",
      "  image, mask = torch.tensor(image).float(), torch.tensor(mask).float()\n",
      "/tmp/ipykernel_299334/3733926425.py:99: UserWarning: To copy construct from a tensor, it is recommended to use sourceTensor.clone().detach() or sourceTensor.clone().detach().requires_grad_(True), rather than torch.tensor(sourceTensor).\n",
      "  image, mask = torch.tensor(image).float(), torch.tensor(mask).float()\n",
      "smth:0.5218: 100%|██████████| 7/7 [03:18<00:00, 28.39s/it]\n",
      "smth:0.5224: 100%|██████████| 2/2 [01:48<00:00, 54.43s/it] \n"
     ]
    },
    {
     "name": "stdout",
     "output_type": "stream",
     "text": [
      "best th: 0.2 best dc: 0.00011869648009413613\n",
      "Sat Jan 14 00:33:07 2023 Fold 0, Epoch 157, lr: 0.0030000, train loss: 0.52176, valid loss: 0.52241, metric: 0.000119.\n",
      "Sat Jan 14 00:33:07 2023 Epoch: 158\n"
     ]
    },
    {
     "name": "stderr",
     "output_type": "stream",
     "text": [
      "  0%|          | 0/7 [00:00<?, ?it/s]/tmp/ipykernel_299334/3733926425.py:99: UserWarning: To copy construct from a tensor, it is recommended to use sourceTensor.clone().detach() or sourceTensor.clone().detach().requires_grad_(True), rather than torch.tensor(sourceTensor).\n",
      "  image, mask = torch.tensor(image).float(), torch.tensor(mask).float()\n",
      "/tmp/ipykernel_299334/3733926425.py:99: UserWarning: To copy construct from a tensor, it is recommended to use sourceTensor.clone().detach() or sourceTensor.clone().detach().requires_grad_(True), rather than torch.tensor(sourceTensor).\n",
      "  image, mask = torch.tensor(image).float(), torch.tensor(mask).float()\n",
      "/tmp/ipykernel_299334/3733926425.py:99: UserWarning: To copy construct from a tensor, it is recommended to use sourceTensor.clone().detach() or sourceTensor.clone().detach().requires_grad_(True), rather than torch.tensor(sourceTensor).\n",
      "  image, mask = torch.tensor(image).float(), torch.tensor(mask).float()\n",
      "/tmp/ipykernel_299334/3733926425.py:99: UserWarning: To copy construct from a tensor, it is recommended to use sourceTensor.clone().detach() or sourceTensor.clone().detach().requires_grad_(True), rather than torch.tensor(sourceTensor).\n",
      "  image, mask = torch.tensor(image).float(), torch.tensor(mask).float()\n",
      "smth:0.5216: 100%|██████████| 7/7 [03:25<00:00, 29.31s/it]\n",
      "smth:0.5222: 100%|██████████| 2/2 [01:47<00:00, 53.89s/it] \n"
     ]
    },
    {
     "name": "stdout",
     "output_type": "stream",
     "text": [
      "best th: 0.2 best dc: 0.00010789377898982713\n",
      "Sat Jan 14 00:38:20 2023 Fold 0, Epoch 158, lr: 0.0030000, train loss: 0.52162, valid loss: 0.52218, metric: 0.000108.\n",
      "Sat Jan 14 00:38:20 2023 Epoch: 159\n"
     ]
    },
    {
     "name": "stderr",
     "output_type": "stream",
     "text": [
      "  0%|          | 0/7 [00:00<?, ?it/s]/tmp/ipykernel_299334/3733926425.py:99: UserWarning: To copy construct from a tensor, it is recommended to use sourceTensor.clone().detach() or sourceTensor.clone().detach().requires_grad_(True), rather than torch.tensor(sourceTensor).\n",
      "  image, mask = torch.tensor(image).float(), torch.tensor(mask).float()\n",
      "/tmp/ipykernel_299334/3733926425.py:99: UserWarning: To copy construct from a tensor, it is recommended to use sourceTensor.clone().detach() or sourceTensor.clone().detach().requires_grad_(True), rather than torch.tensor(sourceTensor).\n",
      "  image, mask = torch.tensor(image).float(), torch.tensor(mask).float()\n",
      "/tmp/ipykernel_299334/3733926425.py:99: UserWarning: To copy construct from a tensor, it is recommended to use sourceTensor.clone().detach() or sourceTensor.clone().detach().requires_grad_(True), rather than torch.tensor(sourceTensor).\n",
      "  image, mask = torch.tensor(image).float(), torch.tensor(mask).float()\n",
      "/tmp/ipykernel_299334/3733926425.py:99: UserWarning: To copy construct from a tensor, it is recommended to use sourceTensor.clone().detach() or sourceTensor.clone().detach().requires_grad_(True), rather than torch.tensor(sourceTensor).\n",
      "  image, mask = torch.tensor(image).float(), torch.tensor(mask).float()\n",
      "smth:0.5213: 100%|██████████| 7/7 [03:11<00:00, 27.37s/it] \n",
      "smth:0.5219: 100%|██████████| 2/2 [01:48<00:00, 54.12s/it] \n"
     ]
    },
    {
     "name": "stdout",
     "output_type": "stream",
     "text": [
      "best th: 0.2 best dc: 0.00011449405473854515\n",
      "Sat Jan 14 00:43:20 2023 Fold 0, Epoch 159, lr: 0.0030000, train loss: 0.52129, valid loss: 0.52193, metric: 0.000114.\n",
      "Sat Jan 14 00:43:20 2023 Epoch: 160\n"
     ]
    },
    {
     "name": "stderr",
     "output_type": "stream",
     "text": [
      "  0%|          | 0/7 [00:00<?, ?it/s]/tmp/ipykernel_299334/3733926425.py:99: UserWarning: To copy construct from a tensor, it is recommended to use sourceTensor.clone().detach() or sourceTensor.clone().detach().requires_grad_(True), rather than torch.tensor(sourceTensor).\n",
      "  image, mask = torch.tensor(image).float(), torch.tensor(mask).float()\n",
      "/tmp/ipykernel_299334/3733926425.py:99: UserWarning: To copy construct from a tensor, it is recommended to use sourceTensor.clone().detach() or sourceTensor.clone().detach().requires_grad_(True), rather than torch.tensor(sourceTensor).\n",
      "  image, mask = torch.tensor(image).float(), torch.tensor(mask).float()\n",
      "/tmp/ipykernel_299334/3733926425.py:99: UserWarning: To copy construct from a tensor, it is recommended to use sourceTensor.clone().detach() or sourceTensor.clone().detach().requires_grad_(True), rather than torch.tensor(sourceTensor).\n",
      "  image, mask = torch.tensor(image).float(), torch.tensor(mask).float()\n",
      "/tmp/ipykernel_299334/3733926425.py:99: UserWarning: To copy construct from a tensor, it is recommended to use sourceTensor.clone().detach() or sourceTensor.clone().detach().requires_grad_(True), rather than torch.tensor(sourceTensor).\n",
      "  image, mask = torch.tensor(image).float(), torch.tensor(mask).float()\n",
      "smth:0.5215: 100%|██████████| 7/7 [03:07<00:00, 26.78s/it]\n",
      "smth:0.5218: 100%|██████████| 2/2 [01:51<00:00, 55.62s/it] \n"
     ]
    },
    {
     "name": "stdout",
     "output_type": "stream",
     "text": [
      "best th: 0.2 best dc: 0.00010624794877876771\n",
      "Sat Jan 14 00:48:19 2023 Fold 0, Epoch 160, lr: 0.0030000, train loss: 0.52146, valid loss: 0.52182, metric: 0.000106.\n",
      "Sat Jan 14 00:48:19 2023 Epoch: 161\n"
     ]
    },
    {
     "name": "stderr",
     "output_type": "stream",
     "text": [
      "  0%|          | 0/7 [00:00<?, ?it/s]/tmp/ipykernel_299334/3733926425.py:99: UserWarning: To copy construct from a tensor, it is recommended to use sourceTensor.clone().detach() or sourceTensor.clone().detach().requires_grad_(True), rather than torch.tensor(sourceTensor).\n",
      "  image, mask = torch.tensor(image).float(), torch.tensor(mask).float()\n",
      "/tmp/ipykernel_299334/3733926425.py:99: UserWarning: To copy construct from a tensor, it is recommended to use sourceTensor.clone().detach() or sourceTensor.clone().detach().requires_grad_(True), rather than torch.tensor(sourceTensor).\n",
      "  image, mask = torch.tensor(image).float(), torch.tensor(mask).float()\n",
      "/tmp/ipykernel_299334/3733926425.py:99: UserWarning: To copy construct from a tensor, it is recommended to use sourceTensor.clone().detach() or sourceTensor.clone().detach().requires_grad_(True), rather than torch.tensor(sourceTensor).\n",
      "  image, mask = torch.tensor(image).float(), torch.tensor(mask).float()\n",
      "/tmp/ipykernel_299334/3733926425.py:99: UserWarning: To copy construct from a tensor, it is recommended to use sourceTensor.clone().detach() or sourceTensor.clone().detach().requires_grad_(True), rather than torch.tensor(sourceTensor).\n",
      "  image, mask = torch.tensor(image).float(), torch.tensor(mask).float()\n",
      "smth:0.5212: 100%|██████████| 7/7 [03:08<00:00, 26.88s/it]\n",
      "smth:0.5216: 100%|██████████| 2/2 [01:48<00:00, 54.30s/it] \n"
     ]
    },
    {
     "name": "stdout",
     "output_type": "stream",
     "text": [
      "best th: 0.2 best dc: 0.00010401582257060127\n",
      "Sat Jan 14 00:53:16 2023 Fold 0, Epoch 161, lr: 0.0030000, train loss: 0.52120, valid loss: 0.52162, metric: 0.000104.\n",
      "Sat Jan 14 00:53:16 2023 Epoch: 162\n"
     ]
    },
    {
     "name": "stderr",
     "output_type": "stream",
     "text": [
      "  0%|          | 0/7 [00:00<?, ?it/s]/tmp/ipykernel_299334/3733926425.py:99: UserWarning: To copy construct from a tensor, it is recommended to use sourceTensor.clone().detach() or sourceTensor.clone().detach().requires_grad_(True), rather than torch.tensor(sourceTensor).\n",
      "  image, mask = torch.tensor(image).float(), torch.tensor(mask).float()\n",
      "/tmp/ipykernel_299334/3733926425.py:99: UserWarning: To copy construct from a tensor, it is recommended to use sourceTensor.clone().detach() or sourceTensor.clone().detach().requires_grad_(True), rather than torch.tensor(sourceTensor).\n",
      "  image, mask = torch.tensor(image).float(), torch.tensor(mask).float()\n",
      "/tmp/ipykernel_299334/3733926425.py:99: UserWarning: To copy construct from a tensor, it is recommended to use sourceTensor.clone().detach() or sourceTensor.clone().detach().requires_grad_(True), rather than torch.tensor(sourceTensor).\n",
      "  image, mask = torch.tensor(image).float(), torch.tensor(mask).float()\n",
      "/tmp/ipykernel_299334/3733926425.py:99: UserWarning: To copy construct from a tensor, it is recommended to use sourceTensor.clone().detach() or sourceTensor.clone().detach().requires_grad_(True), rather than torch.tensor(sourceTensor).\n",
      "  image, mask = torch.tensor(image).float(), torch.tensor(mask).float()\n",
      "smth:0.5209: 100%|██████████| 7/7 [03:21<00:00, 28.73s/it] \n",
      "smth:0.5215: 100%|██████████| 2/2 [01:54<00:00, 57.09s/it] \n"
     ]
    },
    {
     "name": "stdout",
     "output_type": "stream",
     "text": [
      "best th: 0.2 best dc: 0.00010546167528803975\n",
      "Sat Jan 14 00:58:32 2023 Fold 0, Epoch 162, lr: 0.0030000, train loss: 0.52087, valid loss: 0.52149, metric: 0.000105.\n",
      "Sat Jan 14 00:58:32 2023 Epoch: 163\n"
     ]
    },
    {
     "name": "stderr",
     "output_type": "stream",
     "text": [
      "  0%|          | 0/7 [00:00<?, ?it/s]/tmp/ipykernel_299334/3733926425.py:99: UserWarning: To copy construct from a tensor, it is recommended to use sourceTensor.clone().detach() or sourceTensor.clone().detach().requires_grad_(True), rather than torch.tensor(sourceTensor).\n",
      "  image, mask = torch.tensor(image).float(), torch.tensor(mask).float()\n",
      "/tmp/ipykernel_299334/3733926425.py:99: UserWarning: To copy construct from a tensor, it is recommended to use sourceTensor.clone().detach() or sourceTensor.clone().detach().requires_grad_(True), rather than torch.tensor(sourceTensor).\n",
      "  image, mask = torch.tensor(image).float(), torch.tensor(mask).float()\n",
      "/tmp/ipykernel_299334/3733926425.py:99: UserWarning: To copy construct from a tensor, it is recommended to use sourceTensor.clone().detach() or sourceTensor.clone().detach().requires_grad_(True), rather than torch.tensor(sourceTensor).\n",
      "  image, mask = torch.tensor(image).float(), torch.tensor(mask).float()\n",
      "/tmp/ipykernel_299334/3733926425.py:99: UserWarning: To copy construct from a tensor, it is recommended to use sourceTensor.clone().detach() or sourceTensor.clone().detach().requires_grad_(True), rather than torch.tensor(sourceTensor).\n",
      "  image, mask = torch.tensor(image).float(), torch.tensor(mask).float()\n",
      "smth:0.5209: 100%|██████████| 7/7 [03:13<00:00, 27.69s/it]\n",
      "smth:0.5213: 100%|██████████| 2/2 [01:50<00:00, 55.12s/it] \n"
     ]
    },
    {
     "name": "stdout",
     "output_type": "stream",
     "text": [
      "best th: 0.2 best dc: 0.00010395759856365739\n",
      "Sat Jan 14 01:03:36 2023 Fold 0, Epoch 163, lr: 0.0030000, train loss: 0.52085, valid loss: 0.52127, metric: 0.000104.\n",
      "Sat Jan 14 01:03:36 2023 Epoch: 164\n"
     ]
    },
    {
     "name": "stderr",
     "output_type": "stream",
     "text": [
      "  0%|          | 0/7 [00:00<?, ?it/s]/tmp/ipykernel_299334/3733926425.py:99: UserWarning: To copy construct from a tensor, it is recommended to use sourceTensor.clone().detach() or sourceTensor.clone().detach().requires_grad_(True), rather than torch.tensor(sourceTensor).\n",
      "  image, mask = torch.tensor(image).float(), torch.tensor(mask).float()\n",
      "/tmp/ipykernel_299334/3733926425.py:99: UserWarning: To copy construct from a tensor, it is recommended to use sourceTensor.clone().detach() or sourceTensor.clone().detach().requires_grad_(True), rather than torch.tensor(sourceTensor).\n",
      "  image, mask = torch.tensor(image).float(), torch.tensor(mask).float()\n",
      "/tmp/ipykernel_299334/3733926425.py:99: UserWarning: To copy construct from a tensor, it is recommended to use sourceTensor.clone().detach() or sourceTensor.clone().detach().requires_grad_(True), rather than torch.tensor(sourceTensor).\n",
      "  image, mask = torch.tensor(image).float(), torch.tensor(mask).float()\n",
      "/tmp/ipykernel_299334/3733926425.py:99: UserWarning: To copy construct from a tensor, it is recommended to use sourceTensor.clone().detach() or sourceTensor.clone().detach().requires_grad_(True), rather than torch.tensor(sourceTensor).\n",
      "  image, mask = torch.tensor(image).float(), torch.tensor(mask).float()\n",
      "smth:0.5206: 100%|██████████| 7/7 [03:00<00:00, 25.75s/it]\n",
      "smth:0.5212: 100%|██████████| 2/2 [01:52<00:00, 56.05s/it] \n"
     ]
    },
    {
     "name": "stdout",
     "output_type": "stream",
     "text": [
      "best th: 0.2 best dc: 0.00010150011454370398\n",
      "Sat Jan 14 01:08:28 2023 Fold 0, Epoch 164, lr: 0.0030000, train loss: 0.52055, valid loss: 0.52120, metric: 0.000102.\n",
      "Sat Jan 14 01:08:28 2023 Epoch: 165\n"
     ]
    },
    {
     "name": "stderr",
     "output_type": "stream",
     "text": [
      "  0%|          | 0/7 [00:00<?, ?it/s]/tmp/ipykernel_299334/3733926425.py:99: UserWarning: To copy construct from a tensor, it is recommended to use sourceTensor.clone().detach() or sourceTensor.clone().detach().requires_grad_(True), rather than torch.tensor(sourceTensor).\n",
      "  image, mask = torch.tensor(image).float(), torch.tensor(mask).float()\n",
      "/tmp/ipykernel_299334/3733926425.py:99: UserWarning: To copy construct from a tensor, it is recommended to use sourceTensor.clone().detach() or sourceTensor.clone().detach().requires_grad_(True), rather than torch.tensor(sourceTensor).\n",
      "  image, mask = torch.tensor(image).float(), torch.tensor(mask).float()\n",
      "/tmp/ipykernel_299334/3733926425.py:99: UserWarning: To copy construct from a tensor, it is recommended to use sourceTensor.clone().detach() or sourceTensor.clone().detach().requires_grad_(True), rather than torch.tensor(sourceTensor).\n",
      "  image, mask = torch.tensor(image).float(), torch.tensor(mask).float()\n",
      "/tmp/ipykernel_299334/3733926425.py:99: UserWarning: To copy construct from a tensor, it is recommended to use sourceTensor.clone().detach() or sourceTensor.clone().detach().requires_grad_(True), rather than torch.tensor(sourceTensor).\n",
      "  image, mask = torch.tensor(image).float(), torch.tensor(mask).float()\n",
      "smth:0.5205: 100%|██████████| 7/7 [03:23<00:00, 29.13s/it] \n",
      "smth:0.5211: 100%|██████████| 2/2 [01:49<00:00, 54.71s/it] \n"
     ]
    },
    {
     "name": "stdout",
     "output_type": "stream",
     "text": [
      "best th: 0.2 best dc: 0.0001050859993077129\n",
      "Sat Jan 14 01:13:42 2023 Fold 0, Epoch 165, lr: 0.0030000, train loss: 0.52046, valid loss: 0.52110, metric: 0.000105.\n",
      "Sat Jan 14 01:13:42 2023 Epoch: 166\n"
     ]
    },
    {
     "name": "stderr",
     "output_type": "stream",
     "text": [
      "  0%|          | 0/7 [00:00<?, ?it/s]/tmp/ipykernel_299334/3733926425.py:99: UserWarning: To copy construct from a tensor, it is recommended to use sourceTensor.clone().detach() or sourceTensor.clone().detach().requires_grad_(True), rather than torch.tensor(sourceTensor).\n",
      "  image, mask = torch.tensor(image).float(), torch.tensor(mask).float()\n",
      "/tmp/ipykernel_299334/3733926425.py:99: UserWarning: To copy construct from a tensor, it is recommended to use sourceTensor.clone().detach() or sourceTensor.clone().detach().requires_grad_(True), rather than torch.tensor(sourceTensor).\n",
      "  image, mask = torch.tensor(image).float(), torch.tensor(mask).float()\n",
      "/tmp/ipykernel_299334/3733926425.py:99: UserWarning: To copy construct from a tensor, it is recommended to use sourceTensor.clone().detach() or sourceTensor.clone().detach().requires_grad_(True), rather than torch.tensor(sourceTensor).\n",
      "  image, mask = torch.tensor(image).float(), torch.tensor(mask).float()\n",
      "/tmp/ipykernel_299334/3733926425.py:99: UserWarning: To copy construct from a tensor, it is recommended to use sourceTensor.clone().detach() or sourceTensor.clone().detach().requires_grad_(True), rather than torch.tensor(sourceTensor).\n",
      "  image, mask = torch.tensor(image).float(), torch.tensor(mask).float()\n",
      "smth:0.5206: 100%|██████████| 7/7 [03:17<00:00, 28.27s/it]\n",
      "smth:0.5209: 100%|██████████| 2/2 [01:50<00:00, 55.11s/it] \n"
     ]
    },
    {
     "name": "stdout",
     "output_type": "stream",
     "text": [
      "best th: 0.2 best dc: 9.908970631811737e-05\n",
      "Sat Jan 14 01:18:50 2023 Fold 0, Epoch 166, lr: 0.0030000, train loss: 0.52065, valid loss: 0.52093, metric: 0.000099.\n",
      "Sat Jan 14 01:18:50 2023 Epoch: 167\n"
     ]
    },
    {
     "name": "stderr",
     "output_type": "stream",
     "text": [
      "  0%|          | 0/7 [00:00<?, ?it/s]/tmp/ipykernel_299334/3733926425.py:99: UserWarning: To copy construct from a tensor, it is recommended to use sourceTensor.clone().detach() or sourceTensor.clone().detach().requires_grad_(True), rather than torch.tensor(sourceTensor).\n",
      "  image, mask = torch.tensor(image).float(), torch.tensor(mask).float()\n",
      "/tmp/ipykernel_299334/3733926425.py:99: UserWarning: To copy construct from a tensor, it is recommended to use sourceTensor.clone().detach() or sourceTensor.clone().detach().requires_grad_(True), rather than torch.tensor(sourceTensor).\n",
      "  image, mask = torch.tensor(image).float(), torch.tensor(mask).float()\n",
      "/tmp/ipykernel_299334/3733926425.py:99: UserWarning: To copy construct from a tensor, it is recommended to use sourceTensor.clone().detach() or sourceTensor.clone().detach().requires_grad_(True), rather than torch.tensor(sourceTensor).\n",
      "  image, mask = torch.tensor(image).float(), torch.tensor(mask).float()\n",
      "/tmp/ipykernel_299334/3733926425.py:99: UserWarning: To copy construct from a tensor, it is recommended to use sourceTensor.clone().detach() or sourceTensor.clone().detach().requires_grad_(True), rather than torch.tensor(sourceTensor).\n",
      "  image, mask = torch.tensor(image).float(), torch.tensor(mask).float()\n",
      "smth:0.5209: 100%|██████████| 7/7 [03:24<00:00, 29.17s/it] \n",
      "smth:0.5209: 100%|██████████| 2/2 [01:54<00:00, 57.14s/it] \n"
     ]
    },
    {
     "name": "stdout",
     "output_type": "stream",
     "text": [
      "best th: 0.2 best dc: 9.619760843749486e-05\n",
      "Sat Jan 14 01:24:09 2023 Fold 0, Epoch 167, lr: 0.0030000, train loss: 0.52092, valid loss: 0.52087, metric: 0.000096.\n",
      "Sat Jan 14 01:24:09 2023 Epoch: 168\n"
     ]
    },
    {
     "name": "stderr",
     "output_type": "stream",
     "text": [
      "  0%|          | 0/7 [00:00<?, ?it/s]/tmp/ipykernel_299334/3733926425.py:99: UserWarning: To copy construct from a tensor, it is recommended to use sourceTensor.clone().detach() or sourceTensor.clone().detach().requires_grad_(True), rather than torch.tensor(sourceTensor).\n",
      "  image, mask = torch.tensor(image).float(), torch.tensor(mask).float()\n",
      "/tmp/ipykernel_299334/3733926425.py:99: UserWarning: To copy construct from a tensor, it is recommended to use sourceTensor.clone().detach() or sourceTensor.clone().detach().requires_grad_(True), rather than torch.tensor(sourceTensor).\n",
      "  image, mask = torch.tensor(image).float(), torch.tensor(mask).float()\n",
      "/tmp/ipykernel_299334/3733926425.py:99: UserWarning: To copy construct from a tensor, it is recommended to use sourceTensor.clone().detach() or sourceTensor.clone().detach().requires_grad_(True), rather than torch.tensor(sourceTensor).\n",
      "  image, mask = torch.tensor(image).float(), torch.tensor(mask).float()\n",
      "/tmp/ipykernel_299334/3733926425.py:99: UserWarning: To copy construct from a tensor, it is recommended to use sourceTensor.clone().detach() or sourceTensor.clone().detach().requires_grad_(True), rather than torch.tensor(sourceTensor).\n",
      "  image, mask = torch.tensor(image).float(), torch.tensor(mask).float()\n",
      "smth:0.5199: 100%|██████████| 7/7 [03:24<00:00, 29.24s/it] \n",
      "smth:0.5206: 100%|██████████| 2/2 [01:49<00:00, 54.60s/it] \n"
     ]
    },
    {
     "name": "stdout",
     "output_type": "stream",
     "text": [
      "best th: 0.2 best dc: 0.00010116058537117411\n",
      "Sat Jan 14 01:29:23 2023 Fold 0, Epoch 168, lr: 0.0030000, train loss: 0.51990, valid loss: 0.52062, metric: 0.000101.\n",
      "Sat Jan 14 01:29:23 2023 Epoch: 169\n"
     ]
    },
    {
     "name": "stderr",
     "output_type": "stream",
     "text": [
      "  0%|          | 0/7 [00:00<?, ?it/s]/tmp/ipykernel_299334/3733926425.py:99: UserWarning: To copy construct from a tensor, it is recommended to use sourceTensor.clone().detach() or sourceTensor.clone().detach().requires_grad_(True), rather than torch.tensor(sourceTensor).\n",
      "  image, mask = torch.tensor(image).float(), torch.tensor(mask).float()\n",
      "/tmp/ipykernel_299334/3733926425.py:99: UserWarning: To copy construct from a tensor, it is recommended to use sourceTensor.clone().detach() or sourceTensor.clone().detach().requires_grad_(True), rather than torch.tensor(sourceTensor).\n",
      "  image, mask = torch.tensor(image).float(), torch.tensor(mask).float()\n",
      "/tmp/ipykernel_299334/3733926425.py:99: UserWarning: To copy construct from a tensor, it is recommended to use sourceTensor.clone().detach() or sourceTensor.clone().detach().requires_grad_(True), rather than torch.tensor(sourceTensor).\n",
      "  image, mask = torch.tensor(image).float(), torch.tensor(mask).float()\n",
      "/tmp/ipykernel_299334/3733926425.py:99: UserWarning: To copy construct from a tensor, it is recommended to use sourceTensor.clone().detach() or sourceTensor.clone().detach().requires_grad_(True), rather than torch.tensor(sourceTensor).\n",
      "  image, mask = torch.tensor(image).float(), torch.tensor(mask).float()\n",
      "smth:0.5199: 100%|██████████| 7/7 [03:05<00:00, 26.47s/it]\n",
      "smth:0.5205: 100%|██████████| 2/2 [01:47<00:00, 53.94s/it] \n"
     ]
    },
    {
     "name": "stdout",
     "output_type": "stream",
     "text": [
      "best th: 0.2 best dc: 9.754256106844639e-05\n",
      "Sat Jan 14 01:34:16 2023 Fold 0, Epoch 169, lr: 0.0030000, train loss: 0.51989, valid loss: 0.52053, metric: 0.000098.\n",
      "Sat Jan 14 01:34:16 2023 Epoch: 170\n"
     ]
    },
    {
     "name": "stderr",
     "output_type": "stream",
     "text": [
      "  0%|          | 0/7 [00:00<?, ?it/s]/tmp/ipykernel_299334/3733926425.py:99: UserWarning: To copy construct from a tensor, it is recommended to use sourceTensor.clone().detach() or sourceTensor.clone().detach().requires_grad_(True), rather than torch.tensor(sourceTensor).\n",
      "  image, mask = torch.tensor(image).float(), torch.tensor(mask).float()\n",
      "/tmp/ipykernel_299334/3733926425.py:99: UserWarning: To copy construct from a tensor, it is recommended to use sourceTensor.clone().detach() or sourceTensor.clone().detach().requires_grad_(True), rather than torch.tensor(sourceTensor).\n",
      "  image, mask = torch.tensor(image).float(), torch.tensor(mask).float()\n",
      "/tmp/ipykernel_299334/3733926425.py:99: UserWarning: To copy construct from a tensor, it is recommended to use sourceTensor.clone().detach() or sourceTensor.clone().detach().requires_grad_(True), rather than torch.tensor(sourceTensor).\n",
      "  image, mask = torch.tensor(image).float(), torch.tensor(mask).float()\n",
      "/tmp/ipykernel_299334/3733926425.py:99: UserWarning: To copy construct from a tensor, it is recommended to use sourceTensor.clone().detach() or sourceTensor.clone().detach().requires_grad_(True), rather than torch.tensor(sourceTensor).\n",
      "  image, mask = torch.tensor(image).float(), torch.tensor(mask).float()\n",
      "smth:0.5203: 100%|██████████| 7/7 [03:02<00:00, 26.13s/it]\n",
      "smth:0.5204: 100%|██████████| 2/2 [01:48<00:00, 54.02s/it] \n"
     ]
    },
    {
     "name": "stdout",
     "output_type": "stream",
     "text": [
      "best th: 0.2 best dc: 9.870136734422877e-05\n",
      "Sat Jan 14 01:39:07 2023 Fold 0, Epoch 170, lr: 0.0030000, train loss: 0.52025, valid loss: 0.52044, metric: 0.000099.\n",
      "Sat Jan 14 01:39:07 2023 Epoch: 171\n"
     ]
    },
    {
     "name": "stderr",
     "output_type": "stream",
     "text": [
      "  0%|          | 0/7 [00:00<?, ?it/s]/tmp/ipykernel_299334/3733926425.py:99: UserWarning: To copy construct from a tensor, it is recommended to use sourceTensor.clone().detach() or sourceTensor.clone().detach().requires_grad_(True), rather than torch.tensor(sourceTensor).\n",
      "  image, mask = torch.tensor(image).float(), torch.tensor(mask).float()\n",
      "/tmp/ipykernel_299334/3733926425.py:99: UserWarning: To copy construct from a tensor, it is recommended to use sourceTensor.clone().detach() or sourceTensor.clone().detach().requires_grad_(True), rather than torch.tensor(sourceTensor).\n",
      "  image, mask = torch.tensor(image).float(), torch.tensor(mask).float()\n",
      "/tmp/ipykernel_299334/3733926425.py:99: UserWarning: To copy construct from a tensor, it is recommended to use sourceTensor.clone().detach() or sourceTensor.clone().detach().requires_grad_(True), rather than torch.tensor(sourceTensor).\n",
      "  image, mask = torch.tensor(image).float(), torch.tensor(mask).float()\n",
      "/tmp/ipykernel_299334/3733926425.py:99: UserWarning: To copy construct from a tensor, it is recommended to use sourceTensor.clone().detach() or sourceTensor.clone().detach().requires_grad_(True), rather than torch.tensor(sourceTensor).\n",
      "  image, mask = torch.tensor(image).float(), torch.tensor(mask).float()\n",
      "smth:0.5197: 100%|██████████| 7/7 [03:13<00:00, 27.67s/it] \n",
      "smth:0.5203: 100%|██████████| 2/2 [01:49<00:00, 54.71s/it] \n"
     ]
    },
    {
     "name": "stdout",
     "output_type": "stream",
     "text": [
      "best th: 0.2 best dc: 9.835647875626994e-05\n",
      "Sat Jan 14 01:44:10 2023 Fold 0, Epoch 171, lr: 0.0030000, train loss: 0.51966, valid loss: 0.52029, metric: 0.000098.\n",
      "Sat Jan 14 01:44:10 2023 Epoch: 172\n"
     ]
    },
    {
     "name": "stderr",
     "output_type": "stream",
     "text": [
      "  0%|          | 0/7 [00:00<?, ?it/s]/tmp/ipykernel_299334/3733926425.py:99: UserWarning: To copy construct from a tensor, it is recommended to use sourceTensor.clone().detach() or sourceTensor.clone().detach().requires_grad_(True), rather than torch.tensor(sourceTensor).\n",
      "  image, mask = torch.tensor(image).float(), torch.tensor(mask).float()\n",
      "/tmp/ipykernel_299334/3733926425.py:99: UserWarning: To copy construct from a tensor, it is recommended to use sourceTensor.clone().detach() or sourceTensor.clone().detach().requires_grad_(True), rather than torch.tensor(sourceTensor).\n",
      "  image, mask = torch.tensor(image).float(), torch.tensor(mask).float()\n",
      "/tmp/ipykernel_299334/3733926425.py:99: UserWarning: To copy construct from a tensor, it is recommended to use sourceTensor.clone().detach() or sourceTensor.clone().detach().requires_grad_(True), rather than torch.tensor(sourceTensor).\n",
      "  image, mask = torch.tensor(image).float(), torch.tensor(mask).float()\n",
      "/tmp/ipykernel_299334/3733926425.py:99: UserWarning: To copy construct from a tensor, it is recommended to use sourceTensor.clone().detach() or sourceTensor.clone().detach().requires_grad_(True), rather than torch.tensor(sourceTensor).\n",
      "  image, mask = torch.tensor(image).float(), torch.tensor(mask).float()\n",
      "smth:0.5195: 100%|██████████| 7/7 [03:16<00:00, 28.14s/it]\n",
      "smth:0.5201: 100%|██████████| 2/2 [01:48<00:00, 54.43s/it] \n"
     ]
    },
    {
     "name": "stdout",
     "output_type": "stream",
     "text": [
      "best th: 0.2 best dc: 9.556252013572548e-05\n",
      "Sat Jan 14 01:49:16 2023 Fold 0, Epoch 172, lr: 0.0030000, train loss: 0.51953, valid loss: 0.52012, metric: 0.000096.\n",
      "Sat Jan 14 01:49:16 2023 Epoch: 173\n"
     ]
    },
    {
     "name": "stderr",
     "output_type": "stream",
     "text": [
      "  0%|          | 0/7 [00:00<?, ?it/s]/tmp/ipykernel_299334/3733926425.py:99: UserWarning: To copy construct from a tensor, it is recommended to use sourceTensor.clone().detach() or sourceTensor.clone().detach().requires_grad_(True), rather than torch.tensor(sourceTensor).\n",
      "  image, mask = torch.tensor(image).float(), torch.tensor(mask).float()\n",
      "/tmp/ipykernel_299334/3733926425.py:99: UserWarning: To copy construct from a tensor, it is recommended to use sourceTensor.clone().detach() or sourceTensor.clone().detach().requires_grad_(True), rather than torch.tensor(sourceTensor).\n",
      "  image, mask = torch.tensor(image).float(), torch.tensor(mask).float()\n",
      "/tmp/ipykernel_299334/3733926425.py:99: UserWarning: To copy construct from a tensor, it is recommended to use sourceTensor.clone().detach() or sourceTensor.clone().detach().requires_grad_(True), rather than torch.tensor(sourceTensor).\n",
      "  image, mask = torch.tensor(image).float(), torch.tensor(mask).float()\n",
      "/tmp/ipykernel_299334/3733926425.py:99: UserWarning: To copy construct from a tensor, it is recommended to use sourceTensor.clone().detach() or sourceTensor.clone().detach().requires_grad_(True), rather than torch.tensor(sourceTensor).\n",
      "  image, mask = torch.tensor(image).float(), torch.tensor(mask).float()\n",
      "smth:0.5193: 100%|██████████| 7/7 [03:02<00:00, 26.02s/it]\n",
      "smth:0.5199: 100%|██████████| 2/2 [01:51<00:00, 55.59s/it] \n"
     ]
    },
    {
     "name": "stdout",
     "output_type": "stream",
     "text": [
      "best th: 0.2 best dc: 9.922361399620267e-05\n",
      "Sat Jan 14 01:54:10 2023 Fold 0, Epoch 173, lr: 0.0030000, train loss: 0.51930, valid loss: 0.51990, metric: 0.000099.\n",
      "Sat Jan 14 01:54:10 2023 Epoch: 174\n"
     ]
    },
    {
     "name": "stderr",
     "output_type": "stream",
     "text": [
      "  0%|          | 0/7 [00:00<?, ?it/s]/tmp/ipykernel_299334/3733926425.py:99: UserWarning: To copy construct from a tensor, it is recommended to use sourceTensor.clone().detach() or sourceTensor.clone().detach().requires_grad_(True), rather than torch.tensor(sourceTensor).\n",
      "  image, mask = torch.tensor(image).float(), torch.tensor(mask).float()\n",
      "/tmp/ipykernel_299334/3733926425.py:99: UserWarning: To copy construct from a tensor, it is recommended to use sourceTensor.clone().detach() or sourceTensor.clone().detach().requires_grad_(True), rather than torch.tensor(sourceTensor).\n",
      "  image, mask = torch.tensor(image).float(), torch.tensor(mask).float()\n",
      "/tmp/ipykernel_299334/3733926425.py:99: UserWarning: To copy construct from a tensor, it is recommended to use sourceTensor.clone().detach() or sourceTensor.clone().detach().requires_grad_(True), rather than torch.tensor(sourceTensor).\n",
      "  image, mask = torch.tensor(image).float(), torch.tensor(mask).float()\n",
      "/tmp/ipykernel_299334/3733926425.py:99: UserWarning: To copy construct from a tensor, it is recommended to use sourceTensor.clone().detach() or sourceTensor.clone().detach().requires_grad_(True), rather than torch.tensor(sourceTensor).\n",
      "  image, mask = torch.tensor(image).float(), torch.tensor(mask).float()\n",
      "smth:0.5192: 100%|██████████| 7/7 [03:12<00:00, 27.53s/it]\n",
      "smth:0.5197: 100%|██████████| 2/2 [01:49<00:00, 54.66s/it] \n"
     ]
    },
    {
     "name": "stdout",
     "output_type": "stream",
     "text": [
      "best th: 0.2 best dc: 9.089220320705461e-05\n",
      "Sat Jan 14 01:59:12 2023 Fold 0, Epoch 174, lr: 0.0030000, train loss: 0.51920, valid loss: 0.51974, metric: 0.000091.\n",
      "Sat Jan 14 01:59:12 2023 Epoch: 175\n"
     ]
    },
    {
     "name": "stderr",
     "output_type": "stream",
     "text": [
      "  0%|          | 0/7 [00:00<?, ?it/s]/tmp/ipykernel_299334/3733926425.py:99: UserWarning: To copy construct from a tensor, it is recommended to use sourceTensor.clone().detach() or sourceTensor.clone().detach().requires_grad_(True), rather than torch.tensor(sourceTensor).\n",
      "  image, mask = torch.tensor(image).float(), torch.tensor(mask).float()\n",
      "/tmp/ipykernel_299334/3733926425.py:99: UserWarning: To copy construct from a tensor, it is recommended to use sourceTensor.clone().detach() or sourceTensor.clone().detach().requires_grad_(True), rather than torch.tensor(sourceTensor).\n",
      "  image, mask = torch.tensor(image).float(), torch.tensor(mask).float()\n",
      "/tmp/ipykernel_299334/3733926425.py:99: UserWarning: To copy construct from a tensor, it is recommended to use sourceTensor.clone().detach() or sourceTensor.clone().detach().requires_grad_(True), rather than torch.tensor(sourceTensor).\n",
      "  image, mask = torch.tensor(image).float(), torch.tensor(mask).float()\n",
      "/tmp/ipykernel_299334/3733926425.py:99: UserWarning: To copy construct from a tensor, it is recommended to use sourceTensor.clone().detach() or sourceTensor.clone().detach().requires_grad_(True), rather than torch.tensor(sourceTensor).\n",
      "  image, mask = torch.tensor(image).float(), torch.tensor(mask).float()\n",
      "smth:0.5192: 100%|██████████| 7/7 [03:16<00:00, 28.06s/it]\n",
      "smth:0.5196: 100%|██████████| 2/2 [01:49<00:00, 54.53s/it] \n"
     ]
    },
    {
     "name": "stdout",
     "output_type": "stream",
     "text": [
      "best th: 0.2 best dc: 8.267568668319481e-05\n",
      "Sat Jan 14 02:04:18 2023 Fold 0, Epoch 175, lr: 0.0030000, train loss: 0.51918, valid loss: 0.51958, metric: 0.000083.\n",
      "Sat Jan 14 02:04:18 2023 Epoch: 176\n"
     ]
    },
    {
     "name": "stderr",
     "output_type": "stream",
     "text": [
      "  0%|          | 0/7 [00:00<?, ?it/s]/tmp/ipykernel_299334/3733926425.py:99: UserWarning: To copy construct from a tensor, it is recommended to use sourceTensor.clone().detach() or sourceTensor.clone().detach().requires_grad_(True), rather than torch.tensor(sourceTensor).\n",
      "  image, mask = torch.tensor(image).float(), torch.tensor(mask).float()\n",
      "/tmp/ipykernel_299334/3733926425.py:99: UserWarning: To copy construct from a tensor, it is recommended to use sourceTensor.clone().detach() or sourceTensor.clone().detach().requires_grad_(True), rather than torch.tensor(sourceTensor).\n",
      "  image, mask = torch.tensor(image).float(), torch.tensor(mask).float()\n",
      "/tmp/ipykernel_299334/3733926425.py:99: UserWarning: To copy construct from a tensor, it is recommended to use sourceTensor.clone().detach() or sourceTensor.clone().detach().requires_grad_(True), rather than torch.tensor(sourceTensor).\n",
      "  image, mask = torch.tensor(image).float(), torch.tensor(mask).float()\n",
      "/tmp/ipykernel_299334/3733926425.py:99: UserWarning: To copy construct from a tensor, it is recommended to use sourceTensor.clone().detach() or sourceTensor.clone().detach().requires_grad_(True), rather than torch.tensor(sourceTensor).\n",
      "  image, mask = torch.tensor(image).float(), torch.tensor(mask).float()\n",
      "smth:0.5188: 100%|██████████| 7/7 [03:04<00:00, 26.34s/it]\n",
      "smth:0.5195: 100%|██████████| 2/2 [01:54<00:00, 57.12s/it] \n"
     ]
    },
    {
     "name": "stdout",
     "output_type": "stream",
     "text": [
      "best th: 0.2 best dc: 7.771175034757397e-05\n",
      "Sat Jan 14 02:09:17 2023 Fold 0, Epoch 176, lr: 0.0030000, train loss: 0.51885, valid loss: 0.51948, metric: 0.000078.\n",
      "Sat Jan 14 02:09:17 2023 Epoch: 177\n"
     ]
    },
    {
     "name": "stderr",
     "output_type": "stream",
     "text": [
      "  0%|          | 0/7 [00:00<?, ?it/s]/tmp/ipykernel_299334/3733926425.py:99: UserWarning: To copy construct from a tensor, it is recommended to use sourceTensor.clone().detach() or sourceTensor.clone().detach().requires_grad_(True), rather than torch.tensor(sourceTensor).\n",
      "  image, mask = torch.tensor(image).float(), torch.tensor(mask).float()\n",
      "/tmp/ipykernel_299334/3733926425.py:99: UserWarning: To copy construct from a tensor, it is recommended to use sourceTensor.clone().detach() or sourceTensor.clone().detach().requires_grad_(True), rather than torch.tensor(sourceTensor).\n",
      "  image, mask = torch.tensor(image).float(), torch.tensor(mask).float()\n",
      "/tmp/ipykernel_299334/3733926425.py:99: UserWarning: To copy construct from a tensor, it is recommended to use sourceTensor.clone().detach() or sourceTensor.clone().detach().requires_grad_(True), rather than torch.tensor(sourceTensor).\n",
      "  image, mask = torch.tensor(image).float(), torch.tensor(mask).float()\n",
      "/tmp/ipykernel_299334/3733926425.py:99: UserWarning: To copy construct from a tensor, it is recommended to use sourceTensor.clone().detach() or sourceTensor.clone().detach().requires_grad_(True), rather than torch.tensor(sourceTensor).\n",
      "  image, mask = torch.tensor(image).float(), torch.tensor(mask).float()\n",
      "smth:0.5188: 100%|██████████| 7/7 [03:17<00:00, 28.22s/it]\n",
      "smth:0.5193: 100%|██████████| 2/2 [01:51<00:00, 55.89s/it] \n"
     ]
    },
    {
     "name": "stdout",
     "output_type": "stream",
     "text": [
      "best th: 0.2 best dc: 9.065608495926253e-05\n",
      "Sat Jan 14 02:14:26 2023 Fold 0, Epoch 177, lr: 0.0030000, train loss: 0.51878, valid loss: 0.51933, metric: 0.000091.\n",
      "Sat Jan 14 02:14:26 2023 Epoch: 178\n"
     ]
    },
    {
     "name": "stderr",
     "output_type": "stream",
     "text": [
      "  0%|          | 0/7 [00:00<?, ?it/s]/tmp/ipykernel_299334/3733926425.py:99: UserWarning: To copy construct from a tensor, it is recommended to use sourceTensor.clone().detach() or sourceTensor.clone().detach().requires_grad_(True), rather than torch.tensor(sourceTensor).\n",
      "  image, mask = torch.tensor(image).float(), torch.tensor(mask).float()\n",
      "/tmp/ipykernel_299334/3733926425.py:99: UserWarning: To copy construct from a tensor, it is recommended to use sourceTensor.clone().detach() or sourceTensor.clone().detach().requires_grad_(True), rather than torch.tensor(sourceTensor).\n",
      "  image, mask = torch.tensor(image).float(), torch.tensor(mask).float()\n",
      "/tmp/ipykernel_299334/3733926425.py:99: UserWarning: To copy construct from a tensor, it is recommended to use sourceTensor.clone().detach() or sourceTensor.clone().detach().requires_grad_(True), rather than torch.tensor(sourceTensor).\n",
      "  image, mask = torch.tensor(image).float(), torch.tensor(mask).float()\n",
      "/tmp/ipykernel_299334/3733926425.py:99: UserWarning: To copy construct from a tensor, it is recommended to use sourceTensor.clone().detach() or sourceTensor.clone().detach().requires_grad_(True), rather than torch.tensor(sourceTensor).\n",
      "  image, mask = torch.tensor(image).float(), torch.tensor(mask).float()\n",
      "smth:0.5188: 100%|██████████| 7/7 [03:04<00:00, 26.33s/it]\n",
      "smth:0.5193: 100%|██████████| 2/2 [01:52<00:00, 56.40s/it] \n"
     ]
    },
    {
     "name": "stdout",
     "output_type": "stream",
     "text": [
      "best th: 0.2 best dc: 8.265997579213959e-05\n",
      "Sat Jan 14 02:19:23 2023 Fold 0, Epoch 178, lr: 0.0030000, train loss: 0.51883, valid loss: 0.51929, metric: 0.000083.\n",
      "Sat Jan 14 02:19:23 2023 Epoch: 179\n"
     ]
    },
    {
     "name": "stderr",
     "output_type": "stream",
     "text": [
      "  0%|          | 0/7 [00:00<?, ?it/s]/tmp/ipykernel_299334/3733926425.py:99: UserWarning: To copy construct from a tensor, it is recommended to use sourceTensor.clone().detach() or sourceTensor.clone().detach().requires_grad_(True), rather than torch.tensor(sourceTensor).\n",
      "  image, mask = torch.tensor(image).float(), torch.tensor(mask).float()\n",
      "/tmp/ipykernel_299334/3733926425.py:99: UserWarning: To copy construct from a tensor, it is recommended to use sourceTensor.clone().detach() or sourceTensor.clone().detach().requires_grad_(True), rather than torch.tensor(sourceTensor).\n",
      "  image, mask = torch.tensor(image).float(), torch.tensor(mask).float()\n",
      "/tmp/ipykernel_299334/3733926425.py:99: UserWarning: To copy construct from a tensor, it is recommended to use sourceTensor.clone().detach() or sourceTensor.clone().detach().requires_grad_(True), rather than torch.tensor(sourceTensor).\n",
      "  image, mask = torch.tensor(image).float(), torch.tensor(mask).float()\n",
      "/tmp/ipykernel_299334/3733926425.py:99: UserWarning: To copy construct from a tensor, it is recommended to use sourceTensor.clone().detach() or sourceTensor.clone().detach().requires_grad_(True), rather than torch.tensor(sourceTensor).\n",
      "  image, mask = torch.tensor(image).float(), torch.tensor(mask).float()\n",
      "smth:0.5185: 100%|██████████| 7/7 [03:31<00:00, 30.16s/it] \n",
      "smth:0.5192: 100%|██████████| 2/2 [01:49<00:00, 54.62s/it] \n"
     ]
    },
    {
     "name": "stdout",
     "output_type": "stream",
     "text": [
      "best th: 0.2 best dc: 8.806427982715185e-05\n",
      "Sat Jan 14 02:24:44 2023 Fold 0, Epoch 179, lr: 0.0030000, train loss: 0.51851, valid loss: 0.51922, metric: 0.000088.\n",
      "Sat Jan 14 02:24:44 2023 Epoch: 180\n"
     ]
    },
    {
     "name": "stderr",
     "output_type": "stream",
     "text": [
      "  0%|          | 0/7 [00:00<?, ?it/s]/tmp/ipykernel_299334/3733926425.py:99: UserWarning: To copy construct from a tensor, it is recommended to use sourceTensor.clone().detach() or sourceTensor.clone().detach().requires_grad_(True), rather than torch.tensor(sourceTensor).\n",
      "  image, mask = torch.tensor(image).float(), torch.tensor(mask).float()\n",
      "/tmp/ipykernel_299334/3733926425.py:99: UserWarning: To copy construct from a tensor, it is recommended to use sourceTensor.clone().detach() or sourceTensor.clone().detach().requires_grad_(True), rather than torch.tensor(sourceTensor).\n",
      "  image, mask = torch.tensor(image).float(), torch.tensor(mask).float()\n",
      "/tmp/ipykernel_299334/3733926425.py:99: UserWarning: To copy construct from a tensor, it is recommended to use sourceTensor.clone().detach() or sourceTensor.clone().detach().requires_grad_(True), rather than torch.tensor(sourceTensor).\n",
      "  image, mask = torch.tensor(image).float(), torch.tensor(mask).float()\n",
      "/tmp/ipykernel_299334/3733926425.py:99: UserWarning: To copy construct from a tensor, it is recommended to use sourceTensor.clone().detach() or sourceTensor.clone().detach().requires_grad_(True), rather than torch.tensor(sourceTensor).\n",
      "  image, mask = torch.tensor(image).float(), torch.tensor(mask).float()\n",
      "smth:0.5186: 100%|██████████| 7/7 [03:02<00:00, 26.09s/it]\n",
      "smth:0.5191: 100%|██████████| 2/2 [01:44<00:00, 52.43s/it]\n"
     ]
    },
    {
     "name": "stdout",
     "output_type": "stream",
     "text": [
      "best th: 0.2 best dc: 8.198337376615421e-05\n",
      "Sat Jan 14 02:29:32 2023 Fold 0, Epoch 180, lr: 0.0030000, train loss: 0.51857, valid loss: 0.51914, metric: 0.000082.\n",
      "Sat Jan 14 02:29:32 2023 Epoch: 181\n"
     ]
    },
    {
     "name": "stderr",
     "output_type": "stream",
     "text": [
      "  0%|          | 0/7 [00:00<?, ?it/s]/tmp/ipykernel_299334/3733926425.py:99: UserWarning: To copy construct from a tensor, it is recommended to use sourceTensor.clone().detach() or sourceTensor.clone().detach().requires_grad_(True), rather than torch.tensor(sourceTensor).\n",
      "  image, mask = torch.tensor(image).float(), torch.tensor(mask).float()\n",
      "/tmp/ipykernel_299334/3733926425.py:99: UserWarning: To copy construct from a tensor, it is recommended to use sourceTensor.clone().detach() or sourceTensor.clone().detach().requires_grad_(True), rather than torch.tensor(sourceTensor).\n",
      "  image, mask = torch.tensor(image).float(), torch.tensor(mask).float()\n",
      "/tmp/ipykernel_299334/3733926425.py:99: UserWarning: To copy construct from a tensor, it is recommended to use sourceTensor.clone().detach() or sourceTensor.clone().detach().requires_grad_(True), rather than torch.tensor(sourceTensor).\n",
      "  image, mask = torch.tensor(image).float(), torch.tensor(mask).float()\n",
      "/tmp/ipykernel_299334/3733926425.py:99: UserWarning: To copy construct from a tensor, it is recommended to use sourceTensor.clone().detach() or sourceTensor.clone().detach().requires_grad_(True), rather than torch.tensor(sourceTensor).\n",
      "  image, mask = torch.tensor(image).float(), torch.tensor(mask).float()\n",
      "smth:0.5182: 100%|██████████| 7/7 [03:16<00:00, 28.12s/it]\n",
      "smth:0.5190: 100%|██████████| 2/2 [01:50<00:00, 55.35s/it] \n"
     ]
    },
    {
     "name": "stdout",
     "output_type": "stream",
     "text": [
      "best th: 0.2 best dc: 8.193556547648135e-05\n",
      "Sat Jan 14 02:34:40 2023 Fold 0, Epoch 181, lr: 0.0030000, train loss: 0.51820, valid loss: 0.51897, metric: 0.000082.\n",
      "Sat Jan 14 02:34:40 2023 Epoch: 182\n"
     ]
    },
    {
     "name": "stderr",
     "output_type": "stream",
     "text": [
      "  0%|          | 0/7 [00:00<?, ?it/s]/tmp/ipykernel_299334/3733926425.py:99: UserWarning: To copy construct from a tensor, it is recommended to use sourceTensor.clone().detach() or sourceTensor.clone().detach().requires_grad_(True), rather than torch.tensor(sourceTensor).\n",
      "  image, mask = torch.tensor(image).float(), torch.tensor(mask).float()\n",
      "/tmp/ipykernel_299334/3733926425.py:99: UserWarning: To copy construct from a tensor, it is recommended to use sourceTensor.clone().detach() or sourceTensor.clone().detach().requires_grad_(True), rather than torch.tensor(sourceTensor).\n",
      "  image, mask = torch.tensor(image).float(), torch.tensor(mask).float()\n",
      "/tmp/ipykernel_299334/3733926425.py:99: UserWarning: To copy construct from a tensor, it is recommended to use sourceTensor.clone().detach() or sourceTensor.clone().detach().requires_grad_(True), rather than torch.tensor(sourceTensor).\n",
      "  image, mask = torch.tensor(image).float(), torch.tensor(mask).float()\n",
      "/tmp/ipykernel_299334/3733926425.py:99: UserWarning: To copy construct from a tensor, it is recommended to use sourceTensor.clone().detach() or sourceTensor.clone().detach().requires_grad_(True), rather than torch.tensor(sourceTensor).\n",
      "  image, mask = torch.tensor(image).float(), torch.tensor(mask).float()\n",
      "smth:0.5183: 100%|██████████| 7/7 [03:18<00:00, 28.35s/it]\n",
      "smth:0.5189: 100%|██████████| 2/2 [01:50<00:00, 55.27s/it] \n"
     ]
    },
    {
     "name": "stdout",
     "output_type": "stream",
     "text": [
      "best th: 0.2 best dc: 8.190560988094987e-05\n",
      "Sat Jan 14 02:39:49 2023 Fold 0, Epoch 182, lr: 0.0030000, train loss: 0.51833, valid loss: 0.51889, metric: 0.000082.\n",
      "Sat Jan 14 02:39:49 2023 Epoch: 183\n"
     ]
    },
    {
     "name": "stderr",
     "output_type": "stream",
     "text": [
      "  0%|          | 0/7 [00:00<?, ?it/s]/tmp/ipykernel_299334/3733926425.py:99: UserWarning: To copy construct from a tensor, it is recommended to use sourceTensor.clone().detach() or sourceTensor.clone().detach().requires_grad_(True), rather than torch.tensor(sourceTensor).\n",
      "  image, mask = torch.tensor(image).float(), torch.tensor(mask).float()\n",
      "/tmp/ipykernel_299334/3733926425.py:99: UserWarning: To copy construct from a tensor, it is recommended to use sourceTensor.clone().detach() or sourceTensor.clone().detach().requires_grad_(True), rather than torch.tensor(sourceTensor).\n",
      "  image, mask = torch.tensor(image).float(), torch.tensor(mask).float()\n",
      "/tmp/ipykernel_299334/3733926425.py:99: UserWarning: To copy construct from a tensor, it is recommended to use sourceTensor.clone().detach() or sourceTensor.clone().detach().requires_grad_(True), rather than torch.tensor(sourceTensor).\n",
      "  image, mask = torch.tensor(image).float(), torch.tensor(mask).float()\n",
      "/tmp/ipykernel_299334/3733926425.py:99: UserWarning: To copy construct from a tensor, it is recommended to use sourceTensor.clone().detach() or sourceTensor.clone().detach().requires_grad_(True), rather than torch.tensor(sourceTensor).\n",
      "  image, mask = torch.tensor(image).float(), torch.tensor(mask).float()\n",
      "smth:0.5180: 100%|██████████| 7/7 [03:12<00:00, 27.45s/it]\n",
      "smth:0.5187: 100%|██████████| 2/2 [01:48<00:00, 54.28s/it] \n"
     ]
    },
    {
     "name": "stdout",
     "output_type": "stream",
     "text": [
      "best th: 0.2 best dc: 7.27289841930072e-05\n",
      "Sat Jan 14 02:44:50 2023 Fold 0, Epoch 183, lr: 0.0030000, train loss: 0.51799, valid loss: 0.51868, metric: 0.000073.\n",
      "Sat Jan 14 02:44:50 2023 Epoch: 184\n"
     ]
    },
    {
     "name": "stderr",
     "output_type": "stream",
     "text": [
      "  0%|          | 0/7 [00:00<?, ?it/s]/tmp/ipykernel_299334/3733926425.py:99: UserWarning: To copy construct from a tensor, it is recommended to use sourceTensor.clone().detach() or sourceTensor.clone().detach().requires_grad_(True), rather than torch.tensor(sourceTensor).\n",
      "  image, mask = torch.tensor(image).float(), torch.tensor(mask).float()\n",
      "/tmp/ipykernel_299334/3733926425.py:99: UserWarning: To copy construct from a tensor, it is recommended to use sourceTensor.clone().detach() or sourceTensor.clone().detach().requires_grad_(True), rather than torch.tensor(sourceTensor).\n",
      "  image, mask = torch.tensor(image).float(), torch.tensor(mask).float()\n",
      "/tmp/ipykernel_299334/3733926425.py:99: UserWarning: To copy construct from a tensor, it is recommended to use sourceTensor.clone().detach() or sourceTensor.clone().detach().requires_grad_(True), rather than torch.tensor(sourceTensor).\n",
      "  image, mask = torch.tensor(image).float(), torch.tensor(mask).float()\n",
      "/tmp/ipykernel_299334/3733926425.py:99: UserWarning: To copy construct from a tensor, it is recommended to use sourceTensor.clone().detach() or sourceTensor.clone().detach().requires_grad_(True), rather than torch.tensor(sourceTensor).\n",
      "  image, mask = torch.tensor(image).float(), torch.tensor(mask).float()\n",
      "smth:0.5178: 100%|██████████| 7/7 [03:11<00:00, 27.40s/it] \n",
      "smth:0.5186: 100%|██████████| 2/2 [01:51<00:00, 55.64s/it] \n"
     ]
    },
    {
     "name": "stdout",
     "output_type": "stream",
     "text": [
      "best th: 0.2 best dc: 6.882499373694023e-05\n",
      "Sat Jan 14 02:49:53 2023 Fold 0, Epoch 184, lr: 0.0030000, train loss: 0.51781, valid loss: 0.51856, metric: 0.000069.\n",
      "Sat Jan 14 02:49:53 2023 Epoch: 185\n"
     ]
    },
    {
     "name": "stderr",
     "output_type": "stream",
     "text": [
      "  0%|          | 0/7 [00:00<?, ?it/s]/tmp/ipykernel_299334/3733926425.py:99: UserWarning: To copy construct from a tensor, it is recommended to use sourceTensor.clone().detach() or sourceTensor.clone().detach().requires_grad_(True), rather than torch.tensor(sourceTensor).\n",
      "  image, mask = torch.tensor(image).float(), torch.tensor(mask).float()\n",
      "/tmp/ipykernel_299334/3733926425.py:99: UserWarning: To copy construct from a tensor, it is recommended to use sourceTensor.clone().detach() or sourceTensor.clone().detach().requires_grad_(True), rather than torch.tensor(sourceTensor).\n",
      "  image, mask = torch.tensor(image).float(), torch.tensor(mask).float()\n",
      "/tmp/ipykernel_299334/3733926425.py:99: UserWarning: To copy construct from a tensor, it is recommended to use sourceTensor.clone().detach() or sourceTensor.clone().detach().requires_grad_(True), rather than torch.tensor(sourceTensor).\n",
      "  image, mask = torch.tensor(image).float(), torch.tensor(mask).float()\n",
      "/tmp/ipykernel_299334/3733926425.py:99: UserWarning: To copy construct from a tensor, it is recommended to use sourceTensor.clone().detach() or sourceTensor.clone().detach().requires_grad_(True), rather than torch.tensor(sourceTensor).\n",
      "  image, mask = torch.tensor(image).float(), torch.tensor(mask).float()\n",
      "smth:0.5179: 100%|██████████| 7/7 [03:19<00:00, 28.52s/it] \n",
      "smth:0.5185: 100%|██████████| 2/2 [01:52<00:00, 56.10s/it] \n"
     ]
    },
    {
     "name": "stdout",
     "output_type": "stream",
     "text": [
      "best th: 0.2 best dc: 7.322799728801666e-05\n",
      "Sat Jan 14 02:55:05 2023 Fold 0, Epoch 185, lr: 0.0030000, train loss: 0.51791, valid loss: 0.51848, metric: 0.000073.\n",
      "Sat Jan 14 02:55:05 2023 Epoch: 186\n"
     ]
    },
    {
     "name": "stderr",
     "output_type": "stream",
     "text": [
      "  0%|          | 0/7 [00:00<?, ?it/s]/tmp/ipykernel_299334/3733926425.py:99: UserWarning: To copy construct from a tensor, it is recommended to use sourceTensor.clone().detach() or sourceTensor.clone().detach().requires_grad_(True), rather than torch.tensor(sourceTensor).\n",
      "  image, mask = torch.tensor(image).float(), torch.tensor(mask).float()\n",
      "/tmp/ipykernel_299334/3733926425.py:99: UserWarning: To copy construct from a tensor, it is recommended to use sourceTensor.clone().detach() or sourceTensor.clone().detach().requires_grad_(True), rather than torch.tensor(sourceTensor).\n",
      "  image, mask = torch.tensor(image).float(), torch.tensor(mask).float()\n",
      "/tmp/ipykernel_299334/3733926425.py:99: UserWarning: To copy construct from a tensor, it is recommended to use sourceTensor.clone().detach() or sourceTensor.clone().detach().requires_grad_(True), rather than torch.tensor(sourceTensor).\n",
      "  image, mask = torch.tensor(image).float(), torch.tensor(mask).float()\n",
      "/tmp/ipykernel_299334/3733926425.py:99: UserWarning: To copy construct from a tensor, it is recommended to use sourceTensor.clone().detach() or sourceTensor.clone().detach().requires_grad_(True), rather than torch.tensor(sourceTensor).\n",
      "  image, mask = torch.tensor(image).float(), torch.tensor(mask).float()\n",
      "smth:0.5180: 100%|██████████| 7/7 [03:07<00:00, 26.79s/it]\n",
      "smth:0.5183: 100%|██████████| 2/2 [01:52<00:00, 56.24s/it] \n"
     ]
    },
    {
     "name": "stdout",
     "output_type": "stream",
     "text": [
      "best th: 0.2 best dc: 7.03020886121607e-05\n",
      "Sat Jan 14 03:00:05 2023 Fold 0, Epoch 186, lr: 0.0030000, train loss: 0.51804, valid loss: 0.51828, metric: 0.000070.\n",
      "Sat Jan 14 03:00:05 2023 Epoch: 187\n"
     ]
    },
    {
     "name": "stderr",
     "output_type": "stream",
     "text": [
      "  0%|          | 0/7 [00:00<?, ?it/s]/tmp/ipykernel_299334/3733926425.py:99: UserWarning: To copy construct from a tensor, it is recommended to use sourceTensor.clone().detach() or sourceTensor.clone().detach().requires_grad_(True), rather than torch.tensor(sourceTensor).\n",
      "  image, mask = torch.tensor(image).float(), torch.tensor(mask).float()\n",
      "/tmp/ipykernel_299334/3733926425.py:99: UserWarning: To copy construct from a tensor, it is recommended to use sourceTensor.clone().detach() or sourceTensor.clone().detach().requires_grad_(True), rather than torch.tensor(sourceTensor).\n",
      "  image, mask = torch.tensor(image).float(), torch.tensor(mask).float()\n",
      "/tmp/ipykernel_299334/3733926425.py:99: UserWarning: To copy construct from a tensor, it is recommended to use sourceTensor.clone().detach() or sourceTensor.clone().detach().requires_grad_(True), rather than torch.tensor(sourceTensor).\n",
      "  image, mask = torch.tensor(image).float(), torch.tensor(mask).float()\n",
      "/tmp/ipykernel_299334/3733926425.py:99: UserWarning: To copy construct from a tensor, it is recommended to use sourceTensor.clone().detach() or sourceTensor.clone().detach().requires_grad_(True), rather than torch.tensor(sourceTensor).\n",
      "  image, mask = torch.tensor(image).float(), torch.tensor(mask).float()\n",
      "smth:0.5179: 100%|██████████| 7/7 [03:03<00:00, 26.28s/it] \n",
      "smth:0.5181: 100%|██████████| 2/2 [01:50<00:00, 55.25s/it] \n"
     ]
    },
    {
     "name": "stdout",
     "output_type": "stream",
     "text": [
      "best th: 0.2 best dc: 7.051633159290107e-05\n",
      "Sat Jan 14 03:05:00 2023 Fold 0, Epoch 187, lr: 0.0030000, train loss: 0.51786, valid loss: 0.51812, metric: 0.000071.\n",
      "Sat Jan 14 03:05:00 2023 Epoch: 188\n"
     ]
    },
    {
     "name": "stderr",
     "output_type": "stream",
     "text": [
      "  0%|          | 0/7 [00:00<?, ?it/s]/tmp/ipykernel_299334/3733926425.py:99: UserWarning: To copy construct from a tensor, it is recommended to use sourceTensor.clone().detach() or sourceTensor.clone().detach().requires_grad_(True), rather than torch.tensor(sourceTensor).\n",
      "  image, mask = torch.tensor(image).float(), torch.tensor(mask).float()\n",
      "/tmp/ipykernel_299334/3733926425.py:99: UserWarning: To copy construct from a tensor, it is recommended to use sourceTensor.clone().detach() or sourceTensor.clone().detach().requires_grad_(True), rather than torch.tensor(sourceTensor).\n",
      "  image, mask = torch.tensor(image).float(), torch.tensor(mask).float()\n",
      "/tmp/ipykernel_299334/3733926425.py:99: UserWarning: To copy construct from a tensor, it is recommended to use sourceTensor.clone().detach() or sourceTensor.clone().detach().requires_grad_(True), rather than torch.tensor(sourceTensor).\n",
      "  image, mask = torch.tensor(image).float(), torch.tensor(mask).float()\n",
      "/tmp/ipykernel_299334/3733926425.py:99: UserWarning: To copy construct from a tensor, it is recommended to use sourceTensor.clone().detach() or sourceTensor.clone().detach().requires_grad_(True), rather than torch.tensor(sourceTensor).\n",
      "  image, mask = torch.tensor(image).float(), torch.tensor(mask).float()\n",
      "smth:0.5177: 100%|██████████| 7/7 [03:26<00:00, 29.48s/it]\n",
      "smth:0.5182: 100%|██████████| 2/2 [01:51<00:00, 55.87s/it] \n"
     ]
    },
    {
     "name": "stdout",
     "output_type": "stream",
     "text": [
      "best th: 0.2 best dc: 7.0385410453024e-05\n",
      "Sat Jan 14 03:10:18 2023 Fold 0, Epoch 188, lr: 0.0030000, train loss: 0.51769, valid loss: 0.51818, metric: 0.000070.\n",
      "Sat Jan 14 03:10:18 2023 Epoch: 189\n"
     ]
    },
    {
     "name": "stderr",
     "output_type": "stream",
     "text": [
      "  0%|          | 0/7 [00:00<?, ?it/s]/tmp/ipykernel_299334/3733926425.py:99: UserWarning: To copy construct from a tensor, it is recommended to use sourceTensor.clone().detach() or sourceTensor.clone().detach().requires_grad_(True), rather than torch.tensor(sourceTensor).\n",
      "  image, mask = torch.tensor(image).float(), torch.tensor(mask).float()\n",
      "/tmp/ipykernel_299334/3733926425.py:99: UserWarning: To copy construct from a tensor, it is recommended to use sourceTensor.clone().detach() or sourceTensor.clone().detach().requires_grad_(True), rather than torch.tensor(sourceTensor).\n",
      "  image, mask = torch.tensor(image).float(), torch.tensor(mask).float()\n",
      "/tmp/ipykernel_299334/3733926425.py:99: UserWarning: To copy construct from a tensor, it is recommended to use sourceTensor.clone().detach() or sourceTensor.clone().detach().requires_grad_(True), rather than torch.tensor(sourceTensor).\n",
      "  image, mask = torch.tensor(image).float(), torch.tensor(mask).float()\n",
      "/tmp/ipykernel_299334/3733926425.py:99: UserWarning: To copy construct from a tensor, it is recommended to use sourceTensor.clone().detach() or sourceTensor.clone().detach().requires_grad_(True), rather than torch.tensor(sourceTensor).\n",
      "  image, mask = torch.tensor(image).float(), torch.tensor(mask).float()\n"
     ]
    }
   ],
   "source": [
    "run(0)"
   ]
  },
  {
   "cell_type": "code",
   "execution_count": null,
   "id": "b0b596e2",
   "metadata": {},
   "outputs": [],
   "source": [
    "run(1)"
   ]
  },
  {
   "cell_type": "code",
   "execution_count": null,
   "id": "2e2a937e",
   "metadata": {},
   "outputs": [],
   "source": [
    "run(2)"
   ]
  },
  {
   "cell_type": "code",
   "execution_count": null,
   "id": "29b260ec",
   "metadata": {},
   "outputs": [],
   "source": [
    "run(3)"
   ]
  },
  {
   "cell_type": "code",
   "execution_count": null,
   "id": "62dd8b7c",
   "metadata": {},
   "outputs": [],
   "source": [
    "run(4)"
   ]
  },
  {
   "cell_type": "code",
   "execution_count": null,
   "id": "8300c319",
   "metadata": {},
   "outputs": [],
   "source": []
  }
 ],
 "metadata": {
  "kernelspec": {
   "display_name": "Python 3 (ipykernel)",
   "language": "python",
   "name": "python3"
  },
  "language_info": {
   "codemirror_mode": {
    "name": "ipython",
    "version": 3
   },
   "file_extension": ".py",
   "mimetype": "text/x-python",
   "name": "python",
   "nbconvert_exporter": "python",
   "pygments_lexer": "ipython3",
   "version": "3.9.7"
  }
 },
 "nbformat": 4,
 "nbformat_minor": 5
}
