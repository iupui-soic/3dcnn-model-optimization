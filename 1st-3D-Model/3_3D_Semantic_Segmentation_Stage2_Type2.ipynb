{
 "cells": [
  {
   "cell_type": "code",
   "execution_count": 3,
   "id": "061aed8f",
   "metadata": {},
   "outputs": [
    {
     "name": "stdout",
     "output_type": "stream",
     "text": [
      "Please provide your Kaggle credentials to download this dataset. Learn more: http://bit.ly/kaggle-creds\n",
      "Your Kaggle username: atikarahmanpaddo\n",
      "Your Kaggle Key: ········\n",
      "Downloading rsna-cropped-2d-224-0920-2m.zip to ./rsna-cropped-2d-224-0920-2m\n"
     ]
    },
    {
     "name": "stderr",
     "output_type": "stream",
     "text": [
      "100%|██████████| 37.5G/37.5G [08:20<00:00, 80.5MB/s]\n"
     ]
    },
    {
     "name": "stdout",
     "output_type": "stream",
     "text": [
      "\n"
     ]
    }
   ],
   "source": [
    "import opendatasets as od\n",
    "# od.download(\"https://www.kaggle.com/datasets/haqishen/rsna-cropped-2d-224-0920-2m\")"
   ]
  },
  {
   "cell_type": "code",
   "execution_count": 1,
   "id": "b954d75f",
   "metadata": {},
   "outputs": [],
   "source": [
    "DEBUG = False"
   ]
  },
  {
   "cell_type": "code",
   "execution_count": 2,
   "id": "62079246",
   "metadata": {},
   "outputs": [],
   "source": [
    "#!pip install opencv-python\n",
    "#!pip install timm\n",
    "#!pip install pandas\n",
    "#!pip install albumentations\n",
    "#!pip install matplotlib\n",
    "#!pip install datasets\n",
    "#!pip install opendatasets"
   ]
  },
  {
   "cell_type": "code",
   "execution_count": 3,
   "id": "c78caea7",
   "metadata": {},
   "outputs": [],
   "source": [
    "import os\n",
    "import sys\n",
    "import gc\n",
    "import ast\n",
    "import cv2\n",
    "import time\n",
    "import timm\n",
    "import pickle\n",
    "import random\n",
    "import argparse\n",
    "import warnings\n",
    "import numpy as np\n",
    "import pandas as pd\n",
    "from glob import glob\n",
    "from PIL import Image\n",
    "from tqdm import tqdm\n",
    "import albumentations\n",
    "from pylab import rcParams\n",
    "import matplotlib.pyplot as plt\n",
    "from sklearn.model_selection import KFold, StratifiedKFold\n",
    "\n",
    "import torch\n",
    "import torch.nn as nn\n",
    "import torch.optim as optim\n",
    "import torch.cuda.amp as amp\n",
    "import torch.nn.functional as F\n",
    "from torch.utils.data import DataLoader, Dataset\n",
    "\n",
    "%matplotlib inline\n",
    "rcParams['figure.figsize'] = 20, 8\n",
    "#device = torch.device('cuda')\n",
    "device=torch.cuda.set_device(2)\n",
    "torch.backends.cudnn.benchmark = True"
   ]
  },
  {
   "cell_type": "markdown",
   "id": "18570cb7",
   "metadata": {},
   "source": [
    "## Config"
   ]
  },
  {
   "cell_type": "code",
   "execution_count": 4,
   "id": "57384699",
   "metadata": {},
   "outputs": [],
   "source": [
    "kernel_type = '0920_2d_lstmv22headv2_convnn_224_15_6ch_8flip_augv2_drl3_rov1p2_rov3p2_bs4_lr6e5_eta6e6_lw151_50ep'\n",
    "load_kernel = None\n",
    "load_last = True\n",
    "\n",
    "n_folds = 5\n",
    "backbone = 'convnext_nano'\n",
    "\n",
    "image_size = 224\n",
    "n_slice_per_c = 15\n",
    "in_chans = 6\n",
    "\n",
    "init_lr = 23e-5\n",
    "eta_min = 23e-6\n",
    "lw = [15, 1]\n",
    "batch_size = 8\n",
    "drop_rate = 0.\n",
    "drop_rate_last = 0.3\n",
    "drop_path_rate = 0.\n",
    "p_mixup = 0.5\n",
    "p_rand_order = 0.2\n",
    "p_rand_order_v1 = 0.2\n",
    "\n",
    "data_dir = 'rsna-cropped-2d-224-0920-2m/cropped_2d_224_15_ext0_5ch_0920_2m/cropped_2d_224_15_ext0_5ch_0920_2m'\n",
    "use_amp = True\n",
    "num_workers = 4\n",
    "out_dim = 1\n",
    "\n",
    "n_epochs = 50\n",
    "\n",
    "log_dir = './logs'\n",
    "model_dir = './models'\n",
    "os.makedirs(log_dir, exist_ok=True)\n",
    "os.makedirs(model_dir, exist_ok=True)"
   ]
  },
  {
   "cell_type": "code",
   "execution_count": 5,
   "id": "e21d41d2",
   "metadata": {},
   "outputs": [
    {
     "name": "stderr",
     "output_type": "stream",
     "text": [
      "/home/apaddo/.local/lib/python3.9/site-packages/albumentations/augmentations/transforms.py:1149: FutureWarning: This class has been deprecated. Please use RandomBrightnessContrast\n",
      "  warnings.warn(\n",
      "/home/apaddo/.local/lib/python3.9/site-packages/albumentations/augmentations/blur/transforms.py:184: UserWarning: blur_limit and sigma_limit minimum value can not be both equal to 0. blur_limit minimum value changed to 3.\n",
      "  warnings.warn(\n",
      "/home/apaddo/.local/lib/python3.9/site-packages/albumentations/augmentations/dropout/cutout.py:49: FutureWarning: Cutout has been deprecated. Please use CoarseDropout\n",
      "  warnings.warn(\n"
     ]
    }
   ],
   "source": [
    "transforms_train = albumentations.Compose([\n",
    "    albumentations.Resize(image_size, image_size),\n",
    "    albumentations.HorizontalFlip(p=0.5),\n",
    "    albumentations.VerticalFlip(p=0.5),\n",
    "    albumentations.Transpose(p=0.5),\n",
    "    albumentations.RandomBrightness(limit=0.1, p=0.7),\n",
    "    albumentations.ShiftScaleRotate(shift_limit=0.3, scale_limit=0.3, rotate_limit=45, border_mode=4, p=0.7),\n",
    "\n",
    "    albumentations.OneOf([\n",
    "        albumentations.MotionBlur(blur_limit=3),\n",
    "        albumentations.MedianBlur(blur_limit=3),\n",
    "        albumentations.GaussianBlur(blur_limit=3),\n",
    "        albumentations.GaussNoise(var_limit=(3.0, 9.0)),\n",
    "    ], p=0.5),\n",
    "    albumentations.OneOf([\n",
    "        albumentations.OpticalDistortion(distort_limit=1.),\n",
    "        albumentations.GridDistortion(num_steps=5, distort_limit=1.),\n",
    "    ], p=0.5),\n",
    "\n",
    "    albumentations.Cutout(max_h_size=int(image_size * 0.5), max_w_size=int(image_size * 0.5), num_holes=1, p=0.5),\n",
    "])\n",
    "\n",
    "transforms_valid = albumentations.Compose([\n",
    "    albumentations.Resize(image_size, image_size),\n",
    "])"
   ]
  },
  {
   "cell_type": "markdown",
   "id": "e644707b",
   "metadata": {},
   "source": [
    "## DataFrame"
   ]
  },
  {
   "cell_type": "code",
   "execution_count": 6,
   "id": "8be7231d",
   "metadata": {},
   "outputs": [
    {
     "data": {
      "text/html": [
       "<div>\n",
       "<style scoped>\n",
       "    .dataframe tbody tr th:only-of-type {\n",
       "        vertical-align: middle;\n",
       "    }\n",
       "\n",
       "    .dataframe tbody tr th {\n",
       "        vertical-align: top;\n",
       "    }\n",
       "\n",
       "    .dataframe thead th {\n",
       "        text-align: right;\n",
       "    }\n",
       "</style>\n",
       "<table border=\"1\" class=\"dataframe\">\n",
       "  <thead>\n",
       "    <tr style=\"text-align: right;\">\n",
       "      <th></th>\n",
       "      <th>StudyInstanceUID</th>\n",
       "      <th>patient_overall</th>\n",
       "      <th>C1</th>\n",
       "      <th>C2</th>\n",
       "      <th>C3</th>\n",
       "      <th>C4</th>\n",
       "      <th>C5</th>\n",
       "      <th>C6</th>\n",
       "      <th>C7</th>\n",
       "      <th>mask_file</th>\n",
       "      <th>image_folder</th>\n",
       "      <th>w</th>\n",
       "      <th>h</th>\n",
       "      <th>d</th>\n",
       "      <th>t</th>\n",
       "      <th>fold</th>\n",
       "    </tr>\n",
       "  </thead>\n",
       "  <tbody>\n",
       "    <tr>\n",
       "      <th>0</th>\n",
       "      <td>1.2.826.0.1.3680043.6200</td>\n",
       "      <td>1</td>\n",
       "      <td>1</td>\n",
       "      <td>1</td>\n",
       "      <td>0</td>\n",
       "      <td>0</td>\n",
       "      <td>0</td>\n",
       "      <td>0</td>\n",
       "      <td>0</td>\n",
       "      <td>NaN</td>\n",
       "      <td>/data/rsna-2022-cervical-spine-fracture-detect...</td>\n",
       "      <td>512</td>\n",
       "      <td>512</td>\n",
       "      <td>243</td>\n",
       "      <td>1.000</td>\n",
       "      <td>0</td>\n",
       "    </tr>\n",
       "    <tr>\n",
       "      <th>1</th>\n",
       "      <td>1.2.826.0.1.3680043.27262</td>\n",
       "      <td>1</td>\n",
       "      <td>0</td>\n",
       "      <td>1</td>\n",
       "      <td>0</td>\n",
       "      <td>0</td>\n",
       "      <td>0</td>\n",
       "      <td>0</td>\n",
       "      <td>0</td>\n",
       "      <td>NaN</td>\n",
       "      <td>/data/rsna-2022-cervical-spine-fracture-detect...</td>\n",
       "      <td>512</td>\n",
       "      <td>512</td>\n",
       "      <td>406</td>\n",
       "      <td>0.500</td>\n",
       "      <td>0</td>\n",
       "    </tr>\n",
       "    <tr>\n",
       "      <th>2</th>\n",
       "      <td>1.2.826.0.1.3680043.21561</td>\n",
       "      <td>1</td>\n",
       "      <td>0</td>\n",
       "      <td>1</td>\n",
       "      <td>0</td>\n",
       "      <td>0</td>\n",
       "      <td>0</td>\n",
       "      <td>0</td>\n",
       "      <td>0</td>\n",
       "      <td>NaN</td>\n",
       "      <td>/data/rsna-2022-cervical-spine-fracture-detect...</td>\n",
       "      <td>512</td>\n",
       "      <td>512</td>\n",
       "      <td>385</td>\n",
       "      <td>0.625</td>\n",
       "      <td>0</td>\n",
       "    </tr>\n",
       "    <tr>\n",
       "      <th>3</th>\n",
       "      <td>1.2.826.0.1.3680043.12351</td>\n",
       "      <td>0</td>\n",
       "      <td>0</td>\n",
       "      <td>0</td>\n",
       "      <td>0</td>\n",
       "      <td>0</td>\n",
       "      <td>0</td>\n",
       "      <td>0</td>\n",
       "      <td>0</td>\n",
       "      <td>NaN</td>\n",
       "      <td>/data/rsna-2022-cervical-spine-fracture-detect...</td>\n",
       "      <td>512</td>\n",
       "      <td>512</td>\n",
       "      <td>501</td>\n",
       "      <td>0.600</td>\n",
       "      <td>0</td>\n",
       "    </tr>\n",
       "    <tr>\n",
       "      <th>4</th>\n",
       "      <td>1.2.826.0.1.3680043.1363</td>\n",
       "      <td>1</td>\n",
       "      <td>0</td>\n",
       "      <td>0</td>\n",
       "      <td>0</td>\n",
       "      <td>0</td>\n",
       "      <td>1</td>\n",
       "      <td>0</td>\n",
       "      <td>0</td>\n",
       "      <td>/data/rsna-2022-cervical-spine-fracture-detect...</td>\n",
       "      <td>/data/rsna-2022-cervical-spine-fracture-detect...</td>\n",
       "      <td>512</td>\n",
       "      <td>512</td>\n",
       "      <td>199</td>\n",
       "      <td>1.000</td>\n",
       "      <td>0</td>\n",
       "    </tr>\n",
       "  </tbody>\n",
       "</table>\n",
       "</div>"
      ],
      "text/plain": [
       "            StudyInstanceUID  patient_overall  C1  C2  C3  C4  C5  C6  C7  \\\n",
       "0   1.2.826.0.1.3680043.6200                1   1   1   0   0   0   0   0   \n",
       "1  1.2.826.0.1.3680043.27262                1   0   1   0   0   0   0   0   \n",
       "2  1.2.826.0.1.3680043.21561                1   0   1   0   0   0   0   0   \n",
       "3  1.2.826.0.1.3680043.12351                0   0   0   0   0   0   0   0   \n",
       "4   1.2.826.0.1.3680043.1363                1   0   0   0   0   1   0   0   \n",
       "\n",
       "                                           mask_file  \\\n",
       "0                                                NaN   \n",
       "1                                                NaN   \n",
       "2                                                NaN   \n",
       "3                                                NaN   \n",
       "4  /data/rsna-2022-cervical-spine-fracture-detect...   \n",
       "\n",
       "                                        image_folder    w    h    d      t  \\\n",
       "0  /data/rsna-2022-cervical-spine-fracture-detect...  512  512  243  1.000   \n",
       "1  /data/rsna-2022-cervical-spine-fracture-detect...  512  512  406  0.500   \n",
       "2  /data/rsna-2022-cervical-spine-fracture-detect...  512  512  385  0.625   \n",
       "3  /data/rsna-2022-cervical-spine-fracture-detect...  512  512  501  0.600   \n",
       "4  /data/rsna-2022-cervical-spine-fracture-detect...  512  512  199  1.000   \n",
       "\n",
       "   fold  \n",
       "0     0  \n",
       "1     0  \n",
       "2     0  \n",
       "3     0  \n",
       "4     0  "
      ]
     },
     "execution_count": 6,
     "metadata": {},
     "output_type": "execute_result"
    }
   ],
   "source": [
    "df = pd.read_csv('rsna-cropped-2d-224-0920-2m/train_seg.csv')\n",
    "df = df.sample(16).reset_index(drop=True) if DEBUG else df\n",
    "\n",
    "df.head()"
   ]
  },
  {
   "cell_type": "markdown",
   "id": "9998f345",
   "metadata": {},
   "source": [
    "## Dataset"
   ]
  },
  {
   "cell_type": "code",
   "execution_count": 7,
   "id": "2d20f917",
   "metadata": {},
   "outputs": [],
   "source": [
    "class CLSDataset(Dataset):\n",
    "    def __init__(self, df, mode, transform):\n",
    "\n",
    "        self.df = df.reset_index()\n",
    "        self.mode = mode\n",
    "        self.transform = transform\n",
    "\n",
    "    def __len__(self):\n",
    "        return self.df.shape[0]\n",
    "\n",
    "    def __getitem__(self, index):\n",
    "        row = self.df.iloc[index]\n",
    "        \n",
    "        images = []\n",
    "        \n",
    "        tmp = list(range(7))\n",
    "        ### random order v3\n",
    "        if self.mode == 'train' and random.random() < p_rand_order:\n",
    "            random.shuffle(tmp)\n",
    "        ###\n",
    "        for cid in (tmp):\n",
    "            for ind in list(range(n_slice_per_c)):\n",
    "                filepath = os.path.join(data_dir, f'{row.StudyInstanceUID}_{cid+1}_{ind}.npy')\n",
    "                image = np.load(filepath)\n",
    "                image = self.transform(image=image)['image']\n",
    "                image = image.transpose(2, 0, 1).astype(np.float32) / 255.\n",
    "                images.append(image)\n",
    "        images = np.stack(images, 0)\n",
    "\n",
    "        if self.mode != 'test':\n",
    "            labels = []\n",
    "            for i in row[[f'C{x+1}' for x in tmp]].tolist():\n",
    "                labels += [i] * n_slice_per_c\n",
    "            images = torch.tensor(images).float()\n",
    "            labels = torch.tensor(labels).float()\n",
    "            \n",
    "            if self.mode == 'train' and random.random() < p_rand_order_v1:\n",
    "                indices = torch.randperm(images.size(0))\n",
    "                images = images[indices]\n",
    "                labels = labels[indices]\n",
    "\n",
    "            return images, labels\n",
    "        else:\n",
    "            return torch.tensor(images).float()"
   ]
  },
  {
   "cell_type": "code",
   "execution_count": 8,
   "id": "b8ec0232",
   "metadata": {},
   "outputs": [],
   "source": [
    "rcParams['figure.figsize'] = 20,8\n",
    "\n",
    "df_show = df\n",
    "dataset_show = CLSDataset(df_show, 'train', transform=transforms_train)\n",
    "loader_show = torch.utils.data.DataLoader(dataset_show, batch_size=batch_size, shuffle=True, num_workers=num_workers)"
   ]
  },
  {
   "cell_type": "code",
   "execution_count": 9,
   "id": "ec055bba",
   "metadata": {},
   "outputs": [
    {
     "data": {
      "image/png": "[encoded data removed]",
      "text/plain": [
       "<Figure size 1152x576 with 8 Axes>"
      ]
     },
     "metadata": {
      "needs_background": "light"
     },
     "output_type": "display_data"
    }
   ],
   "source": [
    "rcParams['figure.figsize'] = 16,8\n",
    "f, axarr = plt.subplots(2,4)\n",
    "for p in range(4):\n",
    "    idx = p * 20\n",
    "    imgs, lbl = dataset_show[idx]\n",
    "    axarr[0, p].imshow(imgs[35][:3].permute(1, 2, 0))\n",
    "    axarr[1, p].imshow(imgs[35][-1])"
   ]
  },
  {
   "cell_type": "markdown",
   "id": "4d84eb25",
   "metadata": {},
   "source": [
    "## Model"
   ]
  },
  {
   "cell_type": "code",
   "execution_count": 10,
   "id": "0bd2b64b",
   "metadata": {},
   "outputs": [],
   "source": [
    "class TimmModelType2(nn.Module):\n",
    "    def __init__(self, backbone, pretrained=False):\n",
    "        super(TimmModelType2, self).__init__()\n",
    "\n",
    "        self.encoder = timm.create_model(\n",
    "            backbone,\n",
    "            in_chans=in_chans,\n",
    "            num_classes=out_dim,\n",
    "            features_only=False,\n",
    "            drop_rate=drop_rate,\n",
    "            drop_path_rate=drop_path_rate,\n",
    "            pretrained=pretrained\n",
    "        )\n",
    "\n",
    "        if 'efficient' in backbone:\n",
    "            hdim = self.encoder.conv_head.out_channels\n",
    "            self.encoder.classifier = nn.Identity()\n",
    "        elif 'convnext' in backbone:\n",
    "            hdim = self.encoder.head.fc.in_features\n",
    "            self.encoder.head.fc = nn.Identity()\n",
    "\n",
    "        self.lstm = nn.LSTM(hdim, 256, num_layers=2, dropout=drop_rate, bidirectional=True, batch_first=True)\n",
    "        self.head = nn.Sequential(\n",
    "            nn.Linear(512, 256),\n",
    "            nn.BatchNorm1d(256),\n",
    "            nn.Dropout(drop_rate_last),\n",
    "            nn.LeakyReLU(0.1),\n",
    "            nn.Linear(256, out_dim),\n",
    "        )\n",
    "        self.lstm2 = nn.LSTM(hdim, 256, num_layers=2, dropout=drop_rate, bidirectional=True, batch_first=True)\n",
    "        self.head2 = nn.Sequential(\n",
    "            nn.Linear(512, 256),\n",
    "            nn.BatchNorm1d(256),\n",
    "            nn.Dropout(drop_rate_last),\n",
    "            nn.LeakyReLU(0.1),\n",
    "            nn.Linear(256, 1),\n",
    "        )\n",
    "\n",
    "\n",
    "\n",
    "    def forward(self, x):  # (bs, nc*7, ch, sz, sz)\n",
    "        bs = x.shape[0]\n",
    "        x = x.view(bs * n_slice_per_c * 7, in_chans, image_size, image_size)\n",
    "        feat = self.encoder(x)\n",
    "        feat = feat.view(bs, n_slice_per_c * 7, -1)\n",
    "        feat1, _ = self.lstm(feat)\n",
    "        feat1 = feat1.contiguous().view(bs * n_slice_per_c * 7, 512)\n",
    "        feat2, _ = self.lstm2(feat)\n",
    "\n",
    "        return self.head(feat1), self.head2(feat2[:, 0])"
   ]
  },
  {
   "cell_type": "code",
   "execution_count": 11,
   "id": "469b2c6f",
   "metadata": {},
   "outputs": [],
   "source": [
    "m = TimmModelType2(backbone)\n",
    "#m(torch.rand(2, n_slice_per_c, in_chans, image_size, image_size)).shape"
   ]
  },
  {
   "cell_type": "markdown",
   "id": "4ad5e355",
   "metadata": {},
   "source": [
    "## Loss & Metric"
   ]
  },
  {
   "cell_type": "code",
   "execution_count": 12,
   "id": "3b5d9719",
   "metadata": {},
   "outputs": [],
   "source": [
    "bce = nn.BCEWithLogitsLoss(reduction='none')\n",
    "\n",
    "\n",
    "def criterion(logits, targets, activated=False):\n",
    "    if activated:\n",
    "        losses = nn.BCELoss(reduction='none')(logits.view(-1), targets.view(-1))\n",
    "    else:\n",
    "        losses = bce(logits.view(-1), targets.view(-1))\n",
    "    losses[targets.view(-1) > 0] *= 2.\n",
    "    logits = logits.to(torch.device('cuda'))\n",
    "    norm = torch.ones(logits.view(-1).shape[0]).to('cuda')\n",
    "    \n",
    "#     if torch.cuda.is_available():\n",
    "#         norm.cuda()\n",
    "    \n",
    "    norm[targets.view(-1) > 0] *= 2\n",
    "    return losses.sum() / norm.sum()"
   ]
  },
  {
   "cell_type": "markdown",
   "id": "605c8f87",
   "metadata": {},
   "source": [
    "## Train & Valid func"
   ]
  },
  {
   "cell_type": "code",
   "execution_count": 13,
   "id": "ba00fe80",
   "metadata": {},
   "outputs": [],
   "source": [
    "def mixup(input, truth, clip=[0, 1]):\n",
    "    indices = torch.randperm(input.size(0))\n",
    "    shuffled_input = input[indices]\n",
    "    shuffled_labels = truth[indices]\n",
    "\n",
    "    lam = np.random.uniform(clip[0], clip[1])\n",
    "    input = input * lam + shuffled_input * (1 - lam)\n",
    "    return input, truth, shuffled_labels, lam\n",
    "\n",
    "\n",
    "def train_func(model, loader_train, optimizer, scaler=None):\n",
    "    model.train()\n",
    "    train_loss = []\n",
    "    train_loss1 = []\n",
    "    train_loss2 = []\n",
    "    bar = tqdm(loader_train)\n",
    "    for images, targets in bar:\n",
    "        optimizer.zero_grad()\n",
    "        images = images.cuda()\n",
    "        targets = targets.cuda()\n",
    "        \n",
    "        do_mixup = False\n",
    "        if random.random() < p_mixup:\n",
    "            do_mixup = True\n",
    "            images, targets, targets_mix, lam = mixup(images, targets)\n",
    "\n",
    "        with amp.autocast():\n",
    "            logits, logits2 = model(images)\n",
    "            loss1 = criterion(logits, targets)\n",
    "            loss2 = criterion(logits2, targets.max(1).values)\n",
    "            loss = (loss1 * lw[0] + loss2 * lw[1]) / sum(lw)\n",
    "            if do_mixup:\n",
    "                loss11 = criterion(logits, targets_mix)\n",
    "                loss22 = criterion(logits2, targets_mix.max(1).values)\n",
    "                loss = loss * lam  + (loss11 * lw[0] + loss22 * lw[1]) / sum(lw) * (1 - lam)\n",
    "        train_loss1.append(loss1.item())\n",
    "        train_loss2.append(loss2.item())\n",
    "        train_loss.append(loss.item())\n",
    "        scaler.scale(loss).backward()\n",
    "        scaler.step(optimizer)\n",
    "        scaler.update()\n",
    "\n",
    "        bar.set_description(f'smth:{np.mean(train_loss1[-30:]):.4f} {np.mean(train_loss2[-30:]):.4f}')\n",
    "\n",
    "    return np.mean(train_loss)\n",
    "\n",
    "\n",
    "def valid_func(model, loader_valid):\n",
    "    model.eval()\n",
    "    valid_loss = []\n",
    "    valid_loss1 = []\n",
    "    valid_loss2 = []\n",
    "    outputs = []\n",
    "    bar = tqdm(loader_valid)\n",
    "    with torch.no_grad():\n",
    "        for images, targets in bar:\n",
    "            images = images.cuda()\n",
    "            targets = targets.cuda()\n",
    "\n",
    "            logits, logits2 = model(images)\n",
    "            loss1 = criterion(logits, targets)\n",
    "            loss2 = criterion(logits2, targets.max(1).values)\n",
    "            loss = (loss1 + loss2) / 2.\n",
    "            valid_loss1.append(loss1.item())\n",
    "            valid_loss2.append(loss2.item())\n",
    "            valid_loss.append(loss.item())\n",
    "            bar.set_description(f'smth:{np.mean(valid_loss1[-30:]):.4f} {np.mean(valid_loss2[-30:]):.4f}')\n",
    "\n",
    "    return np.mean(valid_loss)\n",
    "\n"
   ]
  },
  {
   "cell_type": "code",
   "execution_count": 14,
   "id": "d3934b35",
   "metadata": {},
   "outputs": [
    {
     "name": "stderr",
     "output_type": "stream",
     "text": [
      "/home/apaddo/.local/lib/python3.9/site-packages/torch/optim/lr_scheduler.py:138: UserWarning: Detected call of `lr_scheduler.step()` before `optimizer.step()`. In PyTorch 1.1.0 and later, you should call them in the opposite order: `optimizer.step()` before `lr_scheduler.step()`.  Failure to do this will result in PyTorch skipping the first value of the learning rate schedule. See more details at https://pytorch.org/docs/stable/optim.html#how-to-adjust-learning-rate\n",
      "  warnings.warn(\"Detected call of `lr_scheduler.step()` before `optimizer.step()`. \"\n",
      "/home/apaddo/.local/lib/python3.9/site-packages/torch/optim/lr_scheduler.py:163: UserWarning: The epoch parameter in `scheduler.step()` was not necessary and is being deprecated where possible. Please use `scheduler.step()` to step the scheduler. During the deprecation, if epoch is different from None, the closed form is used instead of the new chainable form, where available. Please open an issue if you are unable to replicate your use case: https://github.com/pytorch/pytorch/issues/new/choose.\n",
      "  warnings.warn(EPOCH_DEPRECATION_WARNING, UserWarning)\n"
     ]
    },
    {
     "data": {
      "text/plain": [
       "[<matplotlib.lines.Line2D at 0x7f3fc02d0640>]"
      ]
     },
     "execution_count": 14,
     "metadata": {},
     "output_type": "execute_result"
    },
    {
     "data": {
      "image/png": "[encoded data removed]",
      "text/plain": [
       "<Figure size 1440x144 with 1 Axes>"
      ]
     },
     "metadata": {
      "needs_background": "light"
     },
     "output_type": "display_data"
    }
   ],
   "source": [
    "rcParams['figure.figsize'] = 20, 2\n",
    "optimizer = optim.AdamW(m.parameters(), lr=init_lr)\n",
    "scheduler_cosine = torch.optim.lr_scheduler.CosineAnnealingLR(optimizer, n_epochs, eta_min=eta_min)\n",
    "\n",
    "lrs = []\n",
    "for epoch in range(1, n_epochs+1):\n",
    "    scheduler_cosine.step(epoch-1)\n",
    "    lrs.append(optimizer.param_groups[0][\"lr\"])\n",
    "plt.plot(range(len(lrs)), lrs)"
   ]
  },
  {
   "cell_type": "markdown",
   "id": "2e2b499f",
   "metadata": {},
   "source": [
    "## Training"
   ]
  },
  {
   "cell_type": "code",
   "execution_count": 15,
   "id": "cad4b61b",
   "metadata": {},
   "outputs": [],
   "source": [
    "def run(fold):\n",
    "\n",
    "    log_file = os.path.join(log_dir, f'{kernel_type}.txt')\n",
    "    model_file = os.path.join(model_dir, f'{kernel_type}_fold{fold}_best.pth')\n",
    "\n",
    "    train_ = df[df['fold'] != fold].reset_index(drop=True)\n",
    "    valid_ = df[df['fold'] == fold].reset_index(drop=True)\n",
    "    dataset_train = CLSDataset(train_, 'train', transform=transforms_train)\n",
    "    dataset_valid = CLSDataset(valid_, 'valid', transform=transforms_valid)\n",
    "    loader_train = torch.utils.data.DataLoader(dataset_train, batch_size=batch_size, shuffle=True, num_workers=num_workers, drop_last=True)\n",
    "    loader_valid = torch.utils.data.DataLoader(dataset_valid, batch_size=batch_size, shuffle=False, num_workers=num_workers)\n",
    "\n",
    "    model = TimmModelType2(backbone, pretrained=True)\n",
    "    model = model.to(device)\n",
    "    \n",
    "    if torch.cuda.is_available():\n",
    "        model.cuda()\n",
    "\n",
    "    optimizer = optim.AdamW(model.parameters(), lr=init_lr)\n",
    "    scaler = torch.cuda.amp.GradScaler() if use_amp else None\n",
    "    from_epoch = 0\n",
    "    metric_best = np.inf\n",
    "    loss_min = np.inf\n",
    "\n",
    "    scheduler_cosine = torch.optim.lr_scheduler.CosineAnnealingWarmRestarts(optimizer, n_epochs, eta_min=eta_min)\n",
    "\n",
    "    model = torch.quantization.convert(model.eval(), inplace=False)\n",
    "    \n",
    "    optimizer = torch.optim.SGD(model.parameters(), lr = 23e-5)\n",
    "    model.qconfig = torch.ao.quantization.get_default_qat_qconfig('fbgemm')\n",
    "    \n",
    "    print(len(dataset_train), len(dataset_valid))\n",
    "\n",
    "    for epoch in range(1, n_epochs+1):\n",
    "        scheduler_cosine.step(epoch-1)\n",
    "        if epoch < from_epoch + 1:\n",
    "            print(logs[epoch-1])\n",
    "            continue\n",
    "\n",
    "        print(time.ctime(), 'Epoch:', epoch)\n",
    "\n",
    "        train_loss = train_func(model, loader_train, optimizer, scaler)\n",
    "        valid_loss = valid_func(model, loader_valid)\n",
    "        metric = valid_loss\n",
    "\n",
    "        content = time.ctime() + ' ' + f'Fold {fold}, Epoch {epoch}, lr: {optimizer.param_groups[0][\"lr\"]:.7f}, train loss: {train_loss:.5f}, valid loss: {valid_loss:.5f}, metric: {(metric):.6f}.'\n",
    "        print(content)\n",
    "        with open(log_file, 'a') as appender:\n",
    "            appender.write(content + '\\n')\n",
    "\n",
    "        if metric < metric_best:\n",
    "            print(f'metric_best ({metric_best:.6f} --> {metric:.6f}). Saving model ...')\n",
    "#             if not DEBUG:\n",
    "            torch.save(model.state_dict(), model_file)\n",
    "            metric_best = metric\n",
    "\n",
    "        # Save Last\n",
    "        if not DEBUG:\n",
    "            torch.save(\n",
    "                {\n",
    "                    'epoch': epoch,\n",
    "                    'model_state_dict': model.state_dict(),\n",
    "                    'optimizer_state_dict': optimizer.state_dict(),\n",
    "                    'scaler_state_dict': scaler.state_dict() if scaler else None,\n",
    "                    'score_best': metric_best,\n",
    "                },\n",
    "                model_file.replace('_best', '_last')\n",
    "            )\n",
    "\n",
    "    del model\n",
    "    torch.cuda.empty_cache()\n",
    "    gc.collect()\n"
   ]
  },
  {
   "cell_type": "code",
   "execution_count": 16,
   "id": "9c417aca",
   "metadata": {},
   "outputs": [
    {
     "name": "stdout",
     "output_type": "stream",
     "text": [
      "1614 404\n",
      "Fri Jan 13 09:47:44 2023 Epoch: 1\n"
     ]
    },
    {
     "name": "stderr",
     "output_type": "stream",
     "text": [
      "smth:0.5756 0.6799: 100%|██████████| 201/201 [04:23<00:00,  1.31s/it]\n",
      "  0%|          | 0/51 [00:00<?, ?it/s]/home/apaddo/.local/lib/python3.9/site-packages/torch/nn/modules/rnn.py:774: UserWarning: RNN module weights are not part of single contiguous chunk of memory. This means they need to be compacted at every call, possibly greatly increasing memory usage. To compact weights again call flatten_parameters(). (Triggered internally at ../aten/src/ATen/native/cudnn/RNN.cpp:968.)\n",
      "  result = _VF.lstm(input, hx, self._flat_weights, self.bias, self.num_layers,\n",
      "smth:0.5025 0.6891: 100%|██████████| 51/51 [00:36<00:00,  1.41it/s]\n"
     ]
    },
    {
     "name": "stdout",
     "output_type": "stream",
     "text": [
      "Fri Jan 13 09:52:43 2023 Fold 0, Epoch 1, lr: 0.0002300, train loss: 0.60214, valid loss: 0.58992, metric: 0.589918.\n",
      "metric_best (inf --> 0.589918). Saving model ...\n",
      "Fri Jan 13 09:52:43 2023 Epoch: 2\n"
     ]
    },
    {
     "name": "stderr",
     "output_type": "stream",
     "text": [
      "smth:0.5285 0.6927: 100%|██████████| 201/201 [04:11<00:00,  1.25s/it]\n",
      "smth:0.4919 0.6853: 100%|██████████| 51/51 [00:38<00:00,  1.32it/s]\n"
     ]
    },
    {
     "name": "stdout",
     "output_type": "stream",
     "text": [
      "Fri Jan 13 09:57:33 2023 Fold 0, Epoch 2, lr: 0.0002300, train loss: 0.55216, valid loss: 0.58129, metric: 0.581293.\n",
      "metric_best (0.589918 --> 0.581293). Saving model ...\n",
      "Fri Jan 13 09:57:34 2023 Epoch: 3\n"
     ]
    },
    {
     "name": "stderr",
     "output_type": "stream",
     "text": [
      "smth:0.5179 0.6861: 100%|██████████| 201/201 [04:10<00:00,  1.24s/it]\n",
      "smth:0.4796 0.6956: 100%|██████████| 51/51 [00:35<00:00,  1.45it/s]\n"
     ]
    },
    {
     "name": "stdout",
     "output_type": "stream",
     "text": [
      "Fri Jan 13 10:02:19 2023 Fold 0, Epoch 3, lr: 0.0002300, train loss: 0.52589, valid loss: 0.57658, metric: 0.576578.\n",
      "metric_best (0.581293 --> 0.576578). Saving model ...\n",
      "Fri Jan 13 10:02:19 2023 Epoch: 4\n"
     ]
    },
    {
     "name": "stderr",
     "output_type": "stream",
     "text": [
      "smth:0.4894 0.6572: 100%|██████████| 201/201 [04:11<00:00,  1.25s/it]\n",
      "smth:0.4729 0.6763: 100%|██████████| 51/51 [00:37<00:00,  1.37it/s]\n"
     ]
    },
    {
     "name": "stdout",
     "output_type": "stream",
     "text": [
      "Fri Jan 13 10:07:08 2023 Fold 0, Epoch 4, lr: 0.0002300, train loss: 0.50973, valid loss: 0.56724, metric: 0.567244.\n",
      "metric_best (0.576578 --> 0.567244). Saving model ...\n",
      "Fri Jan 13 10:07:09 2023 Epoch: 5\n"
     ]
    },
    {
     "name": "stderr",
     "output_type": "stream",
     "text": [
      "smth:0.5016 0.6822: 100%|██████████| 201/201 [04:11<00:00,  1.25s/it]\n",
      "smth:0.4887 0.6851: 100%|██████████| 51/51 [00:35<00:00,  1.44it/s]\n"
     ]
    },
    {
     "name": "stdout",
     "output_type": "stream",
     "text": [
      "Fri Jan 13 10:11:56 2023 Fold 0, Epoch 5, lr: 0.0002300, train loss: 0.49980, valid loss: 0.57766, metric: 0.577658.\n",
      "Fri Jan 13 10:11:56 2023 Epoch: 6\n"
     ]
    },
    {
     "name": "stderr",
     "output_type": "stream",
     "text": [
      "smth:0.4876 0.6859: 100%|██████████| 201/201 [04:14<00:00,  1.27s/it]\n",
      "smth:0.4760 0.6826: 100%|██████████| 51/51 [00:34<00:00,  1.48it/s]\n"
     ]
    },
    {
     "name": "stdout",
     "output_type": "stream",
     "text": [
      "Fri Jan 13 10:16:45 2023 Fold 0, Epoch 6, lr: 0.0002300, train loss: 0.49578, valid loss: 0.56945, metric: 0.569450.\n",
      "Fri Jan 13 10:16:45 2023 Epoch: 7\n"
     ]
    },
    {
     "name": "stderr",
     "output_type": "stream",
     "text": [
      "smth:0.5009 0.6743: 100%|██████████| 201/201 [04:07<00:00,  1.23s/it]\n",
      "smth:0.4779 0.6907: 100%|██████████| 51/51 [00:36<00:00,  1.39it/s]\n"
     ]
    },
    {
     "name": "stdout",
     "output_type": "stream",
     "text": [
      "Fri Jan 13 10:21:30 2023 Fold 0, Epoch 7, lr: 0.0002300, train loss: 0.49065, valid loss: 0.57207, metric: 0.572066.\n",
      "Fri Jan 13 10:21:30 2023 Epoch: 8\n"
     ]
    },
    {
     "name": "stderr",
     "output_type": "stream",
     "text": [
      "smth:0.5077 0.6528: 100%|██████████| 201/201 [04:12<00:00,  1.26s/it]\n",
      "smth:0.4787 0.6885: 100%|██████████| 51/51 [00:35<00:00,  1.43it/s]\n"
     ]
    },
    {
     "name": "stdout",
     "output_type": "stream",
     "text": [
      "Fri Jan 13 10:26:18 2023 Fold 0, Epoch 8, lr: 0.0002300, train loss: 0.48727, valid loss: 0.57281, metric: 0.572814.\n",
      "Fri Jan 13 10:26:18 2023 Epoch: 9\n"
     ]
    },
    {
     "name": "stderr",
     "output_type": "stream",
     "text": [
      "smth:0.4939 0.6691: 100%|██████████| 201/201 [04:08<00:00,  1.23s/it]\n",
      "smth:0.4814 0.6763: 100%|██████████| 51/51 [00:35<00:00,  1.45it/s]\n"
     ]
    },
    {
     "name": "stdout",
     "output_type": "stream",
     "text": [
      "Fri Jan 13 10:31:02 2023 Fold 0, Epoch 9, lr: 0.0002300, train loss: 0.48470, valid loss: 0.56930, metric: 0.569303.\n",
      "Fri Jan 13 10:31:02 2023 Epoch: 10\n"
     ]
    },
    {
     "name": "stderr",
     "output_type": "stream",
     "text": [
      "smth:0.4735 0.6846: 100%|██████████| 201/201 [04:15<00:00,  1.27s/it]\n",
      "smth:0.4777 0.6773: 100%|██████████| 51/51 [00:37<00:00,  1.35it/s]\n"
     ]
    },
    {
     "name": "stdout",
     "output_type": "stream",
     "text": [
      "Fri Jan 13 10:35:55 2023 Fold 0, Epoch 10, lr: 0.0002300, train loss: 0.48688, valid loss: 0.56488, metric: 0.564883.\n",
      "metric_best (0.567244 --> 0.564883). Saving model ...\n",
      "Fri Jan 13 10:35:55 2023 Epoch: 11\n"
     ]
    },
    {
     "name": "stderr",
     "output_type": "stream",
     "text": [
      "smth:0.4442 0.6850: 100%|██████████| 201/201 [04:13<00:00,  1.26s/it]\n",
      "smth:0.4765 0.6712: 100%|██████████| 51/51 [00:36<00:00,  1.40it/s]\n"
     ]
    },
    {
     "name": "stdout",
     "output_type": "stream",
     "text": [
      "Fri Jan 13 10:40:45 2023 Fold 0, Epoch 11, lr: 0.0002300, train loss: 0.48220, valid loss: 0.56420, metric: 0.564198.\n",
      "metric_best (0.564883 --> 0.564198). Saving model ...\n",
      "Fri Jan 13 10:40:45 2023 Epoch: 12\n"
     ]
    },
    {
     "name": "stderr",
     "output_type": "stream",
     "text": [
      "smth:0.4962 0.6690: 100%|██████████| 201/201 [04:17<00:00,  1.28s/it]\n",
      "smth:0.4781 0.6681: 100%|██████████| 51/51 [00:37<00:00,  1.35it/s]\n"
     ]
    },
    {
     "name": "stdout",
     "output_type": "stream",
     "text": [
      "Fri Jan 13 10:45:41 2023 Fold 0, Epoch 12, lr: 0.0002300, train loss: 0.48338, valid loss: 0.56310, metric: 0.563100.\n",
      "metric_best (0.564198 --> 0.563100). Saving model ...\n",
      "Fri Jan 13 10:45:41 2023 Epoch: 13\n"
     ]
    },
    {
     "name": "stderr",
     "output_type": "stream",
     "text": [
      "smth:0.4783 0.6771: 100%|██████████| 201/201 [04:14<00:00,  1.26s/it]\n",
      "smth:0.4875 0.6878: 100%|██████████| 51/51 [00:37<00:00,  1.37it/s]\n"
     ]
    },
    {
     "name": "stdout",
     "output_type": "stream",
     "text": [
      "Fri Jan 13 10:50:32 2023 Fold 0, Epoch 13, lr: 0.0002300, train loss: 0.48144, valid loss: 0.57337, metric: 0.573372.\n",
      "Fri Jan 13 10:50:33 2023 Epoch: 14\n"
     ]
    },
    {
     "name": "stderr",
     "output_type": "stream",
     "text": [
      "smth:0.4560 0.6860: 100%|██████████| 201/201 [04:18<00:00,  1.29s/it]\n",
      "smth:0.4768 0.6756: 100%|██████████| 51/51 [00:36<00:00,  1.41it/s]\n"
     ]
    },
    {
     "name": "stdout",
     "output_type": "stream",
     "text": [
      "Fri Jan 13 10:55:27 2023 Fold 0, Epoch 14, lr: 0.0002300, train loss: 0.48273, valid loss: 0.56675, metric: 0.566749.\n",
      "Fri Jan 13 10:55:27 2023 Epoch: 15\n"
     ]
    },
    {
     "name": "stderr",
     "output_type": "stream",
     "text": [
      "smth:0.4702 0.6840: 100%|██████████| 201/201 [04:19<00:00,  1.29s/it]\n",
      "smth:0.4866 0.6923: 100%|██████████| 51/51 [00:39<00:00,  1.29it/s]\n"
     ]
    },
    {
     "name": "stdout",
     "output_type": "stream",
     "text": [
      "Fri Jan 13 11:00:27 2023 Fold 0, Epoch 15, lr: 0.0002300, train loss: 0.48124, valid loss: 0.57538, metric: 0.575383.\n",
      "Fri Jan 13 11:00:27 2023 Epoch: 16\n"
     ]
    },
    {
     "name": "stderr",
     "output_type": "stream",
     "text": [
      "smth:0.4654 0.6671: 100%|██████████| 201/201 [04:17<00:00,  1.28s/it]\n",
      "smth:0.4812 0.6801: 100%|██████████| 51/51 [00:41<00:00,  1.24it/s]\n"
     ]
    },
    {
     "name": "stdout",
     "output_type": "stream",
     "text": [
      "Fri Jan 13 11:05:26 2023 Fold 0, Epoch 16, lr: 0.0002300, train loss: 0.48070, valid loss: 0.56709, metric: 0.567088.\n",
      "Fri Jan 13 11:05:26 2023 Epoch: 17\n"
     ]
    },
    {
     "name": "stderr",
     "output_type": "stream",
     "text": [
      "smth:0.4852 0.6850: 100%|██████████| 201/201 [04:18<00:00,  1.29s/it]\n",
      "smth:0.4807 0.6665: 100%|██████████| 51/51 [00:36<00:00,  1.41it/s]\n"
     ]
    },
    {
     "name": "stdout",
     "output_type": "stream",
     "text": [
      "Fri Jan 13 11:10:21 2023 Fold 0, Epoch 17, lr: 0.0002300, train loss: 0.48012, valid loss: 0.55989, metric: 0.559886.\n",
      "metric_best (0.563100 --> 0.559886). Saving model ...\n",
      "Fri Jan 13 11:10:21 2023 Epoch: 18\n"
     ]
    },
    {
     "name": "stderr",
     "output_type": "stream",
     "text": [
      "smth:0.4959 0.6534: 100%|██████████| 201/201 [04:14<00:00,  1.26s/it]\n",
      "smth:0.5005 0.6873: 100%|██████████| 51/51 [00:37<00:00,  1.37it/s]\n"
     ]
    },
    {
     "name": "stdout",
     "output_type": "stream",
     "text": [
      "Fri Jan 13 11:15:13 2023 Fold 0, Epoch 18, lr: 0.0002300, train loss: 0.47949, valid loss: 0.58370, metric: 0.583705.\n",
      "Fri Jan 13 11:15:13 2023 Epoch: 19\n"
     ]
    },
    {
     "name": "stderr",
     "output_type": "stream",
     "text": [
      "smth:0.4510 0.6945: 100%|██████████| 201/201 [04:15<00:00,  1.27s/it]\n",
      "smth:0.4672 0.6545: 100%|██████████| 51/51 [00:38<00:00,  1.32it/s]\n"
     ]
    },
    {
     "name": "stdout",
     "output_type": "stream",
     "text": [
      "Fri Jan 13 11:20:08 2023 Fold 0, Epoch 19, lr: 0.0002300, train loss: 0.47970, valid loss: 0.54972, metric: 0.549722.\n",
      "metric_best (0.559886 --> 0.549722). Saving model ...\n",
      "Fri Jan 13 11:20:08 2023 Epoch: 20\n"
     ]
    },
    {
     "name": "stderr",
     "output_type": "stream",
     "text": [
      "smth:0.4822 0.6841: 100%|██████████| 201/201 [04:17<00:00,  1.28s/it]\n",
      "smth:0.4779 0.6799: 100%|██████████| 51/51 [00:34<00:00,  1.47it/s]\n"
     ]
    },
    {
     "name": "stdout",
     "output_type": "stream",
     "text": [
      "Fri Jan 13 11:25:00 2023 Fold 0, Epoch 20, lr: 0.0002300, train loss: 0.48115, valid loss: 0.56355, metric: 0.563547.\n",
      "Fri Jan 13 11:25:00 2023 Epoch: 21\n"
     ]
    },
    {
     "name": "stderr",
     "output_type": "stream",
     "text": [
      "smth:0.4774 0.6686: 100%|██████████| 201/201 [04:23<00:00,  1.31s/it]\n",
      "smth:0.4868 0.6667: 100%|██████████| 51/51 [00:37<00:00,  1.37it/s]\n"
     ]
    },
    {
     "name": "stdout",
     "output_type": "stream",
     "text": [
      "Fri Jan 13 11:30:01 2023 Fold 0, Epoch 21, lr: 0.0002300, train loss: 0.47936, valid loss: 0.56475, metric: 0.564748.\n",
      "Fri Jan 13 11:30:01 2023 Epoch: 22\n"
     ]
    },
    {
     "name": "stderr",
     "output_type": "stream",
     "text": [
      "smth:0.4564 0.6579: 100%|██████████| 201/201 [04:15<00:00,  1.27s/it]\n",
      "smth:0.4790 0.6627: 100%|██████████| 51/51 [00:37<00:00,  1.37it/s]\n"
     ]
    },
    {
     "name": "stdout",
     "output_type": "stream",
     "text": [
      "Fri Jan 13 11:34:54 2023 Fold 0, Epoch 22, lr: 0.0002300, train loss: 0.47782, valid loss: 0.55960, metric: 0.559596.\n",
      "Fri Jan 13 11:34:54 2023 Epoch: 23\n"
     ]
    },
    {
     "name": "stderr",
     "output_type": "stream",
     "text": [
      "smth:0.4691 0.6787: 100%|██████████| 201/201 [04:23<00:00,  1.31s/it]\n",
      "smth:0.4764 0.6715: 100%|██████████| 51/51 [00:35<00:00,  1.43it/s]\n"
     ]
    },
    {
     "name": "stdout",
     "output_type": "stream",
     "text": [
      "Fri Jan 13 11:39:54 2023 Fold 0, Epoch 23, lr: 0.0002300, train loss: 0.48029, valid loss: 0.56176, metric: 0.561762.\n",
      "Fri Jan 13 11:39:54 2023 Epoch: 24\n"
     ]
    },
    {
     "name": "stderr",
     "output_type": "stream",
     "text": [
      "smth:0.4896 0.6392: 100%|██████████| 201/201 [04:23<00:00,  1.31s/it]\n",
      "smth:0.4743 0.6607: 100%|██████████| 51/51 [00:35<00:00,  1.44it/s]\n"
     ]
    },
    {
     "name": "stdout",
     "output_type": "stream",
     "text": [
      "Fri Jan 13 11:44:54 2023 Fold 0, Epoch 24, lr: 0.0002300, train loss: 0.47768, valid loss: 0.55383, metric: 0.553829.\n",
      "Fri Jan 13 11:44:54 2023 Epoch: 25\n"
     ]
    },
    {
     "name": "stderr",
     "output_type": "stream",
     "text": [
      "smth:0.4590 0.6546: 100%|██████████| 201/201 [04:24<00:00,  1.31s/it]\n",
      "smth:0.4714 0.6644: 100%|██████████| 51/51 [00:36<00:00,  1.40it/s]\n"
     ]
    },
    {
     "name": "stdout",
     "output_type": "stream",
     "text": [
      "Fri Jan 13 11:49:55 2023 Fold 0, Epoch 25, lr: 0.0002300, train loss: 0.47693, valid loss: 0.55322, metric: 0.553222.\n",
      "Fri Jan 13 11:49:55 2023 Epoch: 26\n"
     ]
    },
    {
     "name": "stderr",
     "output_type": "stream",
     "text": [
      "smth:0.4494 0.6708: 100%|██████████| 201/201 [04:25<00:00,  1.32s/it]\n",
      "smth:0.4756 0.6591: 100%|██████████| 51/51 [00:35<00:00,  1.44it/s]\n"
     ]
    },
    {
     "name": "stdout",
     "output_type": "stream",
     "text": [
      "Fri Jan 13 11:54:56 2023 Fold 0, Epoch 26, lr: 0.0002300, train loss: 0.47438, valid loss: 0.55470, metric: 0.554704.\n",
      "Fri Jan 13 11:54:56 2023 Epoch: 27\n"
     ]
    },
    {
     "name": "stderr",
     "output_type": "stream",
     "text": [
      "smth:0.4362 0.6763: 100%|██████████| 201/201 [04:21<00:00,  1.30s/it]\n",
      "smth:0.4802 0.6647: 100%|██████████| 51/51 [00:35<00:00,  1.42it/s]\n"
     ]
    },
    {
     "name": "stdout",
     "output_type": "stream",
     "text": [
      "Fri Jan 13 11:59:53 2023 Fold 0, Epoch 27, lr: 0.0002300, train loss: 0.47819, valid loss: 0.55631, metric: 0.556313.\n",
      "Fri Jan 13 11:59:54 2023 Epoch: 28\n"
     ]
    },
    {
     "name": "stderr",
     "output_type": "stream",
     "text": [
      "smth:0.4707 0.6683: 100%|██████████| 201/201 [04:22<00:00,  1.30s/it]\n",
      "smth:0.4764 0.6660: 100%|██████████| 51/51 [00:35<00:00,  1.45it/s]\n"
     ]
    },
    {
     "name": "stdout",
     "output_type": "stream",
     "text": [
      "Fri Jan 13 12:04:51 2023 Fold 0, Epoch 28, lr: 0.0002300, train loss: 0.47702, valid loss: 0.55667, metric: 0.556669.\n",
      "Fri Jan 13 12:04:51 2023 Epoch: 29\n"
     ]
    },
    {
     "name": "stderr",
     "output_type": "stream",
     "text": [
      "smth:0.4853 0.6969: 100%|██████████| 201/201 [04:26<00:00,  1.33s/it]\n",
      "smth:0.4947 0.6588: 100%|██████████| 51/51 [00:35<00:00,  1.42it/s]\n"
     ]
    },
    {
     "name": "stdout",
     "output_type": "stream",
     "text": [
      "Fri Jan 13 12:09:54 2023 Fold 0, Epoch 29, lr: 0.0002300, train loss: 0.47682, valid loss: 0.56356, metric: 0.563563.\n",
      "Fri Jan 13 12:09:54 2023 Epoch: 30\n"
     ]
    },
    {
     "name": "stderr",
     "output_type": "stream",
     "text": [
      "smth:0.4488 0.6700: 100%|██████████| 201/201 [04:26<00:00,  1.32s/it]\n",
      "smth:0.4741 0.6680: 100%|██████████| 51/51 [00:35<00:00,  1.45it/s]\n"
     ]
    },
    {
     "name": "stdout",
     "output_type": "stream",
     "text": [
      "Fri Jan 13 12:14:56 2023 Fold 0, Epoch 30, lr: 0.0002300, train loss: 0.47542, valid loss: 0.55825, metric: 0.558247.\n",
      "Fri Jan 13 12:14:56 2023 Epoch: 31\n"
     ]
    },
    {
     "name": "stderr",
     "output_type": "stream",
     "text": [
      "smth:0.4611 0.6676: 100%|██████████| 201/201 [04:19<00:00,  1.29s/it]\n",
      "smth:0.4761 0.6609: 100%|██████████| 51/51 [00:35<00:00,  1.43it/s]\n"
     ]
    },
    {
     "name": "stdout",
     "output_type": "stream",
     "text": [
      "Fri Jan 13 12:19:51 2023 Fold 0, Epoch 31, lr: 0.0002300, train loss: 0.47536, valid loss: 0.55345, metric: 0.553452.\n",
      "Fri Jan 13 12:19:51 2023 Epoch: 32\n"
     ]
    },
    {
     "name": "stderr",
     "output_type": "stream",
     "text": [
      "smth:0.4466 0.6725: 100%|██████████| 201/201 [04:25<00:00,  1.32s/it]\n",
      "smth:0.4709 0.6765: 100%|██████████| 51/51 [00:35<00:00,  1.44it/s]\n"
     ]
    },
    {
     "name": "stdout",
     "output_type": "stream",
     "text": [
      "Fri Jan 13 12:24:52 2023 Fold 0, Epoch 32, lr: 0.0002300, train loss: 0.47560, valid loss: 0.56218, metric: 0.562182.\n",
      "Fri Jan 13 12:24:53 2023 Epoch: 33\n"
     ]
    },
    {
     "name": "stderr",
     "output_type": "stream",
     "text": [
      "smth:0.4746 0.6866: 100%|██████████| 201/201 [04:25<00:00,  1.32s/it]\n",
      "smth:0.4683 0.6625: 100%|██████████| 51/51 [00:34<00:00,  1.47it/s]\n"
     ]
    },
    {
     "name": "stdout",
     "output_type": "stream",
     "text": [
      "Fri Jan 13 12:29:53 2023 Fold 0, Epoch 33, lr: 0.0002300, train loss: 0.47845, valid loss: 0.55212, metric: 0.552119.\n",
      "Fri Jan 13 12:29:53 2023 Epoch: 34\n"
     ]
    },
    {
     "name": "stderr",
     "output_type": "stream",
     "text": [
      "smth:0.4439 0.6841: 100%|██████████| 201/201 [04:15<00:00,  1.27s/it]\n",
      "smth:0.4752 0.6712: 100%|██████████| 51/51 [00:37<00:00,  1.37it/s]\n"
     ]
    },
    {
     "name": "stdout",
     "output_type": "stream",
     "text": [
      "Fri Jan 13 12:34:46 2023 Fold 0, Epoch 34, lr: 0.0002300, train loss: 0.47622, valid loss: 0.55745, metric: 0.557452.\n",
      "Fri Jan 13 12:34:46 2023 Epoch: 35\n"
     ]
    },
    {
     "name": "stderr",
     "output_type": "stream",
     "text": [
      "smth:0.4548 0.6831: 100%|██████████| 201/201 [04:17<00:00,  1.28s/it]\n",
      "smth:0.4679 0.6495: 100%|██████████| 51/51 [00:36<00:00,  1.38it/s]\n"
     ]
    },
    {
     "name": "stdout",
     "output_type": "stream",
     "text": [
      "Fri Jan 13 12:39:41 2023 Fold 0, Epoch 35, lr: 0.0002300, train loss: 0.47493, valid loss: 0.54518, metric: 0.545176.\n",
      "metric_best (0.549722 --> 0.545176). Saving model ...\n",
      "Fri Jan 13 12:39:41 2023 Epoch: 36\n"
     ]
    },
    {
     "name": "stderr",
     "output_type": "stream",
     "text": [
      "smth:0.4497 0.6922: 100%|██████████| 201/201 [04:17<00:00,  1.28s/it]\n",
      "smth:0.4754 0.6620: 100%|██████████| 51/51 [00:35<00:00,  1.42it/s]\n"
     ]
    },
    {
     "name": "stdout",
     "output_type": "stream",
     "text": [
      "Fri Jan 13 12:44:35 2023 Fold 0, Epoch 36, lr: 0.0002300, train loss: 0.47704, valid loss: 0.55419, metric: 0.554186.\n",
      "Fri Jan 13 12:44:35 2023 Epoch: 37\n"
     ]
    },
    {
     "name": "stderr",
     "output_type": "stream",
     "text": [
      "smth:0.4671 0.7045: 100%|██████████| 201/201 [04:15<00:00,  1.27s/it]\n",
      "smth:0.4717 0.6706: 100%|██████████| 51/51 [00:39<00:00,  1.29it/s]\n"
     ]
    },
    {
     "name": "stdout",
     "output_type": "stream",
     "text": [
      "Fri Jan 13 12:49:30 2023 Fold 0, Epoch 37, lr: 0.0002300, train loss: 0.47412, valid loss: 0.55662, metric: 0.556622.\n",
      "Fri Jan 13 12:49:30 2023 Epoch: 38\n"
     ]
    },
    {
     "name": "stderr",
     "output_type": "stream",
     "text": [
      "smth:0.4776 0.6597: 100%|██████████| 201/201 [04:13<00:00,  1.26s/it]\n",
      "smth:0.4779 0.6533: 100%|██████████| 51/51 [00:40<00:00,  1.27it/s]\n"
     ]
    },
    {
     "name": "stdout",
     "output_type": "stream",
     "text": [
      "Fri Jan 13 12:54:24 2023 Fold 0, Epoch 38, lr: 0.0002300, train loss: 0.47370, valid loss: 0.55260, metric: 0.552600.\n",
      "Fri Jan 13 12:54:24 2023 Epoch: 39\n"
     ]
    },
    {
     "name": "stderr",
     "output_type": "stream",
     "text": [
      "smth:0.4767 0.6812: 100%|██████████| 201/201 [04:17<00:00,  1.28s/it]\n",
      "smth:0.4778 0.6687: 100%|██████████| 51/51 [00:40<00:00,  1.27it/s]\n"
     ]
    },
    {
     "name": "stdout",
     "output_type": "stream",
     "text": [
      "Fri Jan 13 12:59:22 2023 Fold 0, Epoch 39, lr: 0.0002300, train loss: 0.47723, valid loss: 0.55794, metric: 0.557938.\n",
      "Fri Jan 13 12:59:22 2023 Epoch: 40\n"
     ]
    },
    {
     "name": "stderr",
     "output_type": "stream",
     "text": [
      "smth:0.4644 0.6862: 100%|██████████| 201/201 [04:16<00:00,  1.28s/it]\n",
      "smth:0.4713 0.6737: 100%|██████████| 51/51 [00:38<00:00,  1.33it/s]\n"
     ]
    },
    {
     "name": "stdout",
     "output_type": "stream",
     "text": [
      "Fri Jan 13 13:04:18 2023 Fold 0, Epoch 40, lr: 0.0002300, train loss: 0.47135, valid loss: 0.55552, metric: 0.555515.\n",
      "Fri Jan 13 13:04:18 2023 Epoch: 41\n"
     ]
    },
    {
     "name": "stderr",
     "output_type": "stream",
     "text": [
      "smth:0.4786 0.6658: 100%|██████████| 201/201 [04:16<00:00,  1.28s/it]\n",
      "smth:0.4705 0.6580: 100%|██████████| 51/51 [00:36<00:00,  1.39it/s]\n"
     ]
    },
    {
     "name": "stdout",
     "output_type": "stream",
     "text": [
      "Fri Jan 13 13:09:11 2023 Fold 0, Epoch 41, lr: 0.0002300, train loss: 0.47621, valid loss: 0.54782, metric: 0.547821.\n",
      "Fri Jan 13 13:09:11 2023 Epoch: 42\n"
     ]
    },
    {
     "name": "stderr",
     "output_type": "stream",
     "text": [
      "smth:0.4860 0.6693: 100%|██████████| 201/201 [04:14<00:00,  1.26s/it]\n",
      "smth:0.4675 0.6644: 100%|██████████| 51/51 [00:36<00:00,  1.42it/s]\n"
     ]
    },
    {
     "name": "stdout",
     "output_type": "stream",
     "text": [
      "Fri Jan 13 13:14:02 2023 Fold 0, Epoch 42, lr: 0.0002300, train loss: 0.47266, valid loss: 0.54854, metric: 0.548539.\n",
      "Fri Jan 13 13:14:02 2023 Epoch: 43\n"
     ]
    },
    {
     "name": "stderr",
     "output_type": "stream",
     "text": [
      "smth:0.4309 0.6587: 100%|██████████| 201/201 [04:14<00:00,  1.26s/it]\n",
      "smth:0.4768 0.6605: 100%|██████████| 51/51 [00:37<00:00,  1.38it/s]\n"
     ]
    },
    {
     "name": "stdout",
     "output_type": "stream",
     "text": [
      "Fri Jan 13 13:18:53 2023 Fold 0, Epoch 43, lr: 0.0002300, train loss: 0.47303, valid loss: 0.55389, metric: 0.553889.\n",
      "Fri Jan 13 13:18:54 2023 Epoch: 44\n"
     ]
    },
    {
     "name": "stderr",
     "output_type": "stream",
     "text": [
      "smth:0.4536 0.6715: 100%|██████████| 201/201 [04:14<00:00,  1.27s/it]\n",
      "smth:0.4865 0.6846: 100%|██████████| 51/51 [00:35<00:00,  1.45it/s]\n"
     ]
    },
    {
     "name": "stdout",
     "output_type": "stream",
     "text": [
      "Fri Jan 13 13:23:43 2023 Fold 0, Epoch 44, lr: 0.0002300, train loss: 0.47033, valid loss: 0.56734, metric: 0.567336.\n",
      "Fri Jan 13 13:23:44 2023 Epoch: 45\n"
     ]
    },
    {
     "name": "stderr",
     "output_type": "stream",
     "text": [
      "smth:0.4649 0.6684: 100%|██████████| 201/201 [04:15<00:00,  1.27s/it]\n",
      "smth:0.4788 0.6780: 100%|██████████| 51/51 [00:36<00:00,  1.40it/s]\n"
     ]
    },
    {
     "name": "stdout",
     "output_type": "stream",
     "text": [
      "Fri Jan 13 13:28:36 2023 Fold 0, Epoch 45, lr: 0.0002300, train loss: 0.47357, valid loss: 0.56079, metric: 0.560790.\n",
      "Fri Jan 13 13:28:36 2023 Epoch: 46\n"
     ]
    },
    {
     "name": "stderr",
     "output_type": "stream",
     "text": [
      "smth:0.4631 0.6359: 100%|██████████| 201/201 [04:12<00:00,  1.26s/it]\n",
      "smth:0.4722 0.6516: 100%|██████████| 51/51 [00:39<00:00,  1.28it/s]\n"
     ]
    },
    {
     "name": "stdout",
     "output_type": "stream",
     "text": [
      "Fri Jan 13 13:33:29 2023 Fold 0, Epoch 46, lr: 0.0002300, train loss: 0.47255, valid loss: 0.54934, metric: 0.549341.\n",
      "Fri Jan 13 13:33:29 2023 Epoch: 47\n"
     ]
    },
    {
     "name": "stderr",
     "output_type": "stream",
     "text": [
      "smth:0.4443 0.7017: 100%|██████████| 201/201 [04:12<00:00,  1.26s/it]\n",
      "smth:0.4681 0.6691: 100%|██████████| 51/51 [00:37<00:00,  1.36it/s]\n"
     ]
    },
    {
     "name": "stdout",
     "output_type": "stream",
     "text": [
      "Fri Jan 13 13:38:20 2023 Fold 0, Epoch 47, lr: 0.0002300, train loss: 0.47030, valid loss: 0.55276, metric: 0.552758.\n",
      "Fri Jan 13 13:38:20 2023 Epoch: 48\n"
     ]
    },
    {
     "name": "stderr",
     "output_type": "stream",
     "text": [
      "smth:0.5075 0.6476: 100%|██████████| 201/201 [04:13<00:00,  1.26s/it]\n",
      "smth:0.4685 0.6670: 100%|██████████| 51/51 [00:36<00:00,  1.40it/s]\n"
     ]
    },
    {
     "name": "stdout",
     "output_type": "stream",
     "text": [
      "Fri Jan 13 13:43:10 2023 Fold 0, Epoch 48, lr: 0.0002300, train loss: 0.47110, valid loss: 0.55317, metric: 0.553167.\n",
      "Fri Jan 13 13:43:10 2023 Epoch: 49\n"
     ]
    },
    {
     "name": "stderr",
     "output_type": "stream",
     "text": [
      "smth:0.4719 0.6626: 100%|██████████| 201/201 [04:13<00:00,  1.26s/it]\n",
      "smth:0.4726 0.6636: 100%|██████████| 51/51 [00:36<00:00,  1.39it/s]\n"
     ]
    },
    {
     "name": "stdout",
     "output_type": "stream",
     "text": [
      "Fri Jan 13 13:48:00 2023 Fold 0, Epoch 49, lr: 0.0002300, train loss: 0.47322, valid loss: 0.55501, metric: 0.555010.\n",
      "Fri Jan 13 13:48:00 2023 Epoch: 50\n"
     ]
    },
    {
     "name": "stderr",
     "output_type": "stream",
     "text": [
      "smth:0.4568 0.6541: 100%|██████████| 201/201 [04:15<00:00,  1.27s/it]\n",
      "smth:0.4657 0.6558: 100%|██████████| 51/51 [00:36<00:00,  1.39it/s]\n"
     ]
    },
    {
     "name": "stdout",
     "output_type": "stream",
     "text": [
      "Fri Jan 13 13:52:53 2023 Fold 0, Epoch 50, lr: 0.0002300, train loss: 0.47159, valid loss: 0.54466, metric: 0.544656.\n",
      "metric_best (0.545176 --> 0.544656). Saving model ...\n"
     ]
    }
   ],
   "source": [
    "run(0)"
   ]
  },
  {
   "cell_type": "code",
   "execution_count": 17,
   "id": "bce0cf11",
   "metadata": {},
   "outputs": [
    {
     "name": "stdout",
     "output_type": "stream",
     "text": [
      "1614 404\n",
      "Fri Jan 13 13:52:54 2023 Epoch: 1\n"
     ]
    },
    {
     "name": "stderr",
     "output_type": "stream",
     "text": [
      "smth:0.6185 0.7108: 100%|██████████| 201/201 [03:59<00:00,  1.19s/it]\n",
      "  0%|          | 0/51 [00:00<?, ?it/s]/home/apaddo/.local/lib/python3.9/site-packages/torch/nn/modules/rnn.py:774: UserWarning: RNN module weights are not part of single contiguous chunk of memory. This means they need to be compacted at every call, possibly greatly increasing memory usage. To compact weights again call flatten_parameters(). (Triggered internally at ../aten/src/ATen/native/cudnn/RNN.cpp:968.)\n",
      "  result = _VF.lstm(input, hx, self._flat_weights, self.bias, self.num_layers,\n",
      "smth:0.5786 0.7223: 100%|██████████| 51/51 [00:36<00:00,  1.41it/s]\n"
     ]
    },
    {
     "name": "stdout",
     "output_type": "stream",
     "text": [
      "Fri Jan 13 13:57:30 2023 Fold 1, Epoch 1, lr: 0.0002300, train loss: 0.66892, valid loss: 0.63991, metric: 0.639910.\n",
      "metric_best (inf --> 0.639910). Saving model ...\n",
      "Fri Jan 13 13:57:30 2023 Epoch: 2\n"
     ]
    },
    {
     "name": "stderr",
     "output_type": "stream",
     "text": [
      "smth:0.5736 0.7010: 100%|██████████| 201/201 [03:57<00:00,  1.18s/it]\n",
      "smth:0.4938 0.7043: 100%|██████████| 51/51 [00:36<00:00,  1.38it/s]\n"
     ]
    },
    {
     "name": "stdout",
     "output_type": "stream",
     "text": [
      "Fri Jan 13 14:02:04 2023 Fold 1, Epoch 2, lr: 0.0002300, train loss: 0.58899, valid loss: 0.58978, metric: 0.589782.\n",
      "metric_best (0.639910 --> 0.589782). Saving model ...\n",
      "Fri Jan 13 14:02:05 2023 Epoch: 3\n"
     ]
    },
    {
     "name": "stderr",
     "output_type": "stream",
     "text": [
      "smth:0.5059 0.6913: 100%|██████████| 201/201 [03:57<00:00,  1.18s/it]\n",
      "smth:0.4967 0.7105: 100%|██████████| 51/51 [00:37<00:00,  1.38it/s]\n"
     ]
    },
    {
     "name": "stdout",
     "output_type": "stream",
     "text": [
      "Fri Jan 13 14:06:39 2023 Fold 1, Epoch 3, lr: 0.0002300, train loss: 0.54550, valid loss: 0.59724, metric: 0.597241.\n",
      "Fri Jan 13 14:06:40 2023 Epoch: 4\n"
     ]
    },
    {
     "name": "stderr",
     "output_type": "stream",
     "text": [
      "smth:0.5162 0.6922: 100%|██████████| 201/201 [03:57<00:00,  1.18s/it]\n",
      "smth:0.4663 0.7405: 100%|██████████| 51/51 [00:36<00:00,  1.41it/s]\n"
     ]
    },
    {
     "name": "stdout",
     "output_type": "stream",
     "text": [
      "Fri Jan 13 14:11:14 2023 Fold 1, Epoch 4, lr: 0.0002300, train loss: 0.52269, valid loss: 0.59239, metric: 0.592392.\n",
      "Fri Jan 13 14:11:14 2023 Epoch: 5\n"
     ]
    },
    {
     "name": "stderr",
     "output_type": "stream",
     "text": [
      "smth:0.4792 0.7223: 100%|██████████| 201/201 [03:56<00:00,  1.18s/it]\n",
      "smth:0.4632 0.7370: 100%|██████████| 51/51 [00:34<00:00,  1.46it/s]\n"
     ]
    },
    {
     "name": "stdout",
     "output_type": "stream",
     "text": [
      "Fri Jan 13 14:15:45 2023 Fold 1, Epoch 5, lr: 0.0002300, train loss: 0.50885, valid loss: 0.58870, metric: 0.588704.\n",
      "metric_best (0.589782 --> 0.588704). Saving model ...\n",
      "Fri Jan 13 14:15:46 2023 Epoch: 6\n"
     ]
    },
    {
     "name": "stderr",
     "output_type": "stream",
     "text": [
      "smth:0.4888 0.7112: 100%|██████████| 201/201 [03:56<00:00,  1.18s/it]\n",
      "smth:0.5020 0.7472: 100%|██████████| 51/51 [00:35<00:00,  1.42it/s]\n"
     ]
    },
    {
     "name": "stdout",
     "output_type": "stream",
     "text": [
      "Fri Jan 13 14:20:18 2023 Fold 1, Epoch 6, lr: 0.0002300, train loss: 0.50200, valid loss: 0.60599, metric: 0.605993.\n",
      "Fri Jan 13 14:20:18 2023 Epoch: 7\n"
     ]
    },
    {
     "name": "stderr",
     "output_type": "stream",
     "text": [
      "smth:0.4696 0.6868: 100%|██████████| 201/201 [03:59<00:00,  1.19s/it]\n",
      "smth:0.4662 0.6721: 100%|██████████| 51/51 [00:35<00:00,  1.43it/s]\n"
     ]
    },
    {
     "name": "stdout",
     "output_type": "stream",
     "text": [
      "Fri Jan 13 14:24:54 2023 Fold 1, Epoch 7, lr: 0.0002300, train loss: 0.49419, valid loss: 0.56546, metric: 0.565460.\n",
      "metric_best (0.588704 --> 0.565460). Saving model ...\n",
      "Fri Jan 13 14:24:54 2023 Epoch: 8\n"
     ]
    },
    {
     "name": "stderr",
     "output_type": "stream",
     "text": [
      "smth:0.4877 0.6820: 100%|██████████| 201/201 [03:58<00:00,  1.19s/it]\n",
      "smth:0.4741 0.7150: 100%|██████████| 51/51 [00:37<00:00,  1.37it/s]\n"
     ]
    },
    {
     "name": "stdout",
     "output_type": "stream",
     "text": [
      "Fri Jan 13 14:29:30 2023 Fold 1, Epoch 8, lr: 0.0002300, train loss: 0.49229, valid loss: 0.58131, metric: 0.581308.\n",
      "Fri Jan 13 14:29:30 2023 Epoch: 9\n"
     ]
    },
    {
     "name": "stderr",
     "output_type": "stream",
     "text": [
      "smth:0.4993 0.6783: 100%|██████████| 201/201 [03:54<00:00,  1.17s/it]\n",
      "smth:0.5044 0.7328: 100%|██████████| 51/51 [00:34<00:00,  1.46it/s]\n"
     ]
    },
    {
     "name": "stdout",
     "output_type": "stream",
     "text": [
      "Fri Jan 13 14:34:00 2023 Fold 1, Epoch 9, lr: 0.0002300, train loss: 0.49092, valid loss: 0.60394, metric: 0.603936.\n",
      "Fri Jan 13 14:34:00 2023 Epoch: 10\n"
     ]
    },
    {
     "name": "stderr",
     "output_type": "stream",
     "text": [
      "smth:0.4720 0.6639: 100%|██████████| 201/201 [04:16<00:00,  1.28s/it]\n",
      "smth:0.4605 0.7150: 100%|██████████| 51/51 [00:35<00:00,  1.43it/s]\n"
     ]
    },
    {
     "name": "stdout",
     "output_type": "stream",
     "text": [
      "Fri Jan 13 14:38:53 2023 Fold 1, Epoch 10, lr: 0.0002300, train loss: 0.48908, valid loss: 0.57962, metric: 0.579616.\n",
      "Fri Jan 13 14:38:53 2023 Epoch: 11\n"
     ]
    },
    {
     "name": "stderr",
     "output_type": "stream",
     "text": [
      "smth:0.4611 0.7167: 100%|██████████| 201/201 [03:55<00:00,  1.17s/it]\n",
      "smth:0.4664 0.7119: 100%|██████████| 51/51 [00:37<00:00,  1.36it/s]\n"
     ]
    },
    {
     "name": "stdout",
     "output_type": "stream",
     "text": [
      "Fri Jan 13 14:43:26 2023 Fold 1, Epoch 11, lr: 0.0002300, train loss: 0.48722, valid loss: 0.57848, metric: 0.578477.\n",
      "Fri Jan 13 14:43:26 2023 Epoch: 12\n"
     ]
    },
    {
     "name": "stderr",
     "output_type": "stream",
     "text": [
      "smth:0.4856 0.6745: 100%|██████████| 201/201 [04:34<00:00,  1.37s/it]\n",
      "smth:0.4776 0.6989: 100%|██████████| 51/51 [00:35<00:00,  1.42it/s]\n"
     ]
    },
    {
     "name": "stdout",
     "output_type": "stream",
     "text": [
      "Fri Jan 13 14:48:37 2023 Fold 1, Epoch 12, lr: 0.0002300, train loss: 0.48565, valid loss: 0.57745, metric: 0.577451.\n",
      "Fri Jan 13 14:48:37 2023 Epoch: 13\n"
     ]
    },
    {
     "name": "stderr",
     "output_type": "stream",
     "text": [
      "smth:0.4834 0.6917: 100%|██████████| 201/201 [04:26<00:00,  1.33s/it]\n",
      "smth:0.5177 0.7158: 100%|██████████| 51/51 [00:35<00:00,  1.45it/s]\n"
     ]
    },
    {
     "name": "stdout",
     "output_type": "stream",
     "text": [
      "Fri Jan 13 14:53:39 2023 Fold 1, Epoch 13, lr: 0.0002300, train loss: 0.48437, valid loss: 0.60154, metric: 0.601536.\n",
      "Fri Jan 13 14:53:39 2023 Epoch: 14\n"
     ]
    },
    {
     "name": "stderr",
     "output_type": "stream",
     "text": [
      "smth:0.5159 0.6839: 100%|██████████| 201/201 [04:41<00:00,  1.40s/it]\n",
      "smth:0.4728 0.6973: 100%|██████████| 51/51 [00:54<00:00,  1.07s/it]\n"
     ]
    },
    {
     "name": "stdout",
     "output_type": "stream",
     "text": [
      "Fri Jan 13 14:59:16 2023 Fold 1, Epoch 14, lr: 0.0002300, train loss: 0.48230, valid loss: 0.57182, metric: 0.571816.\n",
      "Fri Jan 13 14:59:16 2023 Epoch: 15\n"
     ]
    },
    {
     "name": "stderr",
     "output_type": "stream",
     "text": [
      "smth:0.4657 0.6935: 100%|██████████| 201/201 [06:32<00:00,  1.95s/it]\n",
      "smth:0.4574 0.6491: 100%|██████████| 51/51 [00:36<00:00,  1.41it/s]\n"
     ]
    },
    {
     "name": "stdout",
     "output_type": "stream",
     "text": [
      "Fri Jan 13 15:06:25 2023 Fold 1, Epoch 15, lr: 0.0002300, train loss: 0.47943, valid loss: 0.55290, metric: 0.552900.\n",
      "metric_best (0.565460 --> 0.552900). Saving model ...\n",
      "Fri Jan 13 15:06:25 2023 Epoch: 16\n"
     ]
    },
    {
     "name": "stderr",
     "output_type": "stream",
     "text": [
      "smth:0.4612 0.7024: 100%|██████████| 201/201 [05:06<00:00,  1.52s/it]\n",
      "smth:0.4803 0.6817: 100%|██████████| 51/51 [00:36<00:00,  1.38it/s]\n"
     ]
    },
    {
     "name": "stdout",
     "output_type": "stream",
     "text": [
      "Fri Jan 13 15:12:08 2023 Fold 1, Epoch 16, lr: 0.0002300, train loss: 0.47979, valid loss: 0.57121, metric: 0.571207.\n",
      "Fri Jan 13 15:12:08 2023 Epoch: 17\n"
     ]
    },
    {
     "name": "stderr",
     "output_type": "stream",
     "text": [
      "smth:0.4686 0.6920: 100%|██████████| 201/201 [04:26<00:00,  1.32s/it]\n",
      "smth:0.5323 0.6833: 100%|██████████| 51/51 [00:35<00:00,  1.44it/s]\n"
     ]
    },
    {
     "name": "stdout",
     "output_type": "stream",
     "text": [
      "Fri Jan 13 15:17:10 2023 Fold 1, Epoch 17, lr: 0.0002300, train loss: 0.47841, valid loss: 0.59447, metric: 0.594469.\n",
      "Fri Jan 13 15:17:10 2023 Epoch: 18\n"
     ]
    },
    {
     "name": "stderr",
     "output_type": "stream",
     "text": [
      "smth:0.4871 0.6799: 100%|██████████| 201/201 [05:07<00:00,  1.53s/it]\n",
      "smth:0.4694 0.6640: 100%|██████████| 51/51 [00:40<00:00,  1.27it/s]\n"
     ]
    },
    {
     "name": "stdout",
     "output_type": "stream",
     "text": [
      "Fri Jan 13 15:22:58 2023 Fold 1, Epoch 18, lr: 0.0002300, train loss: 0.47716, valid loss: 0.56275, metric: 0.562750.\n",
      "Fri Jan 13 15:22:58 2023 Epoch: 19\n"
     ]
    },
    {
     "name": "stderr",
     "output_type": "stream",
     "text": [
      "smth:0.4746 0.6603: 100%|██████████| 201/201 [04:23<00:00,  1.31s/it]\n",
      "smth:0.4672 0.6460: 100%|██████████| 51/51 [00:36<00:00,  1.40it/s]\n"
     ]
    },
    {
     "name": "stdout",
     "output_type": "stream",
     "text": [
      "Fri Jan 13 15:27:59 2023 Fold 1, Epoch 19, lr: 0.0002300, train loss: 0.48236, valid loss: 0.55195, metric: 0.551950.\n",
      "metric_best (0.552900 --> 0.551950). Saving model ...\n",
      "Fri Jan 13 15:27:59 2023 Epoch: 20\n"
     ]
    },
    {
     "name": "stderr",
     "output_type": "stream",
     "text": [
      "smth:0.4687 0.7074: 100%|██████████| 201/201 [04:38<00:00,  1.39s/it]\n",
      "smth:0.4891 0.6893: 100%|██████████| 51/51 [00:43<00:00,  1.17it/s]\n"
     ]
    },
    {
     "name": "stdout",
     "output_type": "stream",
     "text": [
      "Fri Jan 13 15:33:21 2023 Fold 1, Epoch 20, lr: 0.0002300, train loss: 0.47967, valid loss: 0.57721, metric: 0.577215.\n",
      "Fri Jan 13 15:33:22 2023 Epoch: 21\n"
     ]
    },
    {
     "name": "stderr",
     "output_type": "stream",
     "text": [
      "smth:0.4653 0.6953: 100%|██████████| 201/201 [04:07<00:00,  1.23s/it]\n",
      "smth:0.5116 0.7282: 100%|██████████| 51/51 [00:37<00:00,  1.35it/s]\n"
     ]
    },
    {
     "name": "stdout",
     "output_type": "stream",
     "text": [
      "Fri Jan 13 15:38:07 2023 Fold 1, Epoch 21, lr: 0.0002300, train loss: 0.47814, valid loss: 0.60319, metric: 0.603190.\n",
      "Fri Jan 13 15:38:07 2023 Epoch: 22\n"
     ]
    },
    {
     "name": "stderr",
     "output_type": "stream",
     "text": [
      "smth:0.4501 0.6558: 100%|██████████| 201/201 [04:25<00:00,  1.32s/it]\n",
      "smth:0.4726 0.6823: 100%|██████████| 51/51 [00:35<00:00,  1.43it/s]\n"
     ]
    },
    {
     "name": "stdout",
     "output_type": "stream",
     "text": [
      "Fri Jan 13 15:43:08 2023 Fold 1, Epoch 22, lr: 0.0002300, train loss: 0.47661, valid loss: 0.56794, metric: 0.567939.\n",
      "Fri Jan 13 15:43:08 2023 Epoch: 23\n"
     ]
    },
    {
     "name": "stderr",
     "output_type": "stream",
     "text": [
      "smth:0.4700 0.6516: 100%|██████████| 201/201 [05:06<00:00,  1.53s/it]\n",
      "smth:0.4841 0.6882: 100%|██████████| 51/51 [00:36<00:00,  1.38it/s]\n"
     ]
    },
    {
     "name": "stdout",
     "output_type": "stream",
     "text": [
      "Fri Jan 13 15:48:52 2023 Fold 1, Epoch 23, lr: 0.0002300, train loss: 0.47515, valid loss: 0.57461, metric: 0.574614.\n",
      "Fri Jan 13 15:48:52 2023 Epoch: 24\n"
     ]
    },
    {
     "name": "stderr",
     "output_type": "stream",
     "text": [
      "smth:0.4558 0.6416: 100%|██████████| 201/201 [04:32<00:00,  1.36s/it]\n",
      "smth:0.4612 0.6385: 100%|██████████| 51/51 [00:35<00:00,  1.45it/s]\n"
     ]
    },
    {
     "name": "stdout",
     "output_type": "stream",
     "text": [
      "Fri Jan 13 15:54:00 2023 Fold 1, Epoch 24, lr: 0.0002300, train loss: 0.47364, valid loss: 0.54708, metric: 0.547084.\n",
      "metric_best (0.551950 --> 0.547084). Saving model ...\n",
      "Fri Jan 13 15:54:00 2023 Epoch: 25\n"
     ]
    },
    {
     "name": "stderr",
     "output_type": "stream",
     "text": [
      "smth:0.4814 0.6613: 100%|██████████| 201/201 [04:08<00:00,  1.23s/it]\n",
      "smth:0.4907 0.6683: 100%|██████████| 51/51 [00:34<00:00,  1.47it/s]\n"
     ]
    },
    {
     "name": "stdout",
     "output_type": "stream",
     "text": [
      "Fri Jan 13 15:58:43 2023 Fold 1, Epoch 25, lr: 0.0002300, train loss: 0.47668, valid loss: 0.57123, metric: 0.571230.\n",
      "Fri Jan 13 15:58:43 2023 Epoch: 26\n"
     ]
    },
    {
     "name": "stderr",
     "output_type": "stream",
     "text": [
      "smth:0.4636 0.6698: 100%|██████████| 201/201 [03:57<00:00,  1.18s/it]\n",
      "smth:0.4838 0.6432: 100%|██████████| 51/51 [00:34<00:00,  1.47it/s]\n"
     ]
    },
    {
     "name": "stdout",
     "output_type": "stream",
     "text": [
      "Fri Jan 13 16:03:16 2023 Fold 1, Epoch 26, lr: 0.0002300, train loss: 0.47669, valid loss: 0.55972, metric: 0.559718.\n",
      "Fri Jan 13 16:03:16 2023 Epoch: 27\n"
     ]
    },
    {
     "name": "stderr",
     "output_type": "stream",
     "text": [
      "smth:0.4566 0.6798: 100%|██████████| 201/201 [04:08<00:00,  1.24s/it]\n",
      "smth:0.4714 0.6564: 100%|██████████| 51/51 [00:40<00:00,  1.25it/s]\n"
     ]
    },
    {
     "name": "stdout",
     "output_type": "stream",
     "text": [
      "Fri Jan 13 16:08:06 2023 Fold 1, Epoch 27, lr: 0.0002300, train loss: 0.47559, valid loss: 0.55810, metric: 0.558100.\n",
      "Fri Jan 13 16:08:06 2023 Epoch: 28\n"
     ]
    },
    {
     "name": "stderr",
     "output_type": "stream",
     "text": [
      "smth:0.4429 0.6884: 100%|██████████| 201/201 [03:55<00:00,  1.17s/it]\n",
      "smth:0.4886 0.6570: 100%|██████████| 51/51 [00:37<00:00,  1.36it/s]\n"
     ]
    },
    {
     "name": "stdout",
     "output_type": "stream",
     "text": [
      "Fri Jan 13 16:12:40 2023 Fold 1, Epoch 28, lr: 0.0002300, train loss: 0.47662, valid loss: 0.56509, metric: 0.565093.\n",
      "Fri Jan 13 16:12:40 2023 Epoch: 29\n"
     ]
    },
    {
     "name": "stderr",
     "output_type": "stream",
     "text": [
      "smth:0.4445 0.6550: 100%|██████████| 201/201 [04:00<00:00,  1.20s/it]\n",
      "smth:0.4873 0.6596: 100%|██████████| 51/51 [00:33<00:00,  1.51it/s]\n"
     ]
    },
    {
     "name": "stdout",
     "output_type": "stream",
     "text": [
      "Fri Jan 13 16:17:14 2023 Fold 1, Epoch 29, lr: 0.0002300, train loss: 0.47352, valid loss: 0.56455, metric: 0.564549.\n",
      "Fri Jan 13 16:17:14 2023 Epoch: 30\n"
     ]
    },
    {
     "name": "stderr",
     "output_type": "stream",
     "text": [
      "smth:0.4623 0.6915: 100%|██████████| 201/201 [04:00<00:00,  1.20s/it]\n",
      "smth:0.4849 0.6427: 100%|██████████| 51/51 [00:34<00:00,  1.48it/s]\n"
     ]
    },
    {
     "name": "stdout",
     "output_type": "stream",
     "text": [
      "Fri Jan 13 16:21:50 2023 Fold 1, Epoch 30, lr: 0.0002300, train loss: 0.47265, valid loss: 0.55734, metric: 0.557335.\n",
      "Fri Jan 13 16:21:50 2023 Epoch: 31\n"
     ]
    },
    {
     "name": "stderr",
     "output_type": "stream",
     "text": [
      "smth:0.4565 0.6721: 100%|██████████| 201/201 [03:59<00:00,  1.19s/it]\n",
      "smth:0.4744 0.6582: 100%|██████████| 51/51 [00:38<00:00,  1.32it/s]\n"
     ]
    },
    {
     "name": "stdout",
     "output_type": "stream",
     "text": [
      "Fri Jan 13 16:26:28 2023 Fold 1, Epoch 31, lr: 0.0002300, train loss: 0.47423, valid loss: 0.55888, metric: 0.558876.\n",
      "Fri Jan 13 16:26:28 2023 Epoch: 32\n"
     ]
    },
    {
     "name": "stderr",
     "output_type": "stream",
     "text": [
      "smth:0.4456 0.7028: 100%|██████████| 201/201 [03:56<00:00,  1.18s/it]\n",
      "smth:0.4700 0.6374: 100%|██████████| 51/51 [00:35<00:00,  1.45it/s]\n"
     ]
    },
    {
     "name": "stdout",
     "output_type": "stream",
     "text": [
      "Fri Jan 13 16:31:00 2023 Fold 1, Epoch 32, lr: 0.0002300, train loss: 0.47155, valid loss: 0.55055, metric: 0.550552.\n",
      "Fri Jan 13 16:31:00 2023 Epoch: 33\n"
     ]
    },
    {
     "name": "stderr",
     "output_type": "stream",
     "text": [
      "smth:0.4634 0.6784: 100%|██████████| 201/201 [04:02<00:00,  1.20s/it]\n",
      "smth:0.5120 0.6481: 100%|██████████| 51/51 [00:36<00:00,  1.41it/s]\n"
     ]
    },
    {
     "name": "stdout",
     "output_type": "stream",
     "text": [
      "Fri Jan 13 16:35:39 2023 Fold 1, Epoch 33, lr: 0.0002300, train loss: 0.47096, valid loss: 0.57184, metric: 0.571836.\n",
      "Fri Jan 13 16:35:39 2023 Epoch: 34\n"
     ]
    },
    {
     "name": "stderr",
     "output_type": "stream",
     "text": [
      "smth:0.4631 0.6736: 100%|██████████| 201/201 [04:47<00:00,  1.43s/it]\n",
      "smth:0.4779 0.6432: 100%|██████████| 51/51 [00:37<00:00,  1.36it/s]\n"
     ]
    },
    {
     "name": "stdout",
     "output_type": "stream",
     "text": [
      "Fri Jan 13 16:41:04 2023 Fold 1, Epoch 34, lr: 0.0002300, train loss: 0.47273, valid loss: 0.55386, metric: 0.553856.\n",
      "Fri Jan 13 16:41:04 2023 Epoch: 35\n"
     ]
    },
    {
     "name": "stderr",
     "output_type": "stream",
     "text": [
      "smth:0.4758 0.6553: 100%|██████████| 201/201 [05:08<00:00,  1.53s/it]\n",
      "smth:0.4809 0.6175: 100%|██████████| 51/51 [00:37<00:00,  1.38it/s]\n"
     ]
    },
    {
     "name": "stdout",
     "output_type": "stream",
     "text": [
      "Fri Jan 13 16:46:49 2023 Fold 1, Epoch 35, lr: 0.0002300, train loss: 0.47083, valid loss: 0.54894, metric: 0.548942.\n",
      "Fri Jan 13 16:46:50 2023 Epoch: 36\n"
     ]
    },
    {
     "name": "stderr",
     "output_type": "stream",
     "text": [
      "smth:0.4708 0.7025: 100%|██████████| 201/201 [04:36<00:00,  1.38s/it]\n",
      "smth:0.4604 0.6439: 100%|██████████| 51/51 [00:34<00:00,  1.49it/s]\n"
     ]
    },
    {
     "name": "stdout",
     "output_type": "stream",
     "text": [
      "Fri Jan 13 16:52:01 2023 Fold 1, Epoch 36, lr: 0.0002300, train loss: 0.46996, valid loss: 0.54902, metric: 0.549020.\n",
      "Fri Jan 13 16:52:01 2023 Epoch: 37\n"
     ]
    },
    {
     "name": "stderr",
     "output_type": "stream",
     "text": [
      "smth:0.5024 0.6495: 100%|██████████| 201/201 [03:58<00:00,  1.19s/it]\n",
      "smth:0.4509 0.6154: 100%|██████████| 51/51 [00:39<00:00,  1.30it/s]\n"
     ]
    },
    {
     "name": "stdout",
     "output_type": "stream",
     "text": [
      "Fri Jan 13 16:56:39 2023 Fold 1, Epoch 37, lr: 0.0002300, train loss: 0.46922, valid loss: 0.53461, metric: 0.534613.\n",
      "metric_best (0.547084 --> 0.534613). Saving model ...\n",
      "Fri Jan 13 16:56:39 2023 Epoch: 38\n"
     ]
    },
    {
     "name": "stderr",
     "output_type": "stream",
     "text": [
      "smth:0.4853 0.6505: 100%|██████████| 201/201 [03:56<00:00,  1.18s/it]\n",
      "smth:0.4907 0.6451: 100%|██████████| 51/51 [00:35<00:00,  1.45it/s]\n"
     ]
    },
    {
     "name": "stdout",
     "output_type": "stream",
     "text": [
      "Fri Jan 13 17:01:11 2023 Fold 1, Epoch 38, lr: 0.0002300, train loss: 0.47011, valid loss: 0.56093, metric: 0.560927.\n",
      "Fri Jan 13 17:01:11 2023 Epoch: 39\n"
     ]
    },
    {
     "name": "stderr",
     "output_type": "stream",
     "text": [
      "smth:0.4619 0.7007: 100%|██████████| 201/201 [03:57<00:00,  1.18s/it]\n",
      "smth:0.4681 0.6276: 100%|██████████| 51/51 [00:37<00:00,  1.36it/s]\n"
     ]
    },
    {
     "name": "stdout",
     "output_type": "stream",
     "text": [
      "Fri Jan 13 17:05:46 2023 Fold 1, Epoch 39, lr: 0.0002300, train loss: 0.47436, valid loss: 0.54565, metric: 0.545653.\n",
      "Fri Jan 13 17:05:46 2023 Epoch: 40\n"
     ]
    },
    {
     "name": "stderr",
     "output_type": "stream",
     "text": [
      "smth:0.4465 0.6453: 100%|██████████| 201/201 [03:58<00:00,  1.19s/it]\n",
      "smth:0.4529 0.6282: 100%|██████████| 51/51 [00:35<00:00,  1.43it/s]\n"
     ]
    },
    {
     "name": "stdout",
     "output_type": "stream",
     "text": [
      "Fri Jan 13 17:10:21 2023 Fold 1, Epoch 40, lr: 0.0002300, train loss: 0.47157, valid loss: 0.53990, metric: 0.539900.\n",
      "Fri Jan 13 17:10:21 2023 Epoch: 41\n"
     ]
    },
    {
     "name": "stderr",
     "output_type": "stream",
     "text": [
      "smth:0.4606 0.6551: 100%|██████████| 201/201 [03:57<00:00,  1.18s/it]\n",
      "smth:0.4738 0.6397: 100%|██████████| 51/51 [00:40<00:00,  1.27it/s]\n"
     ]
    },
    {
     "name": "stdout",
     "output_type": "stream",
     "text": [
      "Fri Jan 13 17:14:58 2023 Fold 1, Epoch 41, lr: 0.0002300, train loss: 0.46752, valid loss: 0.54983, metric: 0.549833.\n",
      "Fri Jan 13 17:14:58 2023 Epoch: 42\n"
     ]
    },
    {
     "name": "stderr",
     "output_type": "stream",
     "text": [
      "smth:0.4701 0.6358: 100%|██████████| 201/201 [04:01<00:00,  1.20s/it]\n",
      "smth:0.4556 0.6201: 100%|██████████| 51/51 [00:39<00:00,  1.28it/s]\n"
     ]
    },
    {
     "name": "stdout",
     "output_type": "stream",
     "text": [
      "Fri Jan 13 17:19:40 2023 Fold 1, Epoch 42, lr: 0.0002300, train loss: 0.46651, valid loss: 0.53873, metric: 0.538728.\n",
      "Fri Jan 13 17:19:40 2023 Epoch: 43\n"
     ]
    },
    {
     "name": "stderr",
     "output_type": "stream",
     "text": [
      "smth:0.4795 0.6564: 100%|██████████| 201/201 [03:57<00:00,  1.18s/it]\n",
      "smth:0.4423 0.6330: 100%|██████████| 51/51 [00:39<00:00,  1.28it/s]\n"
     ]
    },
    {
     "name": "stdout",
     "output_type": "stream",
     "text": [
      "Fri Jan 13 17:24:18 2023 Fold 1, Epoch 43, lr: 0.0002300, train loss: 0.46684, valid loss: 0.53751, metric: 0.537510.\n",
      "Fri Jan 13 17:24:18 2023 Epoch: 44\n"
     ]
    },
    {
     "name": "stderr",
     "output_type": "stream",
     "text": [
      "smth:0.4358 0.6954: 100%|██████████| 201/201 [03:59<00:00,  1.19s/it]\n",
      "smth:0.4542 0.6377: 100%|██████████| 51/51 [00:38<00:00,  1.33it/s]\n"
     ]
    },
    {
     "name": "stdout",
     "output_type": "stream",
     "text": [
      "Fri Jan 13 17:28:56 2023 Fold 1, Epoch 44, lr: 0.0002300, train loss: 0.46962, valid loss: 0.54175, metric: 0.541750.\n",
      "Fri Jan 13 17:28:56 2023 Epoch: 45\n"
     ]
    },
    {
     "name": "stderr",
     "output_type": "stream",
     "text": [
      "smth:0.4793 0.6708: 100%|██████████| 201/201 [03:56<00:00,  1.18s/it]\n",
      "smth:0.4580 0.6391: 100%|██████████| 51/51 [00:36<00:00,  1.41it/s]\n"
     ]
    },
    {
     "name": "stdout",
     "output_type": "stream",
     "text": [
      "Fri Jan 13 17:33:29 2023 Fold 1, Epoch 45, lr: 0.0002300, train loss: 0.46820, valid loss: 0.54418, metric: 0.544183.\n",
      "Fri Jan 13 17:33:30 2023 Epoch: 46\n"
     ]
    },
    {
     "name": "stderr",
     "output_type": "stream",
     "text": [
      "smth:0.4760 0.6978: 100%|██████████| 201/201 [03:58<00:00,  1.19s/it]\n",
      "smth:0.4751 0.6479: 100%|██████████| 51/51 [00:35<00:00,  1.43it/s]\n"
     ]
    },
    {
     "name": "stdout",
     "output_type": "stream",
     "text": [
      "Fri Jan 13 17:38:04 2023 Fold 1, Epoch 46, lr: 0.0002300, train loss: 0.46718, valid loss: 0.55539, metric: 0.555389.\n",
      "Fri Jan 13 17:38:04 2023 Epoch: 47\n"
     ]
    },
    {
     "name": "stderr",
     "output_type": "stream",
     "text": [
      "smth:0.4965 0.6631: 100%|██████████| 201/201 [03:57<00:00,  1.18s/it]\n",
      "smth:0.4336 0.5999: 100%|██████████| 51/51 [00:34<00:00,  1.50it/s]\n"
     ]
    },
    {
     "name": "stdout",
     "output_type": "stream",
     "text": [
      "Fri Jan 13 17:42:36 2023 Fold 1, Epoch 47, lr: 0.0002300, train loss: 0.46563, valid loss: 0.52493, metric: 0.524935.\n",
      "metric_best (0.534613 --> 0.524935). Saving model ...\n",
      "Fri Jan 13 17:42:36 2023 Epoch: 48\n"
     ]
    },
    {
     "name": "stderr",
     "output_type": "stream",
     "text": [
      "smth:0.4633 0.6708: 100%|██████████| 201/201 [04:00<00:00,  1.20s/it]\n",
      "smth:0.4524 0.6144: 100%|██████████| 51/51 [00:39<00:00,  1.29it/s]\n"
     ]
    },
    {
     "name": "stdout",
     "output_type": "stream",
     "text": [
      "Fri Jan 13 17:47:16 2023 Fold 1, Epoch 48, lr: 0.0002300, train loss: 0.46631, valid loss: 0.53458, metric: 0.534577.\n",
      "Fri Jan 13 17:47:16 2023 Epoch: 49\n"
     ]
    },
    {
     "name": "stderr",
     "output_type": "stream",
     "text": [
      "smth:0.4573 0.6643: 100%|██████████| 201/201 [03:55<00:00,  1.17s/it]\n",
      "smth:0.4758 0.6592: 100%|██████████| 51/51 [00:34<00:00,  1.46it/s]\n"
     ]
    },
    {
     "name": "stdout",
     "output_type": "stream",
     "text": [
      "Fri Jan 13 17:51:47 2023 Fold 1, Epoch 49, lr: 0.0002300, train loss: 0.46825, valid loss: 0.55861, metric: 0.558611.\n",
      "Fri Jan 13 17:51:47 2023 Epoch: 50\n"
     ]
    },
    {
     "name": "stderr",
     "output_type": "stream",
     "text": [
      "smth:0.4942 0.6509: 100%|██████████| 201/201 [03:57<00:00,  1.18s/it]\n",
      "smth:0.4370 0.6132: 100%|██████████| 51/51 [00:33<00:00,  1.50it/s]\n"
     ]
    },
    {
     "name": "stdout",
     "output_type": "stream",
     "text": [
      "Fri Jan 13 17:56:18 2023 Fold 1, Epoch 50, lr: 0.0002300, train loss: 0.46511, valid loss: 0.52769, metric: 0.527694.\n"
     ]
    }
   ],
   "source": [
    "run(1)"
   ]
  },
  {
   "cell_type": "code",
   "execution_count": 18,
   "id": "b4b8908c",
   "metadata": {},
   "outputs": [
    {
     "name": "stdout",
     "output_type": "stream",
     "text": [
      "1615 403\n",
      "Fri Jan 13 17:56:19 2023 Epoch: 1\n"
     ]
    },
    {
     "name": "stderr",
     "output_type": "stream",
     "text": [
      "smth:0.5956 0.7299: 100%|██████████| 201/201 [04:04<00:00,  1.22s/it]\n",
      "  0%|          | 0/51 [00:00<?, ?it/s]/home/apaddo/.local/lib/python3.9/site-packages/torch/nn/modules/rnn.py:774: UserWarning: RNN module weights are not part of single contiguous chunk of memory. This means they need to be compacted at every call, possibly greatly increasing memory usage. To compact weights again call flatten_parameters(). (Triggered internally at ../aten/src/ATen/native/cudnn/RNN.cpp:968.)\n",
      "  result = _VF.lstm(input, hx, self._flat_weights, self.bias, self.num_layers,\n",
      "smth:0.5398 0.7497: 100%|██████████| 51/51 [00:34<00:00,  1.48it/s]\n"
     ]
    },
    {
     "name": "stdout",
     "output_type": "stream",
     "text": [
      "Fri Jan 13 18:00:58 2023 Fold 2, Epoch 1, lr: 0.0002300, train loss: 0.63294, valid loss: 0.64574, metric: 0.645742.\n",
      "metric_best (inf --> 0.645742). Saving model ...\n",
      "Fri Jan 13 18:00:58 2023 Epoch: 2\n"
     ]
    },
    {
     "name": "stderr",
     "output_type": "stream",
     "text": [
      "smth:0.5524 0.7123: 100%|██████████| 201/201 [04:07<00:00,  1.23s/it]\n",
      "smth:0.5005 0.7785: 100%|██████████| 51/51 [00:35<00:00,  1.42it/s]\n"
     ]
    },
    {
     "name": "stdout",
     "output_type": "stream",
     "text": [
      "Fri Jan 13 18:05:41 2023 Fold 2, Epoch 2, lr: 0.0002300, train loss: 0.56847, valid loss: 0.62103, metric: 0.621026.\n",
      "metric_best (0.645742 --> 0.621026). Saving model ...\n",
      "Fri Jan 13 18:05:42 2023 Epoch: 3\n"
     ]
    },
    {
     "name": "stderr",
     "output_type": "stream",
     "text": [
      "smth:0.5329 0.7178: 100%|██████████| 201/201 [04:02<00:00,  1.20s/it]\n",
      "smth:0.4890 0.7204: 100%|██████████| 51/51 [00:34<00:00,  1.47it/s]\n"
     ]
    },
    {
     "name": "stdout",
     "output_type": "stream",
     "text": [
      "Fri Jan 13 18:10:19 2023 Fold 2, Epoch 3, lr: 0.0002300, train loss: 0.53444, valid loss: 0.59581, metric: 0.595810.\n",
      "metric_best (0.621026 --> 0.595810). Saving model ...\n",
      "Fri Jan 13 18:10:19 2023 Epoch: 4\n"
     ]
    },
    {
     "name": "stderr",
     "output_type": "stream",
     "text": [
      "smth:0.4983 0.7107: 100%|██████████| 201/201 [04:03<00:00,  1.21s/it]\n",
      "smth:0.4814 0.6302: 100%|██████████| 51/51 [00:34<00:00,  1.46it/s]\n"
     ]
    },
    {
     "name": "stdout",
     "output_type": "stream",
     "text": [
      "Fri Jan 13 18:14:58 2023 Fold 2, Epoch 4, lr: 0.0002300, train loss: 0.51383, valid loss: 0.56705, metric: 0.567049.\n",
      "metric_best (0.595810 --> 0.567049). Saving model ...\n",
      "Fri Jan 13 18:14:58 2023 Epoch: 5\n"
     ]
    },
    {
     "name": "stderr",
     "output_type": "stream",
     "text": [
      "smth:0.4774 0.7029: 100%|██████████| 201/201 [04:03<00:00,  1.21s/it]\n",
      "smth:0.4790 0.6839: 100%|██████████| 51/51 [00:35<00:00,  1.44it/s]\n"
     ]
    },
    {
     "name": "stdout",
     "output_type": "stream",
     "text": [
      "Fri Jan 13 18:19:37 2023 Fold 2, Epoch 5, lr: 0.0002300, train loss: 0.50623, valid loss: 0.57548, metric: 0.575478.\n",
      "Fri Jan 13 18:19:37 2023 Epoch: 6\n"
     ]
    },
    {
     "name": "stderr",
     "output_type": "stream",
     "text": [
      "smth:0.4626 0.7355: 100%|██████████| 201/201 [04:04<00:00,  1.22s/it]\n",
      "smth:0.4751 0.7081: 100%|██████████| 51/51 [00:34<00:00,  1.46it/s]\n"
     ]
    },
    {
     "name": "stdout",
     "output_type": "stream",
     "text": [
      "Fri Jan 13 18:24:17 2023 Fold 2, Epoch 6, lr: 0.0002300, train loss: 0.49727, valid loss: 0.58203, metric: 0.582029.\n",
      "Fri Jan 13 18:24:17 2023 Epoch: 7\n"
     ]
    },
    {
     "name": "stderr",
     "output_type": "stream",
     "text": [
      "smth:0.4995 0.6794: 100%|██████████| 201/201 [04:03<00:00,  1.21s/it]\n",
      "smth:0.4832 0.7247: 100%|██████████| 51/51 [00:38<00:00,  1.32it/s]\n"
     ]
    },
    {
     "name": "stdout",
     "output_type": "stream",
     "text": [
      "Fri Jan 13 18:28:59 2023 Fold 2, Epoch 7, lr: 0.0002300, train loss: 0.49331, valid loss: 0.58722, metric: 0.587217.\n",
      "Fri Jan 13 18:28:59 2023 Epoch: 8\n"
     ]
    },
    {
     "name": "stderr",
     "output_type": "stream",
     "text": [
      "smth:0.4642 0.6896: 100%|██████████| 201/201 [04:06<00:00,  1.22s/it]\n",
      "smth:0.4775 0.7010: 100%|██████████| 51/51 [00:34<00:00,  1.47it/s]\n"
     ]
    },
    {
     "name": "stdout",
     "output_type": "stream",
     "text": [
      "Fri Jan 13 18:33:39 2023 Fold 2, Epoch 8, lr: 0.0002300, train loss: 0.48982, valid loss: 0.57633, metric: 0.576327.\n",
      "Fri Jan 13 18:33:40 2023 Epoch: 9\n"
     ]
    },
    {
     "name": "stderr",
     "output_type": "stream",
     "text": [
      "smth:0.4435 0.6697: 100%|██████████| 201/201 [04:03<00:00,  1.21s/it]\n",
      "smth:0.4995 0.7819: 100%|██████████| 51/51 [00:35<00:00,  1.46it/s]\n"
     ]
    },
    {
     "name": "stdout",
     "output_type": "stream",
     "text": [
      "Fri Jan 13 18:38:18 2023 Fold 2, Epoch 9, lr: 0.0002300, train loss: 0.48659, valid loss: 0.61380, metric: 0.613805.\n",
      "Fri Jan 13 18:38:18 2023 Epoch: 10\n"
     ]
    },
    {
     "name": "stderr",
     "output_type": "stream",
     "text": [
      "smth:0.4554 0.7070: 100%|██████████| 201/201 [04:01<00:00,  1.20s/it]\n",
      "smth:0.4929 0.7303: 100%|██████████| 51/51 [00:38<00:00,  1.33it/s]\n"
     ]
    },
    {
     "name": "stdout",
     "output_type": "stream",
     "text": [
      "Fri Jan 13 18:42:58 2023 Fold 2, Epoch 10, lr: 0.0002300, train loss: 0.48436, valid loss: 0.59486, metric: 0.594857.\n",
      "Fri Jan 13 18:42:58 2023 Epoch: 11\n"
     ]
    },
    {
     "name": "stderr",
     "output_type": "stream",
     "text": [
      "smth:0.4596 0.6929: 100%|██████████| 201/201 [04:04<00:00,  1.22s/it]\n",
      "smth:0.4882 0.6933: 100%|██████████| 51/51 [00:35<00:00,  1.44it/s]\n"
     ]
    },
    {
     "name": "stdout",
     "output_type": "stream",
     "text": [
      "Fri Jan 13 18:47:38 2023 Fold 2, Epoch 11, lr: 0.0002300, train loss: 0.48542, valid loss: 0.57859, metric: 0.578593.\n",
      "Fri Jan 13 18:47:38 2023 Epoch: 12\n"
     ]
    },
    {
     "name": "stderr",
     "output_type": "stream",
     "text": [
      "smth:0.4725 0.6971: 100%|██████████| 201/201 [04:07<00:00,  1.23s/it]\n",
      "smth:0.4744 0.7246: 100%|██████████| 51/51 [00:35<00:00,  1.45it/s]\n"
     ]
    },
    {
     "name": "stdout",
     "output_type": "stream",
     "text": [
      "Fri Jan 13 18:52:22 2023 Fold 2, Epoch 12, lr: 0.0002300, train loss: 0.48587, valid loss: 0.58588, metric: 0.585877.\n",
      "Fri Jan 13 18:52:22 2023 Epoch: 13\n"
     ]
    },
    {
     "name": "stderr",
     "output_type": "stream",
     "text": [
      "smth:0.4748 0.6818: 100%|██████████| 201/201 [04:03<00:00,  1.21s/it]\n",
      "smth:0.4948 0.7454: 100%|██████████| 51/51 [00:36<00:00,  1.40it/s]\n"
     ]
    },
    {
     "name": "stdout",
     "output_type": "stream",
     "text": [
      "Fri Jan 13 18:57:01 2023 Fold 2, Epoch 13, lr: 0.0002300, train loss: 0.48190, valid loss: 0.59939, metric: 0.599392.\n",
      "Fri Jan 13 18:57:01 2023 Epoch: 14\n"
     ]
    },
    {
     "name": "stderr",
     "output_type": "stream",
     "text": [
      "smth:0.4770 0.6849: 100%|██████████| 201/201 [04:03<00:00,  1.21s/it]\n",
      "smth:0.4763 0.6772: 100%|██████████| 51/51 [00:37<00:00,  1.36it/s]\n"
     ]
    },
    {
     "name": "stdout",
     "output_type": "stream",
     "text": [
      "Fri Jan 13 19:01:43 2023 Fold 2, Epoch 14, lr: 0.0002300, train loss: 0.48165, valid loss: 0.57133, metric: 0.571332.\n",
      "Fri Jan 13 19:01:43 2023 Epoch: 15\n"
     ]
    },
    {
     "name": "stderr",
     "output_type": "stream",
     "text": [
      "smth:0.4551 0.6960: 100%|██████████| 201/201 [04:03<00:00,  1.21s/it]\n",
      "smth:0.4892 0.7060: 100%|██████████| 51/51 [00:41<00:00,  1.23it/s]\n"
     ]
    },
    {
     "name": "stdout",
     "output_type": "stream",
     "text": [
      "Fri Jan 13 19:06:28 2023 Fold 2, Epoch 15, lr: 0.0002300, train loss: 0.48069, valid loss: 0.58597, metric: 0.585971.\n",
      "Fri Jan 13 19:06:28 2023 Epoch: 16\n"
     ]
    },
    {
     "name": "stderr",
     "output_type": "stream",
     "text": [
      "smth:0.4721 0.6706: 100%|██████████| 201/201 [04:06<00:00,  1.22s/it]\n",
      "smth:0.4879 0.7042: 100%|██████████| 51/51 [00:36<00:00,  1.39it/s]\n"
     ]
    },
    {
     "name": "stdout",
     "output_type": "stream",
     "text": [
      "Fri Jan 13 19:11:11 2023 Fold 2, Epoch 16, lr: 0.0002300, train loss: 0.48148, valid loss: 0.58112, metric: 0.581117.\n",
      "Fri Jan 13 19:11:12 2023 Epoch: 17\n"
     ]
    },
    {
     "name": "stderr",
     "output_type": "stream",
     "text": [
      "smth:0.4591 0.7048: 100%|██████████| 201/201 [04:06<00:00,  1.23s/it]\n",
      "smth:0.4871 0.6734: 100%|██████████| 51/51 [00:37<00:00,  1.36it/s]\n"
     ]
    },
    {
     "name": "stdout",
     "output_type": "stream",
     "text": [
      "Fri Jan 13 19:15:56 2023 Fold 2, Epoch 17, lr: 0.0002300, train loss: 0.48002, valid loss: 0.57216, metric: 0.572159.\n",
      "Fri Jan 13 19:15:56 2023 Epoch: 18\n"
     ]
    },
    {
     "name": "stderr",
     "output_type": "stream",
     "text": [
      "smth:0.4307 0.6637: 100%|██████████| 201/201 [04:07<00:00,  1.23s/it]\n",
      "smth:0.4904 0.7116: 100%|██████████| 51/51 [00:38<00:00,  1.34it/s]\n"
     ]
    },
    {
     "name": "stdout",
     "output_type": "stream",
     "text": [
      "Fri Jan 13 19:20:42 2023 Fold 2, Epoch 18, lr: 0.0002300, train loss: 0.47793, valid loss: 0.58324, metric: 0.583241.\n",
      "Fri Jan 13 19:20:42 2023 Epoch: 19\n"
     ]
    },
    {
     "name": "stderr",
     "output_type": "stream",
     "text": [
      "smth:0.4926 0.6909: 100%|██████████| 201/201 [04:04<00:00,  1.22s/it]\n",
      "smth:0.4895 0.6825: 100%|██████████| 51/51 [00:34<00:00,  1.48it/s]\n"
     ]
    },
    {
     "name": "stdout",
     "output_type": "stream",
     "text": [
      "Fri Jan 13 19:25:21 2023 Fold 2, Epoch 19, lr: 0.0002300, train loss: 0.47955, valid loss: 0.57526, metric: 0.575265.\n",
      "Fri Jan 13 19:25:21 2023 Epoch: 20\n"
     ]
    },
    {
     "name": "stderr",
     "output_type": "stream",
     "text": [
      "smth:0.4454 0.6887: 100%|██████████| 201/201 [04:07<00:00,  1.23s/it]\n",
      "smth:0.5015 0.7100: 100%|██████████| 51/51 [00:35<00:00,  1.43it/s]\n"
     ]
    },
    {
     "name": "stdout",
     "output_type": "stream",
     "text": [
      "Fri Jan 13 19:30:04 2023 Fold 2, Epoch 20, lr: 0.0002300, train loss: 0.47665, valid loss: 0.59170, metric: 0.591697.\n",
      "Fri Jan 13 19:30:04 2023 Epoch: 21\n"
     ]
    },
    {
     "name": "stderr",
     "output_type": "stream",
     "text": [
      "smth:0.4726 0.6729: 100%|██████████| 201/201 [04:05<00:00,  1.22s/it]\n",
      "smth:0.4884 0.6831: 100%|██████████| 51/51 [00:34<00:00,  1.48it/s]\n"
     ]
    },
    {
     "name": "stdout",
     "output_type": "stream",
     "text": [
      "Fri Jan 13 19:34:44 2023 Fold 2, Epoch 21, lr: 0.0002300, train loss: 0.47422, valid loss: 0.57502, metric: 0.575021.\n",
      "Fri Jan 13 19:34:44 2023 Epoch: 22\n"
     ]
    },
    {
     "name": "stderr",
     "output_type": "stream",
     "text": [
      "smth:0.4756 0.6807: 100%|██████████| 201/201 [04:06<00:00,  1.23s/it]\n",
      "smth:0.4879 0.6722: 100%|██████████| 51/51 [00:34<00:00,  1.48it/s]\n"
     ]
    },
    {
     "name": "stdout",
     "output_type": "stream",
     "text": [
      "Fri Jan 13 19:39:26 2023 Fold 2, Epoch 22, lr: 0.0002300, train loss: 0.47864, valid loss: 0.57262, metric: 0.572623.\n",
      "Fri Jan 13 19:39:26 2023 Epoch: 23\n"
     ]
    },
    {
     "name": "stderr",
     "output_type": "stream",
     "text": [
      "smth:0.5122 0.6908: 100%|██████████| 201/201 [04:03<00:00,  1.21s/it]\n",
      "smth:0.4827 0.6762: 100%|██████████| 51/51 [00:36<00:00,  1.40it/s]\n"
     ]
    },
    {
     "name": "stdout",
     "output_type": "stream",
     "text": [
      "Fri Jan 13 19:44:06 2023 Fold 2, Epoch 23, lr: 0.0002300, train loss: 0.47737, valid loss: 0.57472, metric: 0.574723.\n",
      "Fri Jan 13 19:44:06 2023 Epoch: 24\n"
     ]
    },
    {
     "name": "stderr",
     "output_type": "stream",
     "text": [
      "smth:0.4686 0.6768: 100%|██████████| 201/201 [04:04<00:00,  1.22s/it]\n",
      "smth:0.4728 0.6551: 100%|██████████| 51/51 [00:40<00:00,  1.26it/s]\n"
     ]
    },
    {
     "name": "stdout",
     "output_type": "stream",
     "text": [
      "Fri Jan 13 19:48:52 2023 Fold 2, Epoch 24, lr: 0.0002300, train loss: 0.47505, valid loss: 0.56379, metric: 0.563786.\n",
      "metric_best (0.567049 --> 0.563786). Saving model ...\n",
      "Fri Jan 13 19:48:52 2023 Epoch: 25\n"
     ]
    },
    {
     "name": "stderr",
     "output_type": "stream",
     "text": [
      "smth:0.4783 0.7102: 100%|██████████| 201/201 [04:05<00:00,  1.22s/it]\n",
      "smth:0.5370 0.7769: 100%|██████████| 51/51 [00:34<00:00,  1.48it/s]\n"
     ]
    },
    {
     "name": "stdout",
     "output_type": "stream",
     "text": [
      "Fri Jan 13 19:53:32 2023 Fold 2, Epoch 25, lr: 0.0002300, train loss: 0.49731, valid loss: 0.63531, metric: 0.635306.\n",
      "Fri Jan 13 19:53:32 2023 Epoch: 26\n"
     ]
    },
    {
     "name": "stderr",
     "output_type": "stream",
     "text": [
      "smth:0.4735 0.6947: 100%|██████████| 201/201 [04:04<00:00,  1.22s/it]\n",
      "smth:0.5166 0.7475: 100%|██████████| 51/51 [00:35<00:00,  1.42it/s]\n"
     ]
    },
    {
     "name": "stdout",
     "output_type": "stream",
     "text": [
      "Fri Jan 13 19:58:12 2023 Fold 2, Epoch 26, lr: 0.0002300, train loss: 0.49813, valid loss: 0.61847, metric: 0.618469.\n",
      "Fri Jan 13 19:58:13 2023 Epoch: 27\n"
     ]
    },
    {
     "name": "stderr",
     "output_type": "stream",
     "text": [
      "smth:0.5059 0.7028: 100%|██████████| 201/201 [04:04<00:00,  1.21s/it]\n",
      "smth:0.5237 0.6960: 100%|██████████| 51/51 [00:34<00:00,  1.48it/s]\n"
     ]
    },
    {
     "name": "stdout",
     "output_type": "stream",
     "text": [
      "Fri Jan 13 20:02:51 2023 Fold 2, Epoch 27, lr: 0.0002300, train loss: 0.50046, valid loss: 0.59968, metric: 0.599676.\n",
      "Fri Jan 13 20:02:51 2023 Epoch: 28\n"
     ]
    },
    {
     "name": "stderr",
     "output_type": "stream",
     "text": [
      "smth:0.5018 0.6729: 100%|██████████| 201/201 [04:03<00:00,  1.21s/it]\n",
      "smth:0.5432 0.6637: 100%|██████████| 51/51 [00:34<00:00,  1.47it/s]\n"
     ]
    },
    {
     "name": "stdout",
     "output_type": "stream",
     "text": [
      "Fri Jan 13 20:07:30 2023 Fold 2, Epoch 28, lr: 0.0002300, train loss: 0.49859, valid loss: 0.59784, metric: 0.597838.\n",
      "Fri Jan 13 20:07:30 2023 Epoch: 29\n"
     ]
    },
    {
     "name": "stderr",
     "output_type": "stream",
     "text": [
      "smth:0.4697 0.7089: 100%|██████████| 201/201 [04:03<00:00,  1.21s/it]\n",
      "smth:0.5336 0.6681: 100%|██████████| 51/51 [00:34<00:00,  1.49it/s]\n"
     ]
    },
    {
     "name": "stdout",
     "output_type": "stream",
     "text": [
      "Fri Jan 13 20:12:08 2023 Fold 2, Epoch 29, lr: 0.0002300, train loss: 0.49789, valid loss: 0.59947, metric: 0.599474.\n",
      "Fri Jan 13 20:12:08 2023 Epoch: 30\n"
     ]
    },
    {
     "name": "stderr",
     "output_type": "stream",
     "text": [
      "smth:0.4942 0.6803: 100%|██████████| 201/201 [04:03<00:00,  1.21s/it]\n",
      "smth:0.4818 0.6407: 100%|██████████| 51/51 [00:34<00:00,  1.49it/s]\n"
     ]
    },
    {
     "name": "stdout",
     "output_type": "stream",
     "text": [
      "Fri Jan 13 20:16:47 2023 Fold 2, Epoch 30, lr: 0.0002300, train loss: 0.48754, valid loss: 0.56305, metric: 0.563050.\n",
      "metric_best (0.563786 --> 0.563050). Saving model ...\n",
      "Fri Jan 13 20:16:47 2023 Epoch: 31\n"
     ]
    },
    {
     "name": "stderr",
     "output_type": "stream",
     "text": [
      "smth:0.4558 0.7182: 100%|██████████| 201/201 [04:03<00:00,  1.21s/it]\n",
      "smth:0.4743 0.6253: 100%|██████████| 51/51 [00:35<00:00,  1.44it/s]\n"
     ]
    },
    {
     "name": "stdout",
     "output_type": "stream",
     "text": [
      "Fri Jan 13 20:21:26 2023 Fold 2, Epoch 31, lr: 0.0002300, train loss: 0.47428, valid loss: 0.55880, metric: 0.558803.\n",
      "metric_best (0.563050 --> 0.558803). Saving model ...\n",
      "Fri Jan 13 20:21:26 2023 Epoch: 32\n"
     ]
    },
    {
     "name": "stderr",
     "output_type": "stream",
     "text": [
      "smth:0.4898 0.6742: 100%|██████████| 201/201 [04:04<00:00,  1.22s/it]\n",
      "smth:0.4678 0.6232: 100%|██████████| 51/51 [00:36<00:00,  1.39it/s]\n"
     ]
    },
    {
     "name": "stdout",
     "output_type": "stream",
     "text": [
      "Fri Jan 13 20:26:07 2023 Fold 2, Epoch 32, lr: 0.0002300, train loss: 0.47756, valid loss: 0.55169, metric: 0.551694.\n",
      "metric_best (0.558803 --> 0.551694). Saving model ...\n",
      "Fri Jan 13 20:26:07 2023 Epoch: 33\n"
     ]
    },
    {
     "name": "stderr",
     "output_type": "stream",
     "text": [
      "smth:0.5039 0.6711: 100%|██████████| 201/201 [04:03<00:00,  1.21s/it]\n",
      "smth:0.4636 0.6284: 100%|██████████| 51/51 [00:40<00:00,  1.27it/s]\n"
     ]
    },
    {
     "name": "stdout",
     "output_type": "stream",
     "text": [
      "Fri Jan 13 20:30:51 2023 Fold 2, Epoch 33, lr: 0.0002300, train loss: 0.47542, valid loss: 0.55254, metric: 0.552537.\n",
      "Fri Jan 13 20:30:51 2023 Epoch: 34\n"
     ]
    },
    {
     "name": "stderr",
     "output_type": "stream",
     "text": [
      "smth:0.4695 0.6785: 100%|██████████| 201/201 [04:03<00:00,  1.21s/it]\n",
      "smth:0.4661 0.6229: 100%|██████████| 51/51 [00:34<00:00,  1.47it/s]\n"
     ]
    },
    {
     "name": "stdout",
     "output_type": "stream",
     "text": [
      "Fri Jan 13 20:35:30 2023 Fold 2, Epoch 34, lr: 0.0002300, train loss: 0.47602, valid loss: 0.55425, metric: 0.554248.\n",
      "Fri Jan 13 20:35:30 2023 Epoch: 35\n"
     ]
    },
    {
     "name": "stderr",
     "output_type": "stream",
     "text": [
      "smth:0.4328 0.7011: 100%|██████████| 201/201 [04:02<00:00,  1.21s/it]\n",
      "smth:0.4669 0.6152: 100%|██████████| 51/51 [00:34<00:00,  1.46it/s]\n"
     ]
    },
    {
     "name": "stdout",
     "output_type": "stream",
     "text": [
      "Fri Jan 13 20:40:08 2023 Fold 2, Epoch 35, lr: 0.0002300, train loss: 0.47675, valid loss: 0.55371, metric: 0.553707.\n",
      "Fri Jan 13 20:40:08 2023 Epoch: 36\n"
     ]
    },
    {
     "name": "stderr",
     "output_type": "stream",
     "text": [
      "smth:0.4503 0.6949: 100%|██████████| 201/201 [04:04<00:00,  1.22s/it]\n",
      "smth:0.4657 0.6247: 100%|██████████| 51/51 [00:34<00:00,  1.48it/s]\n"
     ]
    },
    {
     "name": "stdout",
     "output_type": "stream",
     "text": [
      "Fri Jan 13 20:44:47 2023 Fold 2, Epoch 36, lr: 0.0002300, train loss: 0.47371, valid loss: 0.54940, metric: 0.549403.\n",
      "metric_best (0.551694 --> 0.549403). Saving model ...\n",
      "Fri Jan 13 20:44:47 2023 Epoch: 37\n"
     ]
    },
    {
     "name": "stderr",
     "output_type": "stream",
     "text": [
      "smth:0.4464 0.6840: 100%|██████████| 201/201 [04:04<00:00,  1.22s/it]\n",
      "smth:0.4633 0.6195: 100%|██████████| 51/51 [00:34<00:00,  1.47it/s]\n"
     ]
    },
    {
     "name": "stdout",
     "output_type": "stream",
     "text": [
      "Fri Jan 13 20:49:26 2023 Fold 2, Epoch 37, lr: 0.0002300, train loss: 0.47382, valid loss: 0.55194, metric: 0.551942.\n",
      "Fri Jan 13 20:49:26 2023 Epoch: 38\n"
     ]
    },
    {
     "name": "stderr",
     "output_type": "stream",
     "text": [
      "smth:0.4394 0.6660: 100%|██████████| 201/201 [04:04<00:00,  1.22s/it]\n",
      "smth:0.4621 0.6270: 100%|██████████| 51/51 [00:35<00:00,  1.45it/s]\n"
     ]
    },
    {
     "name": "stdout",
     "output_type": "stream",
     "text": [
      "Fri Jan 13 20:54:06 2023 Fold 2, Epoch 38, lr: 0.0002300, train loss: 0.47204, valid loss: 0.54771, metric: 0.547706.\n",
      "metric_best (0.549403 --> 0.547706). Saving model ...\n",
      "Fri Jan 13 20:54:06 2023 Epoch: 39\n"
     ]
    },
    {
     "name": "stderr",
     "output_type": "stream",
     "text": [
      "smth:0.4484 0.6741: 100%|██████████| 201/201 [04:03<00:00,  1.21s/it]\n",
      "smth:0.4644 0.6098: 100%|██████████| 51/51 [00:35<00:00,  1.45it/s]\n"
     ]
    },
    {
     "name": "stdout",
     "output_type": "stream",
     "text": [
      "Fri Jan 13 20:58:45 2023 Fold 2, Epoch 39, lr: 0.0002300, train loss: 0.47199, valid loss: 0.55261, metric: 0.552605.\n",
      "Fri Jan 13 20:58:45 2023 Epoch: 40\n"
     ]
    },
    {
     "name": "stderr",
     "output_type": "stream",
     "text": [
      "smth:0.4369 0.6891: 100%|██████████| 201/201 [04:02<00:00,  1.21s/it]\n",
      "smth:0.4805 0.6177: 100%|██████████| 51/51 [00:39<00:00,  1.30it/s]\n"
     ]
    },
    {
     "name": "stdout",
     "output_type": "stream",
     "text": [
      "Fri Jan 13 21:03:28 2023 Fold 2, Epoch 40, lr: 0.0002300, train loss: 0.47012, valid loss: 0.55419, metric: 0.554194.\n",
      "Fri Jan 13 21:03:28 2023 Epoch: 41\n"
     ]
    },
    {
     "name": "stderr",
     "output_type": "stream",
     "text": [
      "smth:0.4643 0.6841: 100%|██████████| 201/201 [04:07<00:00,  1.23s/it]\n",
      "smth:0.4703 0.6262: 100%|██████████| 51/51 [00:35<00:00,  1.44it/s]\n"
     ]
    },
    {
     "name": "stdout",
     "output_type": "stream",
     "text": [
      "Fri Jan 13 21:08:11 2023 Fold 2, Epoch 41, lr: 0.0002300, train loss: 0.47232, valid loss: 0.55393, metric: 0.553933.\n",
      "Fri Jan 13 21:08:11 2023 Epoch: 42\n"
     ]
    },
    {
     "name": "stderr",
     "output_type": "stream",
     "text": [
      "smth:0.4606 0.6596: 100%|██████████| 201/201 [04:04<00:00,  1.22s/it]\n",
      "smth:0.4640 0.6326: 100%|██████████| 51/51 [00:38<00:00,  1.34it/s]\n"
     ]
    },
    {
     "name": "stdout",
     "output_type": "stream",
     "text": [
      "Fri Jan 13 21:12:54 2023 Fold 2, Epoch 42, lr: 0.0002300, train loss: 0.47087, valid loss: 0.55235, metric: 0.552355.\n",
      "Fri Jan 13 21:12:54 2023 Epoch: 43\n"
     ]
    },
    {
     "name": "stderr",
     "output_type": "stream",
     "text": [
      "smth:0.4466 0.6791: 100%|██████████| 201/201 [04:03<00:00,  1.21s/it]\n",
      "smth:0.4628 0.6152: 100%|██████████| 51/51 [00:34<00:00,  1.47it/s]\n"
     ]
    },
    {
     "name": "stdout",
     "output_type": "stream",
     "text": [
      "Fri Jan 13 21:17:32 2023 Fold 2, Epoch 43, lr: 0.0002300, train loss: 0.47083, valid loss: 0.54924, metric: 0.549236.\n",
      "Fri Jan 13 21:17:32 2023 Epoch: 44\n"
     ]
    },
    {
     "name": "stderr",
     "output_type": "stream",
     "text": [
      "smth:0.4669 0.6611: 100%|██████████| 201/201 [04:03<00:00,  1.21s/it]\n",
      "smth:0.4683 0.6222: 100%|██████████| 51/51 [00:34<00:00,  1.49it/s]\n"
     ]
    },
    {
     "name": "stdout",
     "output_type": "stream",
     "text": [
      "Fri Jan 13 21:22:10 2023 Fold 2, Epoch 44, lr: 0.0002300, train loss: 0.47190, valid loss: 0.55292, metric: 0.552921.\n",
      "Fri Jan 13 21:22:10 2023 Epoch: 45\n"
     ]
    },
    {
     "name": "stderr",
     "output_type": "stream",
     "text": [
      "smth:0.4731 0.6431: 100%|██████████| 201/201 [04:03<00:00,  1.21s/it]\n",
      "smth:0.4615 0.6103: 100%|██████████| 51/51 [00:38<00:00,  1.31it/s]\n"
     ]
    },
    {
     "name": "stdout",
     "output_type": "stream",
     "text": [
      "Fri Jan 13 21:26:52 2023 Fold 2, Epoch 45, lr: 0.0002300, train loss: 0.47061, valid loss: 0.55020, metric: 0.550203.\n",
      "Fri Jan 13 21:26:52 2023 Epoch: 46\n"
     ]
    },
    {
     "name": "stderr",
     "output_type": "stream",
     "text": [
      "smth:0.4585 0.6524: 100%|██████████| 201/201 [04:03<00:00,  1.21s/it]\n",
      "smth:0.4724 0.6359: 100%|██████████| 51/51 [00:36<00:00,  1.42it/s]\n"
     ]
    },
    {
     "name": "stdout",
     "output_type": "stream",
     "text": [
      "Fri Jan 13 21:31:32 2023 Fold 2, Epoch 46, lr: 0.0002300, train loss: 0.46906, valid loss: 0.55581, metric: 0.555809.\n",
      "Fri Jan 13 21:31:32 2023 Epoch: 47\n"
     ]
    },
    {
     "name": "stderr",
     "output_type": "stream",
     "text": [
      "smth:0.4449 0.6615: 100%|██████████| 201/201 [04:03<00:00,  1.21s/it]\n",
      "smth:0.4613 0.6115: 100%|██████████| 51/51 [00:35<00:00,  1.43it/s]\n"
     ]
    },
    {
     "name": "stdout",
     "output_type": "stream",
     "text": [
      "Fri Jan 13 21:36:11 2023 Fold 2, Epoch 47, lr: 0.0002300, train loss: 0.46741, valid loss: 0.54879, metric: 0.548786.\n",
      "Fri Jan 13 21:36:12 2023 Epoch: 48\n"
     ]
    },
    {
     "name": "stderr",
     "output_type": "stream",
     "text": [
      "smth:0.4597 0.6631: 100%|██████████| 201/201 [04:06<00:00,  1.22s/it]\n",
      "smth:0.4748 0.5915: 100%|██████████| 51/51 [00:36<00:00,  1.41it/s]\n"
     ]
    },
    {
     "name": "stdout",
     "output_type": "stream",
     "text": [
      "Fri Jan 13 21:40:54 2023 Fold 2, Epoch 48, lr: 0.0002300, train loss: 0.47021, valid loss: 0.55242, metric: 0.552421.\n",
      "Fri Jan 13 21:40:54 2023 Epoch: 49\n"
     ]
    },
    {
     "name": "stderr",
     "output_type": "stream",
     "text": [
      "smth:0.4715 0.6406: 100%|██████████| 201/201 [04:04<00:00,  1.21s/it]\n",
      "smth:0.4666 0.6325: 100%|██████████| 51/51 [00:34<00:00,  1.47it/s]\n"
     ]
    },
    {
     "name": "stdout",
     "output_type": "stream",
     "text": [
      "Fri Jan 13 21:45:33 2023 Fold 2, Epoch 49, lr: 0.0002300, train loss: 0.46958, valid loss: 0.55585, metric: 0.555852.\n",
      "Fri Jan 13 21:45:33 2023 Epoch: 50\n"
     ]
    },
    {
     "name": "stderr",
     "output_type": "stream",
     "text": [
      "smth:0.4395 0.6613: 100%|██████████| 201/201 [04:05<00:00,  1.22s/it]\n",
      "smth:0.4693 0.6098: 100%|██████████| 51/51 [00:36<00:00,  1.39it/s]\n"
     ]
    },
    {
     "name": "stdout",
     "output_type": "stream",
     "text": [
      "Fri Jan 13 21:50:15 2023 Fold 2, Epoch 50, lr: 0.0002300, train loss: 0.47011, valid loss: 0.55363, metric: 0.553630.\n"
     ]
    }
   ],
   "source": [
    "run(2)"
   ]
  },
  {
   "cell_type": "code",
   "execution_count": 19,
   "id": "5a0c42df",
   "metadata": {},
   "outputs": [
    {
     "name": "stdout",
     "output_type": "stream",
     "text": [
      "1614 404\n",
      "Fri Jan 13 21:50:16 2023 Epoch: 1\n"
     ]
    },
    {
     "name": "stderr",
     "output_type": "stream",
     "text": [
      "smth:0.6222 0.7171: 100%|██████████| 201/201 [03:56<00:00,  1.18s/it]\n",
      "  0%|          | 0/51 [00:00<?, ?it/s]/home/apaddo/.local/lib/python3.9/site-packages/torch/nn/modules/rnn.py:774: UserWarning: RNN module weights are not part of single contiguous chunk of memory. This means they need to be compacted at every call, possibly greatly increasing memory usage. To compact weights again call flatten_parameters(). (Triggered internally at ../aten/src/ATen/native/cudnn/RNN.cpp:968.)\n",
      "  result = _VF.lstm(input, hx, self._flat_weights, self.bias, self.num_layers,\n",
      "smth:0.5328 0.6887: 100%|██████████| 51/51 [00:42<00:00,  1.21it/s]\n"
     ]
    },
    {
     "name": "stdout",
     "output_type": "stream",
     "text": [
      "Fri Jan 13 21:54:55 2023 Fold 3, Epoch 1, lr: 0.0002300, train loss: 0.67273, valid loss: 0.61028, metric: 0.610281.\n",
      "metric_best (inf --> 0.610281). Saving model ...\n",
      "Fri Jan 13 21:54:56 2023 Epoch: 2\n"
     ]
    },
    {
     "name": "stderr",
     "output_type": "stream",
     "text": [
      "smth:0.5497 0.6864: 100%|██████████| 201/201 [03:55<00:00,  1.17s/it]\n",
      "smth:0.4916 0.7060: 100%|██████████| 51/51 [00:35<00:00,  1.46it/s]\n"
     ]
    },
    {
     "name": "stdout",
     "output_type": "stream",
     "text": [
      "Fri Jan 13 21:59:26 2023 Fold 3, Epoch 2, lr: 0.0002300, train loss: 0.58798, valid loss: 0.59526, metric: 0.595258.\n",
      "metric_best (0.610281 --> 0.595258). Saving model ...\n",
      "Fri Jan 13 21:59:26 2023 Epoch: 3\n"
     ]
    },
    {
     "name": "stderr",
     "output_type": "stream",
     "text": [
      "smth:0.5204 0.6991: 100%|██████████| 201/201 [03:56<00:00,  1.18s/it]\n",
      "smth:0.4724 0.6842: 100%|██████████| 51/51 [00:34<00:00,  1.47it/s]\n"
     ]
    },
    {
     "name": "stdout",
     "output_type": "stream",
     "text": [
      "Fri Jan 13 22:03:58 2023 Fold 3, Epoch 3, lr: 0.0002300, train loss: 0.54623, valid loss: 0.57685, metric: 0.576848.\n",
      "metric_best (0.595258 --> 0.576848). Saving model ...\n",
      "Fri Jan 13 22:03:58 2023 Epoch: 4\n"
     ]
    },
    {
     "name": "stderr",
     "output_type": "stream",
     "text": [
      "smth:0.5089 0.6674: 100%|██████████| 201/201 [03:57<00:00,  1.18s/it]\n",
      "smth:0.4603 0.7137: 100%|██████████| 51/51 [00:36<00:00,  1.39it/s]\n"
     ]
    },
    {
     "name": "stdout",
     "output_type": "stream",
     "text": [
      "Fri Jan 13 22:08:33 2023 Fold 3, Epoch 4, lr: 0.0002300, train loss: 0.52061, valid loss: 0.58280, metric: 0.582802.\n",
      "Fri Jan 13 22:08:33 2023 Epoch: 5\n"
     ]
    },
    {
     "name": "stderr",
     "output_type": "stream",
     "text": [
      "smth:0.5195 0.6780: 100%|██████████| 201/201 [03:56<00:00,  1.18s/it]\n",
      "smth:0.4611 0.7047: 100%|██████████| 51/51 [00:38<00:00,  1.33it/s]\n"
     ]
    },
    {
     "name": "stdout",
     "output_type": "stream",
     "text": [
      "Fri Jan 13 22:13:08 2023 Fold 3, Epoch 5, lr: 0.0002300, train loss: 0.50669, valid loss: 0.57912, metric: 0.579120.\n",
      "Fri Jan 13 22:13:08 2023 Epoch: 6\n"
     ]
    },
    {
     "name": "stderr",
     "output_type": "stream",
     "text": [
      "smth:0.4893 0.6805: 100%|██████████| 201/201 [03:58<00:00,  1.19s/it]\n",
      "smth:0.4589 0.6771: 100%|██████████| 51/51 [00:39<00:00,  1.30it/s]\n"
     ]
    },
    {
     "name": "stdout",
     "output_type": "stream",
     "text": [
      "Fri Jan 13 22:17:47 2023 Fold 3, Epoch 6, lr: 0.0002300, train loss: 0.49930, valid loss: 0.56796, metric: 0.567961.\n",
      "metric_best (0.576848 --> 0.567961). Saving model ...\n",
      "Fri Jan 13 22:17:47 2023 Epoch: 7\n"
     ]
    },
    {
     "name": "stderr",
     "output_type": "stream",
     "text": [
      "smth:0.5023 0.6804: 100%|██████████| 201/201 [03:56<00:00,  1.18s/it]\n",
      "smth:0.4592 0.7042: 100%|██████████| 51/51 [00:34<00:00,  1.46it/s]\n"
     ]
    },
    {
     "name": "stdout",
     "output_type": "stream",
     "text": [
      "Fri Jan 13 22:22:19 2023 Fold 3, Epoch 7, lr: 0.0002300, train loss: 0.49417, valid loss: 0.57777, metric: 0.577765.\n",
      "Fri Jan 13 22:22:19 2023 Epoch: 8\n"
     ]
    },
    {
     "name": "stderr",
     "output_type": "stream",
     "text": [
      "smth:0.4785 0.6604: 100%|██████████| 201/201 [03:56<00:00,  1.18s/it]\n",
      "smth:0.4562 0.6976: 100%|██████████| 51/51 [00:35<00:00,  1.43it/s]\n"
     ]
    },
    {
     "name": "stdout",
     "output_type": "stream",
     "text": [
      "Fri Jan 13 22:26:51 2023 Fold 3, Epoch 8, lr: 0.0002300, train loss: 0.48912, valid loss: 0.57291, metric: 0.572909.\n",
      "Fri Jan 13 22:26:51 2023 Epoch: 9\n"
     ]
    },
    {
     "name": "stderr",
     "output_type": "stream",
     "text": [
      "smth:0.4688 0.6855: 100%|██████████| 201/201 [03:59<00:00,  1.19s/it]\n",
      "smth:0.4585 0.7019: 100%|██████████| 51/51 [00:37<00:00,  1.37it/s]\n"
     ]
    },
    {
     "name": "stdout",
     "output_type": "stream",
     "text": [
      "Fri Jan 13 22:31:28 2023 Fold 3, Epoch 9, lr: 0.0002300, train loss: 0.48663, valid loss: 0.57667, metric: 0.576666.\n",
      "Fri Jan 13 22:31:28 2023 Epoch: 10\n"
     ]
    },
    {
     "name": "stderr",
     "output_type": "stream",
     "text": [
      "smth:0.4859 0.6285: 100%|██████████| 201/201 [03:55<00:00,  1.17s/it]\n",
      "smth:0.4695 0.6917: 100%|██████████| 51/51 [00:35<00:00,  1.44it/s]\n"
     ]
    },
    {
     "name": "stdout",
     "output_type": "stream",
     "text": [
      "Fri Jan 13 22:35:59 2023 Fold 3, Epoch 10, lr: 0.0002300, train loss: 0.48448, valid loss: 0.57661, metric: 0.576610.\n",
      "Fri Jan 13 22:35:59 2023 Epoch: 11\n"
     ]
    },
    {
     "name": "stderr",
     "output_type": "stream",
     "text": [
      "smth:0.4898 0.6939: 100%|██████████| 201/201 [03:57<00:00,  1.18s/it]\n",
      "smth:0.4593 0.6875: 100%|██████████| 51/51 [00:34<00:00,  1.49it/s]\n"
     ]
    },
    {
     "name": "stdout",
     "output_type": "stream",
     "text": [
      "Fri Jan 13 22:40:31 2023 Fold 3, Epoch 11, lr: 0.0002300, train loss: 0.48526, valid loss: 0.57138, metric: 0.571381.\n",
      "Fri Jan 13 22:40:32 2023 Epoch: 12\n"
     ]
    },
    {
     "name": "stderr",
     "output_type": "stream",
     "text": [
      "smth:0.4961 0.6620: 100%|██████████| 201/201 [03:57<00:00,  1.18s/it]\n",
      "smth:0.4539 0.6889: 100%|██████████| 51/51 [00:38<00:00,  1.33it/s]\n"
     ]
    },
    {
     "name": "stdout",
     "output_type": "stream",
     "text": [
      "Fri Jan 13 22:45:08 2023 Fold 3, Epoch 12, lr: 0.0002300, train loss: 0.48343, valid loss: 0.56879, metric: 0.568794.\n",
      "Fri Jan 13 22:45:08 2023 Epoch: 13\n"
     ]
    },
    {
     "name": "stderr",
     "output_type": "stream",
     "text": [
      "smth:0.4461 0.6621: 100%|██████████| 201/201 [03:57<00:00,  1.18s/it]\n",
      "smth:0.4573 0.6774: 100%|██████████| 51/51 [00:37<00:00,  1.37it/s]\n"
     ]
    },
    {
     "name": "stdout",
     "output_type": "stream",
     "text": [
      "Fri Jan 13 22:49:43 2023 Fold 3, Epoch 13, lr: 0.0002300, train loss: 0.48118, valid loss: 0.56675, metric: 0.566750.\n",
      "metric_best (0.567961 --> 0.566750). Saving model ...\n",
      "Fri Jan 13 22:49:43 2023 Epoch: 14\n"
     ]
    },
    {
     "name": "stderr",
     "output_type": "stream",
     "text": [
      "smth:0.4785 0.6756: 100%|██████████| 201/201 [03:58<00:00,  1.19s/it]\n",
      "smth:0.4584 0.6906: 100%|██████████| 51/51 [00:35<00:00,  1.45it/s]\n"
     ]
    },
    {
     "name": "stdout",
     "output_type": "stream",
     "text": [
      "Fri Jan 13 22:54:17 2023 Fold 3, Epoch 14, lr: 0.0002300, train loss: 0.48168, valid loss: 0.57009, metric: 0.570088.\n",
      "Fri Jan 13 22:54:17 2023 Epoch: 15\n"
     ]
    },
    {
     "name": "stderr",
     "output_type": "stream",
     "text": [
      "smth:0.4759 0.6772: 100%|██████████| 201/201 [03:59<00:00,  1.19s/it]\n",
      "smth:0.5042 0.6753: 100%|██████████| 51/51 [00:37<00:00,  1.36it/s]\n"
     ]
    },
    {
     "name": "stdout",
     "output_type": "stream",
     "text": [
      "Fri Jan 13 22:58:54 2023 Fold 3, Epoch 15, lr: 0.0002300, train loss: 0.48213, valid loss: 0.58833, metric: 0.588333.\n",
      "Fri Jan 13 22:58:54 2023 Epoch: 16\n"
     ]
    },
    {
     "name": "stderr",
     "output_type": "stream",
     "text": [
      "smth:0.4818 0.6857: 100%|██████████| 201/201 [03:56<00:00,  1.18s/it]\n",
      "smth:0.4557 0.6761: 100%|██████████| 51/51 [00:40<00:00,  1.26it/s]\n"
     ]
    },
    {
     "name": "stdout",
     "output_type": "stream",
     "text": [
      "Fri Jan 13 23:03:31 2023 Fold 3, Epoch 16, lr: 0.0002300, train loss: 0.48026, valid loss: 0.56385, metric: 0.563845.\n",
      "metric_best (0.566750 --> 0.563845). Saving model ...\n",
      "Fri Jan 13 23:03:31 2023 Epoch: 17\n"
     ]
    },
    {
     "name": "stderr",
     "output_type": "stream",
     "text": [
      "smth:0.4460 0.6520: 100%|██████████| 201/201 [03:55<00:00,  1.17s/it]\n",
      "smth:0.4559 0.6700: 100%|██████████| 51/51 [00:40<00:00,  1.26it/s]\n"
     ]
    },
    {
     "name": "stdout",
     "output_type": "stream",
     "text": [
      "Fri Jan 13 23:08:07 2023 Fold 3, Epoch 17, lr: 0.0002300, train loss: 0.47791, valid loss: 0.56100, metric: 0.560996.\n",
      "metric_best (0.563845 --> 0.560996). Saving model ...\n",
      "Fri Jan 13 23:08:08 2023 Epoch: 18\n"
     ]
    },
    {
     "name": "stderr",
     "output_type": "stream",
     "text": [
      "smth:0.4865 0.6680: 100%|██████████| 201/201 [03:55<00:00,  1.17s/it]\n",
      "smth:0.4564 0.6808: 100%|██████████| 51/51 [00:34<00:00,  1.47it/s]\n"
     ]
    },
    {
     "name": "stdout",
     "output_type": "stream",
     "text": [
      "Fri Jan 13 23:12:38 2023 Fold 3, Epoch 18, lr: 0.0002300, train loss: 0.47950, valid loss: 0.56593, metric: 0.565928.\n",
      "Fri Jan 13 23:12:38 2023 Epoch: 19\n"
     ]
    },
    {
     "name": "stderr",
     "output_type": "stream",
     "text": [
      "smth:0.4632 0.6811: 100%|██████████| 201/201 [03:55<00:00,  1.17s/it]\n",
      "smth:0.4548 0.6757: 100%|██████████| 51/51 [00:40<00:00,  1.26it/s]\n"
     ]
    },
    {
     "name": "stdout",
     "output_type": "stream",
     "text": [
      "Fri Jan 13 23:17:14 2023 Fold 3, Epoch 19, lr: 0.0002300, train loss: 0.48072, valid loss: 0.56262, metric: 0.562616.\n",
      "Fri Jan 13 23:17:14 2023 Epoch: 20\n"
     ]
    },
    {
     "name": "stderr",
     "output_type": "stream",
     "text": [
      "smth:0.4447 0.6662: 100%|██████████| 201/201 [03:57<00:00,  1.18s/it]\n",
      "smth:0.4570 0.6723: 100%|██████████| 51/51 [00:35<00:00,  1.45it/s]\n"
     ]
    },
    {
     "name": "stdout",
     "output_type": "stream",
     "text": [
      "Fri Jan 13 23:21:47 2023 Fold 3, Epoch 20, lr: 0.0002300, train loss: 0.47784, valid loss: 0.56301, metric: 0.563010.\n",
      "Fri Jan 13 23:21:47 2023 Epoch: 21\n"
     ]
    },
    {
     "name": "stderr",
     "output_type": "stream",
     "text": [
      "smth:0.4881 0.6399: 100%|██████████| 201/201 [03:56<00:00,  1.18s/it]\n",
      "smth:0.4575 0.6810: 100%|██████████| 51/51 [00:38<00:00,  1.32it/s]\n"
     ]
    },
    {
     "name": "stdout",
     "output_type": "stream",
     "text": [
      "Fri Jan 13 23:26:23 2023 Fold 3, Epoch 21, lr: 0.0002300, train loss: 0.47838, valid loss: 0.56635, metric: 0.566350.\n",
      "Fri Jan 13 23:26:23 2023 Epoch: 22\n"
     ]
    },
    {
     "name": "stderr",
     "output_type": "stream",
     "text": [
      "smth:0.4588 0.6721: 100%|██████████| 201/201 [03:55<00:00,  1.17s/it]\n",
      "smth:0.4640 0.6802: 100%|██████████| 51/51 [00:37<00:00,  1.37it/s]\n"
     ]
    },
    {
     "name": "stdout",
     "output_type": "stream",
     "text": [
      "Fri Jan 13 23:30:56 2023 Fold 3, Epoch 22, lr: 0.0002300, train loss: 0.47840, valid loss: 0.56860, metric: 0.568605.\n",
      "Fri Jan 13 23:30:57 2023 Epoch: 23\n"
     ]
    },
    {
     "name": "stderr",
     "output_type": "stream",
     "text": [
      "smth:0.4838 0.6646: 100%|██████████| 201/201 [03:56<00:00,  1.18s/it]\n",
      "smth:0.4589 0.6767: 100%|██████████| 51/51 [00:34<00:00,  1.48it/s]\n"
     ]
    },
    {
     "name": "stdout",
     "output_type": "stream",
     "text": [
      "Fri Jan 13 23:35:28 2023 Fold 3, Epoch 23, lr: 0.0002300, train loss: 0.47716, valid loss: 0.56461, metric: 0.564614.\n",
      "Fri Jan 13 23:35:28 2023 Epoch: 24\n"
     ]
    },
    {
     "name": "stderr",
     "output_type": "stream",
     "text": [
      "smth:0.4705 0.6450: 100%|██████████| 201/201 [03:57<00:00,  1.18s/it]\n",
      "smth:0.4597 0.6779: 100%|██████████| 51/51 [00:38<00:00,  1.33it/s]\n"
     ]
    },
    {
     "name": "stdout",
     "output_type": "stream",
     "text": [
      "Fri Jan 13 23:40:05 2023 Fold 3, Epoch 24, lr: 0.0002300, train loss: 0.47691, valid loss: 0.56505, metric: 0.565047.\n",
      "Fri Jan 13 23:40:05 2023 Epoch: 25\n"
     ]
    },
    {
     "name": "stderr",
     "output_type": "stream",
     "text": [
      "smth:0.4345 0.6969: 100%|██████████| 201/201 [04:02<00:00,  1.20s/it]\n",
      "smth:0.4769 0.6715: 100%|██████████| 51/51 [00:37<00:00,  1.35it/s]\n"
     ]
    },
    {
     "name": "stdout",
     "output_type": "stream",
     "text": [
      "Fri Jan 13 23:44:45 2023 Fold 3, Epoch 25, lr: 0.0002300, train loss: 0.47744, valid loss: 0.57145, metric: 0.571452.\n",
      "Fri Jan 13 23:44:45 2023 Epoch: 26\n"
     ]
    },
    {
     "name": "stderr",
     "output_type": "stream",
     "text": [
      "smth:0.4676 0.6815: 100%|██████████| 201/201 [04:03<00:00,  1.21s/it]\n",
      "smth:0.4661 0.6706: 100%|██████████| 51/51 [00:35<00:00,  1.45it/s]\n"
     ]
    },
    {
     "name": "stdout",
     "output_type": "stream",
     "text": [
      "Fri Jan 13 23:49:24 2023 Fold 3, Epoch 26, lr: 0.0002300, train loss: 0.47613, valid loss: 0.56751, metric: 0.567513.\n",
      "Fri Jan 13 23:49:24 2023 Epoch: 27\n"
     ]
    },
    {
     "name": "stderr",
     "output_type": "stream",
     "text": [
      "smth:0.4885 0.6581: 100%|██████████| 201/201 [03:57<00:00,  1.18s/it]\n",
      "smth:0.4574 0.6690: 100%|██████████| 51/51 [00:37<00:00,  1.37it/s]\n"
     ]
    },
    {
     "name": "stdout",
     "output_type": "stream",
     "text": [
      "Fri Jan 13 23:53:59 2023 Fold 3, Epoch 27, lr: 0.0002300, train loss: 0.47817, valid loss: 0.56246, metric: 0.562461.\n",
      "Fri Jan 13 23:53:59 2023 Epoch: 28\n"
     ]
    },
    {
     "name": "stderr",
     "output_type": "stream",
     "text": [
      "smth:0.4428 0.6920: 100%|██████████| 201/201 [04:51<00:00,  1.45s/it]\n",
      "smth:0.4580 0.6678: 100%|██████████| 51/51 [01:02<00:00,  1.23s/it]\n"
     ]
    },
    {
     "name": "stdout",
     "output_type": "stream",
     "text": [
      "Fri Jan 13 23:59:54 2023 Fold 3, Epoch 28, lr: 0.0002300, train loss: 0.47452, valid loss: 0.56225, metric: 0.562253.\n",
      "Fri Jan 13 23:59:54 2023 Epoch: 29\n"
     ]
    },
    {
     "name": "stderr",
     "output_type": "stream",
     "text": [
      "smth:0.4861 0.6731: 100%|██████████| 201/201 [06:25<00:00,  1.92s/it]\n",
      "smth:0.4540 0.6709: 100%|██████████| 51/51 [00:35<00:00,  1.42it/s]\n"
     ]
    },
    {
     "name": "stdout",
     "output_type": "stream",
     "text": [
      "Sat Jan 14 00:06:55 2023 Fold 3, Epoch 29, lr: 0.0002300, train loss: 0.47587, valid loss: 0.55948, metric: 0.559485.\n",
      "metric_best (0.560996 --> 0.559485). Saving model ...\n",
      "Sat Jan 14 00:06:56 2023 Epoch: 30\n"
     ]
    },
    {
     "name": "stderr",
     "output_type": "stream",
     "text": [
      "smth:0.4602 0.6932: 100%|██████████| 201/201 [04:05<00:00,  1.22s/it]\n",
      "smth:0.4544 0.6618: 100%|██████████| 51/51 [00:38<00:00,  1.32it/s]\n"
     ]
    },
    {
     "name": "stdout",
     "output_type": "stream",
     "text": [
      "Sat Jan 14 00:11:40 2023 Fold 3, Epoch 30, lr: 0.0002300, train loss: 0.47513, valid loss: 0.55791, metric: 0.557912.\n",
      "metric_best (0.559485 --> 0.557912). Saving model ...\n",
      "Sat Jan 14 00:11:40 2023 Epoch: 31\n"
     ]
    },
    {
     "name": "stderr",
     "output_type": "stream",
     "text": [
      "smth:0.4481 0.6679: 100%|██████████| 201/201 [04:04<00:00,  1.22s/it]\n",
      "smth:0.4668 0.6657: 100%|██████████| 51/51 [00:36<00:00,  1.40it/s]\n"
     ]
    },
    {
     "name": "stdout",
     "output_type": "stream",
     "text": [
      "Sat Jan 14 00:16:21 2023 Fold 3, Epoch 31, lr: 0.0002300, train loss: 0.47435, valid loss: 0.56491, metric: 0.564915.\n",
      "Sat Jan 14 00:16:21 2023 Epoch: 32\n"
     ]
    },
    {
     "name": "stderr",
     "output_type": "stream",
     "text": [
      "smth:0.4851 0.6587: 100%|██████████| 201/201 [04:06<00:00,  1.23s/it]\n",
      "smth:0.4524 0.6635: 100%|██████████| 51/51 [00:34<00:00,  1.48it/s]\n"
     ]
    },
    {
     "name": "stdout",
     "output_type": "stream",
     "text": [
      "Sat Jan 14 00:21:02 2023 Fold 3, Epoch 32, lr: 0.0002300, train loss: 0.47684, valid loss: 0.55689, metric: 0.556889.\n",
      "metric_best (0.557912 --> 0.556889). Saving model ...\n",
      "Sat Jan 14 00:21:02 2023 Epoch: 33\n"
     ]
    },
    {
     "name": "stderr",
     "output_type": "stream",
     "text": [
      "smth:0.4389 0.6589: 100%|██████████| 201/201 [04:06<00:00,  1.23s/it]\n",
      "smth:0.4768 0.6654: 100%|██████████| 51/51 [00:38<00:00,  1.33it/s]\n"
     ]
    },
    {
     "name": "stdout",
     "output_type": "stream",
     "text": [
      "Sat Jan 14 00:25:48 2023 Fold 3, Epoch 33, lr: 0.0002300, train loss: 0.47614, valid loss: 0.57219, metric: 0.572187.\n",
      "Sat Jan 14 00:25:48 2023 Epoch: 34\n"
     ]
    },
    {
     "name": "stderr",
     "output_type": "stream",
     "text": [
      "smth:0.4566 0.6751: 100%|██████████| 201/201 [04:11<00:00,  1.25s/it]\n",
      "smth:0.4730 0.6713: 100%|██████████| 51/51 [00:36<00:00,  1.40it/s]\n"
     ]
    },
    {
     "name": "stdout",
     "output_type": "stream",
     "text": [
      "Sat Jan 14 00:30:36 2023 Fold 3, Epoch 34, lr: 0.0002300, train loss: 0.47525, valid loss: 0.56948, metric: 0.569483.\n",
      "Sat Jan 14 00:30:36 2023 Epoch: 35\n"
     ]
    },
    {
     "name": "stderr",
     "output_type": "stream",
     "text": [
      "smth:0.4619 0.6661: 100%|██████████| 201/201 [04:08<00:00,  1.24s/it]\n",
      "smth:0.4512 0.6646: 100%|██████████| 51/51 [00:39<00:00,  1.29it/s]\n"
     ]
    },
    {
     "name": "stdout",
     "output_type": "stream",
     "text": [
      "Sat Jan 14 00:35:25 2023 Fold 3, Epoch 35, lr: 0.0002300, train loss: 0.47395, valid loss: 0.55668, metric: 0.556681.\n",
      "metric_best (0.556889 --> 0.556681). Saving model ...\n",
      "Sat Jan 14 00:35:25 2023 Epoch: 36\n"
     ]
    },
    {
     "name": "stderr",
     "output_type": "stream",
     "text": [
      "smth:0.4632 0.6638: 100%|██████████| 201/201 [04:08<00:00,  1.24s/it]\n",
      "smth:0.4550 0.6546: 100%|██████████| 51/51 [00:38<00:00,  1.31it/s]\n"
     ]
    },
    {
     "name": "stdout",
     "output_type": "stream",
     "text": [
      "Sat Jan 14 00:40:12 2023 Fold 3, Epoch 36, lr: 0.0002300, train loss: 0.47451, valid loss: 0.55575, metric: 0.555747.\n",
      "metric_best (0.556681 --> 0.555747). Saving model ...\n",
      "Sat Jan 14 00:40:13 2023 Epoch: 37\n"
     ]
    },
    {
     "name": "stderr",
     "output_type": "stream",
     "text": [
      "smth:0.4729 0.6952: 100%|██████████| 201/201 [04:03<00:00,  1.21s/it]\n",
      "smth:0.4661 0.6667: 100%|██████████| 51/51 [00:34<00:00,  1.48it/s]\n"
     ]
    },
    {
     "name": "stdout",
     "output_type": "stream",
     "text": [
      "Sat Jan 14 00:44:51 2023 Fold 3, Epoch 37, lr: 0.0002300, train loss: 0.47496, valid loss: 0.56450, metric: 0.564499.\n",
      "Sat Jan 14 00:44:51 2023 Epoch: 38\n"
     ]
    },
    {
     "name": "stderr",
     "output_type": "stream",
     "text": [
      "smth:0.4445 0.6983: 100%|██████████| 201/201 [05:43<00:00,  1.71s/it]\n",
      "smth:0.4530 0.6604: 100%|██████████| 51/51 [00:58<00:00,  1.15s/it]\n"
     ]
    },
    {
     "name": "stdout",
     "output_type": "stream",
     "text": [
      "Sat Jan 14 00:51:34 2023 Fold 3, Epoch 38, lr: 0.0002300, train loss: 0.47577, valid loss: 0.55656, metric: 0.556562.\n",
      "Sat Jan 14 00:51:34 2023 Epoch: 39\n"
     ]
    },
    {
     "name": "stderr",
     "output_type": "stream",
     "text": [
      "smth:0.4286 0.6683: 100%|██████████| 201/201 [06:42<00:00,  2.00s/it]\n",
      "smth:0.4538 0.6561: 100%|██████████| 51/51 [00:58<00:00,  1.14s/it]\n"
     ]
    },
    {
     "name": "stdout",
     "output_type": "stream",
     "text": [
      "Sat Jan 14 00:59:15 2023 Fold 3, Epoch 39, lr: 0.0002300, train loss: 0.47492, valid loss: 0.55706, metric: 0.557059.\n",
      "Sat Jan 14 00:59:15 2023 Epoch: 40\n"
     ]
    },
    {
     "name": "stderr",
     "output_type": "stream",
     "text": [
      "smth:0.4587 0.6526: 100%|██████████| 201/201 [06:37<00:00,  1.98s/it]\n",
      "smth:0.4602 0.6675: 100%|██████████| 51/51 [00:58<00:00,  1.15s/it]\n"
     ]
    },
    {
     "name": "stdout",
     "output_type": "stream",
     "text": [
      "Sat Jan 14 01:06:51 2023 Fold 3, Epoch 40, lr: 0.0002300, train loss: 0.47313, valid loss: 0.56235, metric: 0.562346.\n",
      "Sat Jan 14 01:06:51 2023 Epoch: 41\n"
     ]
    },
    {
     "name": "stderr",
     "output_type": "stream",
     "text": [
      "smth:0.4464 0.6777: 100%|██████████| 201/201 [06:40<00:00,  1.99s/it]\n",
      "smth:0.4586 0.6615: 100%|██████████| 51/51 [00:58<00:00,  1.15s/it]\n"
     ]
    },
    {
     "name": "stdout",
     "output_type": "stream",
     "text": [
      "Sat Jan 14 01:14:31 2023 Fold 3, Epoch 41, lr: 0.0002300, train loss: 0.47503, valid loss: 0.56020, metric: 0.560204.\n",
      "Sat Jan 14 01:14:31 2023 Epoch: 42\n"
     ]
    },
    {
     "name": "stderr",
     "output_type": "stream",
     "text": [
      "smth:0.4735 0.6450: 100%|██████████| 201/201 [06:36<00:00,  1.97s/it]\n",
      "smth:0.4637 0.6688: 100%|██████████| 51/51 [00:58<00:00,  1.15s/it]\n"
     ]
    },
    {
     "name": "stdout",
     "output_type": "stream",
     "text": [
      "Sat Jan 14 01:22:06 2023 Fold 3, Epoch 42, lr: 0.0002300, train loss: 0.47329, valid loss: 0.56386, metric: 0.563860.\n",
      "Sat Jan 14 01:22:06 2023 Epoch: 43\n"
     ]
    },
    {
     "name": "stderr",
     "output_type": "stream",
     "text": [
      "smth:0.4371 0.7054: 100%|██████████| 201/201 [06:44<00:00,  2.01s/it]\n",
      "smth:0.4596 0.6588: 100%|██████████| 51/51 [01:01<00:00,  1.21s/it]\n"
     ]
    },
    {
     "name": "stdout",
     "output_type": "stream",
     "text": [
      "Sat Jan 14 01:29:52 2023 Fold 3, Epoch 43, lr: 0.0002300, train loss: 0.47319, valid loss: 0.55755, metric: 0.557551.\n",
      "Sat Jan 14 01:29:52 2023 Epoch: 44\n"
     ]
    },
    {
     "name": "stderr",
     "output_type": "stream",
     "text": [
      "smth:0.4671 0.6742: 100%|██████████| 201/201 [06:33<00:00,  1.96s/it]\n",
      "smth:0.4921 0.6627: 100%|██████████| 51/51 [00:58<00:00,  1.15s/it]\n"
     ]
    },
    {
     "name": "stdout",
     "output_type": "stream",
     "text": [
      "Sat Jan 14 01:37:25 2023 Fold 3, Epoch 44, lr: 0.0002300, train loss: 0.47238, valid loss: 0.57458, metric: 0.574583.\n",
      "Sat Jan 14 01:37:25 2023 Epoch: 45\n"
     ]
    },
    {
     "name": "stderr",
     "output_type": "stream",
     "text": [
      "smth:0.5039 0.6501: 100%|██████████| 201/201 [06:32<00:00,  1.95s/it]\n",
      "smth:0.4669 0.6569: 100%|██████████| 51/51 [00:58<00:00,  1.15s/it]\n"
     ]
    },
    {
     "name": "stdout",
     "output_type": "stream",
     "text": [
      "Sat Jan 14 01:44:56 2023 Fold 3, Epoch 45, lr: 0.0002300, train loss: 0.47228, valid loss: 0.56044, metric: 0.560437.\n",
      "Sat Jan 14 01:44:56 2023 Epoch: 46\n"
     ]
    },
    {
     "name": "stderr",
     "output_type": "stream",
     "text": [
      "smth:0.4441 0.6564: 100%|██████████| 201/201 [06:34<00:00,  1.96s/it]\n",
      "smth:0.4679 0.6644: 100%|██████████| 51/51 [00:58<00:00,  1.15s/it]\n"
     ]
    },
    {
     "name": "stdout",
     "output_type": "stream",
     "text": [
      "Sat Jan 14 01:52:29 2023 Fold 3, Epoch 46, lr: 0.0002300, train loss: 0.47311, valid loss: 0.56223, metric: 0.562228.\n",
      "Sat Jan 14 01:52:29 2023 Epoch: 47\n"
     ]
    },
    {
     "name": "stderr",
     "output_type": "stream",
     "text": [
      "smth:0.4665 0.6646: 100%|██████████| 201/201 [06:31<00:00,  1.95s/it]\n",
      "smth:0.4643 0.6599: 100%|██████████| 51/51 [00:58<00:00,  1.14s/it]\n"
     ]
    },
    {
     "name": "stdout",
     "output_type": "stream",
     "text": [
      "Sat Jan 14 01:59:59 2023 Fold 3, Epoch 47, lr: 0.0002300, train loss: 0.47335, valid loss: 0.56084, metric: 0.560836.\n",
      "Sat Jan 14 01:59:59 2023 Epoch: 48\n"
     ]
    },
    {
     "name": "stderr",
     "output_type": "stream",
     "text": [
      "smth:0.4354 0.6877: 100%|██████████| 201/201 [06:39<00:00,  1.99s/it]\n",
      "smth:0.4682 0.6652: 100%|██████████| 51/51 [00:58<00:00,  1.15s/it]\n"
     ]
    },
    {
     "name": "stdout",
     "output_type": "stream",
     "text": [
      "Sat Jan 14 02:07:37 2023 Fold 3, Epoch 48, lr: 0.0002300, train loss: 0.47477, valid loss: 0.56528, metric: 0.565279.\n",
      "Sat Jan 14 02:07:37 2023 Epoch: 49\n"
     ]
    },
    {
     "name": "stderr",
     "output_type": "stream",
     "text": [
      "smth:0.4509 0.6899: 100%|██████████| 201/201 [06:38<00:00,  1.99s/it]\n",
      "smth:0.4648 0.6606: 100%|██████████| 51/51 [00:58<00:00,  1.14s/it]\n"
     ]
    },
    {
     "name": "stdout",
     "output_type": "stream",
     "text": [
      "Sat Jan 14 02:15:14 2023 Fold 3, Epoch 49, lr: 0.0002300, train loss: 0.47524, valid loss: 0.56275, metric: 0.562749.\n",
      "Sat Jan 14 02:15:14 2023 Epoch: 50\n"
     ]
    },
    {
     "name": "stderr",
     "output_type": "stream",
     "text": [
      "smth:0.4549 0.6904: 100%|██████████| 201/201 [06:30<00:00,  1.94s/it]\n",
      "smth:0.4643 0.6648: 100%|██████████| 51/51 [00:58<00:00,  1.15s/it]\n"
     ]
    },
    {
     "name": "stdout",
     "output_type": "stream",
     "text": [
      "Sat Jan 14 02:22:44 2023 Fold 3, Epoch 50, lr: 0.0002300, train loss: 0.47315, valid loss: 0.56435, metric: 0.564353.\n"
     ]
    }
   ],
   "source": [
    "run(3)"
   ]
  },
  {
   "cell_type": "code",
   "execution_count": null,
   "id": "c77eb834",
   "metadata": {},
   "outputs": [
    {
     "name": "stdout",
     "output_type": "stream",
     "text": [
      "1615 403\n",
      "Sat Jan 14 02:22:45 2023 Epoch: 1\n"
     ]
    },
    {
     "name": "stderr",
     "output_type": "stream",
     "text": [
      "smth:0.5658 0.7360: 100%|██████████| 201/201 [06:30<00:00,  1.94s/it]\n",
      "  0%|          | 0/51 [00:00<?, ?it/s]/home/apaddo/.local/lib/python3.9/site-packages/torch/nn/modules/rnn.py:774: UserWarning: RNN module weights are not part of single contiguous chunk of memory. This means they need to be compacted at every call, possibly greatly increasing memory usage. To compact weights again call flatten_parameters(). (Triggered internally at ../aten/src/ATen/native/cudnn/RNN.cpp:968.)\n",
      "  result = _VF.lstm(input, hx, self._flat_weights, self.bias, self.num_layers,\n",
      "smth:0.5153 0.8028: 100%|██████████| 51/51 [00:59<00:00,  1.16s/it]\n"
     ]
    },
    {
     "name": "stdout",
     "output_type": "stream",
     "text": [
      "Sat Jan 14 02:30:15 2023 Fold 4, Epoch 1, lr: 0.0002300, train loss: 0.60954, valid loss: 0.65814, metric: 0.658144.\n",
      "metric_best (inf --> 0.658144). Saving model ...\n",
      "Sat Jan 14 02:30:15 2023 Epoch: 2\n"
     ]
    },
    {
     "name": "stderr",
     "output_type": "stream",
     "text": [
      "smth:0.5247 0.7230: 100%|██████████| 201/201 [06:36<00:00,  1.97s/it]\n",
      "smth:0.4938 0.7793: 100%|██████████| 51/51 [00:59<00:00,  1.17s/it]\n"
     ]
    },
    {
     "name": "stdout",
     "output_type": "stream",
     "text": [
      "Sat Jan 14 02:37:51 2023 Fold 4, Epoch 2, lr: 0.0002300, train loss: 0.55758, valid loss: 0.63483, metric: 0.634827.\n",
      "metric_best (0.658144 --> 0.634827). Saving model ...\n",
      "Sat Jan 14 02:37:51 2023 Epoch: 3\n"
     ]
    },
    {
     "name": "stderr",
     "output_type": "stream",
     "text": [
      "smth:0.4942 0.7216: 100%|██████████| 201/201 [06:31<00:00,  1.95s/it]\n",
      "smth:0.4609 0.7276: 100%|██████████| 51/51 [00:59<00:00,  1.16s/it]\n"
     ]
    },
    {
     "name": "stdout",
     "output_type": "stream",
     "text": [
      "Sat Jan 14 02:45:22 2023 Fold 4, Epoch 3, lr: 0.0002300, train loss: 0.53079, valid loss: 0.59656, metric: 0.596561.\n",
      "metric_best (0.634827 --> 0.596561). Saving model ...\n",
      "Sat Jan 14 02:45:22 2023 Epoch: 4\n"
     ]
    },
    {
     "name": "stderr",
     "output_type": "stream",
     "text": [
      "smth:0.4846 0.7532: 100%|██████████| 201/201 [06:32<00:00,  1.95s/it]\n",
      "smth:0.4666 0.7382: 100%|██████████| 51/51 [00:58<00:00,  1.16s/it]\n"
     ]
    },
    {
     "name": "stdout",
     "output_type": "stream",
     "text": [
      "Sat Jan 14 02:52:54 2023 Fold 4, Epoch 4, lr: 0.0002300, train loss: 0.51480, valid loss: 0.60161, metric: 0.601609.\n",
      "Sat Jan 14 02:52:54 2023 Epoch: 5\n"
     ]
    },
    {
     "name": "stderr",
     "output_type": "stream",
     "text": [
      "smth:0.4850 0.7575: 100%|██████████| 201/201 [06:32<00:00,  1.95s/it]\n",
      "smth:0.4567 0.7628: 100%|██████████| 51/51 [00:58<00:00,  1.16s/it]\n"
     ]
    },
    {
     "name": "stdout",
     "output_type": "stream",
     "text": [
      "Sat Jan 14 03:00:25 2023 Fold 4, Epoch 5, lr: 0.0002300, train loss: 0.50639, valid loss: 0.60732, metric: 0.607323.\n",
      "Sat Jan 14 03:00:25 2023 Epoch: 6\n"
     ]
    },
    {
     "name": "stderr",
     "output_type": "stream",
     "text": [
      "smth:0.4814 0.7399: 100%|██████████| 201/201 [06:33<00:00,  1.96s/it]\n",
      "smth:0.4665 0.7083: 100%|██████████| 51/51 [00:59<00:00,  1.17s/it]\n"
     ]
    },
    {
     "name": "stdout",
     "output_type": "stream",
     "text": [
      "Sat Jan 14 03:07:58 2023 Fold 4, Epoch 6, lr: 0.0002300, train loss: 0.50032, valid loss: 0.59092, metric: 0.590922.\n",
      "metric_best (0.596561 --> 0.590922). Saving model ...\n",
      "Sat Jan 14 03:07:59 2023 Epoch: 7\n"
     ]
    },
    {
     "name": "stderr",
     "output_type": "stream",
     "text": [
      "smth:0.4834 0.7045: 100%|██████████| 201/201 [06:33<00:00,  1.96s/it]\n",
      "smth:0.4551 0.7441: 100%|██████████| 51/51 [00:59<00:00,  1.16s/it]\n"
     ]
    },
    {
     "name": "stdout",
     "output_type": "stream",
     "text": [
      "Sat Jan 14 03:15:32 2023 Fold 4, Epoch 7, lr: 0.0002300, train loss: 0.49562, valid loss: 0.59243, metric: 0.592433.\n",
      "Sat Jan 14 03:15:32 2023 Epoch: 8\n"
     ]
    },
    {
     "name": "stderr",
     "output_type": "stream",
     "text": [
      "smth:0.5268 0.7247:  33%|███▎      | 66/201 [02:12<04:21,  1.94s/it]"
     ]
    }
   ],
   "source": [
    "run(4)"
   ]
  },
  {
   "cell_type": "code",
   "execution_count": null,
   "id": "f9e82e90",
   "metadata": {},
   "outputs": [],
   "source": []
  }
 ],
 "metadata": {
  "kernelspec": {
   "display_name": "Python 3 (ipykernel)",
   "language": "python",
   "name": "python3"
  },
  "language_info": {
   "codemirror_mode": {
    "name": "ipython",
    "version": 3
   },
   "file_extension": ".py",
   "mimetype": "text/x-python",
   "name": "python",
   "nbconvert_exporter": "python",
   "pygments_lexer": "ipython3",
   "version": "3.9.7"
  }
 },
 "nbformat": 4,
 "nbformat_minor": 5
}
